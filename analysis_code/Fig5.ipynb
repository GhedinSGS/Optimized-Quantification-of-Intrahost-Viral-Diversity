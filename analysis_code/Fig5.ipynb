{
 "cells": [
  {
   "cell_type": "markdown",
   "metadata": {},
   "source": [
    "### Most minority variants are not reproducible across sequencing replicates.\n",
    "\n",
    "#### Written by: Allison Roder"
   ]
  },
  {
   "cell_type": "code",
   "execution_count": 1,
   "metadata": {},
   "outputs": [
    {
     "name": "stderr",
     "output_type": "stream",
     "text": [
      "── \u001b[1mAttaching packages\u001b[22m ──────────────────────────────────────────────────────────────────────────────────────────────────────── tidyverse 1.3.2 ──\n",
      "\u001b[32m✔\u001b[39m \u001b[34mtibble \u001b[39m 3.1.8      \u001b[32m✔\u001b[39m \u001b[34mdplyr  \u001b[39m 1.0.10\n",
      "\u001b[32m✔\u001b[39m \u001b[34mtidyr  \u001b[39m 1.2.1      \u001b[32m✔\u001b[39m \u001b[34mstringr\u001b[39m 1.5.0 \n",
      "\u001b[32m✔\u001b[39m \u001b[34mreadr  \u001b[39m 2.1.3      \u001b[32m✔\u001b[39m \u001b[34mforcats\u001b[39m 0.5.2 \n",
      "\u001b[32m✔\u001b[39m \u001b[34mpurrr  \u001b[39m 0.3.5      \n",
      "── \u001b[1mConflicts\u001b[22m ─────────────────────────────────────────────────────────────────────────────────────────────────────────── tidyverse_conflicts() ──\n",
      "\u001b[31m✖\u001b[39m \u001b[34mdplyr\u001b[39m::\u001b[32marrange()\u001b[39m   masks \u001b[34mplyr\u001b[39m::arrange()\n",
      "\u001b[31m✖\u001b[39m \u001b[34mpurrr\u001b[39m::\u001b[32mcompact()\u001b[39m   masks \u001b[34mplyr\u001b[39m::compact()\n",
      "\u001b[31m✖\u001b[39m \u001b[34mdplyr\u001b[39m::\u001b[32mcount()\u001b[39m     masks \u001b[34mplyr\u001b[39m::count()\n",
      "\u001b[31m✖\u001b[39m \u001b[34mdplyr\u001b[39m::\u001b[32mfailwith()\u001b[39m  masks \u001b[34mplyr\u001b[39m::failwith()\n",
      "\u001b[31m✖\u001b[39m \u001b[34mdplyr\u001b[39m::\u001b[32mfilter()\u001b[39m    masks \u001b[34mstats\u001b[39m::filter()\n",
      "\u001b[31m✖\u001b[39m \u001b[34mdplyr\u001b[39m::\u001b[32mid()\u001b[39m        masks \u001b[34mplyr\u001b[39m::id()\n",
      "\u001b[31m✖\u001b[39m \u001b[34mdplyr\u001b[39m::\u001b[32mlag()\u001b[39m       masks \u001b[34mstats\u001b[39m::lag()\n",
      "\u001b[31m✖\u001b[39m \u001b[34mdplyr\u001b[39m::\u001b[32mmutate()\u001b[39m    masks \u001b[34mplyr\u001b[39m::mutate()\n",
      "\u001b[31m✖\u001b[39m \u001b[34mdplyr\u001b[39m::\u001b[32mrename()\u001b[39m    masks \u001b[34mplyr\u001b[39m::rename()\n",
      "\u001b[31m✖\u001b[39m \u001b[34mdplyr\u001b[39m::\u001b[32msummarise()\u001b[39m masks \u001b[34mplyr\u001b[39m::summarise()\n",
      "\u001b[31m✖\u001b[39m \u001b[34mdplyr\u001b[39m::\u001b[32msummarize()\u001b[39m masks \u001b[34mplyr\u001b[39m::summarize()\n",
      "\n",
      "Attaching package: ‘gridExtra’\n",
      "\n",
      "\n",
      "The following object is masked from ‘package:dplyr’:\n",
      "\n",
      "    combine\n",
      "\n",
      "\n",
      "Loading required package: futile.logger\n",
      "\n",
      "\n",
      "Attaching package: ‘reshape2’\n",
      "\n",
      "\n",
      "The following object is masked from ‘package:tidyr’:\n",
      "\n",
      "    smiths\n",
      "\n",
      "\n"
     ]
    }
   ],
   "source": [
    "#load packages\n",
    "library(ggplot2)\n",
    "library(plyr)\n",
    "library(tidyverse)\n",
    "library(grid)\n",
    "library(gridExtra)\n",
    "library(ggrepel)\n",
    "library(RColorBrewer)\n",
    "library(glue)\n",
    "library(cowplot)\n",
    "library(UpSetR)\n",
    "#library(pheatmap)\n",
    "#library(vcfR)\n",
    "#library(igraph)\n",
    "#library(ggpubr)\n",
    "library(readr)\n",
    "library(VennDiagram)\n",
    "library(reshape2)"
   ]
  },
  {
   "cell_type": "code",
   "execution_count": 2,
   "metadata": {},
   "outputs": [],
   "source": [
    "# set working folders\n",
    "#project_folder <- '/Users/roderae/National Institutes of Health/Ghedin, Elodie (NIH NIAID) [E] - LAB_STUFF/allison/projects/COV2-SNV'\n",
    "#mva_folder <- glue(\"{project_folder}/compare_callers/202204\")\n",
    "#output_folder <- glue(\"{mva_folder}/062322_output\")\n",
    "#code <- '/Users/roderae/National Institutes of Health/Ghedin, Elodie (NIH NIAID) [E] - LAB_STUFF/allison/code/SARS-CoV-2_analysis'\n",
    "\n",
    "# assuming you are running in 'analysis_code' directory:\n",
    "project_folder = '../'\n",
    "mva_folder ='../clinical_data_files'\n",
    "output_folder = '../'\n",
    "code = '../analysis_code'"
   ]
  },
  {
   "cell_type": "code",
   "execution_count": 3,
   "metadata": {},
   "outputs": [],
   "source": [
    "# source scripts\n",
    "source(glue(\"{code}/cov_aalist.R\"))\n",
    "source(glue(\"{code}/repsnv.R\"))\n",
    "source(glue(\"{code}/snv_filter.R\"))\n",
    "source(glue(\"{code}/vennsD.R\"))\n",
    "source(glue(\"{code}/common.R\"))\n",
    "source(glue(\"{code}/aasnplist_load.R\"))\n",
    "source(glue(\"{code}/getminorvariants.R\"))\n",
    "source(glue(\"{code}/cov_aalist.R\"))"
   ]
  },
  {
   "cell_type": "code",
   "execution_count": 4,
   "metadata": {},
   "outputs": [],
   "source": [
    "# set color palettes\n",
    "tool_colors <- c('#CC2F42', # freebayes - red\n",
    "                 '#35B6E9', # hc - bright blue\n",
    "                 '#009E73', # ivar - green\n",
    "                 '#F9BECD', # lofreq - pink\n",
    "                 '#F0E442', # mutect2 - yellow\n",
    "                 '#CCD2EB', # timo - light purple\n",
    "                 '#8DA1E2', # timo-no-binom - darker purple\n",
    "                 '#9B9E9A', # varscan - grey\n",
    "                 '#555555') # varscan, custom1 - darker grey\n",
    "cat_colors <- c('#2F142B', # TP - dark purple\n",
    "                '#F2A07B', # FP - peach\n",
    "                '#5A7A96') # FN - blue\n",
    "cov_af_colors <- c('#DDDDDD', # 100X - lightest grey\n",
    "                '#BBBBBB', # 200X\n",
    "                '#999999', # 300X\n",
    "                '#777777', # 500X\n",
    "                '#555555', # 1000X\n",
    "                '#333333', # 10000X\n",
    "                '#111111') # 100000X - darkest grey\n",
    "virus_colors <- c('#2F142B', # H1N1 - dark purple\n",
    "                  '#F2A07B', # H3N2 - peach\n",
    "                  '#43668B', # VICT - blue\n",
    "                  '#8DA1E2') # SARS - light purple"
   ]
  },
  {
   "cell_type": "code",
   "execution_count": 5,
   "metadata": {},
   "outputs": [],
   "source": [
    "SEGMENTS = c('SARS-CoV2')\n",
    "# Here we set the coverage cutoff to 5 for identification of consensus changes and the coverage cutoff to 200 for\n",
    "# identification of minority variants\n",
    "covcutoff = 5\n",
    "minorcov = 200\n",
    "# The initial allele frequency is set to .5%\n",
    "minfreq = 0.01\n",
    "# we exclude any instances were an 'N' is called in these analyses\n",
    "ntlist = c('A','G','T','C')\n",
    "orf1 <- c('nsp1','nsp2','nsp3','nsp4','nsp5',\n",
    "          'nsp6','nsp7','nsp8','nsp9','nsp10',\n",
    "          'nsp11','nsp12a','nsp12b','nsp13',\n",
    "          'nsp14','nsp15','nsp16')"
   ]
  },
  {
   "cell_type": "code",
   "execution_count": 6,
   "metadata": {},
   "outputs": [],
   "source": [
    "# load in metadata for samples with high coverage - used for this analysis\n",
    "highcov <- read.csv(glue(\"{mva_folder}/highcov.samples.csv\"))"
   ]
  },
  {
   "cell_type": "markdown",
   "metadata": {},
   "source": [
    "We used each of the seven variant calling tools that were tested on the simulated and synthetic data to identify minority variants in these samples"
   ]
  },
  {
   "cell_type": "code",
   "execution_count": 7,
   "metadata": {},
   "outputs": [],
   "source": [
    "# load in VCF files for all samples - generated with vcf_load notebook\n",
    "#vcf.all <- read.csv(file = glue(\"{project_folder}/compare.callers.vcfs.csv\"))\n",
    "\n",
    "vcf.all = rbind(read.csv(file = glue(\"{mva_folder}/freebayes.variants.csv\"), header = TRUE),\n",
    "                read.csv(file = glue(\"{mva_folder}/haplotypecaller.variants.csv\"), header = TRUE),\n",
    "                read.csv(file = glue(\"{mva_folder}/ivar.variants.csv\"), header = TRUE),\n",
    "                read.csv(file = glue(\"{mva_folder}/lofreq.variants.csv\"), header = TRUE),\n",
    "                read.csv(file = glue(\"{mva_folder}/mutect2.variants.csv\"), header = TRUE),\n",
    "                read.csv(file = glue(\"{mva_folder}/timo.variants.csv\"), header = TRUE),\n",
    "                read.csv(file = glue(\"{mva_folder}/varscan.variants.csv\"), header = TRUE))\n"
   ]
  },
  {
   "cell_type": "markdown",
   "metadata": {},
   "source": [
    "and filtered them using a read depth cutoff of 200 and an allele frequency cutoff of 0.01, based on the cutoffs determined in our simulated and synthetic data"
   ]
  },
  {
   "cell_type": "code",
   "execution_count": 8,
   "metadata": {},
   "outputs": [],
   "source": [
    "# extract minor changes\n",
    "# fill data frame with all changes with variant frequency > 3% and less than 50%\n",
    "covcutoff = 200\n",
    "afcutoff = 0.01\n",
    "\n",
    "min.changes <- vcf.all %>% filter(refnt %in% ntlist &\n",
    "                                  varnt %in% ntlist &\n",
    "                                  varfreq >= afcutoff &\n",
    "                                  varfreq < 0.5 &\n",
    "                                  param == 'standard' &\n",
    "                                  !tool == 'freebayes' &\n",
    "                                  totalcount >= covcutoff)\n",
    "\n",
    "min.changes.fb <- vcf.all %>% filter(refnt %in% ntlist &\n",
    "                                  varnt %in% ntlist &\n",
    "                                  varfreq >= afcutoff &\n",
    "                                  varfreq < 0.5 &\n",
    "                                  param == 'custom' &\n",
    "                                  tool == 'freebayes' &\n",
    "                                  totalcount >= covcutoff)\n",
    "\n",
    "min.changes <- rbind(min.changes, min.changes.fb)\n",
    "\n",
    "min.changes$change <- paste0(min.changes$refnt,min.changes$ntpos,min.changes$varnt)\n",
    "min.changes$sample.change <- paste0(min.changes$source_ID,\":\",min.changes$change)\n",
    "min.changes$rep.change <- paste0(min.changes$rep,\"-\",min.changes$sample.change)\n",
    "\n",
    "min.changes <- distinct(min.changes)"
   ]
  },
  {
   "cell_type": "code",
   "execution_count": 9,
   "metadata": {},
   "outputs": [],
   "source": [
    "# extract minor changes\n",
    "# fill data frame with all changes with variant frequency > 3% and less than 50%\n",
    "covcutoff = 200\n",
    "afcutoff = 0.01\n",
    "\n",
    "min.changes.high <- min.changes %>% filter(source_ID %in% highcov$code)\n",
    "\n",
    "min.list.1.high <- list()\n",
    "# fill min.list with lists of the high confidence majority variants called by each tool\n",
    "temp1 <- min.changes.high %>% filter(rep == 'REP1')\n",
    "for(caller in unique(temp1$tool)) {\n",
    "    temp <- temp1 %>%\n",
    "        filter(tool == caller)\n",
    "    min.list.1.high[[caller]] <- c(min.list.1.high[[caller]],temp$sample.change)\n",
    "}\n",
    "\n",
    "min.list.2.high <- list()\n",
    "# fill min.list with lists of the high confidence minority variants called by each tool\n",
    "temp2 <- min.changes.high %>% filter(rep == 'REP2')\n",
    "for(caller in unique(temp2$tool)) {\n",
    "    temp <- temp2 %>%\n",
    "        filter(tool == caller)\n",
    "    min.list.2.high[[caller]] <- c(min.list.2.high[[caller]],temp$sample.change)\n",
    "}\n",
    "\n",
    "names(min.list.1.high) <- c('hc-1','ivar-1','timo-1','mutect2-1','varscan-1','lofreq-1','freebayes-1')\n",
    "names(min.list.2.high) <- c('hc-2','ivar-2','timo-2','mutect2-2','varscan-2','lofreq-2','freebayes-2')\n",
    "\n",
    "rm(temp, temp1, temp2)\n",
    "\n",
    "# alphabetize the names in the list for easier plotting\n",
    "min.list.1.high <- min.list.1.high[order(names(min.list.1.high), decreasing = TRUE)]\n",
    "min.list.2.high <- min.list.2.high[order(names(min.list.2.high), decreasing = TRUE)]"
   ]
  },
  {
   "cell_type": "markdown",
   "metadata": {},
   "source": [
    " In our sequencing data, the number of variants identified in each replicate by each tool was markedly different, suggesting that many of the identified minor variants may not be true variants introduced through viral replication, but instead variants introduced during PCR or sequencing (Fig. 4A, S8A-B). As was shown with our simulated and synthetic data, errors introduced through PCR, library preparation, and sequencing are mostly random, and therefore less likely to reappear in multiple sequencing replicates (Fig. 3). In order to find high confidence minority variants, we looked at the intersection of variants between the two replicates using each caller and plotted this against the total variants identified in each replicate (Fig. 5A)."
   ]
  },
  {
   "cell_type": "code",
   "execution_count": 10,
   "metadata": {},
   "outputs": [],
   "source": [
    "ivar <- min.changes.high %>% filter(tool == 'ivar')\n",
    "\n",
    "ivar_list <- list()\n",
    "    \n",
    "for(replicate in unique(ivar$rep)) {\n",
    "    temp <- ivar %>%\n",
    "        filter(rep == replicate)\n",
    "    ivar_list[[replicate]] <- c(ivar_list[[replicate]],temp$sample.change)\n",
    "}\n",
    "\n",
    "names(ivar_list) <- c(\"ivar-rep1\",\"ivar-rep2\")"
   ]
  },
  {
   "cell_type": "code",
   "execution_count": 11,
   "metadata": {},
   "outputs": [],
   "source": [
    "mutect <- min.changes.high %>% filter(tool == 'mutect2')\n",
    "\n",
    "mutect_list <- list()\n",
    "    \n",
    "for(replicate in unique(mutect$rep)) {\n",
    "    temp <- mutect %>%\n",
    "        filter(rep == replicate)\n",
    "    mutect_list[[replicate]] <- c(mutect_list[[replicate]],temp$sample.change)\n",
    "}\n",
    "\n",
    "names(mutect_list) <- c(\"mutect-rep1\",\"mutect-rep2\")"
   ]
  },
  {
   "cell_type": "code",
   "execution_count": 12,
   "metadata": {},
   "outputs": [],
   "source": [
    "varscan <- min.changes.high %>% filter(tool == 'varscan')\n",
    "\n",
    "varscan_list <- list()\n",
    "    \n",
    "for(replicate in unique(varscan$rep)) {\n",
    "    temp <- varscan %>%\n",
    "        filter(rep == replicate)\n",
    "    varscan_list[[replicate]] <- c(varscan_list[[replicate]],temp$sample.change)\n",
    "}\n",
    "\n",
    "names(varscan_list) <- c(\"varscan-rep1\",\"varscan-rep2\")"
   ]
  },
  {
   "cell_type": "code",
   "execution_count": 13,
   "metadata": {},
   "outputs": [],
   "source": [
    "fs <- min.changes.high %>% filter(tool == 'haplotypecaller')\n",
    "\n",
    "fs_list <- list()\n",
    "    \n",
    "for(replicate in unique(fs$rep)) {\n",
    "    temp <- fs %>%\n",
    "        filter(rep == replicate)\n",
    "    fs_list[[replicate]] <- c(fs_list[[replicate]],temp$sample.change)\n",
    "}\n",
    "\n",
    "names(fs_list) <- c(\"fs-rep1\",\"fs-rep2\")"
   ]
  },
  {
   "cell_type": "code",
   "execution_count": 14,
   "metadata": {},
   "outputs": [],
   "source": [
    "timo <- min.changes.high %>% filter(tool == 'timo')\n",
    "\n",
    "timo_list <- list()\n",
    "    \n",
    "for(replicate in unique(timo$rep)) {\n",
    "    temp <- timo %>%\n",
    "        filter(rep == replicate)\n",
    "    timo_list[[replicate]] <- c(timo_list[[replicate]],temp$sample.change)\n",
    "} \n",
    "\n",
    "names(timo_list) <- c(\"timo-rep1\",\"timo-rep2\")"
   ]
  },
  {
   "cell_type": "code",
   "execution_count": 15,
   "metadata": {},
   "outputs": [],
   "source": [
    "fb <- min.changes.high %>% filter(tool == 'freebayes')\n",
    "\n",
    "fb_list <- list()\n",
    "    \n",
    "for(replicate in unique(fb$rep)) {\n",
    "    temp <- fb %>%\n",
    "        filter(rep == replicate)\n",
    "    fb_list[[replicate]] <- c(fb_list[[replicate]],temp$sample.change)\n",
    "} \n",
    "\n",
    "names(fb_list) <- c(\"fb-rep1\",\"fb-rep2\")"
   ]
  },
  {
   "cell_type": "code",
   "execution_count": 16,
   "metadata": {},
   "outputs": [],
   "source": [
    "lofreq <- min.changes.high %>% filter(tool == 'lofreq')\n",
    "\n",
    "lofreq_list <- list()\n",
    "    \n",
    "for(replicate in unique(lofreq$rep)) {\n",
    "    temp <- lofreq %>%\n",
    "        filter(rep == replicate)\n",
    "    lofreq_list[[replicate]] <- c(lofreq_list[[replicate]],temp$sample.change)\n",
    "} \n",
    "\n",
    "names(lofreq_list) <- c(\"lofreq-rep1\",\"lofreq-rep2\")"
   ]
  },
  {
   "cell_type": "markdown",
   "metadata": {},
   "source": [
    "The number of reproducible variants varied greatly between callers. Ivar and freebayes called the highest number of reproducible variants, while timo called the fewest, but the highest percentage of reproducible minor variants. Timo is one of the most conservative callers that was tested; however, these data indicate that being conservative may lead to increased reproducibility. It is however important to note that the relatively low percentages of reproducible variants are likely skewed by the high numbers of low frequency variants found in replicate 2 (Fig. 5A, S8A)."
   ]
  },
  {
   "cell_type": "code",
   "execution_count": 17,
   "metadata": {},
   "outputs": [],
   "source": [
    "#caller.lists <- list(fb_list, fs_list, ivar_list, lofreq_list, mutect_list, timo_list, varscan_list)\n",
    "#cr_list <- list(fb_list, fs_list, ivar_list, lofreq_list, mutect_list, timo_list, varscan_list)\n",
    "\n",
    "cr_list = list(fb_list, fs_list, ivar_list, lofreq_list, mutect_list, timo_list, varscan_list)\n",
    "#cr_list <- list(varscan_list, timo_list, ivar_list, fb_list)"
   ]
  },
  {
   "cell_type": "code",
   "execution_count": 18,
   "metadata": {},
   "outputs": [
    {
     "name": "stderr",
     "output_type": "stream",
     "text": [
      "Using caller as id variables\n",
      "\n"
     ]
    }
   ],
   "source": [
    "repro <- data.frame()\n",
    "\n",
    "for(i in cr_list) {\n",
    "    both <- get.venn.partitions(i)[1,5]\n",
    "    rep1 <- get.venn.partitions(i)[3,5] + get.venn.partitions(i)[1,5]\n",
    "    rep2 <- get.venn.partitions(i)[2,5] + get.venn.partitions(i)[1,5]\n",
    "    name <- names(get.venn.partitions(i))[1]\n",
    "    \n",
    "    repro <- rbind(repro, c(name, both, rep1, rep2))\n",
    "}\n",
    "names(repro) <- c(\"caller\",\"both\",\"rep1\",\"rep2\")\n",
    "repro$caller <- gsub(\"-rep1\",\"\",repro$caller)\n",
    "\n",
    "repro$both <- as.numeric(repro$both)\n",
    "repro$rep1 <- as.numeric(repro$rep1)\n",
    "repro$rep2 <- as.numeric(repro$rep2)\n",
    "\n",
    "repro <- repro %>% mutate(percent = (both/(rep1+rep2))*100)\n",
    "\n",
    "repro <- melt(repro)\n",
    "repro$value <- round(repro$value, 2)"
   ]
  },
  {
   "cell_type": "markdown",
   "metadata": {},
   "source": [
    "### Fig. 5A"
   ]
  },
  {
   "cell_type": "code",
   "execution_count": 19,
   "metadata": {},
   "outputs": [
    {
     "data": {
      "text/html": [
       "<table class=\"dataframe\">\n",
       "<caption>A data.frame: 6 × 3</caption>\n",
       "<thead>\n",
       "\t<tr><th></th><th scope=col>caller</th><th scope=col>variable</th><th scope=col>value</th></tr>\n",
       "\t<tr><th></th><th scope=col>&lt;chr&gt;</th><th scope=col>&lt;fct&gt;</th><th scope=col>&lt;dbl&gt;</th></tr>\n",
       "</thead>\n",
       "<tbody>\n",
       "\t<tr><th scope=row>22</th><td>fb    </td><td>percent</td><td>11.25</td></tr>\n",
       "\t<tr><th scope=row>23</th><td>fs    </td><td>percent</td><td> 8.49</td></tr>\n",
       "\t<tr><th scope=row>24</th><td>ivar  </td><td>percent</td><td>16.50</td></tr>\n",
       "\t<tr><th scope=row>25</th><td>lofreq</td><td>percent</td><td> 9.95</td></tr>\n",
       "\t<tr><th scope=row>26</th><td>mutect</td><td>percent</td><td>11.82</td></tr>\n",
       "\t<tr><th scope=row>27</th><td>timo  </td><td>percent</td><td>18.45</td></tr>\n",
       "</tbody>\n",
       "</table>\n"
      ],
      "text/latex": [
       "A data.frame: 6 × 3\n",
       "\\begin{tabular}{r|lll}\n",
       "  & caller & variable & value\\\\\n",
       "  & <chr> & <fct> & <dbl>\\\\\n",
       "\\hline\n",
       "\t22 & fb     & percent & 11.25\\\\\n",
       "\t23 & fs     & percent &  8.49\\\\\n",
       "\t24 & ivar   & percent & 16.50\\\\\n",
       "\t25 & lofreq & percent &  9.95\\\\\n",
       "\t26 & mutect & percent & 11.82\\\\\n",
       "\t27 & timo   & percent & 18.45\\\\\n",
       "\\end{tabular}\n"
      ],
      "text/markdown": [
       "\n",
       "A data.frame: 6 × 3\n",
       "\n",
       "| <!--/--> | caller &lt;chr&gt; | variable &lt;fct&gt; | value &lt;dbl&gt; |\n",
       "|---|---|---|---|\n",
       "| 22 | fb     | percent | 11.25 |\n",
       "| 23 | fs     | percent |  8.49 |\n",
       "| 24 | ivar   | percent | 16.50 |\n",
       "| 25 | lofreq | percent |  9.95 |\n",
       "| 26 | mutect | percent | 11.82 |\n",
       "| 27 | timo   | percent | 18.45 |\n",
       "\n"
      ],
      "text/plain": [
       "   caller variable value\n",
       "22 fb     percent  11.25\n",
       "23 fs     percent   8.49\n",
       "24 ivar   percent  16.50\n",
       "25 lofreq percent   9.95\n",
       "26 mutect percent  11.82\n",
       "27 timo   percent  18.45"
      ]
     },
     "metadata": {},
     "output_type": "display_data"
    }
   ],
   "source": [
    "head(subset(repro, variable == 'percent'))"
   ]
  },
  {
   "cell_type": "code",
   "execution_count": 20,
   "metadata": {},
   "outputs": [
    {
     "data": {
      "image/png": "[encoded data removed]",
      "text/plain": [
       "plot without title"
      ]
     },
     "metadata": {
      "image/png": {
       "height": 240,
       "width": 360
      }
     },
     "output_type": "display_data"
    }
   ],
   "source": [
    "options(repr.plot.width=6, repr.plot.height=4)\n",
    "num_plot <- ggplot() +\n",
    "\n",
    "    geom_col(data = subset(repro, !variable == 'percent'),\n",
    "                           aes(x = caller, y = value, fill = variable), position = 'dodge') +\n",
    "\n",
    "    geom_point(data = subset(repro, variable == 'percent'),\n",
    "              aes(x= caller, y = value*100), color = 'black', size = 2, shape = 15) +\n",
    "    geom_text(data = subset(repro, variable == 'percent'),\n",
    "              aes(x = caller, y = 1000, label = value)) +\n",
    "\n",
    "    theme_minimal() +\n",
    "    \n",
    "    scale_y_continuous(\n",
    "    \n",
    "        # Features of the first axis\n",
    "        name = \"total # of identified SNVs\",\n",
    "    \n",
    "        # Add a second axis and specify its features\n",
    "        sec.axis = sec_axis( trans=~./100, \n",
    "                            name=\"% SNVs shared between replicates\")) +\n",
    "\n",
    "    scale_fill_manual(values = tool_colors[c(1:6,8)])\n",
    "             \n",
    "\n",
    "print(num_plot)"
   ]
  },
  {
   "cell_type": "code",
   "execution_count": 21,
   "metadata": {},
   "outputs": [],
   "source": [
    "ggsave(num_plot, filename = glue(\"{output_folder}/repvarpercaller.pdf\"),\n",
    "    width = 6, height = 4, limitsize=FALSE, useDingbats =FALSE)"
   ]
  },
  {
   "cell_type": "markdown",
   "metadata": {},
   "source": [
    "We then looked at the intersection of just the variants found by each tool in both replicates. Only 80 SNVs were found by all variant callers across replicates, while 382 SNVs were found to be reproducible across replicates by at least one tool (Fig. 5B). "
   ]
  },
  {
   "cell_type": "code",
   "execution_count": 22,
   "metadata": {},
   "outputs": [
    {
     "name": "stderr",
     "output_type": "stream",
     "text": [
      "Warning message in get.venn.partitions(cr_list[c(7:8)]):\n",
      "“removing NULL elements in list.”\n",
      "Warning message in make.truth.table(x):\n",
      "“fixing missing, empty or duplicated names.”\n"
     ]
    },
    {
     "ename": "ERROR",
     "evalue": "Error in apply(out, 1, function(categories) {: dim(X) must have a positive length\n",
     "output_type": "error",
     "traceback": [
      "Error in apply(out, 1, function(categories) {: dim(X) must have a positive length\nTraceback:\n",
      "1. get.venn.partitions(cr_list[c(7:8)])",
      "2. apply(out, 1, function(categories) {\n .     include <- paste(names(x)[categories], collapse = \"∩\")\n .     if (all(categories)) {\n .         return(include)\n .     }\n .     include <- paste0(\"(\", include, \")\")\n .     exclude <- paste0(\"(\", paste(names(x)[!categories], collapse = \"∪\"), \n .         \")\")\n .     paste(include, exclude, sep = \"∖\")\n . })",
      "3. stop(\"dim(X) must have a positive length\")"
     ]
    }
   ],
   "source": [
    "overlaps <- c(get.venn.partitions(cr_list[c(7:8)])[1,4],\n",
    "              get.venn.partitions(cr_list[c(5:6)])[1,4],\n",
    "              get.venn.partitions(cr_list[c(1:2)])[1,4],\n",
    "              get.venn.partitions(cr_list[c(11:12)])[1,4]\n",
    "              )\n",
    "#caller.lists\n",
    "names(overlaps) <- c(\"varscan\",\"timo\",\"ivar\",\"freebayes\")"
   ]
  },
  {
   "cell_type": "code",
   "execution_count": null,
   "metadata": {},
   "outputs": [],
   "source": [
    "# Plot intersections of minority variants in rep2 between all callers\n",
    "pdf(file = glue(\"{output_folder}/upset.sharedvars.pdf\"),   # The directory you want to save the file in\n",
    "    width = 5, # The width of the plot in inches\n",
    "    height = 4) # The height of the plot in inches\n",
    "\n",
    "upset(fromList(overlaps), \n",
    "      sets = names(overlaps), \n",
    "      point.size = 2, \n",
    "      line.size = 1, \n",
    "      mainbar.y.label = \"MV intersections\", \n",
    "      sets.x.label = \"MVs identified per caller\", \n",
    "      text.scale = 1.2, \n",
    "      keep.order=TRUE,\n",
    "      order.by='degree')\n",
    "\n",
    "dev.off()"
   ]
  },
  {
   "cell_type": "markdown",
   "metadata": {},
   "source": [
    "### Fig. 5B"
   ]
  },
  {
   "cell_type": "code",
   "execution_count": null,
   "metadata": {},
   "outputs": [],
   "source": [
    "options(repr.plot.width=8, repr.plot.height=8)\n",
    "\n",
    "upset(fromList(overlaps), \n",
    "      sets = names(overlaps), \n",
    "      point.size = 3, \n",
    "      line.size = 1, \n",
    "      mainbar.y.label = \"MV intersections\", \n",
    "      sets.x.label = \"MVs identified per caller\", \n",
    "      text.scale = 1.8, \n",
    "      keep.order=TRUE,\n",
    "      order.by='degree')"
   ]
  },
  {
   "cell_type": "markdown",
   "metadata": {},
   "source": [
    "Together, these data suggest that most minority variants are not reproducible across replicates and support the idea that perhaps more than any other criteria, sequencing replicate has the highest impact on the set of minority variants identified (Fig. 5B, S8B)."
   ]
  },
  {
   "cell_type": "markdown",
   "metadata": {},
   "source": [
    "### Variants identified by all variant callers show the most reproducible frequencies."
   ]
  },
  {
   "cell_type": "markdown",
   "metadata": {},
   "source": [
    "Using synthetic data, we showed that in a controlled setting, SNVs that were found in both sequencing replicates generally showed reproducible frequencies. Given that frequency is an important metric in most analyses performed using minority variant data, we wanted to test if this held true in clinical samples."
   ]
  },
  {
   "cell_type": "code",
   "execution_count": null,
   "metadata": {},
   "outputs": [],
   "source": [
    "shared <- min.changes.high %>% group_by(sample.change) %>% tally()\n",
    "min.changes.high <- merge(min.changes.high, shared, by = (\"sample.change\"), all.x=T, all.y = T)"
   ]
  },
  {
   "cell_type": "code",
   "execution_count": null,
   "metadata": {},
   "outputs": [],
   "source": [
    "rep1 <- min.changes.high %>% filter(rep == 'REP1')\n",
    "rep2 <- min.changes.high %>% filter(rep == 'REP2')\n",
    "\n",
    "names(rep1)[names(rep1) == 'varfreq'] <- \"varfreq.rep1\"\n",
    "names(rep2)[names(rep2) == 'varfreq'] <- \"varfreq.rep2\"\n",
    "names(rep1)[names(rep1) == 'totalcount'] <- \"dp.rep1\"\n",
    "names(rep2)[names(rep2) == 'totalcount'] <- \"dp.rep2\"\n",
    "replicates <- merge(rep1, rep2,\n",
    "                    by=c(\"source_ID\",\"tool\",\"ntpos\",\"change\",\"refnt\",\"varnt\",\"n\"),\n",
    "                    all.x = T, all.y = T) %>% \n",
    "              select(-c(rep.x,rep.y))\n",
    "replicates[is.na(replicates)] <- 0"
   ]
  },
  {
   "cell_type": "code",
   "execution_count": null,
   "metadata": {},
   "outputs": [],
   "source": [
    "cell_colors = colorRampPalette(c(\"#BCBCBC\", \"#E76F51\"))(14)"
   ]
  },
  {
   "cell_type": "markdown",
   "metadata": {},
   "source": [
    "Plotting the frequency in replicate 1 against the frequency in replicate 2 revealed that while some variants showed consistent frequencies, some differed very drastically – identified at 5-10% in one replicate and as high as 45-50% in the other replicate (Fig. 5C). These data were striking as they reveal that averaging frequency across replicates, or performing only one sequencing replicate, could drastically alter downstream analyses performed using these numbers."
   ]
  },
  {
   "cell_type": "markdown",
   "metadata": {},
   "source": [
    "Interestingly, when we looked at the variants that were reproducible across replicates and found by most or all of the variant callers, frequency tended to be much more consistent than those identified only in a single replicate, or by a single caller (Fig. 5C, dark red points)."
   ]
  },
  {
   "cell_type": "markdown",
   "metadata": {},
   "source": [
    "### Fig. 5C"
   ]
  },
  {
   "cell_type": "code",
   "execution_count": null,
   "metadata": {},
   "outputs": [],
   "source": [
    "# adjusted by kate, 12.2.2022\n",
    "options(repr.plot.width=12, repr.plot.height=2)\n",
    "plot21 = replicates %>%\n",
    "\n",
    "    ggplot(aes(x=varfreq.rep1, y=varfreq.rep2, color=n)) +\n",
    "\n",
    "        geom_point(size=2, alpha=0.7, shape='square') +\n",
    "\n",
    "        facet_grid(~tool) +\n",
    "\n",
    "        scale_x_continuous(name = \"rep1\",\n",
    "                           limits=c(0,0.5)) +\n",
    "    \n",
    "        scale_y_continuous(name = \"rep2\",\n",
    "                           limits=c(0,0.5)) +\n",
    "        \n",
    "        theme_bw() +\n",
    "        geom_abline(linetype = 2) + \n",
    "        labs(x='replicate 1', y='replicate 2') + \n",
    "        scale_color_gradient2(low = \"#8a8584\", mid = \"#edac9f\", high = \"#db390f\", midpoint = 7)\n",
    "\n",
    "print(plot21)"
   ]
  },
  {
   "cell_type": "code",
   "execution_count": null,
   "metadata": {},
   "outputs": [],
   "source": [
    "plot21c = replicates %>%\n",
    "    filter(varfreq.rep1 <= 0.10 & varfreq.rep2 <= 0.10) %>% \n",
    "\n",
    "    ggplot(aes(x=varfreq.rep1, y=varfreq.rep2, color=n)) +\n",
    "\n",
    "        geom_point(size=2, alpha=0.7, shape='square') +\n",
    "\n",
    "        facet_grid(~tool) +\n",
    "        xlim(0, 0.10) + \n",
    "        ylim(0, 0.10) + \n",
    "        \n",
    "        #scale_x_continuous(name = \"rep1\",\n",
    "        #                   limits=c(0,0.5)) +\n",
    "    \n",
    "        #scale_y_continuous(name = \"rep2\",\n",
    "        #                   limits=c(0,0.5)) +\n",
    "        \n",
    "        theme_bw() +\n",
    "        geom_abline(linetype = 2) + \n",
    "        labs(x='replicate 1', y='replicate 2') + \n",
    "        scale_color_gradient2(low = \"#8a8584\", mid = \"#edac9f\", high = \"#db390f\", midpoint = 7)\n",
    "\n",
    "print(plot21c)"
   ]
  },
  {
   "cell_type": "code",
   "execution_count": null,
   "metadata": {},
   "outputs": [],
   "source": [
    "ggsave(plot21, filename = \"rep.frequency.pdf\",\n",
    "    path=output_folder, width = 12, height = 2.5, limitsize=FALSE, useDingbats =FALSE)\n",
    "ggsave(plot21c, filename = \"rep.frequency.inset.pdf\",\n",
    "    path=output_folder, width = 12, height = 2.5, limitsize=FALSE, useDingbats =FALSE)"
   ]
  },
  {
   "cell_type": "code",
   "execution_count": null,
   "metadata": {},
   "outputs": [],
   "source": [
    "# only plot 1% to 10% and only variants with high reproducibility to show zoom slightly better\n",
    "options(repr.plot.width=12, repr.plot.height=2)\n",
    "plot21b = replicates %>% filter(n > 10) %>%\n",
    "\n",
    "    ggplot(aes(x=varfreq.rep1, y=varfreq.rep2, color=n)) +\n",
    "\n",
    "        geom_point(size=2, alpha=0.7, shape='square') +\n",
    "\n",
    "        facet_grid(~tool) +\n",
    "\n",
    "        scale_x_continuous(name = \"rep1\",\n",
    "                           limits=c(0,0.1)) +\n",
    "    \n",
    "        scale_y_continuous(name = \"rep2\",\n",
    "                           limits=c(0,0.1)) +\n",
    "        \n",
    "        theme_bw() +\n",
    "\n",
    "        scale_color_gradient2(low = \"#8a8584\", mid = \"#edac9f\", high = \"#db390f\", midpoint = 12)\n",
    "\n",
    "print(plot21b)"
   ]
  },
  {
   "cell_type": "markdown",
   "metadata": {},
   "source": [
    "Together, these data suggest that variant identification is complicated, but that certainty in each variant and its frequency is increased with replicate sequencing and identification by many variant callers."
   ]
  },
  {
   "cell_type": "markdown",
   "metadata": {},
   "source": [
    "We wanted to investigate if there was a frequency cutoff that optimized the number of variants matching the set of reproducible variants called by multiple callers. To do this, we looked at the intersection of SNVs called in both replicates, by the four callers that performed the best on the synthetic and simulated datasets, and compared those to the intersection of SNVs called by the same four callers in each individual replicate."
   ]
  },
  {
   "cell_type": "code",
   "execution_count": null,
   "metadata": {},
   "outputs": [],
   "source": [
    "freq.list <- c(0.1, 0.05, 0.04, 0.03, 0.02, 0.01)"
   ]
  },
  {
   "cell_type": "code",
   "execution_count": null,
   "metadata": {},
   "outputs": [],
   "source": [
    "both.changes <- min.changes.high %>% filter(sample.change %in% unlist(get.venn.partitions(overlaps)[1,6])) %>% select(sample.change, ntpos, source_ID, refnt, varnt, change) %>% distinct()\n",
    "both.changes$type <- 'both'\n",
    "both.changes$overlap <- 'both'\n",
    "\n",
    "tpfp.af <- data.frame()\n",
    "\n",
    "for(af in freq.list) {\n",
    "    \n",
    "    r1.changes <- min.changes.high %>% filter(varfreq > af & sample.change %in% unlist(get.venn.partitions(min.list.1.high[c(1,2,5,7)])[1,6])) %>% select(sample.change, ntpos, source_ID, refnt, varnt, change) %>% distinct()\n",
    "    r1.changes$type <- 'r1'\n",
    "    r1.changes <- r1.changes %>% mutate(overlap = ifelse(sample.change %in% both.changes$sample.change, \"both\",\"rep1\"))\n",
    "    \n",
    "    r2.changes <- min.changes.high %>% filter(varfreq > af & sample.change %in% unlist(get.venn.partitions(min.list.2.high[c(1,2,5,7)])[1,6])) %>% select(sample.change, ntpos, source_ID, refnt, varnt, change) %>% distinct()\n",
    "    r2.changes$type <- 'r2'\n",
    "    r2.changes <- r2.changes %>% mutate(overlap = ifelse(sample.change %in% both.changes$sample.change, \"both\",\"rep2\"))\n",
    "    \n",
    "    compare.changes <- do.call('rbind', list(r1.changes, r2.changes))\n",
    "    \n",
    "    tpfp <- compare.changes %>% group_by(type, overlap) %>% tally()\n",
    "    tpfp$allele_freq <- af\n",
    "    \n",
    "    tpfp.af <- rbind(tpfp.af, tpfp)\n",
    "    \n",
    "}"
   ]
  },
  {
   "cell_type": "markdown",
   "metadata": {},
   "source": [
    "We then applied allele frequency cutoffs between 0.01 and 0.1 to determine the best cutoff for use on single replicate data. Here, we identify a true positive as a variant present in the reproducible set, and a false positive as any other variant found in a single replicate. As was noted previously, we find that replicate 2 data shows an increased number of SNVs, perhaps due to freeze/thawing of samples between preparations (Fig. S8A, 5D). As such, we believe that replicate 1 is better representative of what most single replicate data may look like. We found that at an allele frequency cutoff of 0.01, all true positives were found, but the number of false positives was very high, while a frequency cutoff of 0.05 or 0.1 removed too many true positives from the dataset (Fig. 5D)."
   ]
  },
  {
   "cell_type": "code",
   "execution_count": null,
   "metadata": {},
   "outputs": [],
   "source": [
    "options(repr.plot.width=4, repr.plot.height=4)\n",
    "TPR = ggplot() +\n",
    "\n",
    "    geom_point(data = subset(tpfp.af, overlap == 'both'), aes(x = allele_freq, y = n, color = type), size = 2, alpha = 0.8, position=position_dodge(width=0.002)) +\n",
    "\n",
    "    geom_line(data = subset(tpfp.af, overlap == 'both'), aes(x = allele_freq, y = n, color = type), size = 1, position=position_dodge(width=0.002)) +\n",
    "\n",
    "    theme_bw() +\n",
    "\n",
    "    scale_y_continuous(name = \"# of TP found\") +\n",
    "\n",
    "    scale_x_continuous(name = \"AF cutoff\",\n",
    "                       breaks=seq(0,0.10,0.02)) +\n",
    "\n",
    "    scale_color_manual(values = cat_colors[c(1,3)])"
   ]
  },
  {
   "cell_type": "code",
   "execution_count": null,
   "metadata": {},
   "outputs": [],
   "source": [
    "options(repr.plot.width=4, repr.plot.height=4)\n",
    "FPR = ggplot() +\n",
    "\n",
    "    geom_point(data = subset(tpfp.af, !overlap == 'both'), aes(x = allele_freq, y = n, color = type), size = 2, alpha = 0.8) +\n",
    "\n",
    "    geom_line(data = subset(tpfp.af, !overlap == 'both'), aes(x = allele_freq, y = n, color = type), size = 1) +\n",
    "\n",
    "    theme_bw() +\n",
    "\n",
    "    scale_y_continuous(name = \"# of 'FP' found\") +\n",
    "\n",
    "    scale_x_continuous(name = \"AF cutoff\",\n",
    "                       breaks=seq(0,0.10,0.02)) +\n",
    "\n",
    "    scale_color_manual(values = cat_colors[c(1,3)])"
   ]
  },
  {
   "cell_type": "markdown",
   "metadata": {},
   "source": [
    "### Fig. 5D"
   ]
  },
  {
   "cell_type": "code",
   "execution_count": null,
   "metadata": {},
   "outputs": [],
   "source": [
    "options(repr.plot.width=8, repr.plot.height=4)\n",
    "ggarrange(TPR, FPR, nrow = 1, ncol = 2)"
   ]
  },
  {
   "cell_type": "markdown",
   "metadata": {},
   "source": [
    "Based on these data, we suggest an allele frequency cutoff of 0.03 when only single replicate data is available, a cutoff that was also confirmed in the simulated and synthetic data sets."
   ]
  },
  {
   "cell_type": "code",
   "execution_count": null,
   "metadata": {},
   "outputs": [],
   "source": [
    "ggsave(TPR, filename = \"tpr.alloverlaps.pdf\",\n",
    "    path=output_folder, width = 3, height = 3, limitsize=FALSE, useDingbats =FALSE)\n",
    "ggsave(FPR, filename = \"fpr.alloverlaps.pdf\",\n",
    "    path=output_folder, width = 3, height = 3, limitsize=FALSE, useDingbats =FALSE)"
   ]
  },
  {
   "cell_type": "markdown",
   "metadata": {},
   "source": [
    "We further suggest using the intersection of multiple variant callers to increase confidence in the data."
   ]
  },
  {
   "cell_type": "code",
   "execution_count": null,
   "metadata": {},
   "outputs": [],
   "source": [
    "both.changes <- min.changes.high %>% filter(sample.change %in% unlist(get.venn.partitions(overlaps[c(2,3)])[1,4])) %>% select(sample.change, ntpos, source_ID, refnt, varnt, change) %>% distinct()\n",
    "both.changes$type <- 'both'\n",
    "both.changes$overlap <- 'both'\n",
    "\n",
    "tpfp.af <- data.frame()\n",
    "\n",
    "for(af in freq.list) {\n",
    "    \n",
    "    r1.changes <- min.changes.high %>% filter(varfreq > af & sample.change %in% unlist(get.venn.partitions(min.list.1.high[c(2,5)])[1,4])) %>% select(sample.change, ntpos, source_ID, refnt, varnt, change) %>% distinct()\n",
    "    r1.changes$type <- 'r1'\n",
    "    r1.changes <- r1.changes %>% mutate(overlap = ifelse(sample.change %in% both.changes$sample.change, \"both\",\"rep1\"))\n",
    "    \n",
    "    r2.changes <- min.changes.high %>% filter(varfreq > af & sample.change %in% unlist(get.venn.partitions(min.list.2.high[c(2,5)])[1,4])) %>% select(sample.change, ntpos, source_ID, refnt, varnt, change) %>% distinct()\n",
    "    r2.changes$type <- 'r2'\n",
    "    r2.changes <- r2.changes %>% mutate(overlap = ifelse(sample.change %in% both.changes$sample.change, \"both\",\"rep2\"))\n",
    "    \n",
    "    compare.changes <- do.call('rbind', list(r1.changes, r2.changes))\n",
    "    \n",
    "    tpfp <- compare.changes %>% group_by(type, overlap) %>% tally()\n",
    "    tpfp$allele_freq <- af\n",
    "    \n",
    "    tpfp.af <- rbind(tpfp.af, tpfp)\n",
    "    \n",
    "}"
   ]
  },
  {
   "cell_type": "markdown",
   "metadata": {},
   "source": [
    "When using just the intersection of a high performing, less conservative caller, iVar, and a high performing, more conservative caller, timo, we find a similar trade-off in true positive and false positive data when using a single replicate and a cutoff of 0.03 (Fig. 5E)."
   ]
  },
  {
   "cell_type": "code",
   "execution_count": null,
   "metadata": {},
   "outputs": [],
   "source": [
    "options(repr.plot.width=4, repr.plot.height=4)\n",
    "TPR2 = ggplot() +\n",
    "\n",
    "    geom_point(data = subset(tpfp.af, overlap == 'both'), aes(x = allele_freq, y = n, color = type), size = 2, alpha = 0.8, position=position_dodge(width=0.003)) +\n",
    "\n",
    "    geom_line(data = subset(tpfp.af, overlap == 'both'), aes(x = allele_freq, y = n, color = type), size = 1, position=position_dodge(width=0.002)) +\n",
    "\n",
    "    theme_bw() +\n",
    "\n",
    "    scale_y_continuous(name = \"# of TP found\",\n",
    "                      limits=c(0,120)) +\n",
    "\n",
    "    scale_x_continuous(name = \"AF cutoff\",\n",
    "                       breaks=seq(0,0.10,0.02)) +\n",
    "\n",
    "    scale_color_manual(values = cat_colors[c(1,3)])"
   ]
  },
  {
   "cell_type": "code",
   "execution_count": null,
   "metadata": {},
   "outputs": [],
   "source": [
    "options(repr.plot.width=4, repr.plot.height=4)\n",
    "FPR2 = ggplot() +\n",
    "\n",
    "    geom_point(data = subset(tpfp.af, !overlap == 'both'), aes(x = allele_freq, y = n, color = type), size = 2, alpha = 0.8) +\n",
    "\n",
    "    geom_line(data = subset(tpfp.af, !overlap == 'both'), aes(x = allele_freq, y = n, color = type), size = 1) +\n",
    "\n",
    "    theme_bw() +\n",
    "\n",
    "    scale_y_continuous(name = \"# of 'FP' found\",\n",
    "                      limits=c(40,260)) +\n",
    "\n",
    "    scale_x_continuous(name = \"AF cutoff\",\n",
    "                       breaks=seq(0,0.10,0.02)) +\n",
    "\n",
    "    scale_color_manual(values = cat_colors[c(1,3)])"
   ]
  },
  {
   "cell_type": "markdown",
   "metadata": {},
   "source": [
    "### Fig.5E"
   ]
  },
  {
   "cell_type": "code",
   "execution_count": null,
   "metadata": {},
   "outputs": [],
   "source": [
    "options(repr.plot.width=8, repr.plot.height=4)\n",
    "ggarrange(TPR2, FPR2, nrow = 1, ncol = 2)"
   ]
  },
  {
   "cell_type": "code",
   "execution_count": null,
   "metadata": {},
   "outputs": [],
   "source": [
    "ggsave(TPR2, filename = \"tpr.ivartimo.pdf\",\n",
    "    path=output_folder, width = 3, height = 3, limitsize=FALSE, useDingbats =FALSE)\n",
    "ggsave(FPR2, filename = \"fpr.ivartimo.pdf\",\n",
    "    path=output_folder, width = 3, height = 3, limitsize=FALSE, useDingbats =FALSE)"
   ]
  },
  {
   "cell_type": "markdown",
   "metadata": {},
   "source": [
    "Based on these data, it is clear that there are many considerations necessary when performing minority variant analyses and parameters and cutoffs should be chosen carefully and thoughtfully depending on the data available. In general, using replicate data and multiple callers provides the highest confidence set of SNVs and the most accurate frequencies."
   ]
  },
  {
   "cell_type": "code",
   "execution_count": null,
   "metadata": {},
   "outputs": [],
   "source": []
  },
  {
   "cell_type": "code",
   "execution_count": null,
   "metadata": {},
   "outputs": [],
   "source": []
  },
  {
   "cell_type": "code",
   "execution_count": null,
   "metadata": {},
   "outputs": [],
   "source": []
  },
  {
   "cell_type": "code",
   "execution_count": null,
   "metadata": {},
   "outputs": [],
   "source": []
  },
  {
   "cell_type": "code",
   "execution_count": null,
   "metadata": {},
   "outputs": [],
   "source": []
  }
 ],
 "metadata": {
  "kernelspec": {
   "display_name": "R",
   "language": "R",
   "name": "ir"
  },
  "language_info": {
   "codemirror_mode": "r",
   "file_extension": ".r",
   "mimetype": "text/x-r-source",
   "name": "R",
   "pygments_lexer": "r",
   "version": "4.2.2"
  }
 },
 "nbformat": 4,
 "nbformat_minor": 4
}
