{
 "cells": [
  {
   "cell_type": "markdown",
   "id": "711a06c3",
   "metadata": {},
   "source": [
    "# Figure S1E\n",
    "## coverage stats for synthetic influenza data\n",
    "\n",
    "#### Written by: Kate Johnson"
   ]
  },
  {
   "cell_type": "code",
   "execution_count": 1,
   "id": "cd337e53",
   "metadata": {},
   "outputs": [
    {
     "name": "stderr",
     "output_type": "stream",
     "text": [
      "\n",
      "Attaching package: ‘dplyr’\n",
      "\n",
      "\n",
      "The following objects are masked from ‘package:plyr’:\n",
      "\n",
      "    arrange, count, desc, failwith, id, mutate, rename, summarise,\n",
      "    summarize\n",
      "\n",
      "\n",
      "The following objects are masked from ‘package:stats’:\n",
      "\n",
      "    filter, lag\n",
      "\n",
      "\n",
      "The following objects are masked from ‘package:base’:\n",
      "\n",
      "    intersect, setdiff, setequal, union\n",
      "\n",
      "\n",
      "── \u001b[1mAttaching packages\u001b[22m ──────────────────────────────────────────────────────────────────────────────────────────────────────── tidyverse 1.3.2 ──\n",
      "\u001b[32m✔\u001b[39m \u001b[34mggplot2\u001b[39m 3.4.0     \u001b[32m✔\u001b[39m \u001b[34mpurrr  \u001b[39m 0.3.5\n",
      "\u001b[32m✔\u001b[39m \u001b[34mtibble \u001b[39m 3.1.8     \u001b[32m✔\u001b[39m \u001b[34mstringr\u001b[39m 1.5.0\n",
      "\u001b[32m✔\u001b[39m \u001b[34mtidyr  \u001b[39m 1.2.1     \u001b[32m✔\u001b[39m \u001b[34mforcats\u001b[39m 0.5.2\n",
      "\u001b[32m✔\u001b[39m \u001b[34mreadr  \u001b[39m 2.1.3     \n",
      "── \u001b[1mConflicts\u001b[22m ─────────────────────────────────────────────────────────────────────────────────────────────────────────── tidyverse_conflicts() ──\n",
      "\u001b[31m✖\u001b[39m \u001b[34mdplyr\u001b[39m::\u001b[32marrange()\u001b[39m   masks \u001b[34mplyr\u001b[39m::arrange()\n",
      "\u001b[31m✖\u001b[39m \u001b[34mpurrr\u001b[39m::\u001b[32mcompact()\u001b[39m   masks \u001b[34mplyr\u001b[39m::compact()\n",
      "\u001b[31m✖\u001b[39m \u001b[34mdplyr\u001b[39m::\u001b[32mcount()\u001b[39m     masks \u001b[34mplyr\u001b[39m::count()\n",
      "\u001b[31m✖\u001b[39m \u001b[34mdplyr\u001b[39m::\u001b[32mfailwith()\u001b[39m  masks \u001b[34mplyr\u001b[39m::failwith()\n",
      "\u001b[31m✖\u001b[39m \u001b[34mdplyr\u001b[39m::\u001b[32mfilter()\u001b[39m    masks \u001b[34mstats\u001b[39m::filter()\n",
      "\u001b[31m✖\u001b[39m \u001b[34mdplyr\u001b[39m::\u001b[32mid()\u001b[39m        masks \u001b[34mplyr\u001b[39m::id()\n",
      "\u001b[31m✖\u001b[39m \u001b[34mdplyr\u001b[39m::\u001b[32mlag()\u001b[39m       masks \u001b[34mstats\u001b[39m::lag()\n",
      "\u001b[31m✖\u001b[39m \u001b[34mdplyr\u001b[39m::\u001b[32mmutate()\u001b[39m    masks \u001b[34mplyr\u001b[39m::mutate()\n",
      "\u001b[31m✖\u001b[39m \u001b[34mdplyr\u001b[39m::\u001b[32mrename()\u001b[39m    masks \u001b[34mplyr\u001b[39m::rename()\n",
      "\u001b[31m✖\u001b[39m \u001b[34mdplyr\u001b[39m::\u001b[32msummarise()\u001b[39m masks \u001b[34mplyr\u001b[39m::summarise()\n",
      "\u001b[31m✖\u001b[39m \u001b[34mdplyr\u001b[39m::\u001b[32msummarize()\u001b[39m masks \u001b[34mplyr\u001b[39m::summarize()\n"
     ]
    }
   ],
   "source": [
    "# load necessary packages\n",
    "suppressMessages({\n",
    "library('plyr')\n",
    "library('dplyr')\n",
    "library('tidyverse')\n",
    "library('ggplot2')\n",
    "library('glue')\n",
    "library(\"stringr\")\n",
    "})"
   ]
  },
  {
   "cell_type": "code",
   "execution_count": 2,
   "id": "e297b69d",
   "metadata": {},
   "outputs": [
    {
     "name": "stderr",
     "output_type": "stream",
     "text": [
      "set working directory and file names\n",
      "\n"
     ]
    }
   ],
   "source": [
    "message(\"set working directory and file names\")\n",
    "\n",
    "wkdir = \"../synthetic_check/\"\n",
    "\n",
    "covreport = 'cov_data.tsv' # h1n1\n",
    "\n",
    "af_report = 'flu.synthetic.afdata.csv' # h1n1\n"
   ]
  },
  {
   "cell_type": "code",
   "execution_count": 3,
   "id": "9dc1924e",
   "metadata": {},
   "outputs": [],
   "source": [
    "source(glue('{wkdir}/../scripts/maf_functions.R'))  # USER WILL NEED TO UPDATE PATH TO FUNCTIONS"
   ]
  },
  {
   "cell_type": "code",
   "execution_count": 4,
   "id": "67277364",
   "metadata": {},
   "outputs": [
    {
     "name": "stderr",
     "output_type": "stream",
     "text": [
      "Set working directory and read in sim data\n",
      "\n"
     ]
    },
    {
     "data": {
      "text/html": [
       "<style>\n",
       ".list-inline {list-style: none; margin:0; padding: 0}\n",
       ".list-inline>li {display: inline-block}\n",
       ".list-inline>li:not(:last-child)::after {content: \"\\00b7\"; padding: 0 .5ex}\n",
       "</style>\n",
       "<ol class=list-inline><li>'0.0039_10^3_rep1'</li><li>'0.0078_10^3_rep1'</li><li>'0.0156_10^3_rep1'</li><li>'0.0313_10^3_rep1'</li><li>'0.0625_10^7_rep2'</li><li>'0.25_10^7_rep2'</li><li>'0.5_10^7_rep2'</li></ol>\n"
      ],
      "text/latex": [
       "\\begin{enumerate*}\n",
       "\\item '0.0039\\_10\\textasciicircum{}3\\_rep1'\n",
       "\\item '0.0078\\_10\\textasciicircum{}3\\_rep1'\n",
       "\\item '0.0156\\_10\\textasciicircum{}3\\_rep1'\n",
       "\\item '0.0313\\_10\\textasciicircum{}3\\_rep1'\n",
       "\\item '0.0625\\_10\\textasciicircum{}7\\_rep2'\n",
       "\\item '0.25\\_10\\textasciicircum{}7\\_rep2'\n",
       "\\item '0.5\\_10\\textasciicircum{}7\\_rep2'\n",
       "\\end{enumerate*}\n"
      ],
      "text/markdown": [
       "1. '0.0039_10^3_rep1'\n",
       "2. '0.0078_10^3_rep1'\n",
       "3. '0.0156_10^3_rep1'\n",
       "4. '0.0313_10^3_rep1'\n",
       "5. '0.0625_10^7_rep2'\n",
       "6. '0.25_10^7_rep2'\n",
       "7. '0.5_10^7_rep2'\n",
       "\n",
       "\n"
      ],
      "text/plain": [
       "[1] \"0.0039_10^3_rep1\" \"0.0078_10^3_rep1\" \"0.0156_10^3_rep1\" \"0.0313_10^3_rep1\"\n",
       "[5] \"0.0625_10^7_rep2\" \"0.25_10^7_rep2\"   \"0.5_10^7_rep2\"   "
      ]
     },
     "metadata": {},
     "output_type": "display_data"
    }
   ],
   "source": [
    "message(\"Set working directory and read in sim data\")\n",
    "\n",
    "setwd(wkdir) \n",
    "\n",
    "cov = read.csv(covreport,header = T, sep = '\\t')\n",
    "\n",
    "cov$source_ID = str_replace(cov$name, '.fas_BWA', '')\n",
    "\n",
    "af = read.csv(af_report,header = T) %>%\n",
    "    select(sample, source_ID, copy_number, Rep) %>%\n",
    "    unique()\n",
    "\n",
    "af$MIX = str_extract(string = af$source_ID, pattern = \"Mix[0-9]+\")\n",
    "\n",
    "# removing bad samples from analysis\n",
    "remove_mix = c(\"Mix37\", \"Mix38\", \"Mix39\", \"Mix40\", \"Mix41\", \"Mix42\", \"Mix44\")\n",
    "\n",
    "levels(factor((af %>% filter(MIX %in% remove_mix))$sample))\n",
    "\n",
    "sample_remove= c('0.0039_10^3_rep2',\n",
    "                  '0.0078_10^3_rep2',\n",
    "                  '0.0156_10^3_rep2',\n",
    "                  '0.0313_10^3_rep2',\n",
    "                  '0.0625_10^7_rep1',\n",
    "                  '0.25_10^7_rep1',\n",
    "                  '0.5_10^7_rep1',\n",
    "                '0.5_10^3_rep2',\n",
    "                '0.5_10^3_rep1')\n",
    "\n",
    "\n"
   ]
  },
  {
   "cell_type": "code",
   "execution_count": 5,
   "id": "25d83d37",
   "metadata": {},
   "outputs": [
    {
     "data": {
      "text/html": [
       "291"
      ],
      "text/latex": [
       "291"
      ],
      "text/markdown": [
       "291"
      ],
      "text/plain": [
       "[1] 291"
      ]
     },
     "metadata": {},
     "output_type": "display_data"
    },
    {
     "data": {
      "text/html": [
       "36983"
      ],
      "text/latex": [
       "36983"
      ],
      "text/markdown": [
       "36983"
      ],
      "text/plain": [
       "[1] 36983"
      ]
     },
     "metadata": {},
     "output_type": "display_data"
    }
   ],
   "source": [
    "# min and max coverage across the positions/segments/samples: \n",
    "# filter data\n",
    "grab_source_ids = (af %>% filter( !sample %in% sample_remove &\n",
    "                    !MIX %in% remove_mix & \n",
    "                   copy_number != '10^7' ) %>% unique())$source_ID\n",
    "# grab min and max\n",
    "min((cov %>% filter(source_ID %in% grab_source_ids) %>% unique())$totalcount)\n",
    "max((cov %>% filter(source_ID %in% grab_source_ids) %>% unique())$totalcount)"
   ]
  },
  {
   "cell_type": "code",
   "execution_count": 6,
   "id": "aa4af103",
   "metadata": {},
   "outputs": [],
   "source": [
    "cov = merge(cov, af, by = c('source_ID')) %>%\n",
    "    filter( !sample %in% sample_remove &\n",
    "                    !MIX %in% remove_mix & \n",
    "                   copy_number != '10^7' ) %>%\n",
    "    unique() #filter and merge with metadata to make plots\n"
   ]
  },
  {
   "cell_type": "markdown",
   "id": "f152bd56",
   "metadata": {},
   "source": [
    "# Figure S1E: Coverage of synthetic influenza data"
   ]
  },
  {
   "cell_type": "code",
   "execution_count": null,
   "id": "4ec92165",
   "metadata": {},
   "outputs": [],
   "source": [
    "cov$segment = factor(cov$segment, levels = c('PB2','HA','NA'))\n",
    "\n",
    "plots1e = ggplot(cov, aes(x=ntpos, y = log10(totalcount), color = factor(copy_number), group = source_ID)) + \n",
    "    geom_line() + \n",
    "    facet_grid(.~segment, scales ='free_x') +\n",
    "    geom_hline(yintercept = log10(1000), linetype = 2, color = 'black') +\n",
    "    geom_hline(yintercept = log10(10000), linetype = 2, color = 'black') +\n",
    "    scale_color_brewer(palette = 'Paired') +\n",
    "    labs(y='read depth (log10)', x= 'nucleotide position', color = 'copy number') + \n",
    "    PlotTheme1\n",
    "\n",
    "print(plots1e)\n",
    "ggsave(plots1e,\n",
    "       filename = glue(\"{wkdir}/figS1E_kj.png\"),\n",
    "       width = 10,\n",
    "       height = 4, limitsize=FALSE)\n",
    "\n",
    "ggsave(plots1e,\n",
    "       filename = glue(\"{wkdir}/figS1E_kj.pdf\"),\n",
    "       width = ,\n",
    "       height = 4, limitsize=FALSE, useDingbats = FALSE)\n",
    "\n"
   ]
  },
  {
   "cell_type": "code",
   "execution_count": null,
   "id": "3d711697",
   "metadata": {},
   "outputs": [],
   "source": [
    "af = read.csv(af_report,header = T) %>%\n",
    "    select(sample, segment,source_ID, ntpos, cat) %>%\n",
    "    unique()\n",
    "af$SEGMENT = paste0('H1N1_', af$segment)\n",
    "colnames(af)\n",
    "\n",
    "af$MIX = str_extract(string = af$source_ID, pattern = \"Mix[0-9]+\")\n",
    "\n",
    "head(af)\n",
    "colnames(af)\n",
    "\n",
    "cov2 = merge(cov, af, by = c('source_ID','ntpos'), all.x =TRUE) %>%\n",
    "    unique()\n"
   ]
  },
  {
   "cell_type": "code",
   "execution_count": null,
   "id": "5e4359da",
   "metadata": {},
   "outputs": [],
   "source": [
    "# read depth is higher in raw mpileup output\n",
    "cov2 %>% \n",
    "    group_by(cat) %>%\n",
    "    mutate(median_cov = median(totalcount),\n",
    "          mean_cov = mean(totalcount)) %>%\n",
    "    select(cat, median_cov, mean_cov) %>%\n",
    "    unique()"
   ]
  },
  {
   "cell_type": "code",
   "execution_count": null,
   "id": "038fa5dd",
   "metadata": {},
   "outputs": [],
   "source": [
    "mean_cov_across = cov %>%\n",
    "            group_by(segment, ntpos) %>%\n",
    "            mutate(mean_totalcount = mean(totalcount)) %>%\n",
    "            ungroup() %>%\n",
    "            select(segment, ntpos, mean_totalcount)"
   ]
  },
  {
   "cell_type": "code",
   "execution_count": null,
   "id": "bc2531dc",
   "metadata": {},
   "outputs": [],
   "source": [
    "length(levels(factor(cov$source_ID)))\n",
    "quantile(cov$totalcount)\n",
    "quantile(cov$totalcount)[2][[1]]\n",
    "quantile(cov$totalcount)[4][[1]]"
   ]
  },
  {
   "cell_type": "code",
   "execution_count": null,
   "id": "79531d30",
   "metadata": {},
   "outputs": [],
   "source": [
    "mean_cov = cov %>% \n",
    "            group_by(segment,copy_number) %>%\n",
    "            mutate(mean_coverage = mean(totalcount),\n",
    "                  sd_coverage = sd(totalcount),\n",
    "                  median_coverage = median(totalcount), \n",
    "                  coverage_IQR = IQR(totalcount),\n",
    "                  min_coverage = min(totalcount),\n",
    "                  max_coverage = max(totalcount),\n",
    "                  first_quart = quantile(totalcount)[2][[1]],\n",
    "                  third_quart = quantile(totalcount)[4][[1]]) %>%\n",
    "            ungroup() %>%\n",
    "            select(segment, copy_number,\n",
    "                  mean_coverage, sd_coverage, median_coverage,\n",
    "                  coverage_IQR, min_coverage, max_coverage,\n",
    "                  first_quart, third_quart) %>%\n",
    "            unique()\n",
    "\n",
    "\n",
    "ggplot(mean_cov, aes(x=copy_number, y = mean_coverage, color =  copy_number)) + \n",
    "    \n",
    "    geom_errorbar(aes(ymin=mean_coverage - sd_coverage,\n",
    "                      ymax=mean_coverage + sd_coverage), width = 0.2) +\n",
    "    geom_point(size = 3) +\n",
    "    PlotTheme1 + \n",
    "    ylim(0, 15000) +\n",
    "    scale_color_brewer(palette = 'Paired') + \n",
    "    facet_grid(.~segment)\n",
    "\n",
    "\n"
   ]
  },
  {
   "cell_type": "code",
   "execution_count": null,
   "id": "d19a4bb8",
   "metadata": {},
   "outputs": [],
   "source": [
    "cov %>% \n",
    "            group_by(segment) %>%\n",
    "            mutate(mean_coverage = mean(totalcount),\n",
    "                  sd_coverage = sd(totalcount),\n",
    "                  median_coverage = median(totalcount), \n",
    "                  coverage_IQR = IQR(totalcount),\n",
    "                  min_coverage = min(totalcount),\n",
    "                  max_coverage = max(totalcount),\n",
    "                  first_quart = quantile(totalcount)[2][[1]],\n",
    "                  third_quart = quantile(totalcount)[4][[1]]) %>%\n",
    "            ungroup() %>%\n",
    "            select(segment,\n",
    "                  mean_coverage, sd_coverage, median_coverage,\n",
    "                  coverage_IQR, min_coverage, max_coverage,\n",
    "                  first_quart, third_quart) %>%\n",
    "            unique()"
   ]
  },
  {
   "cell_type": "code",
   "execution_count": null,
   "id": "2af3e877",
   "metadata": {},
   "outputs": [],
   "source": [
    "sessionInfo()"
   ]
  }
 ],
 "metadata": {
  "kernelspec": {
   "display_name": "R",
   "language": "R",
   "name": "ir"
  },
  "language_info": {
   "codemirror_mode": "r",
   "file_extension": ".r",
   "mimetype": "text/x-r-source",
   "name": "R",
   "pygments_lexer": "r",
   "version": "4.2.2"
  }
 },
 "nbformat": 4,
 "nbformat_minor": 5
}
