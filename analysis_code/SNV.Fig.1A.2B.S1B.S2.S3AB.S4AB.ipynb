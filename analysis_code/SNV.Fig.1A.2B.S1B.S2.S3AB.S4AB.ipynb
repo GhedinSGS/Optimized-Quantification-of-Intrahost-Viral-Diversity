{
 "cells": [
  {
   "cell_type": "markdown",
   "id": "bde55fd2",
   "metadata": {},
   "source": [
    "# Simulated data analysis and figure generation for: \"Optimization of SNV calling\"\n",
    "#### Written by: Kate Johnson\n",
    "\n",
    "## This notebook generates the following figures for the manuscript: \n",
    "- Figures: 1A and 2B\n",
    "- Supp. Figures: 1B, 2, 3A, 3B, 4A, and 4B\n",
    "\n",
    "## Required inputs to run notebook: \n",
    "\n",
    "### Working directory path\n",
    "\n",
    "### Path to R functions: \n",
    "  - maf_functions.R\n",
    "\n",
    "### Golden files for each virus: \n",
    "  - H1N1-7_agitated_thompson_af_data.csv\n",
    "  - H3N2-4_thirsty_volta_af_data.csv\n",
    "  - Vic-3_fervent_raman_af_data.csv\n",
    "  - SARS-CoV2-3_kickass_mcclintock_af_data.csv\n",
    "  \n",
    "  \n",
    "### Metadata outlining the size of the segments/genome for each virus: \n",
    "  - SegmentSize.maf.csv\n",
    "\n",
    "### Portions of the code that the user will have to change are highlighted with \"USER WILL NEED TO UPDATE\" comments."
   ]
  },
  {
   "cell_type": "code",
   "execution_count": 1,
   "id": "b65436f5",
   "metadata": {},
   "outputs": [
    {
     "name": "stderr",
     "output_type": "stream",
     "text": [
      "\n",
      "Attaching package: ‘dplyr’\n",
      "\n",
      "\n",
      "The following objects are masked from ‘package:plyr’:\n",
      "\n",
      "    arrange, count, desc, failwith, id, mutate, rename, summarise,\n",
      "    summarize\n",
      "\n",
      "\n",
      "The following objects are masked from ‘package:stats’:\n",
      "\n",
      "    filter, lag\n",
      "\n",
      "\n",
      "The following objects are masked from ‘package:base’:\n",
      "\n",
      "    intersect, setdiff, setequal, union\n",
      "\n",
      "\n",
      "── \u001b[1mAttaching packages\u001b[22m ──────────────────────────────────────────────────────────────────────────────────────────────────────── tidyverse 1.3.2 ──\n",
      "\u001b[32m✔\u001b[39m \u001b[34mggplot2\u001b[39m 3.4.0     \u001b[32m✔\u001b[39m \u001b[34mpurrr  \u001b[39m 0.3.5\n",
      "\u001b[32m✔\u001b[39m \u001b[34mtibble \u001b[39m 3.1.8     \u001b[32m✔\u001b[39m \u001b[34mstringr\u001b[39m 1.5.0\n",
      "\u001b[32m✔\u001b[39m \u001b[34mtidyr  \u001b[39m 1.2.1     \u001b[32m✔\u001b[39m \u001b[34mforcats\u001b[39m 0.5.2\n",
      "\u001b[32m✔\u001b[39m \u001b[34mreadr  \u001b[39m 2.1.3     \n",
      "── \u001b[1mConflicts\u001b[22m ─────────────────────────────────────────────────────────────────────────────────────────────────────────── tidyverse_conflicts() ──\n",
      "\u001b[31m✖\u001b[39m \u001b[34mdplyr\u001b[39m::\u001b[32marrange()\u001b[39m   masks \u001b[34mplyr\u001b[39m::arrange()\n",
      "\u001b[31m✖\u001b[39m \u001b[34mpurrr\u001b[39m::\u001b[32mcompact()\u001b[39m   masks \u001b[34mplyr\u001b[39m::compact()\n",
      "\u001b[31m✖\u001b[39m \u001b[34mdplyr\u001b[39m::\u001b[32mcount()\u001b[39m     masks \u001b[34mplyr\u001b[39m::count()\n",
      "\u001b[31m✖\u001b[39m \u001b[34mdplyr\u001b[39m::\u001b[32mfailwith()\u001b[39m  masks \u001b[34mplyr\u001b[39m::failwith()\n",
      "\u001b[31m✖\u001b[39m \u001b[34mdplyr\u001b[39m::\u001b[32mfilter()\u001b[39m    masks \u001b[34mstats\u001b[39m::filter()\n",
      "\u001b[31m✖\u001b[39m \u001b[34mdplyr\u001b[39m::\u001b[32mid()\u001b[39m        masks \u001b[34mplyr\u001b[39m::id()\n",
      "\u001b[31m✖\u001b[39m \u001b[34mdplyr\u001b[39m::\u001b[32mlag()\u001b[39m       masks \u001b[34mstats\u001b[39m::lag()\n",
      "\u001b[31m✖\u001b[39m \u001b[34mdplyr\u001b[39m::\u001b[32mmutate()\u001b[39m    masks \u001b[34mplyr\u001b[39m::mutate()\n",
      "\u001b[31m✖\u001b[39m \u001b[34mdplyr\u001b[39m::\u001b[32mrename()\u001b[39m    masks \u001b[34mplyr\u001b[39m::rename()\n",
      "\u001b[31m✖\u001b[39m \u001b[34mdplyr\u001b[39m::\u001b[32msummarise()\u001b[39m masks \u001b[34mplyr\u001b[39m::summarise()\n",
      "\u001b[31m✖\u001b[39m \u001b[34mdplyr\u001b[39m::\u001b[32msummarize()\u001b[39m masks \u001b[34mplyr\u001b[39m::summarize()\n"
     ]
    }
   ],
   "source": [
    "# load necessary packages\n",
    "library('plyr')\n",
    "library('dplyr')\n",
    "library('tidyverse')\n",
    "library('ggplot2')\n",
    "library('glue')"
   ]
  },
  {
   "cell_type": "markdown",
   "id": "a3800b8f",
   "metadata": {},
   "source": [
    "## Input simulated SNV reports"
   ]
  },
  {
   "cell_type": "code",
   "execution_count": 2,
   "id": "9e6aa8a0",
   "metadata": {},
   "outputs": [],
   "source": [
    "binocheck = 'allBino'\n",
    "info = 'all'"
   ]
  },
  {
   "cell_type": "code",
   "execution_count": 3,
   "id": "fd37ba7d",
   "metadata": {},
   "outputs": [
    {
     "name": "stderr",
     "output_type": "stream",
     "text": [
      "set working directory and file names\n",
      "\n"
     ]
    }
   ],
   "source": [
    "message(\"set working directory and file names\")\n",
    "\n",
    "wkdir = \"../reports/double_reports/\"\n",
    "setwd(wkdir) \n",
    "\n",
    "h1n1_af_report = 'H1N1-7_agitated_thompson_af_data.csv' # h1n1\n",
    "h3n2_af_report = 'H3N2-4_thirsty_volta_af_data.csv' # h3n2\n",
    "vict_af_report = 'Vic-3_fervent_raman_af_data.csv' # h3n2\n",
    "sars_af_report  = 'SARS-CoV2-3_kickass_mcclintock_af_data.csv'\n",
    "\n",
    "\n",
    "segment_sizes = '../../metadata/SegmentSize.maf.csv'  # USER WILL NEED TO UPDATE PATH TO METADATA"
   ]
  },
  {
   "cell_type": "code",
   "execution_count": 4,
   "id": "61719a32",
   "metadata": {},
   "outputs": [],
   "source": [
    "source(glue('../../scripts/maf_functions.R'))  # USER WILL NEED TO UPDATE PATH TO FUNCTIONS"
   ]
  },
  {
   "cell_type": "code",
   "execution_count": 5,
   "id": "18bc1843",
   "metadata": {},
   "outputs": [
    {
     "name": "stderr",
     "output_type": "stream",
     "text": [
      "Set working directory and read in sim data\n",
      "\n"
     ]
    }
   ],
   "source": [
    "message(\"Set working directory and read in sim data\")\n",
    "\n",
    "\n",
    "sizes = read.csv(segment_sizes,header = T)\n",
    "\n",
    "# input the golden files:\n",
    "# adding a one after af because we are using mx data now too\n",
    "h1n1_af1 = read.csv(h1n1_af_report,header = T)\n",
    "h3n2_af1 = read.csv(h3n2_af_report,header = T)\n",
    "vict_af1 = read.csv(vict_af_report,header = T)\n",
    "sars_af1 = read.csv(sars_af_report, header = T)"
   ]
  },
  {
   "cell_type": "code",
   "execution_count": 6,
   "id": "c3997a7f",
   "metadata": {},
   "outputs": [
    {
     "name": "stdout",
     "output_type": "stream",
     "text": [
      "../double_report_figures\n"
     ]
    }
   ],
   "source": [
    "# USER MAY WANT TO UPDATE WHERE FIGURES ARE SAVED\n",
    "if (!dir.exists(glue(\"../double_report_figures\"))) {\n",
    "      dir.create(glue(\"../double_report_figures\"))\n",
    "    } \n",
    "\n",
    "FIG_DIR = glue(\"../double_report_figures\")\n",
    "print(FIG_DIR)"
   ]
  },
  {
   "cell_type": "markdown",
   "id": "4803dae8",
   "metadata": {},
   "source": [
    "# Prepping 'golden' simulated data\n",
    "- Filtering for either rep 1 or merged data\n",
    "- Extracting name information\n",
    "- Rearranging\n",
    "- Adding strain information for each virus"
   ]
  },
  {
   "cell_type": "code",
   "execution_count": 7,
   "id": "9d3b22bc",
   "metadata": {},
   "outputs": [
    {
     "name": "stderr",
     "output_type": "stream",
     "text": [
      "Adding 'strain' information to each df\n",
      "\n"
     ]
    }
   ],
   "source": [
    "message(\"Adding 'strain' information to each df\")\n",
    "h1n1_af1$strain = 'H1N1'\n",
    "h3n2_af1$strain = 'H3N2'\n",
    "vict_af1$strain = 'VICT'\n",
    "sars_af1$strain = 'SARS'\n",
    "sars_af1$chrom = 'SARS_SARS'"
   ]
  },
  {
   "cell_type": "code",
   "execution_count": 8,
   "id": "d6c89bdd",
   "metadata": {},
   "outputs": [],
   "source": [
    "sars_af = rearrange_output_data(df = sars_af1, \n",
    "                            readsim_cov = 100000, \n",
    "                            id_list = id_list) %>%\n",
    "            filter(rep == 'm1' & parameter2 != 'filtered') %>%\n",
    "        unique()\n",
    "\n",
    "sars_mix = rearrange_output_data(df = sars_af1, \n",
    "                            readsim_cov = 100000, \n",
    "                            id_list = id_list) %>%\n",
    "            filter(rep == 'mx' & parameter2 != 'filtered') %>%\n",
    "        unique()"
   ]
  },
  {
   "cell_type": "code",
   "execution_count": 9,
   "id": "8febb3d7",
   "metadata": {},
   "outputs": [],
   "source": [
    "h1n1_af = rearrange_output_data(df = h1n1_af1, \n",
    "                            readsim_cov = 100000, \n",
    "                            id_list = id_list) %>%\n",
    "            filter(rep == 'm1' & parameter2 != 'filtered') %>%\n",
    "        unique()\n",
    "\n",
    "\n",
    "h1n1_mix = rearrange_output_data(df = h1n1_af1, \n",
    "                            readsim_cov = 100000, \n",
    "                            id_list = id_list) %>%\n",
    "            filter(rep == 'mix' & parameter2 != 'filtered') %>%\n",
    "        unique()"
   ]
  },
  {
   "cell_type": "code",
   "execution_count": 10,
   "id": "6e3d0e5c",
   "metadata": {},
   "outputs": [],
   "source": [
    "h3n2_af = rearrange_output_data(df = h3n2_af1, \n",
    "                            readsim_cov = 100000, \n",
    "                            id_list = id_list) %>%\n",
    "            filter(rep == 'm1' & parameter2 != 'filtered') %>%\n",
    "        unique()\n",
    "\n",
    "h3n2_mix = rearrange_output_data(df = h3n2_af1, \n",
    "                            readsim_cov = 100000, \n",
    "                            id_list = id_list) %>%\n",
    "            filter(rep == 'mix' & parameter2 != 'filtered') %>%\n",
    "        unique()"
   ]
  },
  {
   "cell_type": "code",
   "execution_count": 11,
   "id": "0998b85d",
   "metadata": {},
   "outputs": [],
   "source": [
    "vict_af = rearrange_output_data(df = vict_af1, \n",
    "                            readsim_cov = 100000, \n",
    "                            id_list = id_list) %>%\n",
    "            filter(rep == 'm1' & parameter2 != 'filtered') %>%\n",
    "        unique()\n",
    "\n",
    "vict_mix = rearrange_output_data(df = vict_af1, \n",
    "                            readsim_cov = 100000, \n",
    "                            id_list = id_list) %>%\n",
    "            filter(rep == 'mx' & parameter2 != 'filtered') %>%\n",
    "        unique()\n"
   ]
  },
  {
   "cell_type": "markdown",
   "id": "c8656d81",
   "metadata": {},
   "source": [
    "## Combining rearranged data for A/H1N1, A/H3N2/ B/Victoria, and SARS-CoV-2 into one data frame to work with.\n",
    "- Rbind dfs into one df\n",
    "- Adding in variable information\n",
    "- Renaming the Freebayes 'custom' as 'standard'\n",
    "- Filtering out 'no-bino-check' timo data"
   ]
  },
  {
   "cell_type": "code",
   "execution_count": 12,
   "id": "d2192a25",
   "metadata": {},
   "outputs": [],
   "source": [
    "# combine all virus dfs together, filter for the parameters that we want to look further into\n",
    "vdf = rbind(h1n1_af, h3n2_af, vict_af, sars_af)\n",
    "\n",
    "vdf_mix = rbind(h1n1_mix, h3n2_mix, vict_mix, sars_mix)\n",
    "\n",
    "# we changed the 'standard' setting for freebayes to 'custom' and the 'custom' parameter for freebayes to 'standard'\n",
    "vdf = vdf %>% \n",
    "    mutate(p = ifelse(tool == 'freebayes' & parameter == 'standard',\n",
    "                      'custom', ifelse(tool == 'freebayes' & \n",
    "                                       parameter == 'custom',\n",
    "                            'standard', parameter)))\n",
    "\n",
    "vdf$parameter = vdf$p\n",
    "vdf$tool_params = paste0(vdf$tool, '_', vdf$parameter,'_', vdf$parameter2)\n",
    "vdf = vdf %>% filter(tool_params %in% all_tool_params)\n",
    "\n",
    "# merged two replicate data: \n",
    "vdf_mix = vdf_mix %>% \n",
    "    mutate(p = ifelse(tool == 'freebayes' & parameter == 'standard',\n",
    "                      'custom', ifelse(tool == 'freebayes' & \n",
    "                                       parameter == 'custom',\n",
    "                            'standard', parameter)))\n",
    "\n",
    "vdf_mix$parameter = vdf_mix$p\n",
    "vdf_mix$tool_params = paste0(vdf_mix$tool, '_', vdf_mix$parameter,'_', vdf_mix$parameter2)\n",
    "vdf_mix = vdf_mix %>% filter(tool_params %in% all_tool_params & parameter2 != 'no-binom-check')"
   ]
  },
  {
   "cell_type": "code",
   "execution_count": 13,
   "id": "9f905410",
   "metadata": {},
   "outputs": [
    {
     "name": "stderr",
     "output_type": "stream",
     "text": [
      "Clean-up - remove data that will not be used later\n",
      "\n"
     ]
    },
    {
     "data": {
      "text/html": [
       "<table class=\"dataframe\">\n",
       "<caption>A matrix: 2 × 6 of type dbl</caption>\n",
       "<thead>\n",
       "\t<tr><th></th><th scope=col>used</th><th scope=col>(Mb)</th><th scope=col>gc trigger</th><th scope=col>(Mb)</th><th scope=col>max used</th><th scope=col>(Mb)</th></tr>\n",
       "</thead>\n",
       "<tbody>\n",
       "\t<tr><th scope=row>Ncells</th><td> 1229408</td><td> 65.7</td><td>2.417852e+18</td><td>1.291272e+14</td><td>104193290</td><td>5564.6</td></tr>\n",
       "\t<tr><th scope=row>Vcells</th><td>31683945</td><td>241.8</td><td>1.069875e+08</td><td>8.163000e+02</td><td>133463665</td><td>1018.3</td></tr>\n",
       "</tbody>\n",
       "</table>\n"
      ],
      "text/latex": [
       "A matrix: 2 × 6 of type dbl\n",
       "\\begin{tabular}{r|llllll}\n",
       "  & used & (Mb) & gc trigger & (Mb) & max used & (Mb)\\\\\n",
       "\\hline\n",
       "\tNcells &  1229408 &  65.7 & 2.417852e+18 & 1.291272e+14 & 104193290 & 5564.6\\\\\n",
       "\tVcells & 31683945 & 241.8 & 1.069875e+08 & 8.163000e+02 & 133463665 & 1018.3\\\\\n",
       "\\end{tabular}\n"
      ],
      "text/markdown": [
       "\n",
       "A matrix: 2 × 6 of type dbl\n",
       "\n",
       "| <!--/--> | used | (Mb) | gc trigger | (Mb) | max used | (Mb) |\n",
       "|---|---|---|---|---|---|---|\n",
       "| Ncells |  1229408 |  65.7 | 2.417852e+18 | 1.291272e+14 | 104193290 | 5564.6 |\n",
       "| Vcells | 31683945 | 241.8 | 1.069875e+08 | 8.163000e+02 | 133463665 | 1018.3 |\n",
       "\n"
      ],
      "text/plain": [
       "       used     (Mb)  gc trigger   (Mb)         max used  (Mb)  \n",
       "Ncells  1229408  65.7 2.417852e+18 1.291272e+14 104193290 5564.6\n",
       "Vcells 31683945 241.8 1.069875e+08 8.163000e+02 133463665 1018.3"
      ]
     },
     "metadata": {},
     "output_type": "display_data"
    }
   ],
   "source": [
    "message(\"Clean-up - remove data that will not be used later\")\n",
    "rm(h1n1_af, h3n2_af, vict_af, sars_af,\n",
    "  h1n1_af1, h3n2_af1, vict_af1, sars_af1, \n",
    "  h1n1_mix, h3n2_mix, vict_mix, sars_mix)\n",
    "gc()"
   ]
  },
  {
   "cell_type": "markdown",
   "id": "88e03b5b",
   "metadata": {},
   "source": [
    "# SUPP. FIGURE 1B: \n",
    "\n",
    "## The location and number of input simulated SNVs for A/H1N1, A/H3N2, B/Victoria, and SARS-CoV-2"
   ]
  },
  {
   "cell_type": "code",
   "execution_count": 14,
   "id": "409925b1",
   "metadata": {},
   "outputs": [
    {
     "name": "stderr",
     "output_type": "stream",
     "text": [
      "Counting SNPs that were pulled for simulation:\n",
      "\n",
      "The total number of SNPs input for each strain:\n",
      "\n"
     ]
    },
    {
     "data": {
      "text/html": [
       "<table class=\"dataframe\">\n",
       "<caption>A tibble: 4 × 2</caption>\n",
       "<thead>\n",
       "\t<tr><th scope=col>strain</th><th scope=col>NumberOfSNPs</th></tr>\n",
       "\t<tr><th scope=col>&lt;chr&gt;</th><th scope=col>&lt;int&gt;</th></tr>\n",
       "</thead>\n",
       "<tbody>\n",
       "\t<tr><td>H1N1</td><td>121</td></tr>\n",
       "\t<tr><td>H3N2</td><td>110</td></tr>\n",
       "\t<tr><td>SARS</td><td>144</td></tr>\n",
       "\t<tr><td>VICT</td><td>118</td></tr>\n",
       "</tbody>\n",
       "</table>\n"
      ],
      "text/latex": [
       "A tibble: 4 × 2\n",
       "\\begin{tabular}{ll}\n",
       " strain & NumberOfSNPs\\\\\n",
       " <chr> & <int>\\\\\n",
       "\\hline\n",
       "\t H1N1 & 121\\\\\n",
       "\t H3N2 & 110\\\\\n",
       "\t SARS & 144\\\\\n",
       "\t VICT & 118\\\\\n",
       "\\end{tabular}\n"
      ],
      "text/markdown": [
       "\n",
       "A tibble: 4 × 2\n",
       "\n",
       "| strain &lt;chr&gt; | NumberOfSNPs &lt;int&gt; |\n",
       "|---|---|\n",
       "| H1N1 | 121 |\n",
       "| H3N2 | 110 |\n",
       "| SARS | 144 |\n",
       "| VICT | 118 |\n",
       "\n"
      ],
      "text/plain": [
       "  strain NumberOfSNPs\n",
       "1 H1N1   121         \n",
       "2 H3N2   110         \n",
       "3 SARS   144         \n",
       "4 VICT   118         "
      ]
     },
     "metadata": {},
     "output_type": "display_data"
    }
   ],
   "source": [
    "message(\"Counting SNPs that were pulled for simulation:\")\n",
    "\n",
    "locate_input_snps = vdf %>% filter(af_golden > 0 ) %>%\n",
    "                        select(chrom, pos, ref, alt, strain, \n",
    "                               segment, virus_type, rep) %>% unique()\n",
    "\n",
    "locate_input_snps$virus_segment = paste0(locate_input_snps$virus_type, '_', locate_input_snps$segment)  # this is the name of the segment aligned to\n",
    "\n",
    "locate_input_snps = merge(locate_input_snps, sizes, \n",
    "                         by.x=c('virus_segment'), by.y=c('segment'),\n",
    "                         all.x=TRUE)\n",
    "\n",
    "message(\"The total number of SNPs input for each strain:\")\n",
    "\n",
    "locate_input_snps %>% group_by(strain, virus_type, rep) %>% \n",
    "                            add_tally(name = 'NumberOfSNPs') %>% \n",
    "                            ungroup() %>% \n",
    "                        unique() %>% \n",
    "                    select(strain, NumberOfSNPs) %>% unique()\n"
   ]
  },
  {
   "cell_type": "code",
   "execution_count": 15,
   "id": "6d91c368",
   "metadata": {},
   "outputs": [
    {
     "name": "stderr",
     "output_type": "stream",
     "text": [
      "Plotting location of input SNPs\n",
      "\n"
     ]
    },
    {
     "data": {
      "image/png": "[encoded data removed]",
      "text/plain": [
       "plot without title"
      ]
     },
     "metadata": {
      "image/png": {
       "height": 420,
       "width": 420
      }
     },
     "output_type": "display_data"
    },
    {
     "data": {
      "image/png": "[encoded data removed]",
      "text/plain": [
       "plot without title"
      ]
     },
     "metadata": {
      "image/png": {
       "height": 420,
       "width": 420
      }
     },
     "output_type": "display_data"
    }
   ],
   "source": [
    "message(\"Plotting location of input SNPs\")\n",
    "\n",
    "locate_input_snps$segment = factor(locate_input_snps$segment, levels = CHROMS)  # rearrange\n",
    "\n",
    "plots1b = ggplot(locate_input_snps %>% filter(strain != 'SARS'), aes(x= pos, y = 'snp', color = strain)) + \n",
    "            geom_segment(aes(x = pos, xend = pos, y=0, yend = 1), alpha = 0.8) + \n",
    "            facet_grid(strain~segment, scales = 'free_x', space = 'free_x') +\n",
    "            ylab(\"\") + \n",
    "            xlab(\"Genome position\") + \n",
    "            strain_colScale + \n",
    "            theme(panel.background = element_blank(),\n",
    "                      axis.line = element_line(colour = \"gray\"),\n",
    "                      legend.key = element_blank(),\n",
    "                      strip.background = element_rect(colour=\"gray\", fill=\"white\"),\n",
    "                      axis.text.x = element_text(angle = 90, vjust = 0.5, hjust=1),\n",
    "                        panel.border = element_rect(colour='gray', fill = NA),\n",
    "                         axis.ticks.y = element_blank(),        \n",
    "            axis.text.y = element_blank(), legend.position=\"bottom\",\n",
    "                  legend.title=element_blank())\n",
    "\n",
    "print(plots1b)\n",
    "\n",
    "ggsave(plots1b,\n",
    "       filename = glue(\"{FIG_DIR}/figS1B_flu_kj.png\"),\n",
    "       width = 12,\n",
    "       height = 3, limitsize=FALSE)\n",
    "\n",
    "ggsave(plots1b,\n",
    "       filename = glue(\"{FIG_DIR}/figS1B_flu_kj.pdf\"),\n",
    "       width = 12,\n",
    "       height = 3, limitsize=FALSE, useDingbats = FALSE)\n",
    "\n",
    "\n",
    "plots1b = ggplot(locate_input_snps %>% filter(strain == 'SARS'), aes(x= pos, y = 'snp', color = strain)) + \n",
    "            geom_segment(aes(x = pos, xend = pos, y=0, yend = 1),alpha = 0.8) + \n",
    "            facet_grid(strain~segment, scales = 'free_x', space = 'free_x') +\n",
    "            ylab(\"\") + \n",
    "            xlab(\"Genome position\") + \n",
    "            strain_colScale + \n",
    "            theme(panel.background = element_blank(),\n",
    "                      axis.line = element_line(colour = \"gray\"),\n",
    "                      legend.key = element_blank(),\n",
    "                      strip.background = element_rect(colour=\"gray\", fill=\"white\"),\n",
    "                      axis.text.x = element_text(angle = 90, vjust = 0.5, hjust=1),\n",
    "                        panel.border = element_rect(colour='gray', fill = NA),\n",
    "                         axis.ticks.y = element_blank(),        \n",
    "            axis.text.y = element_blank(), legend.position=\"bottom\",\n",
    "                  legend.title=element_blank())\n",
    "\n",
    "print(plots1b)\n",
    "\n",
    "ggsave(plots1b,\n",
    "       filename = glue(\"{FIG_DIR}/figS1B_sars_kj.png\"),\n",
    "       width = 12,\n",
    "       height = 2, limitsize=FALSE)#, useDingbats = FALSE)\n",
    "\n",
    "ggsave(plots1b,\n",
    "       filename = glue(\"{FIG_DIR}/figS1B_sars_kj.pdf\"),\n",
    "       width = 12,\n",
    "       height = 2, limitsize=FALSE, useDingbats = FALSE)"
   ]
  },
  {
   "cell_type": "markdown",
   "id": "bc752d2d",
   "metadata": {},
   "source": [
    "# Adding in false positive, true positive, and false negative information into the single replicate and two replicate data frames. "
   ]
  },
  {
   "cell_type": "code",
   "execution_count": 16,
   "id": "ffc9fb0d",
   "metadata": {
    "scrolled": true
   },
   "outputs": [
    {
     "name": "stderr",
     "output_type": "stream",
     "text": [
      "Adding in FP, TP, and FN information\n",
      "\n"
     ]
    }
   ],
   "source": [
    "message(\"Adding in FP, TP, and FN information\")\n",
    "# single replicate:\n",
    "vdf = add_category_information(vdf)  # add tp, fp, fn, etc. \n",
    "vdf$strain = factor(vdf$strain, levels = strains)\n",
    "\n",
    "# two replicate merged data\n",
    "vdf_mix = add_category_information(vdf_mix)  # add tp, fp, fn, etc."
   ]
  },
  {
   "cell_type": "markdown",
   "id": "8f8e89f1",
   "metadata": {},
   "source": [
    "## Applying frequency (freq_list) and coverage (cov_list) cutoffs to our single replicate simulated data to determine if cutoffs impact our false-discovery and false-negative rates.\n",
    "\n",
    "- Filter for single replicate random data and the tool parameters that we are interested in (keep_tool_params)\n",
    "- Using two for loops for the freq and coverage cutoffs, mark SNVs as TP, FP, FN, or TN depending on if they pass our cutoffs.\n",
    "- If the output freq and read depth pass our cutoffs, and it was originally marked as a TP, keep it as a TP\n",
    "- If the output freq and/or read depth pass our cutoffs and it was originally marked as a FP, keep it as FP\n",
    "- If the ouput freq and/or read depth do *NOT* pass our cutoffs, and it was originally marked as a TP, mark it as a FN\n",
    "- Else, if the output freq and/or read depth do *NOT* pass our cutoffs, and it was originally marked as a FP, mark it as TN\n",
    "- Remove the original 'category' column\n"
   ]
  },
  {
   "cell_type": "code",
   "execution_count": 17,
   "id": "f07c6c0c",
   "metadata": {},
   "outputs": [
    {
     "data": {
      "text/html": [
       "<style>\n",
       ".list-inline {list-style: none; margin:0; padding: 0}\n",
       ".list-inline>li {display: inline-block}\n",
       ".list-inline>li:not(:last-child)::after {content: \"\\00b7\"; padding: 0 .5ex}\n",
       "</style>\n",
       "<ol class=list-inline><li>67459</li><li>24</li></ol>\n"
      ],
      "text/latex": [
       "\\begin{enumerate*}\n",
       "\\item 67459\n",
       "\\item 24\n",
       "\\end{enumerate*}\n"
      ],
      "text/markdown": [
       "1. 67459\n",
       "2. 24\n",
       "\n",
       "\n"
      ],
      "text/plain": [
       "[1] 67459    24"
      ]
     },
     "metadata": {},
     "output_type": "display_data"
    }
   ],
   "source": [
    "filt_vdf = vdf %>% filter(rep == 'm1' & allele_freq == 'random' & tool_params %in% keep_tool_params)\n",
    "\n",
    "dim(filt_vdf)\n",
    "\n",
    "freq_list = c(0, 0.01, 0.02, 0.03)\n",
    "\n",
    "cov_list = c(0, 100, 200, 300)\n",
    "\n",
    "vdf_filt = data.frame()\n",
    "\n",
    "for(f in freq_list){\n",
    "    \n",
    "    for(c in cov_list){\n",
    "        \n",
    "        fv = filt_vdf %>%\n",
    "                mutate(new_category = ifelse(af_workflow >= f & dp >= c & category == 'TP',\n",
    "                                            \"TP\",\n",
    "                                            ifelse(af_workflow < f & category == 'TP'| \n",
    "                                                   dp < c & category == 'TP',\n",
    "                                                  \"FN\", \n",
    "                                                  ifelse(category == 'FN',\n",
    "                                                        \"FN\", \n",
    "                                                        ifelse(category == 'FP' & af_workflow >= f & dp >= c,\n",
    "                                                              \"FP\", \"TN\")))))\n",
    "        \n",
    "        fv$freq_cut = f\n",
    "        \n",
    "        fv$cov_cut = c\n",
    "        \n",
    "        vdf_filt = rbind(vdf_filt, fv)       \n",
    "    }\n",
    "}\n",
    "\n",
    "vdf_filt$category = vdf_filt$new_category # make the 'category' column the 'new category' information!!"
   ]
  },
  {
   "cell_type": "code",
   "execution_count": 18,
   "id": "2621c330",
   "metadata": {},
   "outputs": [],
   "source": [
    "vdf_mix$freq_cut = 0  # no cutoffs were used for the merged data, therefore marking it as 0 to make plotting easy\n",
    "vdf_mix$cov_cut = 0 \n",
    "vdf_mix = vdf_mix %>% filter(allele_freq == 'random' & rep == 'mx') %>% unique()\n",
    "vdf_mix$new_category = vdf_mix$category"
   ]
  },
  {
   "cell_type": "markdown",
   "id": "543209ca",
   "metadata": {},
   "source": [
    "# Counting the number of true positive, false positive, and false negative SNVs in our single replicate datasets (not filtered and filtered). \n",
    "\n",
    "## This allows us to calculate other stats such as false negative rate, false discovery rate, and the F1 statistic.\n",
    "\n",
    "- Group by tool, parameter, and simulation information\n",
    "- Count the number of TP, FP, and FN SNVs\n",
    "- Rearrange information into a useful format to work with"
   ]
  },
  {
   "cell_type": "code",
   "execution_count": 19,
   "id": "a98ee15c",
   "metadata": {},
   "outputs": [
    {
     "name": "stderr",
     "output_type": "stream",
     "text": [
      "Counting FP, TP, FN, TN info\n",
      "\n",
      "Adjust count df\n",
      "\n"
     ]
    },
    {
     "name": "stdout",
     "output_type": "stream",
     "text": [
      "[1] \"FP present - no adjustment needed\"\n"
     ]
    }
   ],
   "source": [
    "message(\"Counting FP, TP, FN, TN info\")\n",
    "vdf = vdf %>% ungroup()\n",
    "\n",
    "group_colnames = c(c('coverage',\n",
    "                     'category','strain',id_list))\n",
    "\n",
    "count_df = vdf %>% group_by(across(all_of(group_colnames))) %>%\n",
    "            add_tally(name = 'category_count') %>%\n",
    "            ungroup() %>%\n",
    "            select(all_of(c(group_colnames, 'category_count'))) %>%\n",
    "            unique()\n",
    "\n",
    "message(\"Adjust count df\")\n",
    "\n",
    "df = adjust_counts(count_df)\n",
    "\n",
    "df = adjust_information_types(df)"
   ]
  },
  {
   "cell_type": "code",
   "execution_count": null,
   "id": "f550d7a9",
   "metadata": {},
   "outputs": [
    {
     "name": "stderr",
     "output_type": "stream",
     "text": [
      "Category count for filt data\n",
      "\n"
     ]
    }
   ],
   "source": [
    "message(\"Category count for filt data\")\n",
    "\n",
    "vdf_filt = rbind(vdf_filt, vdf_mix) # combine the mx and m1 data (merged, and rep 1 data)\n",
    "\n",
    "vdf_filt = vdf_filt %>% ungroup() %>% unique()\n",
    "\n",
    "group_columns = c('coverage','category','strain',\n",
    "                  'freq_cut','cov_cut', 'rep',\n",
    "                  id_list)\n",
    "\n",
    "count_filt = vdf_filt %>% \n",
    "            group_by(across(all_of(group_columns))) %>%\n",
    "            add_tally(name = 'category_count') %>%\n",
    "            ungroup() %>% \n",
    "            select(all_of(c(group_columns, 'category_count'))) %>%\n",
    "            unique()\n",
    "\n",
    "\n",
    "message(\"Adjust filtered count df\")\n",
    "\n",
    "df_filt = adjust_counts(count_filt)\n",
    "\n",
    "df_filt = adjust_information_types(df_filt)"
   ]
  },
  {
   "cell_type": "markdown",
   "id": "3d5ff4cd",
   "metadata": {},
   "source": [
    "# Comparing output frequency to expected simulated frequency for true positive SNVs:\n",
    "\n",
    "- Filter for true positive SNVs only in our standard, single replicate or merged data.\n",
    "- Calculate the difference in frequency by taking the output freq and subtracting the expected freq of the SNV\n",
    "- If the freqs are identical, then the difference will be 0, if the output is greater than the input, then the difference will be positive, if the output is lower than the input then the difference will be negative. "
   ]
  },
  {
   "cell_type": "code",
   "execution_count": null,
   "id": "850112fb",
   "metadata": {},
   "outputs": [],
   "source": [
    "# Filtering for the true positives in rep 1 data: \n",
    "tp = vdf %>% filter(category == 'TP' & \n",
    "                   parameter == 'standard' &\n",
    "                    !parameter2 %in% c('filtered','no-binom-check'))\n",
    "\n",
    "tp$freq_difference = tp$af_workflow - tp$af_golden  # taking the output frequency and subtracting input\n",
    "\n",
    "tp$coverage = as.numeric(as.character(tp$coverage))  # change the coverage column to a numeric\n",
    "\n",
    "tp$coverage = factor(tp$coverage, levels = subsampling_depths)\n",
    "\n",
    "tp_mix = vdf_mix %>% filter(category == 'TP' & \n",
    "                   parameter == 'standard' &\n",
    "                    parameter2 != 'no-binom-check') \n",
    "\n",
    "tp_mix$freq_difference = tp_mix$af_workflow - tp_mix$af_golden\n",
    "\n",
    "tp_mix$coverage = factor(tp_mix$coverage, levels = subsampling_depths)"
   ]
  },
  {
   "cell_type": "markdown",
   "id": "885b8803",
   "metadata": {},
   "source": [
    "### Calculate the mean and sd of the frequency difference between output and expected allele frequencies: \n",
    "- Filter the data using different coverage and frequency cutoffs for single and two replicate data\n",
    "- Calculate the mean and sd frequency differences\n",
    "- Prep for plotting"
   ]
  },
  {
   "cell_type": "code",
   "execution_count": null,
   "id": "39fdb676",
   "metadata": {},
   "outputs": [],
   "source": [
    "select_it_list = c('category', 'tool', 'parameter', \n",
    "                   'parameter2', 'coverage')\n",
    "\n",
    "# no filters, single replicate data\n",
    "tp = tp %>%\n",
    "        group_by(across(all_of(select_it_list))) %>%\n",
    "        mutate(mean_freq_difference = mean(freq_difference),\n",
    "               sd_freq_difference = sd(freq_difference)) %>%\n",
    "        ungroup() \n",
    "\n",
    "tp0 = tp %>% select(all_of(c(select_it_list, 'mean_freq_difference','sd_freq_difference'))) %>%\n",
    "        unique()\n",
    "\n",
    "# Coverage >= 200x, freq >= 3%, single replicate data\n",
    "tp23 = tp %>% \n",
    "            filter( dp >= 200 & af_workflow >= 0.03) %>% \n",
    "            group_by(across(all_of(select_it_list))) %>%\n",
    "            mutate(mean_freq_difference = mean(freq_difference),\n",
    "                   sd_freq_difference = sd(freq_difference)) %>%\n",
    "            ungroup() %>%\n",
    "            select(all_of(c(select_it_list, 'mean_freq_difference','sd_freq_difference'))) %>%\n",
    "        unique()\n",
    "\n",
    "# Coverage >= 300x, freq >= 2%, single replicate data\n",
    "tp32 = tp %>% \n",
    "            filter( dp >= 300 & af_workflow >= 0.02) %>% \n",
    "            group_by(across(all_of(select_it_list))) %>%\n",
    "            mutate(mean_freq_difference = mean(freq_difference),\n",
    "                   sd_freq_difference = sd(freq_difference)) %>%\n",
    "            ungroup() %>%\n",
    "            select(all_of(c(select_it_list, 'mean_freq_difference','sd_freq_difference'))) %>%\n",
    "        unique()\n",
    "\n",
    "\n",
    "# Looking at the merged two replicate data: \n",
    "# Merged, two replicate data, no cutoffs\n",
    "tpmix0 = tp_mix %>%\n",
    "            group_by(across(all_of(select_it_list))) %>%\n",
    "            mutate(mean_freq_difference = mean(freq_difference),\n",
    "                   sd_freq_difference = sd(freq_difference)) %>%\n",
    "        ungroup() %>% \n",
    "        select(all_of(c(select_it_list, 'mean_freq_difference','sd_freq_difference'))) %>%\n",
    "    unique()\n",
    "\n",
    "# Coverage >= 200x, freq >= 1%, merged two replicate data: \n",
    "tpmix12 = tp_mix %>% filter(af_workflow >= 0.01 & dp >= 200) %>% \n",
    "            group_by(across(all_of(select_it_list))) %>%\n",
    "            mutate(mean_freq_difference = mean(freq_difference),\n",
    "                   sd_freq_difference = sd(freq_difference)) %>%\n",
    "        ungroup() %>% \n",
    "        select(all_of(c(select_it_list, 'mean_freq_difference','sd_freq_difference'))) %>%\n",
    "    unique()\n",
    "\n"
   ]
  },
  {
   "cell_type": "code",
   "execution_count": null,
   "id": "d955bb9d",
   "metadata": {},
   "outputs": [],
   "source": [
    "# Plotting the frequency differences (mean and sd) for each downsampling fraction/tool\n",
    "example_p = ggplot() + \n",
    "\n",
    "    geom_errorbar(data = tp0,\n",
    "                  aes(x='1 rep, 0x, 0%',\n",
    "                      ymin = mean_freq_difference - sd_freq_difference, \n",
    "                     ymax = mean_freq_difference + sd_freq_difference,\n",
    "                          color =factor(as.numeric(as.character(coverage)))),\n",
    "                      width = 0.5,\n",
    "               position = position_dodge(width = 0.8)) + \n",
    "\n",
    "    geom_point(data = tp0 ,\n",
    "              aes(x='1 rep, 0x, 0%', y = mean_freq_difference, \n",
    "                  color = factor(as.numeric(as.character(coverage))),\n",
    "               group = factor(coverage)),\n",
    "               position = position_dodge(width = 0.8)) + \n",
    "\n",
    "    geom_errorbar(data = tp23,\n",
    "                  aes(x='1 rep, 200x, 3%',\n",
    "                      ymin = mean_freq_difference - sd_freq_difference, \n",
    "                     ymax = mean_freq_difference + sd_freq_difference,\n",
    "                          color =factor(as.numeric(as.character(coverage)))),\n",
    "                      width = 0.5,\n",
    "               position = position_dodge(width = 0.8)) + \n",
    "\n",
    "    geom_point(data = tp23,\n",
    "              aes(x= '1 rep, 200x, 3%', y = mean_freq_difference, \n",
    "                  color = factor(as.numeric(as.character(coverage))),\n",
    "              group = factor(coverage)),\n",
    "             position = position_dodge(width = 0.8)) + \n",
    "\n",
    "\n",
    "    geom_errorbar(data = tp32,\n",
    "                  aes(x='1 rep, 300x, 2%',\n",
    "                      ymin = mean_freq_difference - sd_freq_difference, \n",
    "                     ymax = mean_freq_difference + sd_freq_difference,\n",
    "                          color =factor(as.numeric(as.character(coverage)))),\n",
    "                      width = 0.5,\n",
    "               position = position_dodge(width = 0.8)) + \n",
    "\n",
    "\n",
    "    geom_point(data = tp32,\n",
    "              aes(x= '1 rep, 300x, 2%', y = mean_freq_difference, \n",
    "                  color = factor(as.numeric(as.character(coverage))),\n",
    "             group = factor(coverage)),\n",
    "              position = position_dodge(width = 0.8)) + \n",
    "    \n",
    "\n",
    "    geom_errorbar(data = tpmix0,\n",
    "                  aes(x='2 reps, 0x, 0%',\n",
    "                      ymin = mean_freq_difference - sd_freq_difference, \n",
    "                     ymax = mean_freq_difference + sd_freq_difference,\n",
    "                          color =factor(as.numeric(as.character(coverage)))),\n",
    "                      width = 0.5,\n",
    "               position = position_dodge(width = 0.8)) + \n",
    "\n",
    "\n",
    "    geom_point(data = tpmix0,\n",
    "              aes(x='2 reps, 0x, 0%',y=mean_freq_difference, \n",
    "                  color = factor(as.numeric(as.character(coverage))),\n",
    "              group = factor(coverage)),\n",
    "              position = position_dodge(width = 0.8)) + \n",
    "\n",
    "\n",
    "    geom_errorbar(data = tpmix12,\n",
    "                  aes(x='2 reps, 200x, 1%',\n",
    "                      ymin = mean_freq_difference - sd_freq_difference, \n",
    "                     ymax = mean_freq_difference + sd_freq_difference,\n",
    "                          color =factor(as.numeric(as.character(coverage)))),\n",
    "                      width = 0.5,\n",
    "               position = position_dodge(width = 0.8)) + \n",
    "\n",
    "     geom_point(data = tpmix12,\n",
    "              aes(x='2 reps, 200x, 1%',y=mean_freq_difference,\n",
    "                  color = factor(as.numeric(as.character(coverage))),\n",
    "              group = factor(coverage)),\n",
    "              position = position_dodge(width = 0.8)) + \n",
    "\n",
    "    subsamp_colScale + \n",
    "    geom_hline(yintercept = 0.02, linetype = 3, color = 'black') + \n",
    "    geom_hline(yintercept = -0.02, linetype = 3, color = 'black') + \n",
    "    geom_hline(yintercept = 0, linetype = 2, color = 'black') + \n",
    "    labs(x=\"Cutoff type\",y=\"Output freq - Expected freq\") + \n",
    "    PlotTheme1 +\n",
    "    facet_grid(.~tool)\n",
    "\n",
    "print(example_p)"
   ]
  },
  {
   "cell_type": "markdown",
   "id": "3b955685",
   "metadata": {},
   "source": [
    "# Looking at freq, read depth and downsampling fraction of false positive SNVs: \n",
    "- Filter for standard, random, single replicate, false positive SNV data\n",
    "- Plot output allele freq vs. read depth\n",
    "- Plot output allele freq vs. downsampling fraction"
   ]
  },
  {
   "cell_type": "code",
   "execution_count": null,
   "id": "101dac28",
   "metadata": {},
   "outputs": [],
   "source": [
    "# filter for false positives in the random, standard, rep 1 data: \n",
    "fp_df = vdf %>% \n",
    " filter(parameter == 'standard' &\n",
    "        !parameter2 %in% c('filtered', 'no-binom-check') &\n",
    "        allele_freq == 'random' &\n",
    "        category == 'FP' & rep == 'm1') %>% \n",
    "    unique()"
   ]
  },
  {
   "cell_type": "markdown",
   "id": "4df5d7e8",
   "metadata": {},
   "source": [
    "## Figure 2B panels: \n",
    "- allele freq vs. dp (1, 2, 3)\n",
    "- allele freq vs. downsampling fraction (4, 5, 6)"
   ]
  },
  {
   "cell_type": "code",
   "execution_count": null,
   "id": "43b757f0",
   "metadata": {},
   "outputs": [],
   "source": [
    "plot2b1 = ggplot(fp_df %>% filter(af_workflow <= 0.10), aes(x=af_workflow, y = dp, color = tool)) + \n",
    "    geom_point(alpha = 0.8, size = 2) + \n",
    "    caller_colScale +\n",
    "    PlotTheme1 +\n",
    "    geom_hline(yintercept = 200, linetype = 2, color = 'black') + \n",
    "    geom_vline(xintercept = 0.03, linetype = 2, color = 'black') + \n",
    "    theme(legend.position = 'NONE') + \n",
    "    labs(x=\"allele frequency\", y = 'read depth')\n",
    "\n",
    "ggsave(plot2b1,\n",
    "       filename = glue(\"{FIG_DIR}/fig2B.1.dp_kj.png\"),\n",
    "       width = 4,\n",
    "       height = 4, limitsize=FALSE)\n",
    "\n",
    "ggsave(plot2b1,\n",
    "       filename = glue(\"{FIG_DIR}/fig2B.1.dp_kj.pdf\"),\n",
    "       width = 4,\n",
    "       height = 4, limitsize=FALSE, useDingbats = FALSE)\n",
    "\n",
    "print(plot2b1)\n",
    "\n",
    "plot2b2 = ggplot(fp_df %>% filter(af_workflow <= 0.10), aes(x=dp, fill = tool)) + \n",
    "    geom_histogram(binwidth = 500) + \n",
    "    caller_colScale_fill +\n",
    "    PlotTheme1 +\n",
    "    theme(legend.position = 'NONE') + \n",
    "    \n",
    "    labs(x=\"read depth\", y= \"false positive count\") +\n",
    "    coord_flip() +\n",
    "    scale_x_continuous(position = \"top\")\n",
    "\n",
    "ggsave(plot2b2,\n",
    "       filename = glue(\"{FIG_DIR}/fig2B.2.dp_kj.png\"),\n",
    "       width = 2,\n",
    "       height = 4, limitsize=FALSE)\n",
    "\n",
    "ggsave(plot2b2,\n",
    "       filename = glue(\"{FIG_DIR}/fig2B.2.dp_kj.pdf\"),\n",
    "       width = 2,\n",
    "       height = 4, limitsize=FALSE, useDingbats = FALSE)\n",
    "\n",
    "print(plot2b2)\n",
    "\n",
    "\n",
    "plot2b3 = ggplot(fp_df %>% filter(af_workflow <= 0.10) , aes(x=af_workflow, fill = tool)) + \n",
    "    geom_histogram(binwidth = 0.005) + \n",
    "    caller_colScale_fill +\n",
    "    PlotTheme1 +\n",
    "    theme(legend.position = 'NONE') + \n",
    "    labs(x=\"allele frequency\", y = 'false positive count')+\n",
    "    scale_x_continuous(position = \"top\")\n",
    "   \n",
    "\n",
    "\n",
    "ggsave(plot2b3,\n",
    "       filename = glue(\"{FIG_DIR}/fig2B.3.dp_kj.png\"),\n",
    "       width = 4,\n",
    "       height = 2, limitsize=FALSE)\n",
    "\n",
    "ggsave(plot2b3,\n",
    "       filename = glue(\"{FIG_DIR}/fig2B.3.dp_kj.pdf\"),\n",
    "       width = 4,\n",
    "       height = 2, limitsize=FALSE, useDingbats = FALSE)\n",
    "\n",
    "print(plot2b3)\n"
   ]
  },
  {
   "cell_type": "code",
   "execution_count": null,
   "id": "b0b60bfa",
   "metadata": {},
   "outputs": [],
   "source": [
    "plot2b4 = ggplot(fp_df %>% filter(af_workflow <= 0.10), aes(x=af_workflow, y = as.numeric(as.character(coverage))/100000, color = tool)) + \n",
    "    geom_point(alpha = 0.8, size = 2) + \n",
    "    caller_colScale +\n",
    "    PlotTheme1 +\n",
    "    theme(legend.position = 'NONE') + \n",
    "    labs(x=\"allele frequency\", y = 'downsampling fraction')\n",
    "\n",
    "print(plot2b4)\n",
    "\n",
    "\n",
    "plot2b5 = ggplot(fp_df %>% filter(af_workflow <= 0.10), aes(x=as.numeric(as.character(coverage))/100000, fill = tool)) + \n",
    "    geom_histogram(binwidth = 0.01) + \n",
    "    caller_colScale_fill +\n",
    "    PlotTheme1 +\n",
    "    theme(legend.position = 'NONE') + \n",
    "    labs(x=\"downsampling fraction\", y='false positive count') + \n",
    "    coord_flip() +\n",
    "    scale_x_continuous(position = \"top\")\n",
    "\n",
    "\n",
    "print(plot2b5)\n",
    "\n",
    "plot2b6 = ggplot(fp_df %>% filter(af_workflow <= 0.10), aes(x=af_workflow, fill = tool)) + \n",
    "    geom_histogram(binwidth = 0.005) + \n",
    "    caller_colScale_fill +\n",
    "    PlotTheme1 +\n",
    "    theme(legend.position = 'NONE') + \n",
    "    labs(x=\"allele frequency\", y = 'false positive count')+\n",
    "    scale_x_continuous(position = \"top\")\n",
    "\n",
    "print(plot2b6)\n"
   ]
  },
  {
   "cell_type": "markdown",
   "id": "9afe77e5",
   "metadata": {},
   "source": [
    "## Compare FP and TP coverages"
   ]
  },
  {
   "cell_type": "code",
   "execution_count": null,
   "id": "6541b9c7",
   "metadata": {},
   "outputs": [],
   "source": [
    "cov_df = vdf %>% \n",
    " filter(parameter == 'standard' &\n",
    "        !parameter2 %in% c('filtered', 'no-binom-check') &\n",
    "        allele_freq == 'random' &\n",
    "        category %in% c('TP', 'FP') & rep == 'm1') %>% \n",
    "    unique()\n",
    "\n",
    "colnames(cov_df)\n"
   ]
  },
  {
   "cell_type": "markdown",
   "id": "ab634777",
   "metadata": {},
   "source": [
    "# Compare how single replicate data with frequency/coverage cutoffs compares to two replicate data without cutoffs."
   ]
  },
  {
   "cell_type": "code",
   "execution_count": null,
   "id": "e025e66d",
   "metadata": {},
   "outputs": [],
   "source": [
    "message(\"Calculate means and sd for FNR and FDR\")\n",
    "\n",
    "# take filtered, single rep, data and calculate mean and sd for fdr and fnr\n",
    "df_filt = df_filt %>% group_by(allele_freq, coverage,\n",
    "                                 tool, parameter, parameter2, rep,\n",
    "                                 freq_cut, cov_cut) %>%\n",
    "            mutate(mean_fdr = mean(FDR), sd_fdr = sd(FDR),\n",
    "                  mean_fnr = mean(FNR),sd_fnr = sd(FNR)) %>% \n",
    "            ungroup() %>% \n",
    "            unique() \n",
    "\n",
    "\n",
    "cust_params = c('mutect2_custom',\"timo_custom\",\n",
    "                  \"varscan_custom-1\", \"ivar_custom\")\n",
    "\n",
    "# reduce information for figures: \n",
    "fig_df = df_filt %>% \n",
    "    filter(tool_param %in% cust_params | parameter == 'standard') %>%\n",
    "    filter(parameter2 != 'filtered' & \n",
    "           allele_freq == 'random') %>%\n",
    "    select(tool, coverage, rep, strain, allele_freq, \n",
    "           mean_fnr, sd_fnr, mean_fdr,sd_fdr,\n",
    "           cov_cut, freq_cut, parameter,tool_strain,FNR, FDR) %>%\n",
    "    unique()\n",
    "\n",
    "fig_df = fig_df %>% mutate(param_final = ifelse(parameter == 'standard', 'standard', 'custom'))  # change any custom-1 to custom\n",
    "\n",
    "fig_df$strain = factor(fig_df$strain, levels = strains)  # reorder strain names\n",
    "\n",
    "# reduce information for figures\n",
    "fig_df_red = fig_df %>% select(tool, coverage, rep,\n",
    "                               allele_freq, cov_cut, freq_cut, param_final,\n",
    "                               mean_fnr, sd_fnr, mean_fdr, sd_fdr) %>% \n",
    "                unique()\n"
   ]
  },
  {
   "cell_type": "markdown",
   "id": "8058078f",
   "metadata": {},
   "source": [
    "# Supp. Figure 4B: FNR for each caller using FREQUENCY cutoffs"
   ]
  },
  {
   "cell_type": "code",
   "execution_count": null,
   "id": "a1346d2a",
   "metadata": {},
   "outputs": [],
   "source": [
    "supp_fig4b = ggplot() + \n",
    "\n",
    "    geom_line(data = fig_df_red %>% filter(cov_cut == 0 & \n",
    "                                           param_final == 'standard' & \n",
    "                                           rep == 'm1'),\n",
    "              aes(x=factor(coverage), y = mean_fnr, \n",
    "                  color = tool, group = factor(freq_cut), \n",
    "                  linetype = factor(freq_cut)), position = position_dodge(width = 0.7), size = 1) + \n",
    "\n",
    "    geom_point(data = fig_df %>% filter(cov_cut == 0 & param_final == 'standard' & rep == 'm1'),\n",
    "               aes(x=factor(coverage), \n",
    "                   y = FNR, color = tool, shape = strain), \n",
    "               alpha = 0.2, position=position_dodge(width = 0.7), \n",
    "               size = 1.5) + \n",
    "\n",
    "    geom_point(data = fig_df_red %>% filter(cov_cut == 0 & param_final == 'standard' & rep == 'm1'),\n",
    "               aes(x=factor(coverage), \n",
    "                   y = mean_fnr, color = tool,\n",
    "                  group = factor(freq_cut)), \n",
    "               size = 2, position = position_dodge(width = 0.7)) + \n",
    "\n",
    "\n",
    "    geom_line(data = fig_df_red %>% filter(cov_cut == 0 & param_final == 'standard' & rep == 'mx'),\n",
    "              aes(x=factor(coverage), y = mean_fnr, \n",
    "                group = factor(freq_cut), \n",
    "                  linetype = factor(freq_cut)), position = position_dodge(width = 0.7), \n",
    "              size = 1, color = 'black',  alpha = 0.6) + \n",
    "\n",
    "\n",
    "    geom_point(data = fig_df %>% filter(cov_cut == 0 & param_final == 'standard' & rep == 'mx'),\n",
    "               aes(x=factor(coverage), \n",
    "                   y = FNR, shape = strain), \n",
    "               alpha = 0.2, position=position_dodge(width = 0.7), \n",
    "               size = 1.5, color = 'black') + \n",
    "\n",
    "    geom_point(data = fig_df_red %>% filter(cov_cut == 0& param_final == 'standard' & rep == 'mx'),\n",
    "               aes(x=factor(coverage), \n",
    "                   y = mean_fnr,\n",
    "                  group = factor(freq_cut)), \n",
    "               size = 2, position = position_dodge(width = 0.7), color = 'black') + \n",
    "\n",
    "    PlotTheme1 + \n",
    "    caller_colScale + \n",
    "    scale_shape_manual(values = c(15,17,18,19)) + \n",
    "    xlab(\"Expected Coverage\") + \n",
    "    ylab(\"FNR\")  + \n",
    "    facet_grid(param_final + cov_cut ~ tool)  +\n",
    "    theme(legend.position=\"bottom\")\n",
    "\n",
    "\n",
    "print(supp_fig4b)\n",
    "\n",
    "ggsave(supp_fig4b,\n",
    "       filename = glue(\"{FIG_DIR}/figS4B_kj.png\"),\n",
    "       width = 15,\n",
    "       height = 5, limitsize=FALSE)\n",
    "\n",
    "ggsave(supp_fig4b,\n",
    "       filename = glue(\"{FIG_DIR}/figS4B_kj.pdf\"),\n",
    "       width = 15,\n",
    "       height = 5, limitsize=FALSE, useDingbats = FALSE)\n",
    "\n",
    "\n"
   ]
  },
  {
   "cell_type": "markdown",
   "id": "0d0852f1",
   "metadata": {},
   "source": [
    "# Supp. Fig. 3B: FNR for each caller using COVERAGE cutoffs"
   ]
  },
  {
   "cell_type": "code",
   "execution_count": null,
   "id": "57b80099",
   "metadata": {},
   "outputs": [],
   "source": [
    "supp_3b = ggplot() + \n",
    "\n",
    "    geom_line(data = fig_df_red %>% filter(freq_cut == 0 & \n",
    "                                           param_final == 'standard' & \n",
    "                                           rep == 'm1'),\n",
    "              aes(x=factor(coverage), y = mean_fnr, \n",
    "                  color = tool, group = factor(cov_cut), \n",
    "                  linetype = factor(cov_cut)), \n",
    "              position = position_dodge(width = 0.7), size = 1) + \n",
    "\n",
    "    geom_point(data = fig_df %>% filter(freq_cut == 0 & \n",
    "                                        param_final == 'standard' & \n",
    "                                        rep == 'm1'),\n",
    "               aes(x=factor(coverage), \n",
    "                   y = FNR, color = tool, shape = strain), \n",
    "               alpha = 0.2, position=position_dodge(width = 0.7), \n",
    "               size = 1.5) + \n",
    "\n",
    "    geom_point(data = fig_df_red %>% filter(freq_cut == 0 & \n",
    "                                            param_final == 'standard' & \n",
    "                                            rep == 'm1'),\n",
    "               aes(x=factor(coverage), \n",
    "                   y = mean_fnr, \n",
    "                   color = tool,\n",
    "                  group = factor(cov_cut)), \n",
    "               size = 2, position = position_dodge(width = 0.7)) + \n",
    "\n",
    "\n",
    "    geom_line(data = fig_df_red %>% filter(freq_cut == 0 & \n",
    "                                           param_final == 'standard' & \n",
    "                                           rep == 'mx'),\n",
    "              aes(x=factor(coverage), y = mean_fnr, \n",
    "                group = factor(cov_cut), \n",
    "                  linetype = factor(cov_cut)), \n",
    "              position = position_dodge(width = 0.7), \n",
    "              size = 1, color = 'black',  alpha = 0.6) + \n",
    "\n",
    "\n",
    "    geom_point(data = fig_df %>% filter(freq_cut == 0 & \n",
    "                                        param_final == 'standard' & \n",
    "                                        rep == 'mx'),\n",
    "               aes(x=factor(coverage), \n",
    "                   y = FNR, shape = strain), \n",
    "               alpha = 0.2, position=position_dodge(width = 0.7), \n",
    "               size = 1.5, color = 'black') + \n",
    "\n",
    "    geom_point(data = fig_df_red %>% filter(freq_cut == 0 & \n",
    "                                            param_final == 'standard' & \n",
    "                                            rep == 'mx'),\n",
    "               aes(x=factor(coverage), \n",
    "                   y = mean_fnr,\n",
    "                  group = factor(cov_cut)), \n",
    "               size = 2, position = position_dodge(width = 0.7), color = 'black') + \n",
    "\n",
    "    PlotTheme1 + \n",
    "    caller_colScale + \n",
    "    scale_shape_manual(values = c(15,17,18,19)) + \n",
    "    xlab(\"Expected Coverage\") + \n",
    "    ylab(\"FNR\")  + \n",
    "    facet_grid(param_final + freq_cut ~ tool)  +\n",
    "    theme(legend.position=\"bottom\")\n",
    "\n",
    "print(supp_3b)\n",
    "\n",
    "ggsave(supp_3b,\n",
    "       filename = glue(\"{FIG_DIR}/figS3B_kj.png\"),\n",
    "       width = 12,\n",
    "       height = 4, limitsize=FALSE)\n",
    "\n",
    "ggsave(supp_3b,\n",
    "       filename = glue(\"{FIG_DIR}/figS3B_kj.pdf\"),\n",
    "       width = 12,\n",
    "       height = 4, limitsize=FALSE, useDingbats = FALSE)\n"
   ]
  },
  {
   "cell_type": "markdown",
   "id": "327e1c7a",
   "metadata": {},
   "source": [
    "# Supp. Figure 4A: FDR for each caller using FREQUENCY cutoffs"
   ]
  },
  {
   "cell_type": "code",
   "execution_count": null,
   "id": "fc86de98",
   "metadata": {},
   "outputs": [],
   "source": [
    "supp_fig4a = ggplot() + \n",
    "    \n",
    "    geom_line(data = fig_df_red %>% filter(cov_cut == 0 & \n",
    "                                           param_final == 'standard' & rep == 'm1'),\n",
    "              aes(x=factor(coverage), y = mean_fdr, \n",
    "                  color = tool, group = freq_cut, linetype=factor(freq_cut)), \n",
    "              position = position_dodge(width = 0.7), size = 1) + \n",
    "\n",
    "    geom_point(data = fig_df %>% filter(cov_cut == 0 & param_final == 'standard' & rep == 'm1'),\n",
    "               aes(x=factor(coverage), y = FDR, \n",
    "                    color = tool, shape = strain), \n",
    "               alpha = 0.2, position=position_dodge(width = 0.7), \n",
    "               size = 1.5) + \n",
    "\n",
    "    geom_point(data = fig_df_red %>% filter(cov_cut == 0 & param_final == 'standard' & rep == 'm1'),\n",
    "               aes(x=factor(coverage), \n",
    "                   y = mean_fdr, color = tool,\n",
    "                  group = freq_cut), \n",
    "               size = 2, \n",
    "               position = position_dodge(width = 0.7), \n",
    "               alpha = 0.8) + \n",
    "\n",
    "     geom_line(data = fig_df_red %>% filter(cov_cut == 0 & \n",
    "                                           param_final == 'standard' & rep == 'mx'),\n",
    "              aes(x=factor(coverage), y = mean_fdr, \n",
    "                  group = freq_cut, linetype=factor(freq_cut)), \n",
    "              position = position_dodge(width = 0.7), \n",
    "               size = 1, color = 'black') + \n",
    "\n",
    "    geom_point(data = fig_df %>% filter(cov_cut == 0 & param_final == 'standard' & rep == 'mx'),\n",
    "               aes(x=factor(coverage), y = FDR, \n",
    "                    shape = strain), \n",
    "               alpha = 0.2, position=position_dodge(width = 0.7), \n",
    "               size = 1.5, color = 'black') + \n",
    "\n",
    "    geom_point(data = fig_df_red %>% filter(cov_cut == 0 & param_final == 'standard' & rep == 'mx'),\n",
    "               aes(x=factor(coverage), \n",
    "                   y = mean_fdr,\n",
    "                  group = freq_cut), \n",
    "               size = 2, \n",
    "               position = position_dodge(width = 0.7), \n",
    "               alpha = 0.8, color = 'black') + \n",
    "\n",
    "    PlotTheme1 + \n",
    "    caller_colScale +\n",
    "    xlab(\"Estimated Coverage\") + \n",
    "    ylab(\"FDR\") + \n",
    "    facet_grid(param_final  ~ tool) +            \n",
    "    scale_shape_manual(values = c(15,17,18,19)) + \n",
    "\n",
    "    theme(legend.position=\"bottom\")\n",
    "\n",
    "print(supp_fig4a)\n",
    "\n",
    "ggsave(supp_fig4a,\n",
    "       filename = glue(\"{FIG_DIR}/figS4A_kj.png\"),\n",
    "       width = 15,\n",
    "       height = 5, limitsize=FALSE)\n",
    "\n",
    "ggsave(supp_fig4a,\n",
    "       filename = glue(\"{FIG_DIR}/figS4A_kj.pdf\"),\n",
    "       width = 15,\n",
    "       height = 5, limitsize=FALSE, useDingbats = FALSE)"
   ]
  },
  {
   "cell_type": "markdown",
   "id": "ad10dfca",
   "metadata": {},
   "source": [
    "# Supp. Figure 3A: FDR for each caller using COVERAGE cutoffs"
   ]
  },
  {
   "cell_type": "code",
   "execution_count": null,
   "id": "8b7a2c22",
   "metadata": {},
   "outputs": [],
   "source": [
    "# supp for 3a\n",
    "supp_3a = ggplot() + \n",
    "    \n",
    "\n",
    "    geom_line(data = fig_df_red %>% filter(freq_cut == 0 & \n",
    "                                           param_final == 'standard' & rep == 'm1'),\n",
    "              aes(x=factor(coverage), y = mean_fdr, \n",
    "                  color = tool, group = cov_cut, linetype=factor(cov_cut)), \n",
    "              position = position_dodge(width = 0.7), \n",
    "              size = 1) + \n",
    "\n",
    "    geom_point(data = fig_df %>% filter(freq_cut == 0 & param_final == 'standard' & rep == 'm1'),\n",
    "               aes(x=factor(coverage), y = FDR, \n",
    "                    color = tool, shape = strain), \n",
    "               alpha = 0.2, position=position_dodge(width = 0.7), \n",
    "               size = 1.5) + \n",
    "\n",
    "    geom_point(data = fig_df_red %>% filter(freq_cut == 0 & \n",
    "                                            param_final == 'standard' & \n",
    "                                            rep == 'm1'),\n",
    "               aes(x=factor(coverage), \n",
    "                   y = mean_fdr, color = tool,\n",
    "                  group = cov_cut), \n",
    "               size = 2, \n",
    "               position = position_dodge(width = 0.7), \n",
    "               alpha = 0.8) + \n",
    "\n",
    "     geom_line(data = fig_df_red %>% filter(freq_cut == 0 & \n",
    "                                           param_final == 'standard' & \n",
    "                                            rep == 'mx'),\n",
    "              aes(x=factor(coverage), y = mean_fdr, \n",
    "                  group = cov_cut, linetype=factor(cov_cut)), \n",
    "              position = position_dodge(width = 0.7), \n",
    "               size = 1, color = 'black') + \n",
    "\n",
    "    geom_point(data = fig_df %>% filter(freq_cut == 0 & \n",
    "                                        param_final == 'standard' & \n",
    "                                        rep == 'mx'),\n",
    "               aes(x=factor(coverage), y = FDR, \n",
    "                    shape = strain), \n",
    "               alpha = 0.2, position=position_dodge(width = 0.7), \n",
    "               size = 1.5, color = 'black') + \n",
    "\n",
    "    geom_point(data = fig_df_red %>% filter(freq_cut == 0 & \n",
    "                                            param_final == 'standard' & \n",
    "                                            rep == 'mx'),\n",
    "               aes(x=factor(coverage), \n",
    "                   y = mean_fdr,\n",
    "                  group = cov_cut), \n",
    "               size = 2, \n",
    "               position = position_dodge(width = 0.7), \n",
    "               alpha = 0.8, color = 'black') + \n",
    "\n",
    "    PlotTheme1 + \n",
    "    caller_colScale +\n",
    "    xlab(\"Estimated Coverage\") + \n",
    "    ylab(\"FDR\") + \n",
    "    facet_grid(param_final + freq_cut  ~ tool) +            \n",
    "    scale_shape_manual(values = c(15,17,18,19)) + \n",
    "    theme(legend.position=\"bottom\")\n",
    "\n",
    "print(supp_3a)\n",
    "\n",
    "ggsave(supp_3a,\n",
    "       filename = glue(\"{FIG_DIR}/figS3A_kj.png\"),\n",
    "       width = 12,\n",
    "       height = 4, limitsize=FALSE)\n",
    "\n",
    "ggsave(supp_3a,\n",
    "       filename = glue(\"{FIG_DIR}/figS3A_kj.pdf\"),\n",
    "       width = 12,\n",
    "       height = 4, limitsize=FALSE, useDingbats = FALSE)"
   ]
  },
  {
   "cell_type": "markdown",
   "id": "524625ae",
   "metadata": {},
   "source": [
    "# Figure 1A and Supp. Fig. 2\n",
    "## Calculating F1 mean and SD across the four viruses for each tool, simulation type, and parameter set: \n",
    "\n",
    "\n",
    "#### Updated on 11.15.2022: \n",
    "- Removed 'random' points\n",
    "- made x-axis numeric\n",
    "- removed timo-no-binom-check as we do not use it in our paper\n",
    "- removed 'standard' facet as it is also in figure 1A\n",
    "- Added in ~ avg. coverage to the faceting\n"
   ]
  },
  {
   "cell_type": "code",
   "execution_count": null,
   "id": "2a9f57b4",
   "metadata": {},
   "outputs": [],
   "source": [
    "df = df %>% group_by(allele_freq, coverage,\n",
    "                     tool, parameter, parameter2) %>%\n",
    "            mutate(mean_f1 = mean(F1), sd_f1 = sd(F1)) %>% \n",
    "            ungroup() %>% \n",
    "            unique() "
   ]
  },
  {
   "cell_type": "code",
   "execution_count": null,
   "id": "c57c545b",
   "metadata": {},
   "outputs": [],
   "source": [
    "df$parameter = str_replace(df$parameter, \"custom-1\", \"custom\")  # change the timo 'custom-1' to 'custom'\n",
    "df$tool_params = paste0(df$tool,'_',df$parameter,'_',df$parameter2)"
   ]
  },
  {
   "cell_type": "code",
   "execution_count": null,
   "id": "28c9e090",
   "metadata": {},
   "outputs": [],
   "source": [
    "# plotting MEAN of viruses\n",
    "\n",
    "df$parameter = factor(df$parameter, levels = c('default','standard','custom'))\n",
    "\n",
    "message(\"Ploting the F1 stat: 2*(PRECISION * RECALL/PRECISION + RECALL)\")\n",
    "\n",
    "message(\"2*(PPV X TPR)/(PPV + TPR)\")\n",
    "\n",
    "supp2 = ggplot(df %>% filter(\n",
    "                         #parameter2 != 'filtered' &\n",
    "                         #coverage <= 10000\n",
    "                        !parameter2 %in% c('filtered','no-binom-check') &\n",
    "                        allele_freq != 'random' &\n",
    "                        parameter != 'standard' \n",
    "                        \n",
    "                        \n",
    "            )  %>%\n",
    "               \n",
    "               select(allele_freq, coverage, \n",
    "                       mean_f1, sd_f1, tool_params,\n",
    "                       tool, parameter) %>% \n",
    "               unique() %>% \n",
    "               droplevels(), \n",
    "\n",
    "       aes(x = as.numeric(allele_freq), y = mean_f1, color = tool_params, \n",
    "           group = tool_params)) +\n",
    "    \n",
    "    geom_errorbar(\n",
    "        aes(ymin = mean_f1 - sd_f1, ymax = mean_f1 + sd_f1)) + \n",
    "\n",
    "    geom_line(aes(group = tool_params),alpha = 0.8, size = 1) + \n",
    "    \n",
    "    geom_point(alpha = 0.8, size = 2) + \n",
    "    theme_bw() +\n",
    "    ylab('F1 statistic') +\n",
    "    xlab(\"input SNV frequency (simulated data)\") + \n",
    "    facet_grid(parameter~glue(\"{coverage/100000} ({coverage}x)\")) +\n",
    "    PlotTheme1 +\n",
    "    adj_caller_colScale + \n",
    "    theme(legend.position=\"bottom\")\n",
    "\n",
    "print(supp2)\n",
    "\n",
    "ggsave(supp2,\n",
    "       filename = glue(\"{FIG_DIR}/figS2_kj.png\"),\n",
    "       width = 9,\n",
    "       height = 6, limitsize=FALSE)\n",
    "\n",
    "ggsave(supp2,\n",
    "       filename = glue(\"{FIG_DIR}/figS2_kj.pdf\"),\n",
    "       width = 10,\n",
    "       height = 6, limitsize=FALSE, useDingbats = FALSE)\n",
    "\n"
   ]
  },
  {
   "cell_type": "code",
   "execution_count": null,
   "id": "ac099e3c",
   "metadata": {},
   "outputs": [],
   "source": [
    "fig1a = df %>% filter(parameter == 'standard' & \n",
    "                         !parameter2 %in% c('filtered','no-binom-check') &\n",
    "                        allele_freq != 'random')  %>%\n",
    "                select(allele_freq, coverage, mean_f1, \n",
    "                       sd_f1, tool, parameter) %>% \n",
    "        unique() %>% droplevels() %>%\n",
    "\n",
    "\n",
    "ggplot(., \n",
    "       aes(x = as.numeric(allele_freq), y = mean_f1, color = tool)) +\n",
    "    geom_errorbar(\n",
    "        aes(ymin = mean_f1 - sd_f1, ymax = mean_f1 + sd_f1)) + \n",
    "    geom_line(aes(group = tool),alpha = 0.8, size = 1) + \n",
    "    geom_point(alpha = 0.9, size = 2) + \n",
    "    theme_bw() +\n",
    "    ylab('F1 statistic') +\n",
    "    xlab(\"Input SNV frequency\") + \n",
    "    facet_grid(.~glue(\"{coverage/100000} ({coverage}x)\")) +\n",
    "    PlotTheme1 +\n",
    "    caller_colScale + \n",
    "    theme(legend.position=\"bottom\")\n",
    "\n",
    "print(fig1a)\n",
    "\n",
    "ggsave(fig1a,\n",
    "       filename = glue(\"{FIG_DIR}/fig1A_kj.png\"),\n",
    "       width = 10,\n",
    "       height = 3.5, limitsize=FALSE)\n",
    "\n",
    "ggsave(fig1a,\n",
    "       filename = glue(\"{FIG_DIR}/fig1A_kj.pdf\"),\n",
    "       width = 10,\n",
    "       height = 3.5, limitsize=FALSE, useDingbats = FALSE)\n"
   ]
  },
  {
   "cell_type": "code",
   "execution_count": null,
   "id": "6a9f250d",
   "metadata": {},
   "outputs": [],
   "source": [
    "sessionInfo()"
   ]
  }
 ],
 "metadata": {
  "kernelspec": {
   "display_name": "R",
   "language": "R",
   "name": "ir"
  },
  "language_info": {
   "codemirror_mode": "r",
   "file_extension": ".r",
   "mimetype": "text/x-r-source",
   "name": "R",
   "pygments_lexer": "r",
   "version": "4.2.2"
  }
 },
 "nbformat": 4,
 "nbformat_minor": 5
}
