{
 "cells": [
  {
   "cell_type": "code",
   "execution_count": 1,
   "metadata": {
    "collapsed": true,
    "jupyter": {
     "outputs_hidden": true
    }
   },
   "outputs": [
    {
     "name": "stderr",
     "output_type": "stream",
     "text": [
      "Warning message:\n",
      "“package ‘ggplot2’ was built under R version 4.0.2”\n",
      "Warning message:\n",
      "“package ‘tidyverse’ was built under R version 4.0.2”\n",
      "── \u001b[1mAttaching packages\u001b[22m ─────────────────────────────────────── tidyverse 1.3.1 ──\n",
      "\n",
      "\u001b[32m✔\u001b[39m \u001b[34mtibble \u001b[39m 3.1.2     \u001b[32m✔\u001b[39m \u001b[34mdplyr  \u001b[39m 1.0.7\n",
      "\u001b[32m✔\u001b[39m \u001b[34mtidyr  \u001b[39m 1.1.3     \u001b[32m✔\u001b[39m \u001b[34mstringr\u001b[39m 1.4.0\n",
      "\u001b[32m✔\u001b[39m \u001b[34mreadr  \u001b[39m 1.4.0     \u001b[32m✔\u001b[39m \u001b[34mforcats\u001b[39m 0.5.1\n",
      "\u001b[32m✔\u001b[39m \u001b[34mpurrr  \u001b[39m 0.3.4     \n",
      "\n",
      "Warning message:\n",
      "“package ‘tibble’ was built under R version 4.0.2”\n",
      "Warning message:\n",
      "“package ‘tidyr’ was built under R version 4.0.2”\n",
      "Warning message:\n",
      "“package ‘readr’ was built under R version 4.0.2”\n",
      "Warning message:\n",
      "“package ‘dplyr’ was built under R version 4.0.2”\n",
      "Warning message:\n",
      "“package ‘forcats’ was built under R version 4.0.2”\n",
      "── \u001b[1mConflicts\u001b[22m ────────────────────────────────────────── tidyverse_conflicts() ──\n",
      "\u001b[31m✖\u001b[39m \u001b[34mdplyr\u001b[39m::\u001b[32marrange()\u001b[39m   masks \u001b[34mplyr\u001b[39m::arrange()\n",
      "\u001b[31m✖\u001b[39m \u001b[34mpurrr\u001b[39m::\u001b[32mcompact()\u001b[39m   masks \u001b[34mplyr\u001b[39m::compact()\n",
      "\u001b[31m✖\u001b[39m \u001b[34mdplyr\u001b[39m::\u001b[32mcount()\u001b[39m     masks \u001b[34mplyr\u001b[39m::count()\n",
      "\u001b[31m✖\u001b[39m \u001b[34mdplyr\u001b[39m::\u001b[32mfailwith()\u001b[39m  masks \u001b[34mplyr\u001b[39m::failwith()\n",
      "\u001b[31m✖\u001b[39m \u001b[34mdplyr\u001b[39m::\u001b[32mfilter()\u001b[39m    masks \u001b[34mstats\u001b[39m::filter()\n",
      "\u001b[31m✖\u001b[39m \u001b[34mdplyr\u001b[39m::\u001b[32mid()\u001b[39m        masks \u001b[34mplyr\u001b[39m::id()\n",
      "\u001b[31m✖\u001b[39m \u001b[34mdplyr\u001b[39m::\u001b[32mlag()\u001b[39m       masks \u001b[34mstats\u001b[39m::lag()\n",
      "\u001b[31m✖\u001b[39m \u001b[34mdplyr\u001b[39m::\u001b[32mmutate()\u001b[39m    masks \u001b[34mplyr\u001b[39m::mutate()\n",
      "\u001b[31m✖\u001b[39m \u001b[34mdplyr\u001b[39m::\u001b[32mrename()\u001b[39m    masks \u001b[34mplyr\u001b[39m::rename()\n",
      "\u001b[31m✖\u001b[39m \u001b[34mdplyr\u001b[39m::\u001b[32msummarise()\u001b[39m masks \u001b[34mplyr\u001b[39m::summarise()\n",
      "\u001b[31m✖\u001b[39m \u001b[34mdplyr\u001b[39m::\u001b[32msummarize()\u001b[39m masks \u001b[34mplyr\u001b[39m::summarize()\n",
      "\n",
      "Warning message:\n",
      "“package ‘gridExtra’ was built under R version 4.0.1”\n",
      "\n",
      "Attaching package: ‘gridExtra’\n",
      "\n",
      "\n",
      "The following object is masked from ‘package:dplyr’:\n",
      "\n",
      "    combine\n",
      "\n",
      "\n",
      "Warning message:\n",
      "“package ‘ggrepel’ was built under R version 4.0.2”\n",
      "Warning message:\n",
      "“package ‘glue’ was built under R version 4.0.2”\n",
      "\n",
      "Attaching package: ‘glue’\n",
      "\n",
      "\n",
      "The following object is masked from ‘package:dplyr’:\n",
      "\n",
      "    collapse\n",
      "\n",
      "\n",
      "Warning message:\n",
      "“package ‘cowplot’ was built under R version 4.0.2”\n",
      "Warning message:\n",
      "“package ‘UpSetR’ was built under R version 4.0.2”\n",
      "Warning message:\n",
      "“package ‘pheatmap’ was built under R version 4.0.2”\n",
      "Warning message:\n",
      "“package ‘vcfR’ was built under R version 4.0.2”\n",
      "\n",
      "   *****       ***   vcfR   ***       *****\n",
      "   This is vcfR 1.12.0 \n",
      "     browseVignettes('vcfR') # Documentation\n",
      "     citation('vcfR') # Citation\n",
      "   *****       *****      *****       *****\n",
      "\n",
      "\n",
      "Warning message:\n",
      "“package ‘igraph’ was built under R version 4.0.2”\n",
      "\n",
      "Attaching package: ‘igraph’\n",
      "\n",
      "\n",
      "The following objects are masked from ‘package:dplyr’:\n",
      "\n",
      "    as_data_frame, groups, union\n",
      "\n",
      "\n",
      "The following objects are masked from ‘package:purrr’:\n",
      "\n",
      "    compose, simplify\n",
      "\n",
      "\n",
      "The following object is masked from ‘package:tidyr’:\n",
      "\n",
      "    crossing\n",
      "\n",
      "\n",
      "The following object is masked from ‘package:tibble’:\n",
      "\n",
      "    as_data_frame\n",
      "\n",
      "\n",
      "The following objects are masked from ‘package:stats’:\n",
      "\n",
      "    decompose, spectrum\n",
      "\n",
      "\n",
      "The following object is masked from ‘package:base’:\n",
      "\n",
      "    union\n",
      "\n",
      "\n",
      "Warning message:\n",
      "“package ‘ggpubr’ was built under R version 4.0.2”\n",
      "\n",
      "Attaching package: ‘ggpubr’\n",
      "\n",
      "\n",
      "The following object is masked from ‘package:cowplot’:\n",
      "\n",
      "    get_legend\n",
      "\n",
      "\n",
      "The following object is masked from ‘package:plyr’:\n",
      "\n",
      "    mutate\n",
      "\n",
      "\n",
      "Warning message:\n",
      "“package ‘VennDiagram’ was built under R version 4.0.2”\n",
      "Loading required package: futile.logger\n",
      "\n",
      "Warning message:\n",
      "“package ‘futile.logger’ was built under R version 4.0.2”\n",
      "\n",
      "Attaching package: ‘VennDiagram’\n",
      "\n",
      "\n",
      "The following object is masked from ‘package:ggpubr’:\n",
      "\n",
      "    rotate\n",
      "\n",
      "\n"
     ]
    }
   ],
   "source": [
    "#load packages\n",
    "library(ggplot2)\n",
    "library(plyr)\n",
    "library(tidyverse)\n",
    "library(grid)\n",
    "library(gridExtra)\n",
    "library(ggrepel)\n",
    "library(RColorBrewer)\n",
    "library(glue)\n",
    "library(cowplot)\n",
    "library(UpSetR)\n",
    "library(pheatmap)\n",
    "library(vcfR)\n",
    "library(igraph)\n",
    "library(ggpubr)\n",
    "library(readr)\n",
    "library(VennDiagram)"
   ]
  },
  {
   "cell_type": "code",
   "execution_count": 2,
   "metadata": {},
   "outputs": [],
   "source": [
    "ntlist <- c('A','T','C','G','-')"
   ]
  },
  {
   "cell_type": "code",
   "execution_count": 3,
   "metadata": {},
   "outputs": [],
   "source": [
    "project_folder <- '/Users/roderae/National Institutes of Health/Ghedin, Elodie (NIH NIAID) [E] - LAB_STUFF/allison/projects/COV2-SNV'\n",
    "mva_folder <- glue(\"{project_folder}/synthetic_data/flu\")"
   ]
  },
  {
   "cell_type": "code",
   "execution_count": 108,
   "metadata": {},
   "outputs": [],
   "source": [
    "setwd(mva_folder)\n",
    "# grab files from each caller folder\n",
    "vcfs.t <- Sys.glob(\"./timo/*.vcf\")\n",
    "vcfs.hc <- Sys.glob(\"./hc/*.vcf\")\n",
    "vcfs.i <- Sys.glob(\"./ivar/*.vcf\")\n",
    "vcfs.fb <- Sys.glob(\"./freebayes/*.vcf\") \n",
    "vcfs.v <- Sys.glob(\"./varscan/*.vcf\")\n",
    "vcfs.m <- Sys.glob(\"./mutect2/*unfiltered.vcf\")\n",
    "vcfs.l <- Sys.glob(\"./lofreq/*.vcf\")\n",
    "\n",
    "# make a single list for callers that can be loaded together\n",
    "vcf_lists <- as.list(c(vcfs.hc,vcfs.i))"
   ]
  },
  {
   "cell_type": "markdown",
   "metadata": {},
   "source": [
    "#### Lofreq VCF files  \n",
    "\n",
    "lofreq uses an outdated VCF format and thus cannot be loaded using VCF R"
   ]
  },
  {
   "cell_type": "code",
   "execution_count": 109,
   "metadata": {},
   "outputs": [],
   "source": [
    "# make a data frame to hold lofreq vcf info \n",
    "vcf.lofreq <- data.frame()\n",
    "\n",
    "# for each file, read in the table\n",
    "# add a header row\n",
    "# separate the info by semi-colon so it can be extracted\n",
    "# get rid of definitions so data can be used for calculations\n",
    "# make separate columns for tool and file name\n",
    "for (filename in vcfs.l) {\n",
    "    # read in a file\n",
    "    vcf <- read.table(filename,stringsAsFactors = F)\n",
    "    \n",
    "    if(nrow(vcf) > 0) {\n",
    "        names(vcf) <- c(\"chrom\",\"ntpos\",\"ID\",\"refnt\",\"varnt\",\"qual\",\"filter\",\"info\")\n",
    "        vcf <- vcf %>% separate(info, sep = ';', into = c(\"DP\",\"AF\",\"SB\",\"DP4\"))\n",
    "        vcf$DP <- gsub(\"DP=\",\"\",vcf$DP)\n",
    "        vcf$AF <- gsub(\"AF=\",\"\",vcf$AF)\n",
    "        vcf$SB <- gsub(\"SB=\",\"\",vcf$SB)\n",
    "        vcf$DP4 <- gsub(\"DP4=\",\"\",vcf$DP4)\n",
    "        vcf$source_ID <- filename\n",
    "    \n",
    "        # separate tool and file columns\n",
    "        vcf <- separate(vcf, source_ID, sep = \"/\", \n",
    "                        into = c(\"dot\",\"tool\",\"file\")) %>%\n",
    "                        select(-c(dot))\n",
    "\n",
    "        # get source_ID\n",
    "        vcf <- separate(vcf, file, sep = \".fas\", \n",
    "                        into = c(\"source_ID\",\"rest\")) %>%\n",
    "                        select(-c(rest))\n",
    "    \n",
    "        # round allele frequency to 4 digits\n",
    "        vcf$DP = as.numeric(vcf$DP)\n",
    "        vcf$AF = as.numeric(vcf$AF)\n",
    "        vcf$AF <- round(vcf$AF, digits = 4)\n",
    "\n",
    "        # select desired columns and name appropriately\n",
    "        vcf <- vcf %>% select(\"tool\",\"source_ID\",\"chrom\",\"ntpos\",\"refnt\",\"varnt\",\"AF\",\"DP\")\n",
    "        names(vcf) <- c(\"tool\",\"source_ID\",\"segment\",\"ntpos\",\"refnt\",\"varnt\",\"varfreq\",\"totalcount\")\n",
    "    \n",
    "        # add to the lofreq data frame\n",
    "        vcf.lofreq <- rbind(vcf.lofreq, vcf)\n",
    "    }\n",
    "    \n",
    "}"
   ]
  },
  {
   "cell_type": "markdown",
   "metadata": {},
   "source": [
    "#### Varscan VCF files"
   ]
  },
  {
   "cell_type": "code",
   "execution_count": 110,
   "metadata": {
    "collapsed": true,
    "jupyter": {
     "outputs_hidden": true
    }
   },
   "outputs": [
    {
     "name": "stdout",
     "output_type": "stream",
     "text": [
      "[1] \"./varscan/000000000-K4LKV_l01_SynCon_Mix01_rep1.fas_BWA_varscan_standard.vcf\"\n"
     ]
    },
    {
     "name": "stderr",
     "output_type": "stream",
     "text": [
      "Extracting gt element GT\n",
      "\n",
      "Extracting gt element GQ\n",
      "\n",
      "Extracting gt element SDP\n",
      "\n",
      "Extracting gt element DP\n",
      "\n",
      "Extracting gt element RD\n",
      "\n",
      "Extracting gt element AD\n",
      "\n",
      "Extracting gt element FREQ\n",
      "\n",
      "Extracting gt element PVAL\n",
      "\n",
      "Extracting gt element RBQ\n",
      "\n",
      "Extracting gt element ABQ\n",
      "\n",
      "Extracting gt element RDF\n",
      "\n",
      "Extracting gt element RDR\n",
      "\n",
      "Extracting gt element ADF\n",
      "\n",
      "Extracting gt element ADR\n",
      "\n"
     ]
    },
    {
     "name": "stdout",
     "output_type": "stream",
     "text": [
      "[1] \"./varscan/000000000-K4LKV_l01_SynCon_Mix01_rep2.fas_BWA_varscan_standard.vcf\"\n"
     ]
    },
    {
     "name": "stderr",
     "output_type": "stream",
     "text": [
      "Extracting gt element GT\n",
      "\n",
      "Extracting gt element GQ\n",
      "\n",
      "Extracting gt element SDP\n",
      "\n",
      "Extracting gt element DP\n",
      "\n",
      "Extracting gt element RD\n",
      "\n",
      "Extracting gt element AD\n",
      "\n",
      "Extracting gt element FREQ\n",
      "\n",
      "Extracting gt element PVAL\n",
      "\n",
      "Extracting gt element RBQ\n",
      "\n",
      "Extracting gt element ABQ\n",
      "\n",
      "Extracting gt element RDF\n",
      "\n",
      "Extracting gt element RDR\n",
      "\n",
      "Extracting gt element ADF\n",
      "\n",
      "Extracting gt element ADR\n",
      "\n"
     ]
    },
    {
     "name": "stdout",
     "output_type": "stream",
     "text": [
      "[1] \"./varscan/000000000-K4LKV_l01_SynCon_Mix02_rep1.fas_BWA_varscan_standard.vcf\"\n"
     ]
    },
    {
     "name": "stderr",
     "output_type": "stream",
     "text": [
      "Extracting gt element GT\n",
      "\n",
      "Extracting gt element GQ\n",
      "\n",
      "Extracting gt element SDP\n",
      "\n",
      "Extracting gt element DP\n",
      "\n",
      "Extracting gt element RD\n",
      "\n",
      "Extracting gt element AD\n",
      "\n",
      "Extracting gt element FREQ\n",
      "\n",
      "Extracting gt element PVAL\n",
      "\n",
      "Extracting gt element RBQ\n",
      "\n",
      "Extracting gt element ABQ\n",
      "\n",
      "Extracting gt element RDF\n",
      "\n",
      "Extracting gt element RDR\n",
      "\n",
      "Extracting gt element ADF\n",
      "\n",
      "Extracting gt element ADR\n",
      "\n"
     ]
    },
    {
     "name": "stdout",
     "output_type": "stream",
     "text": [
      "[1] \"./varscan/000000000-K4LKV_l01_SynCon_Mix02_rep2.fas_BWA_varscan_standard.vcf\"\n"
     ]
    },
    {
     "name": "stderr",
     "output_type": "stream",
     "text": [
      "Extracting gt element GT\n",
      "\n",
      "Extracting gt element GQ\n",
      "\n",
      "Extracting gt element SDP\n",
      "\n",
      "Extracting gt element DP\n",
      "\n",
      "Extracting gt element RD\n",
      "\n",
      "Extracting gt element AD\n",
      "\n",
      "Extracting gt element FREQ\n",
      "\n",
      "Extracting gt element PVAL\n",
      "\n",
      "Extracting gt element RBQ\n",
      "\n",
      "Extracting gt element ABQ\n",
      "\n",
      "Extracting gt element RDF\n",
      "\n",
      "Extracting gt element RDR\n",
      "\n",
      "Extracting gt element ADF\n",
      "\n",
      "Extracting gt element ADR\n",
      "\n"
     ]
    },
    {
     "name": "stdout",
     "output_type": "stream",
     "text": [
      "[1] \"./varscan/000000000-K4LKV_l01_SynCon_Mix03_rep1.fas_BWA_varscan_standard.vcf\"\n"
     ]
    },
    {
     "name": "stderr",
     "output_type": "stream",
     "text": [
      "Extracting gt element GT\n",
      "\n",
      "Extracting gt element GQ\n",
      "\n",
      "Extracting gt element SDP\n",
      "\n",
      "Extracting gt element DP\n",
      "\n",
      "Extracting gt element RD\n",
      "\n",
      "Extracting gt element AD\n",
      "\n",
      "Extracting gt element FREQ\n",
      "\n",
      "Extracting gt element PVAL\n",
      "\n",
      "Extracting gt element RBQ\n",
      "\n",
      "Extracting gt element ABQ\n",
      "\n",
      "Extracting gt element RDF\n",
      "\n",
      "Extracting gt element RDR\n",
      "\n",
      "Extracting gt element ADF\n",
      "\n",
      "Extracting gt element ADR\n",
      "\n"
     ]
    },
    {
     "name": "stdout",
     "output_type": "stream",
     "text": [
      "[1] \"./varscan/000000000-K4LKV_l01_SynCon_Mix03_rep2.fas_BWA_varscan_standard.vcf\"\n"
     ]
    },
    {
     "name": "stderr",
     "output_type": "stream",
     "text": [
      "Extracting gt element GT\n",
      "\n",
      "Extracting gt element GQ\n",
      "\n",
      "Extracting gt element SDP\n",
      "\n",
      "Extracting gt element DP\n",
      "\n",
      "Extracting gt element RD\n",
      "\n",
      "Extracting gt element AD\n",
      "\n",
      "Extracting gt element FREQ\n",
      "\n",
      "Extracting gt element PVAL\n",
      "\n",
      "Extracting gt element RBQ\n",
      "\n",
      "Extracting gt element ABQ\n",
      "\n",
      "Extracting gt element RDF\n",
      "\n",
      "Extracting gt element RDR\n",
      "\n",
      "Extracting gt element ADF\n",
      "\n",
      "Extracting gt element ADR\n",
      "\n"
     ]
    },
    {
     "name": "stdout",
     "output_type": "stream",
     "text": [
      "[1] \"./varscan/000000000-K4LKV_l01_SynCon_Mix04_rep1.fas_BWA_varscan_standard.vcf\"\n"
     ]
    },
    {
     "name": "stderr",
     "output_type": "stream",
     "text": [
      "Extracting gt element GT\n",
      "\n",
      "Extracting gt element GQ\n",
      "\n",
      "Extracting gt element SDP\n",
      "\n",
      "Extracting gt element DP\n",
      "\n",
      "Extracting gt element RD\n",
      "\n",
      "Extracting gt element AD\n",
      "\n",
      "Extracting gt element FREQ\n",
      "\n",
      "Extracting gt element PVAL\n",
      "\n",
      "Extracting gt element RBQ\n",
      "\n",
      "Extracting gt element ABQ\n",
      "\n",
      "Extracting gt element RDF\n",
      "\n",
      "Extracting gt element RDR\n",
      "\n",
      "Extracting gt element ADF\n",
      "\n",
      "Extracting gt element ADR\n",
      "\n"
     ]
    },
    {
     "name": "stdout",
     "output_type": "stream",
     "text": [
      "[1] \"./varscan/000000000-K4LKV_l01_SynCon_Mix04_rep2.fas_BWA_varscan_standard.vcf\"\n"
     ]
    },
    {
     "name": "stderr",
     "output_type": "stream",
     "text": [
      "Extracting gt element GT\n",
      "\n",
      "Extracting gt element GQ\n",
      "\n",
      "Extracting gt element SDP\n",
      "\n",
      "Extracting gt element DP\n",
      "\n",
      "Extracting gt element RD\n",
      "\n",
      "Extracting gt element AD\n",
      "\n",
      "Extracting gt element FREQ\n",
      "\n",
      "Extracting gt element PVAL\n",
      "\n",
      "Extracting gt element RBQ\n",
      "\n",
      "Extracting gt element ABQ\n",
      "\n",
      "Extracting gt element RDF\n",
      "\n",
      "Extracting gt element RDR\n",
      "\n",
      "Extracting gt element ADF\n",
      "\n",
      "Extracting gt element ADR\n",
      "\n"
     ]
    },
    {
     "name": "stdout",
     "output_type": "stream",
     "text": [
      "[1] \"./varscan/000000000-K4LKV_l01_SynCon_Mix05_rep1.fas_BWA_varscan_standard.vcf\"\n"
     ]
    },
    {
     "name": "stderr",
     "output_type": "stream",
     "text": [
      "Extracting gt element GT\n",
      "\n",
      "Extracting gt element GQ\n",
      "\n",
      "Extracting gt element SDP\n",
      "\n",
      "Extracting gt element DP\n",
      "\n",
      "Extracting gt element RD\n",
      "\n",
      "Extracting gt element AD\n",
      "\n",
      "Extracting gt element FREQ\n",
      "\n",
      "Extracting gt element PVAL\n",
      "\n",
      "Extracting gt element RBQ\n",
      "\n",
      "Extracting gt element ABQ\n",
      "\n",
      "Extracting gt element RDF\n",
      "\n",
      "Extracting gt element RDR\n",
      "\n",
      "Extracting gt element ADF\n",
      "\n",
      "Extracting gt element ADR\n",
      "\n"
     ]
    },
    {
     "name": "stdout",
     "output_type": "stream",
     "text": [
      "[1] \"./varscan/000000000-K4LKV_l01_SynCon_Mix05_rep2.fas_BWA_varscan_standard.vcf\"\n"
     ]
    },
    {
     "name": "stderr",
     "output_type": "stream",
     "text": [
      "Extracting gt element GT\n",
      "\n",
      "Extracting gt element GQ\n",
      "\n",
      "Extracting gt element SDP\n",
      "\n",
      "Extracting gt element DP\n",
      "\n",
      "Extracting gt element RD\n",
      "\n",
      "Extracting gt element AD\n",
      "\n",
      "Extracting gt element FREQ\n",
      "\n",
      "Extracting gt element PVAL\n",
      "\n",
      "Extracting gt element RBQ\n",
      "\n",
      "Extracting gt element ABQ\n",
      "\n",
      "Extracting gt element RDF\n",
      "\n",
      "Extracting gt element RDR\n",
      "\n",
      "Extracting gt element ADF\n",
      "\n",
      "Extracting gt element ADR\n",
      "\n"
     ]
    },
    {
     "name": "stdout",
     "output_type": "stream",
     "text": [
      "[1] \"./varscan/000000000-K4LKV_l01_SynCon_Mix06_rep1.fas_BWA_varscan_standard.vcf\"\n"
     ]
    },
    {
     "name": "stderr",
     "output_type": "stream",
     "text": [
      "Extracting gt element GT\n",
      "\n",
      "Extracting gt element GQ\n",
      "\n",
      "Extracting gt element SDP\n",
      "\n",
      "Extracting gt element DP\n",
      "\n",
      "Extracting gt element RD\n",
      "\n",
      "Extracting gt element AD\n",
      "\n",
      "Extracting gt element FREQ\n",
      "\n",
      "Extracting gt element PVAL\n",
      "\n",
      "Extracting gt element RBQ\n",
      "\n",
      "Extracting gt element ABQ\n",
      "\n",
      "Extracting gt element RDF\n",
      "\n",
      "Extracting gt element RDR\n",
      "\n",
      "Extracting gt element ADF\n",
      "\n",
      "Extracting gt element ADR\n",
      "\n"
     ]
    },
    {
     "name": "stdout",
     "output_type": "stream",
     "text": [
      "[1] \"./varscan/000000000-K4LKV_l01_SynCon_Mix06_rep2.fas_BWA_varscan_standard.vcf\"\n"
     ]
    },
    {
     "name": "stderr",
     "output_type": "stream",
     "text": [
      "Extracting gt element GT\n",
      "\n",
      "Extracting gt element GQ\n",
      "\n",
      "Extracting gt element SDP\n",
      "\n",
      "Extracting gt element DP\n",
      "\n",
      "Extracting gt element RD\n",
      "\n",
      "Extracting gt element AD\n",
      "\n",
      "Extracting gt element FREQ\n",
      "\n",
      "Extracting gt element PVAL\n",
      "\n",
      "Extracting gt element RBQ\n",
      "\n",
      "Extracting gt element ABQ\n",
      "\n",
      "Extracting gt element RDF\n",
      "\n",
      "Extracting gt element RDR\n",
      "\n",
      "Extracting gt element ADF\n",
      "\n",
      "Extracting gt element ADR\n",
      "\n"
     ]
    },
    {
     "name": "stdout",
     "output_type": "stream",
     "text": [
      "[1] \"./varscan/000000000-K4LKV_l01_SynCon_Mix07_rep1.fas_BWA_varscan_standard.vcf\"\n"
     ]
    },
    {
     "name": "stderr",
     "output_type": "stream",
     "text": [
      "Extracting gt element GT\n",
      "\n",
      "Extracting gt element GQ\n",
      "\n",
      "Extracting gt element SDP\n",
      "\n",
      "Extracting gt element DP\n",
      "\n",
      "Extracting gt element RD\n",
      "\n",
      "Extracting gt element AD\n",
      "\n",
      "Extracting gt element FREQ\n",
      "\n",
      "Extracting gt element PVAL\n",
      "\n",
      "Extracting gt element RBQ\n",
      "\n",
      "Extracting gt element ABQ\n",
      "\n",
      "Extracting gt element RDF\n",
      "\n",
      "Extracting gt element RDR\n",
      "\n",
      "Extracting gt element ADF\n",
      "\n",
      "Extracting gt element ADR\n",
      "\n"
     ]
    },
    {
     "name": "stdout",
     "output_type": "stream",
     "text": [
      "[1] \"./varscan/000000000-K4LKV_l01_SynCon_Mix07_rep2.fas_BWA_varscan_standard.vcf\"\n"
     ]
    },
    {
     "name": "stderr",
     "output_type": "stream",
     "text": [
      "Extracting gt element GT\n",
      "\n",
      "Extracting gt element GQ\n",
      "\n",
      "Extracting gt element SDP\n",
      "\n",
      "Extracting gt element DP\n",
      "\n",
      "Extracting gt element RD\n",
      "\n",
      "Extracting gt element AD\n",
      "\n",
      "Extracting gt element FREQ\n",
      "\n",
      "Extracting gt element PVAL\n",
      "\n",
      "Extracting gt element RBQ\n",
      "\n",
      "Extracting gt element ABQ\n",
      "\n",
      "Extracting gt element RDF\n",
      "\n",
      "Extracting gt element RDR\n",
      "\n",
      "Extracting gt element ADF\n",
      "\n",
      "Extracting gt element ADR\n",
      "\n"
     ]
    },
    {
     "name": "stdout",
     "output_type": "stream",
     "text": [
      "[1] \"./varscan/000000000-K4LKV_l01_SynCon_Mix08_rep1.fas_BWA_varscan_standard.vcf\"\n"
     ]
    },
    {
     "name": "stderr",
     "output_type": "stream",
     "text": [
      "Extracting gt element GT\n",
      "\n",
      "Extracting gt element GQ\n",
      "\n",
      "Extracting gt element SDP\n",
      "\n",
      "Extracting gt element DP\n",
      "\n",
      "Extracting gt element RD\n",
      "\n",
      "Extracting gt element AD\n",
      "\n",
      "Extracting gt element FREQ\n",
      "\n",
      "Extracting gt element PVAL\n",
      "\n",
      "Extracting gt element RBQ\n",
      "\n",
      "Extracting gt element ABQ\n",
      "\n",
      "Extracting gt element RDF\n",
      "\n",
      "Extracting gt element RDR\n",
      "\n",
      "Extracting gt element ADF\n",
      "\n",
      "Extracting gt element ADR\n",
      "\n"
     ]
    },
    {
     "name": "stdout",
     "output_type": "stream",
     "text": [
      "[1] \"./varscan/000000000-K4LKV_l01_SynCon_Mix08_rep2.fas_BWA_varscan_standard.vcf\"\n"
     ]
    },
    {
     "name": "stderr",
     "output_type": "stream",
     "text": [
      "Extracting gt element GT\n",
      "\n",
      "Extracting gt element GQ\n",
      "\n",
      "Extracting gt element SDP\n",
      "\n",
      "Extracting gt element DP\n",
      "\n",
      "Extracting gt element RD\n",
      "\n",
      "Extracting gt element AD\n",
      "\n",
      "Extracting gt element FREQ\n",
      "\n",
      "Extracting gt element PVAL\n",
      "\n",
      "Extracting gt element RBQ\n",
      "\n",
      "Extracting gt element ABQ\n",
      "\n",
      "Extracting gt element RDF\n",
      "\n",
      "Extracting gt element RDR\n",
      "\n",
      "Extracting gt element ADF\n",
      "\n",
      "Extracting gt element ADR\n",
      "\n"
     ]
    },
    {
     "name": "stdout",
     "output_type": "stream",
     "text": [
      "[1] \"./varscan/000000000-K4LKV_l01_SynCon_Mix09_rep1.fas_BWA_varscan_standard.vcf\"\n"
     ]
    },
    {
     "name": "stderr",
     "output_type": "stream",
     "text": [
      "Extracting gt element GT\n",
      "\n",
      "Extracting gt element GQ\n",
      "\n",
      "Extracting gt element SDP\n",
      "\n",
      "Extracting gt element DP\n",
      "\n",
      "Extracting gt element RD\n",
      "\n",
      "Extracting gt element AD\n",
      "\n",
      "Extracting gt element FREQ\n",
      "\n",
      "Extracting gt element PVAL\n",
      "\n",
      "Extracting gt element RBQ\n",
      "\n",
      "Extracting gt element ABQ\n",
      "\n",
      "Extracting gt element RDF\n",
      "\n",
      "Extracting gt element RDR\n",
      "\n",
      "Extracting gt element ADF\n",
      "\n",
      "Extracting gt element ADR\n",
      "\n"
     ]
    },
    {
     "name": "stdout",
     "output_type": "stream",
     "text": [
      "[1] \"./varscan/000000000-K4LKV_l01_SynCon_Mix09_rep2.fas_BWA_varscan_standard.vcf\"\n"
     ]
    },
    {
     "name": "stderr",
     "output_type": "stream",
     "text": [
      "Extracting gt element GT\n",
      "\n",
      "Extracting gt element GQ\n",
      "\n",
      "Extracting gt element SDP\n",
      "\n",
      "Extracting gt element DP\n",
      "\n",
      "Extracting gt element RD\n",
      "\n",
      "Extracting gt element AD\n",
      "\n",
      "Extracting gt element FREQ\n",
      "\n",
      "Extracting gt element PVAL\n",
      "\n",
      "Extracting gt element RBQ\n",
      "\n",
      "Extracting gt element ABQ\n",
      "\n",
      "Extracting gt element RDF\n",
      "\n",
      "Extracting gt element RDR\n",
      "\n",
      "Extracting gt element ADF\n",
      "\n",
      "Extracting gt element ADR\n",
      "\n"
     ]
    },
    {
     "name": "stdout",
     "output_type": "stream",
     "text": [
      "[1] \"./varscan/000000000-K4LKV_l01_SynCon_Mix10_rep1.fas_BWA_varscan_standard.vcf\"\n"
     ]
    },
    {
     "name": "stderr",
     "output_type": "stream",
     "text": [
      "Extracting gt element GT\n",
      "\n",
      "Extracting gt element GQ\n",
      "\n",
      "Extracting gt element SDP\n",
      "\n",
      "Extracting gt element DP\n",
      "\n",
      "Extracting gt element RD\n",
      "\n",
      "Extracting gt element AD\n",
      "\n",
      "Extracting gt element FREQ\n",
      "\n",
      "Extracting gt element PVAL\n",
      "\n",
      "Extracting gt element RBQ\n",
      "\n",
      "Extracting gt element ABQ\n",
      "\n",
      "Extracting gt element RDF\n",
      "\n",
      "Extracting gt element RDR\n",
      "\n",
      "Extracting gt element ADF\n",
      "\n",
      "Extracting gt element ADR\n",
      "\n"
     ]
    },
    {
     "name": "stdout",
     "output_type": "stream",
     "text": [
      "[1] \"./varscan/000000000-K4LKV_l01_SynCon_Mix10_rep2.fas_BWA_varscan_standard.vcf\"\n"
     ]
    },
    {
     "name": "stderr",
     "output_type": "stream",
     "text": [
      "Extracting gt element GT\n",
      "\n",
      "Extracting gt element GQ\n",
      "\n",
      "Extracting gt element SDP\n",
      "\n",
      "Extracting gt element DP\n",
      "\n",
      "Extracting gt element RD\n",
      "\n",
      "Extracting gt element AD\n",
      "\n",
      "Extracting gt element FREQ\n",
      "\n",
      "Extracting gt element PVAL\n",
      "\n",
      "Extracting gt element RBQ\n",
      "\n",
      "Extracting gt element ABQ\n",
      "\n",
      "Extracting gt element RDF\n",
      "\n",
      "Extracting gt element RDR\n",
      "\n",
      "Extracting gt element ADF\n",
      "\n",
      "Extracting gt element ADR\n",
      "\n"
     ]
    },
    {
     "name": "stdout",
     "output_type": "stream",
     "text": [
      "[1] \"./varscan/000000000-K4LKV_l01_SynCon_Mix11_rep1.fas_BWA_varscan_standard.vcf\"\n"
     ]
    },
    {
     "name": "stderr",
     "output_type": "stream",
     "text": [
      "Extracting gt element GT\n",
      "\n",
      "Extracting gt element GQ\n",
      "\n",
      "Extracting gt element SDP\n",
      "\n",
      "Extracting gt element DP\n",
      "\n",
      "Extracting gt element RD\n",
      "\n",
      "Extracting gt element AD\n",
      "\n",
      "Extracting gt element FREQ\n",
      "\n",
      "Extracting gt element PVAL\n",
      "\n",
      "Extracting gt element RBQ\n",
      "\n",
      "Extracting gt element ABQ\n",
      "\n",
      "Extracting gt element RDF\n",
      "\n",
      "Extracting gt element RDR\n",
      "\n",
      "Extracting gt element ADF\n",
      "\n",
      "Extracting gt element ADR\n",
      "\n"
     ]
    },
    {
     "name": "stdout",
     "output_type": "stream",
     "text": [
      "[1] \"./varscan/000000000-K4LKV_l01_SynCon_Mix11_rep2.fas_BWA_varscan_standard.vcf\"\n"
     ]
    },
    {
     "name": "stderr",
     "output_type": "stream",
     "text": [
      "Extracting gt element GT\n",
      "\n",
      "Extracting gt element GQ\n",
      "\n",
      "Extracting gt element SDP\n",
      "\n",
      "Extracting gt element DP\n",
      "\n",
      "Extracting gt element RD\n",
      "\n",
      "Extracting gt element AD\n",
      "\n",
      "Extracting gt element FREQ\n",
      "\n",
      "Extracting gt element PVAL\n",
      "\n",
      "Extracting gt element RBQ\n",
      "\n",
      "Extracting gt element ABQ\n",
      "\n",
      "Extracting gt element RDF\n",
      "\n",
      "Extracting gt element RDR\n",
      "\n",
      "Extracting gt element ADF\n",
      "\n",
      "Extracting gt element ADR\n",
      "\n"
     ]
    },
    {
     "name": "stdout",
     "output_type": "stream",
     "text": [
      "[1] \"./varscan/000000000-K4LKV_l01_SynCon_Mix12_rep1.fas_BWA_varscan_standard.vcf\"\n"
     ]
    },
    {
     "name": "stderr",
     "output_type": "stream",
     "text": [
      "Extracting gt element GT\n",
      "\n",
      "Extracting gt element GQ\n",
      "\n",
      "Extracting gt element SDP\n",
      "\n",
      "Extracting gt element DP\n",
      "\n",
      "Extracting gt element RD\n",
      "\n",
      "Extracting gt element AD\n",
      "\n",
      "Extracting gt element FREQ\n",
      "\n",
      "Extracting gt element PVAL\n",
      "\n",
      "Extracting gt element RBQ\n",
      "\n",
      "Extracting gt element ABQ\n",
      "\n",
      "Extracting gt element RDF\n",
      "\n",
      "Extracting gt element RDR\n",
      "\n",
      "Extracting gt element ADF\n",
      "\n",
      "Extracting gt element ADR\n",
      "\n"
     ]
    },
    {
     "name": "stdout",
     "output_type": "stream",
     "text": [
      "[1] \"./varscan/000000000-K4LKV_l01_SynCon_Mix12_rep2.fas_BWA_varscan_standard.vcf\"\n"
     ]
    },
    {
     "name": "stderr",
     "output_type": "stream",
     "text": [
      "Extracting gt element GT\n",
      "\n",
      "Extracting gt element GQ\n",
      "\n",
      "Extracting gt element SDP\n",
      "\n",
      "Extracting gt element DP\n",
      "\n",
      "Extracting gt element RD\n",
      "\n",
      "Extracting gt element AD\n",
      "\n",
      "Extracting gt element FREQ\n",
      "\n",
      "Extracting gt element PVAL\n",
      "\n",
      "Extracting gt element RBQ\n",
      "\n",
      "Extracting gt element ABQ\n",
      "\n",
      "Extracting gt element RDF\n",
      "\n",
      "Extracting gt element RDR\n",
      "\n",
      "Extracting gt element ADF\n",
      "\n",
      "Extracting gt element ADR\n",
      "\n"
     ]
    },
    {
     "name": "stdout",
     "output_type": "stream",
     "text": [
      "[1] \"./varscan/000000000-K4LKV_l01_SynCon_Mix13_rep1.fas_BWA_varscan_standard.vcf\"\n"
     ]
    },
    {
     "name": "stderr",
     "output_type": "stream",
     "text": [
      "Extracting gt element GT\n",
      "\n",
      "Extracting gt element GQ\n",
      "\n",
      "Extracting gt element SDP\n",
      "\n",
      "Extracting gt element DP\n",
      "\n",
      "Extracting gt element RD\n",
      "\n",
      "Extracting gt element AD\n",
      "\n",
      "Extracting gt element FREQ\n",
      "\n",
      "Extracting gt element PVAL\n",
      "\n",
      "Extracting gt element RBQ\n",
      "\n",
      "Extracting gt element ABQ\n",
      "\n",
      "Extracting gt element RDF\n",
      "\n",
      "Extracting gt element RDR\n",
      "\n",
      "Extracting gt element ADF\n",
      "\n",
      "Extracting gt element ADR\n",
      "\n"
     ]
    },
    {
     "name": "stdout",
     "output_type": "stream",
     "text": [
      "[1] \"./varscan/000000000-K4LKV_l01_SynCon_Mix13_rep2.fas_BWA_varscan_standard.vcf\"\n"
     ]
    },
    {
     "name": "stderr",
     "output_type": "stream",
     "text": [
      "Extracting gt element GT\n",
      "\n",
      "Extracting gt element GQ\n",
      "\n",
      "Extracting gt element SDP\n",
      "\n",
      "Extracting gt element DP\n",
      "\n",
      "Extracting gt element RD\n",
      "\n",
      "Extracting gt element AD\n",
      "\n",
      "Extracting gt element FREQ\n",
      "\n",
      "Extracting gt element PVAL\n",
      "\n",
      "Extracting gt element RBQ\n",
      "\n",
      "Extracting gt element ABQ\n",
      "\n",
      "Extracting gt element RDF\n",
      "\n",
      "Extracting gt element RDR\n",
      "\n",
      "Extracting gt element ADF\n",
      "\n",
      "Extracting gt element ADR\n",
      "\n"
     ]
    },
    {
     "name": "stdout",
     "output_type": "stream",
     "text": [
      "[1] \"./varscan/000000000-K4LKV_l01_SynCon_Mix14_rep1.fas_BWA_varscan_standard.vcf\"\n"
     ]
    },
    {
     "name": "stderr",
     "output_type": "stream",
     "text": [
      "Extracting gt element GT\n",
      "\n",
      "Extracting gt element GQ\n",
      "\n",
      "Extracting gt element SDP\n",
      "\n",
      "Extracting gt element DP\n",
      "\n",
      "Extracting gt element RD\n",
      "\n",
      "Extracting gt element AD\n",
      "\n",
      "Extracting gt element FREQ\n",
      "\n",
      "Extracting gt element PVAL\n",
      "\n",
      "Extracting gt element RBQ\n",
      "\n",
      "Extracting gt element ABQ\n",
      "\n",
      "Extracting gt element RDF\n",
      "\n",
      "Extracting gt element RDR\n",
      "\n",
      "Extracting gt element ADF\n",
      "\n",
      "Extracting gt element ADR\n",
      "\n"
     ]
    },
    {
     "name": "stdout",
     "output_type": "stream",
     "text": [
      "[1] \"./varscan/000000000-K4LKV_l01_SynCon_Mix14_rep2.fas_BWA_varscan_standard.vcf\"\n"
     ]
    },
    {
     "name": "stderr",
     "output_type": "stream",
     "text": [
      "Extracting gt element GT\n",
      "\n",
      "Extracting gt element GQ\n",
      "\n",
      "Extracting gt element SDP\n",
      "\n",
      "Extracting gt element DP\n",
      "\n",
      "Extracting gt element RD\n",
      "\n",
      "Extracting gt element AD\n",
      "\n",
      "Extracting gt element FREQ\n",
      "\n",
      "Extracting gt element PVAL\n",
      "\n",
      "Extracting gt element RBQ\n",
      "\n",
      "Extracting gt element ABQ\n",
      "\n",
      "Extracting gt element RDF\n",
      "\n",
      "Extracting gt element RDR\n",
      "\n",
      "Extracting gt element ADF\n",
      "\n",
      "Extracting gt element ADR\n",
      "\n"
     ]
    },
    {
     "name": "stdout",
     "output_type": "stream",
     "text": [
      "[1] \"./varscan/000000000-K4LKV_l01_SynCon_Mix15_rep1.fas_BWA_varscan_standard.vcf\"\n"
     ]
    },
    {
     "name": "stderr",
     "output_type": "stream",
     "text": [
      "Extracting gt element GT\n",
      "\n",
      "Extracting gt element GQ\n",
      "\n",
      "Extracting gt element SDP\n",
      "\n",
      "Extracting gt element DP\n",
      "\n",
      "Extracting gt element RD\n",
      "\n",
      "Extracting gt element AD\n",
      "\n",
      "Extracting gt element FREQ\n",
      "\n",
      "Extracting gt element PVAL\n",
      "\n",
      "Extracting gt element RBQ\n",
      "\n",
      "Extracting gt element ABQ\n",
      "\n",
      "Extracting gt element RDF\n",
      "\n",
      "Extracting gt element RDR\n",
      "\n",
      "Extracting gt element ADF\n",
      "\n",
      "Extracting gt element ADR\n",
      "\n"
     ]
    },
    {
     "name": "stdout",
     "output_type": "stream",
     "text": [
      "[1] \"./varscan/000000000-K4LKV_l01_SynCon_Mix15_rep2.fas_BWA_varscan_standard.vcf\"\n"
     ]
    },
    {
     "name": "stderr",
     "output_type": "stream",
     "text": [
      "Extracting gt element GT\n",
      "\n",
      "Extracting gt element GQ\n",
      "\n",
      "Extracting gt element SDP\n",
      "\n",
      "Extracting gt element DP\n",
      "\n",
      "Extracting gt element RD\n",
      "\n",
      "Extracting gt element AD\n",
      "\n",
      "Extracting gt element FREQ\n",
      "\n",
      "Extracting gt element PVAL\n",
      "\n",
      "Extracting gt element RBQ\n",
      "\n",
      "Extracting gt element ABQ\n",
      "\n",
      "Extracting gt element RDF\n",
      "\n",
      "Extracting gt element RDR\n",
      "\n",
      "Extracting gt element ADF\n",
      "\n",
      "Extracting gt element ADR\n",
      "\n"
     ]
    },
    {
     "name": "stdout",
     "output_type": "stream",
     "text": [
      "[1] \"./varscan/000000000-K4LKV_l01_SynCon_Mix16_rep1.fas_BWA_varscan_standard.vcf\"\n"
     ]
    },
    {
     "name": "stderr",
     "output_type": "stream",
     "text": [
      "Extracting gt element GT\n",
      "\n",
      "Extracting gt element GQ\n",
      "\n",
      "Extracting gt element SDP\n",
      "\n",
      "Extracting gt element DP\n",
      "\n",
      "Extracting gt element RD\n",
      "\n",
      "Extracting gt element AD\n",
      "\n",
      "Extracting gt element FREQ\n",
      "\n",
      "Extracting gt element PVAL\n",
      "\n",
      "Extracting gt element RBQ\n",
      "\n",
      "Extracting gt element ABQ\n",
      "\n",
      "Extracting gt element RDF\n",
      "\n",
      "Extracting gt element RDR\n",
      "\n",
      "Extracting gt element ADF\n",
      "\n",
      "Extracting gt element ADR\n",
      "\n"
     ]
    },
    {
     "name": "stdout",
     "output_type": "stream",
     "text": [
      "[1] \"./varscan/000000000-K4LKV_l01_SynCon_Mix16_rep2.fas_BWA_varscan_standard.vcf\"\n"
     ]
    },
    {
     "name": "stderr",
     "output_type": "stream",
     "text": [
      "Extracting gt element GT\n",
      "\n",
      "Extracting gt element GQ\n",
      "\n",
      "Extracting gt element SDP\n",
      "\n",
      "Extracting gt element DP\n",
      "\n",
      "Extracting gt element RD\n",
      "\n",
      "Extracting gt element AD\n",
      "\n",
      "Extracting gt element FREQ\n",
      "\n",
      "Extracting gt element PVAL\n",
      "\n",
      "Extracting gt element RBQ\n",
      "\n",
      "Extracting gt element ABQ\n",
      "\n",
      "Extracting gt element RDF\n",
      "\n",
      "Extracting gt element RDR\n",
      "\n",
      "Extracting gt element ADF\n",
      "\n",
      "Extracting gt element ADR\n",
      "\n"
     ]
    },
    {
     "name": "stdout",
     "output_type": "stream",
     "text": [
      "[1] \"./varscan/000000000-K4LKV_l01_SynCon_Mix17_rep1.fas_BWA_varscan_standard.vcf\"\n"
     ]
    },
    {
     "name": "stderr",
     "output_type": "stream",
     "text": [
      "Extracting gt element GT\n",
      "\n",
      "Extracting gt element GQ\n",
      "\n",
      "Extracting gt element SDP\n",
      "\n",
      "Extracting gt element DP\n",
      "\n",
      "Extracting gt element RD\n",
      "\n",
      "Extracting gt element AD\n",
      "\n",
      "Extracting gt element FREQ\n",
      "\n",
      "Extracting gt element PVAL\n",
      "\n",
      "Extracting gt element RBQ\n",
      "\n",
      "Extracting gt element ABQ\n",
      "\n",
      "Extracting gt element RDF\n",
      "\n",
      "Extracting gt element RDR\n",
      "\n",
      "Extracting gt element ADF\n",
      "\n",
      "Extracting gt element ADR\n",
      "\n"
     ]
    },
    {
     "name": "stdout",
     "output_type": "stream",
     "text": [
      "[1] \"./varscan/000000000-K4LKV_l01_SynCon_Mix17_rep2.fas_BWA_varscan_standard.vcf\"\n"
     ]
    },
    {
     "name": "stderr",
     "output_type": "stream",
     "text": [
      "Extracting gt element GT\n",
      "\n",
      "Extracting gt element GQ\n",
      "\n",
      "Extracting gt element SDP\n",
      "\n",
      "Extracting gt element DP\n",
      "\n",
      "Extracting gt element RD\n",
      "\n",
      "Extracting gt element AD\n",
      "\n",
      "Extracting gt element FREQ\n",
      "\n",
      "Extracting gt element PVAL\n",
      "\n",
      "Extracting gt element RBQ\n",
      "\n",
      "Extracting gt element ABQ\n",
      "\n",
      "Extracting gt element RDF\n",
      "\n",
      "Extracting gt element RDR\n",
      "\n",
      "Extracting gt element ADF\n",
      "\n",
      "Extracting gt element ADR\n",
      "\n"
     ]
    },
    {
     "name": "stdout",
     "output_type": "stream",
     "text": [
      "[1] \"./varscan/000000000-K4LKV_l01_SynCon_Mix18_rep1.fas_BWA_varscan_standard.vcf\"\n"
     ]
    },
    {
     "name": "stderr",
     "output_type": "stream",
     "text": [
      "Extracting gt element GT\n",
      "\n",
      "Extracting gt element GQ\n",
      "\n",
      "Extracting gt element SDP\n",
      "\n",
      "Extracting gt element DP\n",
      "\n",
      "Extracting gt element RD\n",
      "\n",
      "Extracting gt element AD\n",
      "\n",
      "Extracting gt element FREQ\n",
      "\n",
      "Extracting gt element PVAL\n",
      "\n",
      "Extracting gt element RBQ\n",
      "\n",
      "Extracting gt element ABQ\n",
      "\n",
      "Extracting gt element RDF\n",
      "\n",
      "Extracting gt element RDR\n",
      "\n",
      "Extracting gt element ADF\n",
      "\n",
      "Extracting gt element ADR\n",
      "\n"
     ]
    },
    {
     "name": "stdout",
     "output_type": "stream",
     "text": [
      "[1] \"./varscan/000000000-K4LKV_l01_SynCon_Mix18_rep2.fas_BWA_varscan_standard.vcf\"\n"
     ]
    },
    {
     "name": "stderr",
     "output_type": "stream",
     "text": [
      "Extracting gt element GT\n",
      "\n",
      "Extracting gt element GQ\n",
      "\n",
      "Extracting gt element SDP\n",
      "\n",
      "Extracting gt element DP\n",
      "\n",
      "Extracting gt element RD\n",
      "\n",
      "Extracting gt element AD\n",
      "\n",
      "Extracting gt element FREQ\n",
      "\n",
      "Extracting gt element PVAL\n",
      "\n",
      "Extracting gt element RBQ\n",
      "\n",
      "Extracting gt element ABQ\n",
      "\n",
      "Extracting gt element RDF\n",
      "\n",
      "Extracting gt element RDR\n",
      "\n",
      "Extracting gt element ADF\n",
      "\n",
      "Extracting gt element ADR\n",
      "\n"
     ]
    },
    {
     "name": "stdout",
     "output_type": "stream",
     "text": [
      "[1] \"./varscan/000000000-K4LKV_l01_SynCon_Mix19_rep1.fas_BWA_varscan_standard.vcf\"\n"
     ]
    },
    {
     "name": "stderr",
     "output_type": "stream",
     "text": [
      "Extracting gt element GT\n",
      "\n",
      "Extracting gt element GQ\n",
      "\n",
      "Extracting gt element SDP\n",
      "\n",
      "Extracting gt element DP\n",
      "\n",
      "Extracting gt element RD\n",
      "\n",
      "Extracting gt element AD\n",
      "\n",
      "Extracting gt element FREQ\n",
      "\n",
      "Extracting gt element PVAL\n",
      "\n",
      "Extracting gt element RBQ\n",
      "\n",
      "Extracting gt element ABQ\n",
      "\n",
      "Extracting gt element RDF\n",
      "\n",
      "Extracting gt element RDR\n",
      "\n",
      "Extracting gt element ADF\n",
      "\n",
      "Extracting gt element ADR\n",
      "\n"
     ]
    },
    {
     "name": "stdout",
     "output_type": "stream",
     "text": [
      "[1] \"./varscan/000000000-K4LKV_l01_SynCon_Mix19_rep2.fas_BWA_varscan_standard.vcf\"\n"
     ]
    },
    {
     "name": "stderr",
     "output_type": "stream",
     "text": [
      "Extracting gt element GT\n",
      "\n",
      "Extracting gt element GQ\n",
      "\n",
      "Extracting gt element SDP\n",
      "\n",
      "Extracting gt element DP\n",
      "\n",
      "Extracting gt element RD\n",
      "\n",
      "Extracting gt element AD\n",
      "\n",
      "Extracting gt element FREQ\n",
      "\n",
      "Extracting gt element PVAL\n",
      "\n",
      "Extracting gt element RBQ\n",
      "\n",
      "Extracting gt element ABQ\n",
      "\n",
      "Extracting gt element RDF\n",
      "\n",
      "Extracting gt element RDR\n",
      "\n",
      "Extracting gt element ADF\n",
      "\n",
      "Extracting gt element ADR\n",
      "\n"
     ]
    },
    {
     "name": "stdout",
     "output_type": "stream",
     "text": [
      "[1] \"./varscan/000000000-K4LKV_l01_SynCon_Mix20_rep1.fas_BWA_varscan_standard.vcf\"\n"
     ]
    },
    {
     "name": "stderr",
     "output_type": "stream",
     "text": [
      "Extracting gt element GT\n",
      "\n",
      "Extracting gt element GQ\n",
      "\n",
      "Extracting gt element SDP\n",
      "\n",
      "Extracting gt element DP\n",
      "\n",
      "Extracting gt element RD\n",
      "\n",
      "Extracting gt element AD\n",
      "\n",
      "Extracting gt element FREQ\n",
      "\n",
      "Extracting gt element PVAL\n",
      "\n",
      "Extracting gt element RBQ\n",
      "\n",
      "Extracting gt element ABQ\n",
      "\n",
      "Extracting gt element RDF\n",
      "\n",
      "Extracting gt element RDR\n",
      "\n",
      "Extracting gt element ADF\n",
      "\n",
      "Extracting gt element ADR\n",
      "\n"
     ]
    },
    {
     "name": "stdout",
     "output_type": "stream",
     "text": [
      "[1] \"./varscan/000000000-K4LKV_l01_SynCon_Mix20_rep2.fas_BWA_varscan_standard.vcf\"\n"
     ]
    },
    {
     "name": "stderr",
     "output_type": "stream",
     "text": [
      "Extracting gt element GT\n",
      "\n",
      "Extracting gt element GQ\n",
      "\n",
      "Extracting gt element SDP\n",
      "\n",
      "Extracting gt element DP\n",
      "\n",
      "Extracting gt element RD\n",
      "\n",
      "Extracting gt element AD\n",
      "\n",
      "Extracting gt element FREQ\n",
      "\n",
      "Extracting gt element PVAL\n",
      "\n",
      "Extracting gt element RBQ\n",
      "\n",
      "Extracting gt element ABQ\n",
      "\n",
      "Extracting gt element RDF\n",
      "\n",
      "Extracting gt element RDR\n",
      "\n",
      "Extracting gt element ADF\n",
      "\n",
      "Extracting gt element ADR\n",
      "\n"
     ]
    },
    {
     "name": "stdout",
     "output_type": "stream",
     "text": [
      "[1] \"./varscan/000000000-K4LKV_l01_SynCon_Mix21_rep1.fas_BWA_varscan_standard.vcf\"\n"
     ]
    },
    {
     "name": "stderr",
     "output_type": "stream",
     "text": [
      "Extracting gt element GT\n",
      "\n",
      "Extracting gt element GQ\n",
      "\n",
      "Extracting gt element SDP\n",
      "\n",
      "Extracting gt element DP\n",
      "\n",
      "Extracting gt element RD\n",
      "\n",
      "Extracting gt element AD\n",
      "\n",
      "Extracting gt element FREQ\n",
      "\n",
      "Extracting gt element PVAL\n",
      "\n",
      "Extracting gt element RBQ\n",
      "\n",
      "Extracting gt element ABQ\n",
      "\n",
      "Extracting gt element RDF\n",
      "\n",
      "Extracting gt element RDR\n",
      "\n",
      "Extracting gt element ADF\n",
      "\n",
      "Extracting gt element ADR\n",
      "\n"
     ]
    },
    {
     "name": "stdout",
     "output_type": "stream",
     "text": [
      "[1] \"./varscan/000000000-K4LKV_l01_SynCon_Mix21_rep2.fas_BWA_varscan_standard.vcf\"\n"
     ]
    },
    {
     "name": "stderr",
     "output_type": "stream",
     "text": [
      "Extracting gt element GT\n",
      "\n",
      "Extracting gt element GQ\n",
      "\n",
      "Extracting gt element SDP\n",
      "\n",
      "Extracting gt element DP\n",
      "\n",
      "Extracting gt element RD\n",
      "\n",
      "Extracting gt element AD\n",
      "\n",
      "Extracting gt element FREQ\n",
      "\n",
      "Extracting gt element PVAL\n",
      "\n",
      "Extracting gt element RBQ\n",
      "\n",
      "Extracting gt element ABQ\n",
      "\n",
      "Extracting gt element RDF\n",
      "\n",
      "Extracting gt element RDR\n",
      "\n",
      "Extracting gt element ADF\n",
      "\n",
      "Extracting gt element ADR\n",
      "\n"
     ]
    },
    {
     "name": "stdout",
     "output_type": "stream",
     "text": [
      "[1] \"./varscan/000000000-K4LKV_l01_SynCon_Mix22_rep1.fas_BWA_varscan_standard.vcf\"\n"
     ]
    },
    {
     "name": "stderr",
     "output_type": "stream",
     "text": [
      "Extracting gt element GT\n",
      "\n",
      "Extracting gt element GQ\n",
      "\n",
      "Extracting gt element SDP\n",
      "\n",
      "Extracting gt element DP\n",
      "\n",
      "Extracting gt element RD\n",
      "\n",
      "Extracting gt element AD\n",
      "\n",
      "Extracting gt element FREQ\n",
      "\n",
      "Extracting gt element PVAL\n",
      "\n",
      "Extracting gt element RBQ\n",
      "\n",
      "Extracting gt element ABQ\n",
      "\n",
      "Extracting gt element RDF\n",
      "\n",
      "Extracting gt element RDR\n",
      "\n",
      "Extracting gt element ADF\n",
      "\n",
      "Extracting gt element ADR\n",
      "\n"
     ]
    },
    {
     "name": "stdout",
     "output_type": "stream",
     "text": [
      "[1] \"./varscan/000000000-K4LKV_l01_SynCon_Mix22_rep2.fas_BWA_varscan_standard.vcf\"\n"
     ]
    },
    {
     "name": "stderr",
     "output_type": "stream",
     "text": [
      "Extracting gt element GT\n",
      "\n",
      "Extracting gt element GQ\n",
      "\n",
      "Extracting gt element SDP\n",
      "\n",
      "Extracting gt element DP\n",
      "\n",
      "Extracting gt element RD\n",
      "\n",
      "Extracting gt element AD\n",
      "\n",
      "Extracting gt element FREQ\n",
      "\n",
      "Extracting gt element PVAL\n",
      "\n",
      "Extracting gt element RBQ\n",
      "\n",
      "Extracting gt element ABQ\n",
      "\n",
      "Extracting gt element RDF\n",
      "\n",
      "Extracting gt element RDR\n",
      "\n",
      "Extracting gt element ADF\n",
      "\n",
      "Extracting gt element ADR\n",
      "\n"
     ]
    },
    {
     "name": "stdout",
     "output_type": "stream",
     "text": [
      "[1] \"./varscan/000000000-K4LKV_l01_SynCon_Mix23_rep1.fas_BWA_varscan_standard.vcf\"\n"
     ]
    },
    {
     "name": "stderr",
     "output_type": "stream",
     "text": [
      "Extracting gt element GT\n",
      "\n",
      "Extracting gt element GQ\n",
      "\n",
      "Extracting gt element SDP\n",
      "\n",
      "Extracting gt element DP\n",
      "\n",
      "Extracting gt element RD\n",
      "\n",
      "Extracting gt element AD\n",
      "\n",
      "Extracting gt element FREQ\n",
      "\n",
      "Extracting gt element PVAL\n",
      "\n",
      "Extracting gt element RBQ\n",
      "\n",
      "Extracting gt element ABQ\n",
      "\n",
      "Extracting gt element RDF\n",
      "\n",
      "Extracting gt element RDR\n",
      "\n",
      "Extracting gt element ADF\n",
      "\n",
      "Extracting gt element ADR\n",
      "\n"
     ]
    },
    {
     "name": "stdout",
     "output_type": "stream",
     "text": [
      "[1] \"./varscan/000000000-K4LKV_l01_SynCon_Mix23_rep2.fas_BWA_varscan_standard.vcf\"\n"
     ]
    },
    {
     "name": "stderr",
     "output_type": "stream",
     "text": [
      "Extracting gt element GT\n",
      "\n",
      "Extracting gt element GQ\n",
      "\n",
      "Extracting gt element SDP\n",
      "\n",
      "Extracting gt element DP\n",
      "\n",
      "Extracting gt element RD\n",
      "\n",
      "Extracting gt element AD\n",
      "\n",
      "Extracting gt element FREQ\n",
      "\n",
      "Extracting gt element PVAL\n",
      "\n",
      "Extracting gt element RBQ\n",
      "\n",
      "Extracting gt element ABQ\n",
      "\n",
      "Extracting gt element RDF\n",
      "\n",
      "Extracting gt element RDR\n",
      "\n",
      "Extracting gt element ADF\n",
      "\n",
      "Extracting gt element ADR\n",
      "\n"
     ]
    },
    {
     "name": "stdout",
     "output_type": "stream",
     "text": [
      "[1] \"./varscan/000000000-K4LKV_l01_SynCon_Mix24_rep1.fas_BWA_varscan_standard.vcf\"\n"
     ]
    },
    {
     "name": "stderr",
     "output_type": "stream",
     "text": [
      "Extracting gt element GT\n",
      "\n",
      "Extracting gt element GQ\n",
      "\n",
      "Extracting gt element SDP\n",
      "\n",
      "Extracting gt element DP\n",
      "\n",
      "Extracting gt element RD\n",
      "\n",
      "Extracting gt element AD\n",
      "\n",
      "Extracting gt element FREQ\n",
      "\n",
      "Extracting gt element PVAL\n",
      "\n",
      "Extracting gt element RBQ\n",
      "\n",
      "Extracting gt element ABQ\n",
      "\n",
      "Extracting gt element RDF\n",
      "\n",
      "Extracting gt element RDR\n",
      "\n",
      "Extracting gt element ADF\n",
      "\n",
      "Extracting gt element ADR\n",
      "\n"
     ]
    },
    {
     "name": "stdout",
     "output_type": "stream",
     "text": [
      "[1] \"./varscan/000000000-K4LKV_l01_SynCon_Mix24_rep2.fas_BWA_varscan_standard.vcf\"\n"
     ]
    },
    {
     "name": "stderr",
     "output_type": "stream",
     "text": [
      "Extracting gt element GT\n",
      "\n",
      "Extracting gt element GQ\n",
      "\n",
      "Extracting gt element SDP\n",
      "\n",
      "Extracting gt element DP\n",
      "\n",
      "Extracting gt element RD\n",
      "\n",
      "Extracting gt element AD\n",
      "\n",
      "Extracting gt element FREQ\n",
      "\n",
      "Extracting gt element PVAL\n",
      "\n",
      "Extracting gt element RBQ\n",
      "\n",
      "Extracting gt element ABQ\n",
      "\n",
      "Extracting gt element RDF\n",
      "\n",
      "Extracting gt element RDR\n",
      "\n",
      "Extracting gt element ADF\n",
      "\n",
      "Extracting gt element ADR\n",
      "\n"
     ]
    },
    {
     "name": "stdout",
     "output_type": "stream",
     "text": [
      "[1] \"./varscan/000000000-K4LKV_l01_SynCon_Mix25_rep1.fas_BWA_varscan_standard.vcf\"\n"
     ]
    },
    {
     "name": "stderr",
     "output_type": "stream",
     "text": [
      "Extracting gt element GT\n",
      "\n",
      "Extracting gt element GQ\n",
      "\n",
      "Extracting gt element SDP\n",
      "\n",
      "Extracting gt element DP\n",
      "\n",
      "Extracting gt element RD\n",
      "\n",
      "Extracting gt element AD\n",
      "\n",
      "Extracting gt element FREQ\n",
      "\n",
      "Extracting gt element PVAL\n",
      "\n",
      "Extracting gt element RBQ\n",
      "\n",
      "Extracting gt element ABQ\n",
      "\n",
      "Extracting gt element RDF\n",
      "\n",
      "Extracting gt element RDR\n",
      "\n",
      "Extracting gt element ADF\n",
      "\n",
      "Extracting gt element ADR\n",
      "\n"
     ]
    },
    {
     "name": "stdout",
     "output_type": "stream",
     "text": [
      "[1] \"./varscan/000000000-K4LKV_l01_SynCon_Mix25_rep2.fas_BWA_varscan_standard.vcf\"\n"
     ]
    },
    {
     "name": "stderr",
     "output_type": "stream",
     "text": [
      "Extracting gt element GT\n",
      "\n",
      "Extracting gt element GQ\n",
      "\n",
      "Extracting gt element SDP\n",
      "\n",
      "Extracting gt element DP\n",
      "\n",
      "Extracting gt element RD\n",
      "\n",
      "Extracting gt element AD\n",
      "\n",
      "Extracting gt element FREQ\n",
      "\n",
      "Extracting gt element PVAL\n",
      "\n",
      "Extracting gt element RBQ\n",
      "\n",
      "Extracting gt element ABQ\n",
      "\n",
      "Extracting gt element RDF\n",
      "\n",
      "Extracting gt element RDR\n",
      "\n",
      "Extracting gt element ADF\n",
      "\n",
      "Extracting gt element ADR\n",
      "\n"
     ]
    },
    {
     "name": "stdout",
     "output_type": "stream",
     "text": [
      "[1] \"./varscan/000000000-K4LKV_l01_SynCon_Mix26_rep1.fas_BWA_varscan_standard.vcf\"\n"
     ]
    },
    {
     "name": "stderr",
     "output_type": "stream",
     "text": [
      "Extracting gt element GT\n",
      "\n",
      "Extracting gt element GQ\n",
      "\n",
      "Extracting gt element SDP\n",
      "\n",
      "Extracting gt element DP\n",
      "\n",
      "Extracting gt element RD\n",
      "\n",
      "Extracting gt element AD\n",
      "\n",
      "Extracting gt element FREQ\n",
      "\n",
      "Extracting gt element PVAL\n",
      "\n",
      "Extracting gt element RBQ\n",
      "\n",
      "Extracting gt element ABQ\n",
      "\n",
      "Extracting gt element RDF\n",
      "\n",
      "Extracting gt element RDR\n",
      "\n",
      "Extracting gt element ADF\n",
      "\n",
      "Extracting gt element ADR\n",
      "\n"
     ]
    },
    {
     "name": "stdout",
     "output_type": "stream",
     "text": [
      "[1] \"./varscan/000000000-K4LKV_l01_SynCon_Mix26_rep2.fas_BWA_varscan_standard.vcf\"\n"
     ]
    },
    {
     "name": "stderr",
     "output_type": "stream",
     "text": [
      "Extracting gt element GT\n",
      "\n",
      "Extracting gt element GQ\n",
      "\n",
      "Extracting gt element SDP\n",
      "\n",
      "Extracting gt element DP\n",
      "\n",
      "Extracting gt element RD\n",
      "\n",
      "Extracting gt element AD\n",
      "\n",
      "Extracting gt element FREQ\n",
      "\n",
      "Extracting gt element PVAL\n",
      "\n",
      "Extracting gt element RBQ\n",
      "\n",
      "Extracting gt element ABQ\n",
      "\n",
      "Extracting gt element RDF\n",
      "\n",
      "Extracting gt element RDR\n",
      "\n",
      "Extracting gt element ADF\n",
      "\n",
      "Extracting gt element ADR\n",
      "\n"
     ]
    },
    {
     "name": "stdout",
     "output_type": "stream",
     "text": [
      "[1] \"./varscan/000000000-K4LKV_l01_SynCon_Mix27_rep1.fas_BWA_varscan_standard.vcf\"\n"
     ]
    },
    {
     "name": "stderr",
     "output_type": "stream",
     "text": [
      "Extracting gt element GT\n",
      "\n",
      "Extracting gt element GQ\n",
      "\n",
      "Extracting gt element SDP\n",
      "\n",
      "Extracting gt element DP\n",
      "\n",
      "Extracting gt element RD\n",
      "\n",
      "Extracting gt element AD\n",
      "\n",
      "Extracting gt element FREQ\n",
      "\n",
      "Extracting gt element PVAL\n",
      "\n",
      "Extracting gt element RBQ\n",
      "\n",
      "Extracting gt element ABQ\n",
      "\n",
      "Extracting gt element RDF\n",
      "\n",
      "Extracting gt element RDR\n",
      "\n",
      "Extracting gt element ADF\n",
      "\n",
      "Extracting gt element ADR\n",
      "\n"
     ]
    },
    {
     "name": "stdout",
     "output_type": "stream",
     "text": [
      "[1] \"./varscan/000000000-K4LKV_l01_SynCon_Mix27_rep2.fas_BWA_varscan_standard.vcf\"\n"
     ]
    },
    {
     "name": "stderr",
     "output_type": "stream",
     "text": [
      "Extracting gt element GT\n",
      "\n",
      "Extracting gt element GQ\n",
      "\n",
      "Extracting gt element SDP\n",
      "\n",
      "Extracting gt element DP\n",
      "\n",
      "Extracting gt element RD\n",
      "\n",
      "Extracting gt element AD\n",
      "\n",
      "Extracting gt element FREQ\n",
      "\n",
      "Extracting gt element PVAL\n",
      "\n",
      "Extracting gt element RBQ\n",
      "\n",
      "Extracting gt element ABQ\n",
      "\n",
      "Extracting gt element RDF\n",
      "\n",
      "Extracting gt element RDR\n",
      "\n",
      "Extracting gt element ADF\n",
      "\n",
      "Extracting gt element ADR\n",
      "\n"
     ]
    },
    {
     "name": "stdout",
     "output_type": "stream",
     "text": [
      "[1] \"./varscan/000000000-K4LKV_l01_SynCon_Mix28_rep1.fas_BWA_varscan_standard.vcf\"\n"
     ]
    },
    {
     "name": "stderr",
     "output_type": "stream",
     "text": [
      "Extracting gt element GT\n",
      "\n",
      "Extracting gt element GQ\n",
      "\n",
      "Extracting gt element SDP\n",
      "\n",
      "Extracting gt element DP\n",
      "\n",
      "Extracting gt element RD\n",
      "\n",
      "Extracting gt element AD\n",
      "\n",
      "Extracting gt element FREQ\n",
      "\n",
      "Extracting gt element PVAL\n",
      "\n",
      "Extracting gt element RBQ\n",
      "\n",
      "Extracting gt element ABQ\n",
      "\n",
      "Extracting gt element RDF\n",
      "\n",
      "Extracting gt element RDR\n",
      "\n",
      "Extracting gt element ADF\n",
      "\n",
      "Extracting gt element ADR\n",
      "\n"
     ]
    },
    {
     "name": "stdout",
     "output_type": "stream",
     "text": [
      "[1] \"./varscan/000000000-K4LKV_l01_SynCon_Mix28_rep2.fas_BWA_varscan_standard.vcf\"\n"
     ]
    },
    {
     "name": "stderr",
     "output_type": "stream",
     "text": [
      "Extracting gt element GT\n",
      "\n",
      "Extracting gt element GQ\n",
      "\n",
      "Extracting gt element SDP\n",
      "\n",
      "Extracting gt element DP\n",
      "\n",
      "Extracting gt element RD\n",
      "\n",
      "Extracting gt element AD\n",
      "\n",
      "Extracting gt element FREQ\n",
      "\n",
      "Extracting gt element PVAL\n",
      "\n",
      "Extracting gt element RBQ\n",
      "\n",
      "Extracting gt element ABQ\n",
      "\n",
      "Extracting gt element RDF\n",
      "\n",
      "Extracting gt element RDR\n",
      "\n",
      "Extracting gt element ADF\n",
      "\n",
      "Extracting gt element ADR\n",
      "\n"
     ]
    },
    {
     "name": "stdout",
     "output_type": "stream",
     "text": [
      "[1] \"./varscan/000000000-K4LKV_l01_SynCon_Mix29_rep1.fas_BWA_varscan_standard.vcf\"\n"
     ]
    },
    {
     "name": "stderr",
     "output_type": "stream",
     "text": [
      "Extracting gt element GT\n",
      "\n",
      "Extracting gt element GQ\n",
      "\n",
      "Extracting gt element SDP\n",
      "\n",
      "Extracting gt element DP\n",
      "\n",
      "Extracting gt element RD\n",
      "\n",
      "Extracting gt element AD\n",
      "\n",
      "Extracting gt element FREQ\n",
      "\n",
      "Extracting gt element PVAL\n",
      "\n",
      "Extracting gt element RBQ\n",
      "\n",
      "Extracting gt element ABQ\n",
      "\n",
      "Extracting gt element RDF\n",
      "\n",
      "Extracting gt element RDR\n",
      "\n",
      "Extracting gt element ADF\n",
      "\n",
      "Extracting gt element ADR\n",
      "\n"
     ]
    },
    {
     "name": "stdout",
     "output_type": "stream",
     "text": [
      "[1] \"./varscan/000000000-K4LKV_l01_SynCon_Mix29_rep2.fas_BWA_varscan_standard.vcf\"\n"
     ]
    },
    {
     "name": "stderr",
     "output_type": "stream",
     "text": [
      "Extracting gt element GT\n",
      "\n",
      "Extracting gt element GQ\n",
      "\n",
      "Extracting gt element SDP\n",
      "\n",
      "Extracting gt element DP\n",
      "\n",
      "Extracting gt element RD\n",
      "\n",
      "Extracting gt element AD\n",
      "\n",
      "Extracting gt element FREQ\n",
      "\n",
      "Extracting gt element PVAL\n",
      "\n",
      "Extracting gt element RBQ\n",
      "\n",
      "Extracting gt element ABQ\n",
      "\n",
      "Extracting gt element RDF\n",
      "\n",
      "Extracting gt element RDR\n",
      "\n",
      "Extracting gt element ADF\n",
      "\n",
      "Extracting gt element ADR\n",
      "\n"
     ]
    },
    {
     "name": "stdout",
     "output_type": "stream",
     "text": [
      "[1] \"./varscan/000000000-K4LKV_l01_SynCon_Mix30_rep1.fas_BWA_varscan_standard.vcf\"\n"
     ]
    },
    {
     "name": "stderr",
     "output_type": "stream",
     "text": [
      "Extracting gt element GT\n",
      "\n",
      "Extracting gt element GQ\n",
      "\n",
      "Extracting gt element SDP\n",
      "\n",
      "Extracting gt element DP\n",
      "\n",
      "Extracting gt element RD\n",
      "\n",
      "Extracting gt element AD\n",
      "\n",
      "Extracting gt element FREQ\n",
      "\n",
      "Extracting gt element PVAL\n",
      "\n",
      "Extracting gt element RBQ\n",
      "\n",
      "Extracting gt element ABQ\n",
      "\n",
      "Extracting gt element RDF\n",
      "\n",
      "Extracting gt element RDR\n",
      "\n",
      "Extracting gt element ADF\n",
      "\n",
      "Extracting gt element ADR\n",
      "\n"
     ]
    },
    {
     "name": "stdout",
     "output_type": "stream",
     "text": [
      "[1] \"./varscan/000000000-K4LKV_l01_SynCon_Mix30_rep2.fas_BWA_varscan_standard.vcf\"\n"
     ]
    },
    {
     "name": "stderr",
     "output_type": "stream",
     "text": [
      "Extracting gt element GT\n",
      "\n",
      "Extracting gt element GQ\n",
      "\n",
      "Extracting gt element SDP\n",
      "\n",
      "Extracting gt element DP\n",
      "\n",
      "Extracting gt element RD\n",
      "\n",
      "Extracting gt element AD\n",
      "\n",
      "Extracting gt element FREQ\n",
      "\n",
      "Extracting gt element PVAL\n",
      "\n",
      "Extracting gt element RBQ\n",
      "\n",
      "Extracting gt element ABQ\n",
      "\n",
      "Extracting gt element RDF\n",
      "\n",
      "Extracting gt element RDR\n",
      "\n",
      "Extracting gt element ADF\n",
      "\n",
      "Extracting gt element ADR\n",
      "\n"
     ]
    },
    {
     "name": "stdout",
     "output_type": "stream",
     "text": [
      "[1] \"./varscan/000000000-K4LKV_l01_SynCon_Mix31_rep1.fas_BWA_varscan_standard.vcf\"\n"
     ]
    },
    {
     "name": "stderr",
     "output_type": "stream",
     "text": [
      "Extracting gt element GT\n",
      "\n",
      "Extracting gt element GQ\n",
      "\n",
      "Extracting gt element SDP\n",
      "\n",
      "Extracting gt element DP\n",
      "\n",
      "Extracting gt element RD\n",
      "\n",
      "Extracting gt element AD\n",
      "\n",
      "Extracting gt element FREQ\n",
      "\n",
      "Extracting gt element PVAL\n",
      "\n",
      "Extracting gt element RBQ\n",
      "\n",
      "Extracting gt element ABQ\n",
      "\n",
      "Extracting gt element RDF\n",
      "\n",
      "Extracting gt element RDR\n",
      "\n",
      "Extracting gt element ADF\n",
      "\n",
      "Extracting gt element ADR\n",
      "\n"
     ]
    },
    {
     "name": "stdout",
     "output_type": "stream",
     "text": [
      "[1] \"./varscan/000000000-K4LKV_l01_SynCon_Mix31_rep2.fas_BWA_varscan_standard.vcf\"\n"
     ]
    },
    {
     "name": "stderr",
     "output_type": "stream",
     "text": [
      "Extracting gt element GT\n",
      "\n",
      "Extracting gt element GQ\n",
      "\n",
      "Extracting gt element SDP\n",
      "\n",
      "Extracting gt element DP\n",
      "\n",
      "Extracting gt element RD\n",
      "\n",
      "Extracting gt element AD\n",
      "\n",
      "Extracting gt element FREQ\n",
      "\n",
      "Extracting gt element PVAL\n",
      "\n",
      "Extracting gt element RBQ\n",
      "\n",
      "Extracting gt element ABQ\n",
      "\n",
      "Extracting gt element RDF\n",
      "\n",
      "Extracting gt element RDR\n",
      "\n",
      "Extracting gt element ADF\n",
      "\n",
      "Extracting gt element ADR\n",
      "\n"
     ]
    },
    {
     "name": "stdout",
     "output_type": "stream",
     "text": [
      "[1] \"./varscan/000000000-K4LKV_l01_SynCon_Mix32_rep1.fas_BWA_varscan_standard.vcf\"\n"
     ]
    },
    {
     "name": "stderr",
     "output_type": "stream",
     "text": [
      "Extracting gt element GT\n",
      "\n",
      "Extracting gt element GQ\n",
      "\n",
      "Extracting gt element SDP\n",
      "\n",
      "Extracting gt element DP\n",
      "\n",
      "Extracting gt element RD\n",
      "\n",
      "Extracting gt element AD\n",
      "\n",
      "Extracting gt element FREQ\n",
      "\n",
      "Extracting gt element PVAL\n",
      "\n",
      "Extracting gt element RBQ\n",
      "\n",
      "Extracting gt element ABQ\n",
      "\n",
      "Extracting gt element RDF\n",
      "\n",
      "Extracting gt element RDR\n",
      "\n",
      "Extracting gt element ADF\n",
      "\n",
      "Extracting gt element ADR\n",
      "\n"
     ]
    },
    {
     "name": "stdout",
     "output_type": "stream",
     "text": [
      "[1] \"./varscan/000000000-K4LKV_l01_SynCon_Mix32_rep2.fas_BWA_varscan_standard.vcf\"\n"
     ]
    },
    {
     "name": "stderr",
     "output_type": "stream",
     "text": [
      "Extracting gt element GT\n",
      "\n",
      "Extracting gt element GQ\n",
      "\n",
      "Extracting gt element SDP\n",
      "\n",
      "Extracting gt element DP\n",
      "\n",
      "Extracting gt element RD\n",
      "\n",
      "Extracting gt element AD\n",
      "\n",
      "Extracting gt element FREQ\n",
      "\n",
      "Extracting gt element PVAL\n",
      "\n",
      "Extracting gt element RBQ\n",
      "\n",
      "Extracting gt element ABQ\n",
      "\n",
      "Extracting gt element RDF\n",
      "\n",
      "Extracting gt element RDR\n",
      "\n",
      "Extracting gt element ADF\n",
      "\n",
      "Extracting gt element ADR\n",
      "\n"
     ]
    },
    {
     "name": "stdout",
     "output_type": "stream",
     "text": [
      "[1] \"./varscan/000000000-K4LKV_l01_SynCon_Mix33_rep1.fas_BWA_varscan_standard.vcf\"\n"
     ]
    },
    {
     "name": "stderr",
     "output_type": "stream",
     "text": [
      "Extracting gt element GT\n",
      "\n",
      "Extracting gt element GQ\n",
      "\n",
      "Extracting gt element SDP\n",
      "\n",
      "Extracting gt element DP\n",
      "\n",
      "Extracting gt element RD\n",
      "\n",
      "Extracting gt element AD\n",
      "\n",
      "Extracting gt element FREQ\n",
      "\n",
      "Extracting gt element PVAL\n",
      "\n",
      "Extracting gt element RBQ\n",
      "\n",
      "Extracting gt element ABQ\n",
      "\n",
      "Extracting gt element RDF\n",
      "\n",
      "Extracting gt element RDR\n",
      "\n",
      "Extracting gt element ADF\n",
      "\n",
      "Extracting gt element ADR\n",
      "\n"
     ]
    },
    {
     "name": "stdout",
     "output_type": "stream",
     "text": [
      "[1] \"./varscan/000000000-K4LKV_l01_SynCon_Mix33_rep2.fas_BWA_varscan_standard.vcf\"\n"
     ]
    },
    {
     "name": "stderr",
     "output_type": "stream",
     "text": [
      "Extracting gt element GT\n",
      "\n",
      "Extracting gt element GQ\n",
      "\n",
      "Extracting gt element SDP\n",
      "\n",
      "Extracting gt element DP\n",
      "\n",
      "Extracting gt element RD\n",
      "\n",
      "Extracting gt element AD\n",
      "\n",
      "Extracting gt element FREQ\n",
      "\n",
      "Extracting gt element PVAL\n",
      "\n",
      "Extracting gt element RBQ\n",
      "\n",
      "Extracting gt element ABQ\n",
      "\n",
      "Extracting gt element RDF\n",
      "\n",
      "Extracting gt element RDR\n",
      "\n",
      "Extracting gt element ADF\n",
      "\n",
      "Extracting gt element ADR\n",
      "\n"
     ]
    },
    {
     "name": "stdout",
     "output_type": "stream",
     "text": [
      "[1] \"./varscan/000000000-K4LKV_l01_SynCon_Mix34_rep1.fas_BWA_varscan_standard.vcf\"\n"
     ]
    },
    {
     "name": "stderr",
     "output_type": "stream",
     "text": [
      "Extracting gt element GT\n",
      "\n",
      "Extracting gt element GQ\n",
      "\n",
      "Extracting gt element SDP\n",
      "\n",
      "Extracting gt element DP\n",
      "\n",
      "Extracting gt element RD\n",
      "\n",
      "Extracting gt element AD\n",
      "\n",
      "Extracting gt element FREQ\n",
      "\n",
      "Extracting gt element PVAL\n",
      "\n",
      "Extracting gt element RBQ\n",
      "\n",
      "Extracting gt element ABQ\n",
      "\n",
      "Extracting gt element RDF\n",
      "\n",
      "Extracting gt element RDR\n",
      "\n",
      "Extracting gt element ADF\n",
      "\n",
      "Extracting gt element ADR\n",
      "\n"
     ]
    },
    {
     "name": "stdout",
     "output_type": "stream",
     "text": [
      "[1] \"./varscan/000000000-K4LKV_l01_SynCon_Mix34_rep2.fas_BWA_varscan_standard.vcf\"\n"
     ]
    },
    {
     "name": "stderr",
     "output_type": "stream",
     "text": [
      "Extracting gt element GT\n",
      "\n",
      "Extracting gt element GQ\n",
      "\n",
      "Extracting gt element SDP\n",
      "\n",
      "Extracting gt element DP\n",
      "\n",
      "Extracting gt element RD\n",
      "\n",
      "Extracting gt element AD\n",
      "\n",
      "Extracting gt element FREQ\n",
      "\n",
      "Extracting gt element PVAL\n",
      "\n",
      "Extracting gt element RBQ\n",
      "\n",
      "Extracting gt element ABQ\n",
      "\n",
      "Extracting gt element RDF\n",
      "\n",
      "Extracting gt element RDR\n",
      "\n",
      "Extracting gt element ADF\n",
      "\n",
      "Extracting gt element ADR\n",
      "\n"
     ]
    },
    {
     "name": "stdout",
     "output_type": "stream",
     "text": [
      "[1] \"./varscan/000000000-K4LKV_l01_SynCon_Mix35_rep1.fas_BWA_varscan_standard.vcf\"\n"
     ]
    },
    {
     "name": "stderr",
     "output_type": "stream",
     "text": [
      "Extracting gt element GT\n",
      "\n",
      "Extracting gt element GQ\n",
      "\n",
      "Extracting gt element SDP\n",
      "\n",
      "Extracting gt element DP\n",
      "\n",
      "Extracting gt element RD\n",
      "\n",
      "Extracting gt element AD\n",
      "\n",
      "Extracting gt element FREQ\n",
      "\n",
      "Extracting gt element PVAL\n",
      "\n",
      "Extracting gt element RBQ\n",
      "\n",
      "Extracting gt element ABQ\n",
      "\n",
      "Extracting gt element RDF\n",
      "\n",
      "Extracting gt element RDR\n",
      "\n",
      "Extracting gt element ADF\n",
      "\n",
      "Extracting gt element ADR\n",
      "\n"
     ]
    },
    {
     "name": "stdout",
     "output_type": "stream",
     "text": [
      "[1] \"./varscan/000000000-K4LKV_l01_SynCon_Mix35_rep2.fas_BWA_varscan_standard.vcf\"\n"
     ]
    },
    {
     "name": "stderr",
     "output_type": "stream",
     "text": [
      "Extracting gt element GT\n",
      "\n",
      "Extracting gt element GQ\n",
      "\n",
      "Extracting gt element SDP\n",
      "\n",
      "Extracting gt element DP\n",
      "\n",
      "Extracting gt element RD\n",
      "\n",
      "Extracting gt element AD\n",
      "\n",
      "Extracting gt element FREQ\n",
      "\n",
      "Extracting gt element PVAL\n",
      "\n",
      "Extracting gt element RBQ\n",
      "\n",
      "Extracting gt element ABQ\n",
      "\n",
      "Extracting gt element RDF\n",
      "\n",
      "Extracting gt element RDR\n",
      "\n",
      "Extracting gt element ADF\n",
      "\n",
      "Extracting gt element ADR\n",
      "\n"
     ]
    },
    {
     "name": "stdout",
     "output_type": "stream",
     "text": [
      "[1] \"./varscan/000000000-K4LKV_l01_SynCon_Mix36_rep1.fas_BWA_varscan_standard.vcf\"\n"
     ]
    },
    {
     "name": "stderr",
     "output_type": "stream",
     "text": [
      "Extracting gt element GT\n",
      "\n",
      "Extracting gt element GQ\n",
      "\n",
      "Extracting gt element SDP\n",
      "\n",
      "Extracting gt element DP\n",
      "\n",
      "Extracting gt element RD\n",
      "\n",
      "Extracting gt element AD\n",
      "\n",
      "Extracting gt element FREQ\n",
      "\n",
      "Extracting gt element PVAL\n",
      "\n",
      "Extracting gt element RBQ\n",
      "\n",
      "Extracting gt element ABQ\n",
      "\n",
      "Extracting gt element RDF\n",
      "\n",
      "Extracting gt element RDR\n",
      "\n",
      "Extracting gt element ADF\n",
      "\n",
      "Extracting gt element ADR\n",
      "\n"
     ]
    },
    {
     "name": "stdout",
     "output_type": "stream",
     "text": [
      "[1] \"./varscan/000000000-K4LKV_l01_SynCon_Mix36_rep2.fas_BWA_varscan_standard.vcf\"\n"
     ]
    },
    {
     "name": "stderr",
     "output_type": "stream",
     "text": [
      "Extracting gt element GT\n",
      "\n",
      "Extracting gt element GQ\n",
      "\n",
      "Extracting gt element SDP\n",
      "\n",
      "Extracting gt element DP\n",
      "\n",
      "Extracting gt element RD\n",
      "\n",
      "Extracting gt element AD\n",
      "\n",
      "Extracting gt element FREQ\n",
      "\n",
      "Extracting gt element PVAL\n",
      "\n",
      "Extracting gt element RBQ\n",
      "\n",
      "Extracting gt element ABQ\n",
      "\n",
      "Extracting gt element RDF\n",
      "\n",
      "Extracting gt element RDR\n",
      "\n",
      "Extracting gt element ADF\n",
      "\n",
      "Extracting gt element ADR\n",
      "\n"
     ]
    },
    {
     "name": "stdout",
     "output_type": "stream",
     "text": [
      "[1] \"./varscan/000000000-K4LKV_l01_SynCon_Mix37_rep1.fas_BWA_varscan_standard.vcf\"\n"
     ]
    },
    {
     "name": "stderr",
     "output_type": "stream",
     "text": [
      "Extracting gt element GT\n",
      "\n",
      "Extracting gt element GQ\n",
      "\n",
      "Extracting gt element SDP\n",
      "\n",
      "Extracting gt element DP\n",
      "\n",
      "Extracting gt element RD\n",
      "\n",
      "Extracting gt element AD\n",
      "\n",
      "Extracting gt element FREQ\n",
      "\n",
      "Extracting gt element PVAL\n",
      "\n",
      "Extracting gt element RBQ\n",
      "\n",
      "Extracting gt element ABQ\n",
      "\n",
      "Extracting gt element RDF\n",
      "\n",
      "Extracting gt element RDR\n",
      "\n",
      "Extracting gt element ADF\n",
      "\n",
      "Extracting gt element ADR\n",
      "\n"
     ]
    },
    {
     "name": "stdout",
     "output_type": "stream",
     "text": [
      "[1] \"./varscan/000000000-K4LKV_l01_SynCon_Mix37_rep2.fas_BWA_varscan_standard.vcf\"\n"
     ]
    },
    {
     "name": "stderr",
     "output_type": "stream",
     "text": [
      "Extracting gt element GT\n",
      "\n",
      "Extracting gt element GQ\n",
      "\n",
      "Extracting gt element SDP\n",
      "\n",
      "Extracting gt element DP\n",
      "\n",
      "Extracting gt element RD\n",
      "\n",
      "Extracting gt element AD\n",
      "\n",
      "Extracting gt element FREQ\n",
      "\n",
      "Extracting gt element PVAL\n",
      "\n",
      "Extracting gt element RBQ\n",
      "\n",
      "Extracting gt element ABQ\n",
      "\n",
      "Extracting gt element RDF\n",
      "\n",
      "Extracting gt element RDR\n",
      "\n",
      "Extracting gt element ADF\n",
      "\n",
      "Extracting gt element ADR\n",
      "\n"
     ]
    },
    {
     "name": "stdout",
     "output_type": "stream",
     "text": [
      "[1] \"./varscan/000000000-K4LKV_l01_SynCon_Mix38_rep1.fas_BWA_varscan_standard.vcf\"\n"
     ]
    },
    {
     "name": "stderr",
     "output_type": "stream",
     "text": [
      "Extracting gt element GT\n",
      "\n",
      "Extracting gt element GQ\n",
      "\n",
      "Extracting gt element SDP\n",
      "\n",
      "Extracting gt element DP\n",
      "\n",
      "Extracting gt element RD\n",
      "\n",
      "Extracting gt element AD\n",
      "\n",
      "Extracting gt element FREQ\n",
      "\n",
      "Extracting gt element PVAL\n",
      "\n",
      "Extracting gt element RBQ\n",
      "\n",
      "Extracting gt element ABQ\n",
      "\n",
      "Extracting gt element RDF\n",
      "\n",
      "Extracting gt element RDR\n",
      "\n",
      "Extracting gt element ADF\n",
      "\n",
      "Extracting gt element ADR\n",
      "\n"
     ]
    },
    {
     "name": "stdout",
     "output_type": "stream",
     "text": [
      "[1] \"./varscan/000000000-K4LKV_l01_SynCon_Mix38_rep2.fas_BWA_varscan_standard.vcf\"\n"
     ]
    },
    {
     "name": "stderr",
     "output_type": "stream",
     "text": [
      "Extracting gt element GT\n",
      "\n",
      "Extracting gt element GQ\n",
      "\n",
      "Extracting gt element SDP\n",
      "\n",
      "Extracting gt element DP\n",
      "\n",
      "Extracting gt element RD\n",
      "\n",
      "Extracting gt element AD\n",
      "\n",
      "Extracting gt element FREQ\n",
      "\n",
      "Extracting gt element PVAL\n",
      "\n",
      "Extracting gt element RBQ\n",
      "\n",
      "Extracting gt element ABQ\n",
      "\n",
      "Extracting gt element RDF\n",
      "\n",
      "Extracting gt element RDR\n",
      "\n",
      "Extracting gt element ADF\n",
      "\n",
      "Extracting gt element ADR\n",
      "\n"
     ]
    },
    {
     "name": "stdout",
     "output_type": "stream",
     "text": [
      "[1] \"./varscan/000000000-K4LKV_l01_SynCon_Mix39_rep1.fas_BWA_varscan_standard.vcf\"\n"
     ]
    },
    {
     "name": "stderr",
     "output_type": "stream",
     "text": [
      "Extracting gt element GT\n",
      "\n",
      "Extracting gt element GQ\n",
      "\n",
      "Extracting gt element SDP\n",
      "\n",
      "Extracting gt element DP\n",
      "\n",
      "Extracting gt element RD\n",
      "\n",
      "Extracting gt element AD\n",
      "\n",
      "Extracting gt element FREQ\n",
      "\n",
      "Extracting gt element PVAL\n",
      "\n",
      "Extracting gt element RBQ\n",
      "\n",
      "Extracting gt element ABQ\n",
      "\n",
      "Extracting gt element RDF\n",
      "\n",
      "Extracting gt element RDR\n",
      "\n",
      "Extracting gt element ADF\n",
      "\n",
      "Extracting gt element ADR\n",
      "\n"
     ]
    },
    {
     "name": "stdout",
     "output_type": "stream",
     "text": [
      "[1] \"./varscan/000000000-K4LKV_l01_SynCon_Mix39_rep2.fas_BWA_varscan_standard.vcf\"\n"
     ]
    },
    {
     "name": "stderr",
     "output_type": "stream",
     "text": [
      "Extracting gt element GT\n",
      "\n",
      "Extracting gt element GQ\n",
      "\n",
      "Extracting gt element SDP\n",
      "\n",
      "Extracting gt element DP\n",
      "\n",
      "Extracting gt element RD\n",
      "\n",
      "Extracting gt element AD\n",
      "\n",
      "Extracting gt element FREQ\n",
      "\n",
      "Extracting gt element PVAL\n",
      "\n",
      "Extracting gt element RBQ\n",
      "\n",
      "Extracting gt element ABQ\n",
      "\n",
      "Extracting gt element RDF\n",
      "\n",
      "Extracting gt element RDR\n",
      "\n",
      "Extracting gt element ADF\n",
      "\n",
      "Extracting gt element ADR\n",
      "\n"
     ]
    },
    {
     "name": "stdout",
     "output_type": "stream",
     "text": [
      "[1] \"./varscan/000000000-K4LKV_l01_SynCon_Mix40_rep1.fas_BWA_varscan_standard.vcf\"\n"
     ]
    },
    {
     "name": "stderr",
     "output_type": "stream",
     "text": [
      "Extracting gt element GT\n",
      "\n",
      "Extracting gt element GQ\n",
      "\n",
      "Extracting gt element SDP\n",
      "\n",
      "Extracting gt element DP\n",
      "\n",
      "Extracting gt element RD\n",
      "\n",
      "Extracting gt element AD\n",
      "\n",
      "Extracting gt element FREQ\n",
      "\n",
      "Extracting gt element PVAL\n",
      "\n",
      "Extracting gt element RBQ\n",
      "\n",
      "Extracting gt element ABQ\n",
      "\n",
      "Extracting gt element RDF\n",
      "\n",
      "Extracting gt element RDR\n",
      "\n",
      "Extracting gt element ADF\n",
      "\n",
      "Extracting gt element ADR\n",
      "\n"
     ]
    },
    {
     "name": "stdout",
     "output_type": "stream",
     "text": [
      "[1] \"./varscan/000000000-K4LKV_l01_SynCon_Mix40_rep2.fas_BWA_varscan_standard.vcf\"\n"
     ]
    },
    {
     "name": "stderr",
     "output_type": "stream",
     "text": [
      "Extracting gt element GT\n",
      "\n",
      "Extracting gt element GQ\n",
      "\n",
      "Extracting gt element SDP\n",
      "\n",
      "Extracting gt element DP\n",
      "\n",
      "Extracting gt element RD\n",
      "\n",
      "Extracting gt element AD\n",
      "\n",
      "Extracting gt element FREQ\n",
      "\n",
      "Extracting gt element PVAL\n",
      "\n",
      "Extracting gt element RBQ\n",
      "\n",
      "Extracting gt element ABQ\n",
      "\n",
      "Extracting gt element RDF\n",
      "\n",
      "Extracting gt element RDR\n",
      "\n",
      "Extracting gt element ADF\n",
      "\n",
      "Extracting gt element ADR\n",
      "\n"
     ]
    },
    {
     "name": "stdout",
     "output_type": "stream",
     "text": [
      "[1] \"./varscan/000000000-K4LKV_l01_SynCon_Mix41_rep1.fas_BWA_varscan_standard.vcf\"\n"
     ]
    },
    {
     "name": "stderr",
     "output_type": "stream",
     "text": [
      "Extracting gt element GT\n",
      "\n",
      "Extracting gt element GQ\n",
      "\n",
      "Extracting gt element SDP\n",
      "\n",
      "Extracting gt element DP\n",
      "\n",
      "Extracting gt element RD\n",
      "\n",
      "Extracting gt element AD\n",
      "\n",
      "Extracting gt element FREQ\n",
      "\n",
      "Extracting gt element PVAL\n",
      "\n",
      "Extracting gt element RBQ\n",
      "\n",
      "Extracting gt element ABQ\n",
      "\n",
      "Extracting gt element RDF\n",
      "\n",
      "Extracting gt element RDR\n",
      "\n",
      "Extracting gt element ADF\n",
      "\n",
      "Extracting gt element ADR\n",
      "\n"
     ]
    },
    {
     "name": "stdout",
     "output_type": "stream",
     "text": [
      "[1] \"./varscan/000000000-K4LKV_l01_SynCon_Mix41_rep2.fas_BWA_varscan_standard.vcf\"\n"
     ]
    },
    {
     "name": "stderr",
     "output_type": "stream",
     "text": [
      "Extracting gt element GT\n",
      "\n",
      "Extracting gt element GQ\n",
      "\n",
      "Extracting gt element SDP\n",
      "\n",
      "Extracting gt element DP\n",
      "\n",
      "Extracting gt element RD\n",
      "\n",
      "Extracting gt element AD\n",
      "\n",
      "Extracting gt element FREQ\n",
      "\n",
      "Extracting gt element PVAL\n",
      "\n",
      "Extracting gt element RBQ\n",
      "\n",
      "Extracting gt element ABQ\n",
      "\n",
      "Extracting gt element RDF\n",
      "\n",
      "Extracting gt element RDR\n",
      "\n",
      "Extracting gt element ADF\n",
      "\n",
      "Extracting gt element ADR\n",
      "\n"
     ]
    },
    {
     "name": "stdout",
     "output_type": "stream",
     "text": [
      "[1] \"./varscan/000000000-K4LKV_l01_SynCon_Mix42_rep1.fas_BWA_varscan_standard.vcf\"\n"
     ]
    },
    {
     "name": "stderr",
     "output_type": "stream",
     "text": [
      "Extracting gt element GT\n",
      "\n",
      "Extracting gt element GQ\n",
      "\n",
      "Extracting gt element SDP\n",
      "\n",
      "Extracting gt element DP\n",
      "\n",
      "Extracting gt element RD\n",
      "\n",
      "Extracting gt element AD\n",
      "\n",
      "Extracting gt element FREQ\n",
      "\n",
      "Extracting gt element PVAL\n",
      "\n",
      "Extracting gt element RBQ\n",
      "\n",
      "Extracting gt element ABQ\n",
      "\n",
      "Extracting gt element RDF\n",
      "\n",
      "Extracting gt element RDR\n",
      "\n",
      "Extracting gt element ADF\n",
      "\n",
      "Extracting gt element ADR\n",
      "\n"
     ]
    },
    {
     "name": "stdout",
     "output_type": "stream",
     "text": [
      "[1] \"./varscan/000000000-K4LKV_l01_SynCon_Mix42_rep2.fas_BWA_varscan_standard.vcf\"\n"
     ]
    },
    {
     "name": "stderr",
     "output_type": "stream",
     "text": [
      "Extracting gt element GT\n",
      "\n",
      "Extracting gt element GQ\n",
      "\n",
      "Extracting gt element SDP\n",
      "\n",
      "Extracting gt element DP\n",
      "\n",
      "Extracting gt element RD\n",
      "\n",
      "Extracting gt element AD\n",
      "\n",
      "Extracting gt element FREQ\n",
      "\n",
      "Extracting gt element PVAL\n",
      "\n",
      "Extracting gt element RBQ\n",
      "\n",
      "Extracting gt element ABQ\n",
      "\n",
      "Extracting gt element RDF\n",
      "\n",
      "Extracting gt element RDR\n",
      "\n",
      "Extracting gt element ADF\n",
      "\n",
      "Extracting gt element ADR\n",
      "\n"
     ]
    },
    {
     "name": "stdout",
     "output_type": "stream",
     "text": [
      "[1] \"./varscan/000000000-K4LKV_l01_SynCon_Mix43_rep1.fas_BWA_varscan_standard.vcf\"\n"
     ]
    },
    {
     "name": "stderr",
     "output_type": "stream",
     "text": [
      "Extracting gt element GT\n",
      "\n",
      "Extracting gt element GQ\n",
      "\n",
      "Extracting gt element SDP\n",
      "\n",
      "Extracting gt element DP\n",
      "\n",
      "Extracting gt element RD\n",
      "\n",
      "Extracting gt element AD\n",
      "\n",
      "Extracting gt element FREQ\n",
      "\n",
      "Extracting gt element PVAL\n",
      "\n",
      "Extracting gt element RBQ\n",
      "\n",
      "Extracting gt element ABQ\n",
      "\n",
      "Extracting gt element RDF\n",
      "\n",
      "Extracting gt element RDR\n",
      "\n",
      "Extracting gt element ADF\n",
      "\n",
      "Extracting gt element ADR\n",
      "\n"
     ]
    },
    {
     "name": "stdout",
     "output_type": "stream",
     "text": [
      "[1] \"./varscan/000000000-K4LKV_l01_SynCon_Mix43_rep2.fas_BWA_varscan_standard.vcf\"\n"
     ]
    },
    {
     "name": "stderr",
     "output_type": "stream",
     "text": [
      "Extracting gt element GT\n",
      "\n",
      "Extracting gt element GQ\n",
      "\n",
      "Extracting gt element SDP\n",
      "\n",
      "Extracting gt element DP\n",
      "\n",
      "Extracting gt element RD\n",
      "\n",
      "Extracting gt element AD\n",
      "\n",
      "Extracting gt element FREQ\n",
      "\n",
      "Extracting gt element PVAL\n",
      "\n",
      "Extracting gt element RBQ\n",
      "\n",
      "Extracting gt element ABQ\n",
      "\n",
      "Extracting gt element RDF\n",
      "\n",
      "Extracting gt element RDR\n",
      "\n",
      "Extracting gt element ADF\n",
      "\n",
      "Extracting gt element ADR\n",
      "\n"
     ]
    },
    {
     "name": "stdout",
     "output_type": "stream",
     "text": [
      "[1] \"./varscan/000000000-K4LKV_l01_SynCon_Mix44_rep1.fas_BWA_varscan_standard.vcf\"\n"
     ]
    },
    {
     "name": "stderr",
     "output_type": "stream",
     "text": [
      "Extracting gt element GT\n",
      "\n",
      "Extracting gt element GQ\n",
      "\n",
      "Extracting gt element SDP\n",
      "\n",
      "Extracting gt element DP\n",
      "\n",
      "Extracting gt element RD\n",
      "\n",
      "Extracting gt element AD\n",
      "\n",
      "Extracting gt element FREQ\n",
      "\n",
      "Extracting gt element PVAL\n",
      "\n",
      "Extracting gt element RBQ\n",
      "\n",
      "Extracting gt element ABQ\n",
      "\n",
      "Extracting gt element RDF\n",
      "\n",
      "Extracting gt element RDR\n",
      "\n",
      "Extracting gt element ADF\n",
      "\n",
      "Extracting gt element ADR\n",
      "\n"
     ]
    },
    {
     "name": "stdout",
     "output_type": "stream",
     "text": [
      "[1] \"./varscan/000000000-K4LKV_l01_SynCon_Mix44_rep2.fas_BWA_varscan_standard.vcf\"\n"
     ]
    },
    {
     "name": "stderr",
     "output_type": "stream",
     "text": [
      "Extracting gt element GT\n",
      "\n",
      "Extracting gt element GQ\n",
      "\n",
      "Extracting gt element SDP\n",
      "\n",
      "Extracting gt element DP\n",
      "\n",
      "Extracting gt element RD\n",
      "\n",
      "Extracting gt element AD\n",
      "\n",
      "Extracting gt element FREQ\n",
      "\n",
      "Extracting gt element PVAL\n",
      "\n",
      "Extracting gt element RBQ\n",
      "\n",
      "Extracting gt element ABQ\n",
      "\n",
      "Extracting gt element RDF\n",
      "\n",
      "Extracting gt element RDR\n",
      "\n",
      "Extracting gt element ADF\n",
      "\n",
      "Extracting gt element ADR\n",
      "\n"
     ]
    }
   ],
   "source": [
    "# make data frame to hold varscan vcf files\n",
    "vcf.varscan <- data.frame()\n",
    "\n",
    "# for each varscan vcf file\n",
    "for (filename in vcfs.v) {\n",
    "    print(filename)\n",
    "    # read in a file\n",
    "    # convert to usable data frame\n",
    "    # set source_ID column\n",
    "    vcf <- read.vcfR(filename, verbose = FALSE)\n",
    "    vcf_df <- vcfR2tidy(vcf,single_frame = TRUE)\n",
    "    vcf_df <- as.data.frame(vcf_df[[1]])\n",
    "    \n",
    "    if(nrow(vcf_df) > 0) {\n",
    "        vcf_df$source_ID <- filename\n",
    "\n",
    "        # add to varscan data frame\n",
    "        vcf.varscan <- rbind(vcf.varscan, vcf_df)\n",
    "    }\n",
    "    \n",
    "}\n",
    "\n",
    "# select desired columns\n",
    "vcf.varscan <- vcf.varscan %>% select(source_ID, CHROM, POS, REF, ALT, QUAL, FILTER, gt_AD, ADP, gt_AD, gt_DP)\n",
    "\n",
    "# convert column class to numeric where applicable\n",
    "vcf.varscan$gt_DP = as.numeric(vcf.varscan$gt_DP)\n",
    "vcf.varscan$ADP = as.numeric(vcf.varscan$ADP)\n",
    "# calculate frequency using AD and ADP\n",
    "vcf.varscan <- vcf.varscan %>%\n",
    "    mutate(FREQ = gt_AD/ADP)\n",
    "vcf.varscan$FREQ <- round(vcf.varscan$FREQ, digits = 4)\n",
    "\n",
    "# separate tool and file columns\n",
    "vcf.varscan <- separate(vcf.varscan, source_ID, sep = \"/\", \n",
    "               into = c(\"dot\",\"tool\",\"file\")) %>%\n",
    "                select(-c(dot))\n",
    "\n",
    "# get source_ID\n",
    "vcf.varscan <- separate(vcf.varscan, file, sep = \".fas\", \n",
    "               into = c(\"source_ID\",\"rest\")) %>%\n",
    "                select(-c(rest))\n",
    "\n",
    "# select necessary columns\n",
    "vcf.varscan <- vcf.varscan %>% select(tool, source_ID, CHROM, POS, REF, ALT, FREQ, ADP)\n",
    "\n",
    "# set names of columns to match other tools\n",
    "names(vcf.varscan) <- c(\"tool\",\"source_ID\",\"segment\",\"ntpos\",\"refnt\",\"varnt\",\"varfreq\",\"totalcount\")"
   ]
  },
  {
   "cell_type": "markdown",
   "metadata": {},
   "source": [
    "#### Mutect2 VCF files"
   ]
  },
  {
   "cell_type": "code",
   "execution_count": 111,
   "metadata": {
    "collapsed": true,
    "jupyter": {
     "outputs_hidden": true
    }
   },
   "outputs": [
    {
     "name": "stdout",
     "output_type": "stream",
     "text": [
      "[1] \"./mutect2/000000000-K4LKV_l01_SynCon_Mix01_rep1.fas_BWA_mutect2_standard_unfiltered.vcf\"\n"
     ]
    },
    {
     "name": "stderr",
     "output_type": "stream",
     "text": [
      "Extracting gt element AD\n",
      "\n",
      "Extracting gt element AF\n",
      "\n",
      "Extracting gt element DP\n",
      "\n",
      "Extracting gt element F1R2\n",
      "\n",
      "Extracting gt element F2R1\n",
      "\n",
      "Extracting gt element GQ\n",
      "\n",
      "Extracting gt element GT\n",
      "\n",
      "Extracting gt element PGT\n",
      "\n",
      "Extracting gt element PID\n",
      "\n",
      "Extracting gt element PL\n",
      "\n",
      "Extracting gt element PS\n",
      "\n",
      "Extracting gt element SB\n",
      "\n"
     ]
    },
    {
     "name": "stdout",
     "output_type": "stream",
     "text": [
      "[1] \"./mutect2/000000000-K4LKV_l01_SynCon_Mix01_rep2.fas_BWA_mutect2_standard_unfiltered.vcf\"\n"
     ]
    },
    {
     "name": "stderr",
     "output_type": "stream",
     "text": [
      "Extracting gt element AD\n",
      "\n",
      "Extracting gt element AF\n",
      "\n",
      "Extracting gt element DP\n",
      "\n",
      "Extracting gt element F1R2\n",
      "\n",
      "Extracting gt element F2R1\n",
      "\n",
      "Extracting gt element GQ\n",
      "\n",
      "Extracting gt element GT\n",
      "\n",
      "Extracting gt element PGT\n",
      "\n",
      "Extracting gt element PID\n",
      "\n",
      "Extracting gt element PL\n",
      "\n",
      "Extracting gt element PS\n",
      "\n",
      "Extracting gt element SB\n",
      "\n"
     ]
    },
    {
     "name": "stdout",
     "output_type": "stream",
     "text": [
      "[1] \"./mutect2/000000000-K4LKV_l01_SynCon_Mix02_rep1.fas_BWA_mutect2_standard_unfiltered.vcf\"\n"
     ]
    },
    {
     "name": "stderr",
     "output_type": "stream",
     "text": [
      "Extracting gt element AD\n",
      "\n",
      "Extracting gt element AF\n",
      "\n",
      "Extracting gt element DP\n",
      "\n",
      "Extracting gt element F1R2\n",
      "\n",
      "Extracting gt element F2R1\n",
      "\n",
      "Extracting gt element GQ\n",
      "\n",
      "Extracting gt element GT\n",
      "\n",
      "Extracting gt element PGT\n",
      "\n",
      "Extracting gt element PID\n",
      "\n",
      "Extracting gt element PL\n",
      "\n",
      "Extracting gt element PS\n",
      "\n",
      "Extracting gt element SB\n",
      "\n"
     ]
    },
    {
     "name": "stdout",
     "output_type": "stream",
     "text": [
      "[1] \"./mutect2/000000000-K4LKV_l01_SynCon_Mix02_rep2.fas_BWA_mutect2_standard_unfiltered.vcf\"\n"
     ]
    },
    {
     "name": "stderr",
     "output_type": "stream",
     "text": [
      "Extracting gt element AD\n",
      "\n",
      "Extracting gt element AF\n",
      "\n",
      "Extracting gt element DP\n",
      "\n",
      "Extracting gt element F1R2\n",
      "\n",
      "Extracting gt element F2R1\n",
      "\n",
      "Extracting gt element GQ\n",
      "\n",
      "Extracting gt element GT\n",
      "\n",
      "Extracting gt element PGT\n",
      "\n",
      "Extracting gt element PID\n",
      "\n",
      "Extracting gt element PL\n",
      "\n",
      "Extracting gt element PS\n",
      "\n",
      "Extracting gt element SB\n",
      "\n"
     ]
    },
    {
     "name": "stdout",
     "output_type": "stream",
     "text": [
      "[1] \"./mutect2/000000000-K4LKV_l01_SynCon_Mix03_rep1.fas_BWA_mutect2_standard_unfiltered.vcf\"\n"
     ]
    },
    {
     "name": "stderr",
     "output_type": "stream",
     "text": [
      "Extracting gt element AD\n",
      "\n",
      "Extracting gt element AF\n",
      "\n",
      "Extracting gt element DP\n",
      "\n",
      "Extracting gt element F1R2\n",
      "\n",
      "Extracting gt element F2R1\n",
      "\n",
      "Extracting gt element GQ\n",
      "\n",
      "Extracting gt element GT\n",
      "\n",
      "Extracting gt element PGT\n",
      "\n",
      "Extracting gt element PID\n",
      "\n",
      "Extracting gt element PL\n",
      "\n",
      "Extracting gt element PS\n",
      "\n",
      "Extracting gt element SB\n",
      "\n"
     ]
    },
    {
     "name": "stdout",
     "output_type": "stream",
     "text": [
      "[1] \"./mutect2/000000000-K4LKV_l01_SynCon_Mix03_rep2.fas_BWA_mutect2_standard_unfiltered.vcf\"\n"
     ]
    },
    {
     "name": "stderr",
     "output_type": "stream",
     "text": [
      "Extracting gt element AD\n",
      "\n",
      "Extracting gt element AF\n",
      "\n",
      "Extracting gt element DP\n",
      "\n",
      "Extracting gt element F1R2\n",
      "\n",
      "Extracting gt element F2R1\n",
      "\n",
      "Extracting gt element GQ\n",
      "\n",
      "Extracting gt element GT\n",
      "\n",
      "Extracting gt element PGT\n",
      "\n",
      "Extracting gt element PID\n",
      "\n",
      "Extracting gt element PL\n",
      "\n",
      "Extracting gt element PS\n",
      "\n",
      "Extracting gt element SB\n",
      "\n"
     ]
    },
    {
     "name": "stdout",
     "output_type": "stream",
     "text": [
      "[1] \"./mutect2/000000000-K4LKV_l01_SynCon_Mix04_rep1.fas_BWA_mutect2_standard_unfiltered.vcf\"\n"
     ]
    },
    {
     "name": "stderr",
     "output_type": "stream",
     "text": [
      "Extracting gt element AD\n",
      "\n",
      "Extracting gt element AF\n",
      "\n",
      "Extracting gt element DP\n",
      "\n",
      "Extracting gt element F1R2\n",
      "\n",
      "Extracting gt element F2R1\n",
      "\n",
      "Extracting gt element GQ\n",
      "\n",
      "Extracting gt element GT\n",
      "\n",
      "Extracting gt element PGT\n",
      "\n",
      "Extracting gt element PID\n",
      "\n",
      "Extracting gt element PL\n",
      "\n",
      "Extracting gt element PS\n",
      "\n",
      "Extracting gt element SB\n",
      "\n"
     ]
    },
    {
     "name": "stdout",
     "output_type": "stream",
     "text": [
      "[1] \"./mutect2/000000000-K4LKV_l01_SynCon_Mix04_rep2.fas_BWA_mutect2_standard_unfiltered.vcf\"\n"
     ]
    },
    {
     "name": "stderr",
     "output_type": "stream",
     "text": [
      "Extracting gt element AD\n",
      "\n",
      "Extracting gt element AF\n",
      "\n",
      "Extracting gt element DP\n",
      "\n",
      "Extracting gt element F1R2\n",
      "\n",
      "Extracting gt element F2R1\n",
      "\n",
      "Extracting gt element GQ\n",
      "\n",
      "Extracting gt element GT\n",
      "\n",
      "Extracting gt element PGT\n",
      "\n",
      "Extracting gt element PID\n",
      "\n",
      "Extracting gt element PL\n",
      "\n",
      "Extracting gt element PS\n",
      "\n",
      "Extracting gt element SB\n",
      "\n"
     ]
    },
    {
     "name": "stdout",
     "output_type": "stream",
     "text": [
      "[1] \"./mutect2/000000000-K4LKV_l01_SynCon_Mix05_rep1.fas_BWA_mutect2_standard_unfiltered.vcf\"\n"
     ]
    },
    {
     "name": "stderr",
     "output_type": "stream",
     "text": [
      "Extracting gt element AD\n",
      "\n",
      "Extracting gt element AF\n",
      "\n",
      "Extracting gt element DP\n",
      "\n",
      "Extracting gt element F1R2\n",
      "\n",
      "Extracting gt element F2R1\n",
      "\n",
      "Extracting gt element GQ\n",
      "\n",
      "Extracting gt element GT\n",
      "\n",
      "Extracting gt element PGT\n",
      "\n",
      "Extracting gt element PID\n",
      "\n",
      "Extracting gt element PL\n",
      "\n",
      "Extracting gt element PS\n",
      "\n",
      "Extracting gt element SB\n",
      "\n"
     ]
    },
    {
     "name": "stdout",
     "output_type": "stream",
     "text": [
      "[1] \"./mutect2/000000000-K4LKV_l01_SynCon_Mix05_rep2.fas_BWA_mutect2_standard_unfiltered.vcf\"\n"
     ]
    },
    {
     "name": "stderr",
     "output_type": "stream",
     "text": [
      "Extracting gt element AD\n",
      "\n",
      "Extracting gt element AF\n",
      "\n",
      "Extracting gt element DP\n",
      "\n",
      "Extracting gt element F1R2\n",
      "\n",
      "Extracting gt element F2R1\n",
      "\n",
      "Extracting gt element GQ\n",
      "\n",
      "Extracting gt element GT\n",
      "\n",
      "Extracting gt element PGT\n",
      "\n",
      "Extracting gt element PID\n",
      "\n",
      "Extracting gt element PL\n",
      "\n",
      "Extracting gt element PS\n",
      "\n",
      "Extracting gt element SB\n",
      "\n"
     ]
    },
    {
     "name": "stdout",
     "output_type": "stream",
     "text": [
      "[1] \"./mutect2/000000000-K4LKV_l01_SynCon_Mix06_rep1.fas_BWA_mutect2_standard_unfiltered.vcf\"\n"
     ]
    },
    {
     "name": "stderr",
     "output_type": "stream",
     "text": [
      "Extracting gt element AD\n",
      "\n",
      "Extracting gt element AF\n",
      "\n",
      "Extracting gt element DP\n",
      "\n",
      "Extracting gt element F1R2\n",
      "\n",
      "Extracting gt element F2R1\n",
      "\n",
      "Extracting gt element GQ\n",
      "\n",
      "Extracting gt element GT\n",
      "\n",
      "Extracting gt element PGT\n",
      "\n",
      "Extracting gt element PID\n",
      "\n",
      "Extracting gt element PL\n",
      "\n",
      "Extracting gt element PS\n",
      "\n",
      "Extracting gt element SB\n",
      "\n"
     ]
    },
    {
     "name": "stdout",
     "output_type": "stream",
     "text": [
      "[1] \"./mutect2/000000000-K4LKV_l01_SynCon_Mix06_rep2.fas_BWA_mutect2_standard_unfiltered.vcf\"\n"
     ]
    },
    {
     "name": "stderr",
     "output_type": "stream",
     "text": [
      "Extracting gt element AD\n",
      "\n",
      "Extracting gt element AF\n",
      "\n",
      "Extracting gt element DP\n",
      "\n",
      "Extracting gt element F1R2\n",
      "\n",
      "Extracting gt element F2R1\n",
      "\n",
      "Extracting gt element GQ\n",
      "\n",
      "Extracting gt element GT\n",
      "\n",
      "Extracting gt element PGT\n",
      "\n",
      "Extracting gt element PID\n",
      "\n",
      "Extracting gt element PL\n",
      "\n",
      "Extracting gt element PS\n",
      "\n",
      "Extracting gt element SB\n",
      "\n"
     ]
    },
    {
     "name": "stdout",
     "output_type": "stream",
     "text": [
      "[1] \"./mutect2/000000000-K4LKV_l01_SynCon_Mix07_rep1.fas_BWA_mutect2_standard_unfiltered.vcf\"\n"
     ]
    },
    {
     "name": "stderr",
     "output_type": "stream",
     "text": [
      "Extracting gt element AD\n",
      "\n",
      "Extracting gt element AF\n",
      "\n",
      "Extracting gt element DP\n",
      "\n",
      "Extracting gt element F1R2\n",
      "\n",
      "Extracting gt element F2R1\n",
      "\n",
      "Extracting gt element GQ\n",
      "\n",
      "Extracting gt element GT\n",
      "\n",
      "Extracting gt element PGT\n",
      "\n",
      "Extracting gt element PID\n",
      "\n",
      "Extracting gt element PL\n",
      "\n",
      "Extracting gt element PS\n",
      "\n",
      "Extracting gt element SB\n",
      "\n",
      "Warning message:\n",
      "“Expected 3 pieces. Additional pieces discarded in 1 rows [1].”\n",
      "Warning message:\n",
      "“Expected 2 pieces. Additional pieces discarded in 1 rows [1].”\n"
     ]
    },
    {
     "name": "stdout",
     "output_type": "stream",
     "text": [
      "[1] \"./mutect2/000000000-K4LKV_l01_SynCon_Mix07_rep2.fas_BWA_mutect2_standard_unfiltered.vcf\"\n"
     ]
    },
    {
     "name": "stderr",
     "output_type": "stream",
     "text": [
      "Extracting gt element AD\n",
      "\n",
      "Extracting gt element AF\n",
      "\n",
      "Extracting gt element DP\n",
      "\n",
      "Extracting gt element F1R2\n",
      "\n",
      "Extracting gt element F2R1\n",
      "\n",
      "Extracting gt element GQ\n",
      "\n",
      "Extracting gt element GT\n",
      "\n",
      "Extracting gt element PGT\n",
      "\n",
      "Extracting gt element PID\n",
      "\n",
      "Extracting gt element PL\n",
      "\n",
      "Extracting gt element PS\n",
      "\n",
      "Extracting gt element SB\n",
      "\n"
     ]
    },
    {
     "name": "stdout",
     "output_type": "stream",
     "text": [
      "[1] \"./mutect2/000000000-K4LKV_l01_SynCon_Mix08_rep1.fas_BWA_mutect2_standard_unfiltered.vcf\"\n"
     ]
    },
    {
     "name": "stderr",
     "output_type": "stream",
     "text": [
      "Extracting gt element AD\n",
      "\n",
      "Extracting gt element AF\n",
      "\n",
      "Extracting gt element DP\n",
      "\n",
      "Extracting gt element F1R2\n",
      "\n",
      "Extracting gt element F2R1\n",
      "\n",
      "Extracting gt element GQ\n",
      "\n",
      "Extracting gt element GT\n",
      "\n",
      "Extracting gt element PGT\n",
      "\n",
      "Extracting gt element PID\n",
      "\n",
      "Extracting gt element PL\n",
      "\n",
      "Extracting gt element PS\n",
      "\n",
      "Extracting gt element SB\n",
      "\n"
     ]
    },
    {
     "name": "stdout",
     "output_type": "stream",
     "text": [
      "[1] \"./mutect2/000000000-K4LKV_l01_SynCon_Mix08_rep2.fas_BWA_mutect2_standard_unfiltered.vcf\"\n"
     ]
    },
    {
     "name": "stderr",
     "output_type": "stream",
     "text": [
      "Extracting gt element AD\n",
      "\n",
      "Extracting gt element AF\n",
      "\n",
      "Extracting gt element DP\n",
      "\n",
      "Extracting gt element F1R2\n",
      "\n",
      "Extracting gt element F2R1\n",
      "\n",
      "Extracting gt element GQ\n",
      "\n",
      "Extracting gt element GT\n",
      "\n",
      "Extracting gt element PGT\n",
      "\n",
      "Extracting gt element PID\n",
      "\n",
      "Extracting gt element PL\n",
      "\n",
      "Extracting gt element PS\n",
      "\n",
      "Extracting gt element SB\n",
      "\n"
     ]
    },
    {
     "name": "stdout",
     "output_type": "stream",
     "text": [
      "[1] \"./mutect2/000000000-K4LKV_l01_SynCon_Mix09_rep1.fas_BWA_mutect2_standard_unfiltered.vcf\"\n"
     ]
    },
    {
     "name": "stderr",
     "output_type": "stream",
     "text": [
      "Extracting gt element AD\n",
      "\n",
      "Extracting gt element AF\n",
      "\n",
      "Extracting gt element DP\n",
      "\n",
      "Extracting gt element F1R2\n",
      "\n",
      "Extracting gt element F2R1\n",
      "\n",
      "Extracting gt element GQ\n",
      "\n",
      "Extracting gt element GT\n",
      "\n",
      "Extracting gt element PGT\n",
      "\n",
      "Extracting gt element PID\n",
      "\n",
      "Extracting gt element PL\n",
      "\n",
      "Extracting gt element PS\n",
      "\n",
      "Extracting gt element SB\n",
      "\n"
     ]
    },
    {
     "name": "stdout",
     "output_type": "stream",
     "text": [
      "[1] \"./mutect2/000000000-K4LKV_l01_SynCon_Mix09_rep2.fas_BWA_mutect2_standard_unfiltered.vcf\"\n"
     ]
    },
    {
     "name": "stderr",
     "output_type": "stream",
     "text": [
      "Extracting gt element AD\n",
      "\n",
      "Extracting gt element AF\n",
      "\n",
      "Extracting gt element DP\n",
      "\n",
      "Extracting gt element F1R2\n",
      "\n",
      "Extracting gt element F2R1\n",
      "\n",
      "Extracting gt element GQ\n",
      "\n",
      "Extracting gt element GT\n",
      "\n",
      "Extracting gt element PGT\n",
      "\n",
      "Extracting gt element PID\n",
      "\n",
      "Extracting gt element PL\n",
      "\n",
      "Extracting gt element PS\n",
      "\n",
      "Extracting gt element SB\n",
      "\n"
     ]
    },
    {
     "name": "stdout",
     "output_type": "stream",
     "text": [
      "[1] \"./mutect2/000000000-K4LKV_l01_SynCon_Mix10_rep1.fas_BWA_mutect2_standard_unfiltered.vcf\"\n"
     ]
    },
    {
     "name": "stderr",
     "output_type": "stream",
     "text": [
      "Extracting gt element AD\n",
      "\n",
      "Extracting gt element AF\n",
      "\n",
      "Extracting gt element DP\n",
      "\n",
      "Extracting gt element F1R2\n",
      "\n",
      "Extracting gt element F2R1\n",
      "\n",
      "Extracting gt element GQ\n",
      "\n",
      "Extracting gt element GT\n",
      "\n",
      "Extracting gt element PGT\n",
      "\n",
      "Extracting gt element PID\n",
      "\n",
      "Extracting gt element PL\n",
      "\n",
      "Extracting gt element PS\n",
      "\n",
      "Extracting gt element SB\n",
      "\n"
     ]
    },
    {
     "name": "stdout",
     "output_type": "stream",
     "text": [
      "[1] \"./mutect2/000000000-K4LKV_l01_SynCon_Mix10_rep2.fas_BWA_mutect2_standard_unfiltered.vcf\"\n"
     ]
    },
    {
     "name": "stderr",
     "output_type": "stream",
     "text": [
      "Extracting gt element AD\n",
      "\n",
      "Extracting gt element AF\n",
      "\n",
      "Extracting gt element DP\n",
      "\n",
      "Extracting gt element F1R2\n",
      "\n",
      "Extracting gt element F2R1\n",
      "\n",
      "Extracting gt element GQ\n",
      "\n",
      "Extracting gt element GT\n",
      "\n",
      "Extracting gt element PGT\n",
      "\n",
      "Extracting gt element PID\n",
      "\n",
      "Extracting gt element PL\n",
      "\n",
      "Extracting gt element PS\n",
      "\n",
      "Extracting gt element SB\n",
      "\n"
     ]
    },
    {
     "name": "stdout",
     "output_type": "stream",
     "text": [
      "[1] \"./mutect2/000000000-K4LKV_l01_SynCon_Mix11_rep1.fas_BWA_mutect2_standard_unfiltered.vcf\"\n"
     ]
    },
    {
     "name": "stderr",
     "output_type": "stream",
     "text": [
      "Extracting gt element AD\n",
      "\n",
      "Extracting gt element AF\n",
      "\n",
      "Extracting gt element DP\n",
      "\n",
      "Extracting gt element F1R2\n",
      "\n",
      "Extracting gt element F2R1\n",
      "\n",
      "Extracting gt element GQ\n",
      "\n",
      "Extracting gt element GT\n",
      "\n",
      "Extracting gt element PGT\n",
      "\n",
      "Extracting gt element PID\n",
      "\n",
      "Extracting gt element PL\n",
      "\n",
      "Extracting gt element PS\n",
      "\n",
      "Extracting gt element SB\n",
      "\n"
     ]
    },
    {
     "name": "stdout",
     "output_type": "stream",
     "text": [
      "[1] \"./mutect2/000000000-K4LKV_l01_SynCon_Mix11_rep2.fas_BWA_mutect2_standard_unfiltered.vcf\"\n"
     ]
    },
    {
     "name": "stderr",
     "output_type": "stream",
     "text": [
      "Extracting gt element AD\n",
      "\n",
      "Extracting gt element AF\n",
      "\n",
      "Extracting gt element DP\n",
      "\n",
      "Extracting gt element F1R2\n",
      "\n",
      "Extracting gt element F2R1\n",
      "\n",
      "Extracting gt element GQ\n",
      "\n",
      "Extracting gt element GT\n",
      "\n",
      "Extracting gt element PGT\n",
      "\n",
      "Extracting gt element PID\n",
      "\n",
      "Extracting gt element PL\n",
      "\n",
      "Extracting gt element PS\n",
      "\n",
      "Extracting gt element SB\n",
      "\n"
     ]
    },
    {
     "name": "stdout",
     "output_type": "stream",
     "text": [
      "[1] \"./mutect2/000000000-K4LKV_l01_SynCon_Mix12_rep1.fas_BWA_mutect2_standard_unfiltered.vcf\"\n"
     ]
    },
    {
     "name": "stderr",
     "output_type": "stream",
     "text": [
      "Extracting gt element AD\n",
      "\n",
      "Extracting gt element AF\n",
      "\n",
      "Extracting gt element DP\n",
      "\n",
      "Extracting gt element F1R2\n",
      "\n",
      "Extracting gt element F2R1\n",
      "\n",
      "Extracting gt element GQ\n",
      "\n",
      "Extracting gt element GT\n",
      "\n",
      "Extracting gt element PGT\n",
      "\n",
      "Extracting gt element PID\n",
      "\n",
      "Extracting gt element PL\n",
      "\n",
      "Extracting gt element PS\n",
      "\n",
      "Extracting gt element SB\n",
      "\n"
     ]
    },
    {
     "name": "stdout",
     "output_type": "stream",
     "text": [
      "[1] \"./mutect2/000000000-K4LKV_l01_SynCon_Mix12_rep2.fas_BWA_mutect2_standard_unfiltered.vcf\"\n"
     ]
    },
    {
     "name": "stderr",
     "output_type": "stream",
     "text": [
      "Extracting gt element AD\n",
      "\n",
      "Extracting gt element AF\n",
      "\n",
      "Extracting gt element DP\n",
      "\n",
      "Extracting gt element F1R2\n",
      "\n",
      "Extracting gt element F2R1\n",
      "\n",
      "Extracting gt element GQ\n",
      "\n",
      "Extracting gt element GT\n",
      "\n",
      "Extracting gt element PGT\n",
      "\n",
      "Extracting gt element PID\n",
      "\n",
      "Extracting gt element PL\n",
      "\n",
      "Extracting gt element PS\n",
      "\n",
      "Extracting gt element SB\n",
      "\n"
     ]
    },
    {
     "name": "stdout",
     "output_type": "stream",
     "text": [
      "[1] \"./mutect2/000000000-K4LKV_l01_SynCon_Mix13_rep1.fas_BWA_mutect2_standard_unfiltered.vcf\"\n"
     ]
    },
    {
     "name": "stderr",
     "output_type": "stream",
     "text": [
      "Extracting gt element AD\n",
      "\n",
      "Extracting gt element AF\n",
      "\n",
      "Extracting gt element DP\n",
      "\n",
      "Extracting gt element F1R2\n",
      "\n",
      "Extracting gt element F2R1\n",
      "\n",
      "Extracting gt element GQ\n",
      "\n",
      "Extracting gt element GT\n",
      "\n",
      "Extracting gt element PGT\n",
      "\n",
      "Extracting gt element PID\n",
      "\n",
      "Extracting gt element PL\n",
      "\n",
      "Extracting gt element PS\n",
      "\n",
      "Extracting gt element SB\n",
      "\n"
     ]
    },
    {
     "name": "stdout",
     "output_type": "stream",
     "text": [
      "[1] \"./mutect2/000000000-K4LKV_l01_SynCon_Mix13_rep2.fas_BWA_mutect2_standard_unfiltered.vcf\"\n"
     ]
    },
    {
     "name": "stderr",
     "output_type": "stream",
     "text": [
      "Extracting gt element AD\n",
      "\n",
      "Extracting gt element AF\n",
      "\n",
      "Extracting gt element DP\n",
      "\n",
      "Extracting gt element F1R2\n",
      "\n",
      "Extracting gt element F2R1\n",
      "\n",
      "Extracting gt element GQ\n",
      "\n",
      "Extracting gt element GT\n",
      "\n",
      "Extracting gt element PGT\n",
      "\n",
      "Extracting gt element PID\n",
      "\n",
      "Extracting gt element PL\n",
      "\n",
      "Extracting gt element PS\n",
      "\n",
      "Extracting gt element SB\n",
      "\n"
     ]
    },
    {
     "name": "stdout",
     "output_type": "stream",
     "text": [
      "[1] \"./mutect2/000000000-K4LKV_l01_SynCon_Mix14_rep1.fas_BWA_mutect2_standard_unfiltered.vcf\"\n"
     ]
    },
    {
     "name": "stderr",
     "output_type": "stream",
     "text": [
      "Extracting gt element AD\n",
      "\n",
      "Extracting gt element AF\n",
      "\n",
      "Extracting gt element DP\n",
      "\n",
      "Extracting gt element F1R2\n",
      "\n",
      "Extracting gt element F2R1\n",
      "\n",
      "Extracting gt element GQ\n",
      "\n",
      "Extracting gt element GT\n",
      "\n",
      "Extracting gt element PGT\n",
      "\n",
      "Extracting gt element PID\n",
      "\n",
      "Extracting gt element PL\n",
      "\n",
      "Extracting gt element PS\n",
      "\n",
      "Extracting gt element SB\n",
      "\n"
     ]
    },
    {
     "name": "stdout",
     "output_type": "stream",
     "text": [
      "[1] \"./mutect2/000000000-K4LKV_l01_SynCon_Mix14_rep2.fas_BWA_mutect2_standard_unfiltered.vcf\"\n"
     ]
    },
    {
     "name": "stderr",
     "output_type": "stream",
     "text": [
      "Extracting gt element AD\n",
      "\n",
      "Extracting gt element AF\n",
      "\n",
      "Extracting gt element DP\n",
      "\n",
      "Extracting gt element F1R2\n",
      "\n",
      "Extracting gt element F2R1\n",
      "\n",
      "Extracting gt element GQ\n",
      "\n",
      "Extracting gt element GT\n",
      "\n",
      "Extracting gt element PGT\n",
      "\n",
      "Extracting gt element PID\n",
      "\n",
      "Extracting gt element PL\n",
      "\n",
      "Extracting gt element PS\n",
      "\n",
      "Extracting gt element SB\n",
      "\n"
     ]
    },
    {
     "name": "stdout",
     "output_type": "stream",
     "text": [
      "[1] \"./mutect2/000000000-K4LKV_l01_SynCon_Mix15_rep1.fas_BWA_mutect2_standard_unfiltered.vcf\"\n"
     ]
    },
    {
     "name": "stderr",
     "output_type": "stream",
     "text": [
      "Extracting gt element AD\n",
      "\n",
      "Extracting gt element AF\n",
      "\n",
      "Extracting gt element DP\n",
      "\n",
      "Extracting gt element F1R2\n",
      "\n",
      "Extracting gt element F2R1\n",
      "\n",
      "Extracting gt element GQ\n",
      "\n",
      "Extracting gt element GT\n",
      "\n",
      "Extracting gt element PGT\n",
      "\n",
      "Extracting gt element PID\n",
      "\n",
      "Extracting gt element PL\n",
      "\n",
      "Extracting gt element PS\n",
      "\n",
      "Extracting gt element SB\n",
      "\n"
     ]
    },
    {
     "name": "stdout",
     "output_type": "stream",
     "text": [
      "[1] \"./mutect2/000000000-K4LKV_l01_SynCon_Mix15_rep2.fas_BWA_mutect2_standard_unfiltered.vcf\"\n"
     ]
    },
    {
     "name": "stderr",
     "output_type": "stream",
     "text": [
      "Extracting gt element AD\n",
      "\n",
      "Extracting gt element AF\n",
      "\n",
      "Extracting gt element DP\n",
      "\n",
      "Extracting gt element F1R2\n",
      "\n",
      "Extracting gt element F2R1\n",
      "\n",
      "Extracting gt element GQ\n",
      "\n",
      "Extracting gt element GT\n",
      "\n",
      "Extracting gt element PGT\n",
      "\n",
      "Extracting gt element PID\n",
      "\n",
      "Extracting gt element PL\n",
      "\n",
      "Extracting gt element PS\n",
      "\n",
      "Extracting gt element SB\n",
      "\n"
     ]
    },
    {
     "name": "stdout",
     "output_type": "stream",
     "text": [
      "[1] \"./mutect2/000000000-K4LKV_l01_SynCon_Mix16_rep1.fas_BWA_mutect2_standard_unfiltered.vcf\"\n"
     ]
    },
    {
     "name": "stderr",
     "output_type": "stream",
     "text": [
      "Extracting gt element AD\n",
      "\n",
      "Extracting gt element AF\n",
      "\n",
      "Extracting gt element DP\n",
      "\n",
      "Extracting gt element F1R2\n",
      "\n",
      "Extracting gt element F2R1\n",
      "\n",
      "Extracting gt element GQ\n",
      "\n",
      "Extracting gt element GT\n",
      "\n",
      "Extracting gt element PGT\n",
      "\n",
      "Extracting gt element PID\n",
      "\n",
      "Extracting gt element PL\n",
      "\n",
      "Extracting gt element PS\n",
      "\n",
      "Extracting gt element SB\n",
      "\n"
     ]
    },
    {
     "name": "stdout",
     "output_type": "stream",
     "text": [
      "[1] \"./mutect2/000000000-K4LKV_l01_SynCon_Mix16_rep2.fas_BWA_mutect2_standard_unfiltered.vcf\"\n"
     ]
    },
    {
     "name": "stderr",
     "output_type": "stream",
     "text": [
      "Extracting gt element AD\n",
      "\n",
      "Extracting gt element AF\n",
      "\n",
      "Extracting gt element DP\n",
      "\n",
      "Extracting gt element F1R2\n",
      "\n",
      "Extracting gt element F2R1\n",
      "\n",
      "Extracting gt element GQ\n",
      "\n",
      "Extracting gt element GT\n",
      "\n",
      "Extracting gt element PGT\n",
      "\n",
      "Extracting gt element PID\n",
      "\n",
      "Extracting gt element PL\n",
      "\n",
      "Extracting gt element PS\n",
      "\n",
      "Extracting gt element SB\n",
      "\n"
     ]
    },
    {
     "name": "stdout",
     "output_type": "stream",
     "text": [
      "[1] \"./mutect2/000000000-K4LKV_l01_SynCon_Mix17_rep1.fas_BWA_mutect2_standard_unfiltered.vcf\"\n"
     ]
    },
    {
     "name": "stderr",
     "output_type": "stream",
     "text": [
      "Extracting gt element AD\n",
      "\n",
      "Extracting gt element AF\n",
      "\n",
      "Extracting gt element DP\n",
      "\n",
      "Extracting gt element F1R2\n",
      "\n",
      "Extracting gt element F2R1\n",
      "\n",
      "Extracting gt element GQ\n",
      "\n",
      "Extracting gt element GT\n",
      "\n",
      "Extracting gt element PGT\n",
      "\n",
      "Extracting gt element PID\n",
      "\n",
      "Extracting gt element PL\n",
      "\n",
      "Extracting gt element PS\n",
      "\n",
      "Extracting gt element SB\n",
      "\n"
     ]
    },
    {
     "name": "stdout",
     "output_type": "stream",
     "text": [
      "[1] \"./mutect2/000000000-K4LKV_l01_SynCon_Mix17_rep2.fas_BWA_mutect2_standard_unfiltered.vcf\"\n"
     ]
    },
    {
     "name": "stderr",
     "output_type": "stream",
     "text": [
      "Extracting gt element AD\n",
      "\n",
      "Extracting gt element AF\n",
      "\n",
      "Extracting gt element DP\n",
      "\n",
      "Extracting gt element F1R2\n",
      "\n",
      "Extracting gt element F2R1\n",
      "\n",
      "Extracting gt element GQ\n",
      "\n",
      "Extracting gt element GT\n",
      "\n",
      "Extracting gt element PGT\n",
      "\n",
      "Extracting gt element PID\n",
      "\n",
      "Extracting gt element PL\n",
      "\n",
      "Extracting gt element PS\n",
      "\n",
      "Extracting gt element SB\n",
      "\n"
     ]
    },
    {
     "name": "stdout",
     "output_type": "stream",
     "text": [
      "[1] \"./mutect2/000000000-K4LKV_l01_SynCon_Mix18_rep1.fas_BWA_mutect2_standard_unfiltered.vcf\"\n"
     ]
    },
    {
     "name": "stderr",
     "output_type": "stream",
     "text": [
      "Extracting gt element AD\n",
      "\n",
      "Extracting gt element AF\n",
      "\n",
      "Extracting gt element DP\n",
      "\n",
      "Extracting gt element F1R2\n",
      "\n",
      "Extracting gt element F2R1\n",
      "\n",
      "Extracting gt element GQ\n",
      "\n",
      "Extracting gt element GT\n",
      "\n",
      "Extracting gt element PGT\n",
      "\n",
      "Extracting gt element PID\n",
      "\n",
      "Extracting gt element PL\n",
      "\n",
      "Extracting gt element PS\n",
      "\n",
      "Extracting gt element SB\n",
      "\n"
     ]
    },
    {
     "name": "stdout",
     "output_type": "stream",
     "text": [
      "[1] \"./mutect2/000000000-K4LKV_l01_SynCon_Mix18_rep2.fas_BWA_mutect2_standard_unfiltered.vcf\"\n"
     ]
    },
    {
     "name": "stderr",
     "output_type": "stream",
     "text": [
      "Extracting gt element AD\n",
      "\n",
      "Extracting gt element AF\n",
      "\n",
      "Extracting gt element DP\n",
      "\n",
      "Extracting gt element F1R2\n",
      "\n",
      "Extracting gt element F2R1\n",
      "\n",
      "Extracting gt element GQ\n",
      "\n",
      "Extracting gt element GT\n",
      "\n",
      "Extracting gt element PGT\n",
      "\n",
      "Extracting gt element PID\n",
      "\n",
      "Extracting gt element PL\n",
      "\n",
      "Extracting gt element PS\n",
      "\n",
      "Extracting gt element SB\n",
      "\n"
     ]
    },
    {
     "name": "stdout",
     "output_type": "stream",
     "text": [
      "[1] \"./mutect2/000000000-K4LKV_l01_SynCon_Mix19_rep1.fas_BWA_mutect2_standard_unfiltered.vcf\"\n"
     ]
    },
    {
     "name": "stderr",
     "output_type": "stream",
     "text": [
      "Extracting gt element AD\n",
      "\n",
      "Extracting gt element AF\n",
      "\n",
      "Extracting gt element DP\n",
      "\n",
      "Extracting gt element F1R2\n",
      "\n",
      "Extracting gt element F2R1\n",
      "\n",
      "Extracting gt element GQ\n",
      "\n",
      "Extracting gt element GT\n",
      "\n",
      "Extracting gt element PGT\n",
      "\n",
      "Extracting gt element PID\n",
      "\n",
      "Extracting gt element PL\n",
      "\n",
      "Extracting gt element PS\n",
      "\n",
      "Extracting gt element SB\n",
      "\n"
     ]
    },
    {
     "name": "stdout",
     "output_type": "stream",
     "text": [
      "[1] \"./mutect2/000000000-K4LKV_l01_SynCon_Mix19_rep2.fas_BWA_mutect2_standard_unfiltered.vcf\"\n"
     ]
    },
    {
     "name": "stderr",
     "output_type": "stream",
     "text": [
      "Extracting gt element AD\n",
      "\n",
      "Extracting gt element AF\n",
      "\n",
      "Extracting gt element DP\n",
      "\n",
      "Extracting gt element F1R2\n",
      "\n",
      "Extracting gt element F2R1\n",
      "\n",
      "Extracting gt element GQ\n",
      "\n",
      "Extracting gt element GT\n",
      "\n",
      "Extracting gt element PGT\n",
      "\n",
      "Extracting gt element PID\n",
      "\n",
      "Extracting gt element PL\n",
      "\n",
      "Extracting gt element PS\n",
      "\n",
      "Extracting gt element SB\n",
      "\n"
     ]
    },
    {
     "name": "stdout",
     "output_type": "stream",
     "text": [
      "[1] \"./mutect2/000000000-K4LKV_l01_SynCon_Mix20_rep1.fas_BWA_mutect2_standard_unfiltered.vcf\"\n"
     ]
    },
    {
     "name": "stderr",
     "output_type": "stream",
     "text": [
      "Extracting gt element AD\n",
      "\n",
      "Extracting gt element AF\n",
      "\n",
      "Extracting gt element DP\n",
      "\n",
      "Extracting gt element F1R2\n",
      "\n",
      "Extracting gt element F2R1\n",
      "\n",
      "Extracting gt element GQ\n",
      "\n",
      "Extracting gt element GT\n",
      "\n",
      "Extracting gt element PGT\n",
      "\n",
      "Extracting gt element PID\n",
      "\n",
      "Extracting gt element PL\n",
      "\n",
      "Extracting gt element PS\n",
      "\n",
      "Extracting gt element SB\n",
      "\n"
     ]
    },
    {
     "name": "stdout",
     "output_type": "stream",
     "text": [
      "[1] \"./mutect2/000000000-K4LKV_l01_SynCon_Mix20_rep2.fas_BWA_mutect2_standard_unfiltered.vcf\"\n"
     ]
    },
    {
     "name": "stderr",
     "output_type": "stream",
     "text": [
      "Extracting gt element AD\n",
      "\n",
      "Extracting gt element AF\n",
      "\n",
      "Extracting gt element DP\n",
      "\n",
      "Extracting gt element F1R2\n",
      "\n",
      "Extracting gt element F2R1\n",
      "\n",
      "Extracting gt element GQ\n",
      "\n",
      "Extracting gt element GT\n",
      "\n",
      "Extracting gt element PGT\n",
      "\n",
      "Extracting gt element PID\n",
      "\n",
      "Extracting gt element PL\n",
      "\n",
      "Extracting gt element PS\n",
      "\n",
      "Extracting gt element SB\n",
      "\n"
     ]
    },
    {
     "name": "stdout",
     "output_type": "stream",
     "text": [
      "[1] \"./mutect2/000000000-K4LKV_l01_SynCon_Mix21_rep1.fas_BWA_mutect2_standard_unfiltered.vcf\"\n"
     ]
    },
    {
     "name": "stderr",
     "output_type": "stream",
     "text": [
      "Extracting gt element AD\n",
      "\n",
      "Extracting gt element AF\n",
      "\n",
      "Extracting gt element DP\n",
      "\n",
      "Extracting gt element F1R2\n",
      "\n",
      "Extracting gt element F2R1\n",
      "\n",
      "Extracting gt element GQ\n",
      "\n",
      "Extracting gt element GT\n",
      "\n",
      "Extracting gt element PGT\n",
      "\n",
      "Extracting gt element PID\n",
      "\n",
      "Extracting gt element PL\n",
      "\n",
      "Extracting gt element PS\n",
      "\n",
      "Extracting gt element SB\n",
      "\n"
     ]
    },
    {
     "name": "stdout",
     "output_type": "stream",
     "text": [
      "[1] \"./mutect2/000000000-K4LKV_l01_SynCon_Mix21_rep2.fas_BWA_mutect2_standard_unfiltered.vcf\"\n"
     ]
    },
    {
     "name": "stderr",
     "output_type": "stream",
     "text": [
      "Extracting gt element AD\n",
      "\n",
      "Extracting gt element AF\n",
      "\n",
      "Extracting gt element DP\n",
      "\n",
      "Extracting gt element F1R2\n",
      "\n",
      "Extracting gt element F2R1\n",
      "\n",
      "Extracting gt element GQ\n",
      "\n",
      "Extracting gt element GT\n",
      "\n",
      "Extracting gt element PGT\n",
      "\n",
      "Extracting gt element PID\n",
      "\n",
      "Extracting gt element PL\n",
      "\n",
      "Extracting gt element PS\n",
      "\n",
      "Extracting gt element SB\n",
      "\n"
     ]
    },
    {
     "name": "stdout",
     "output_type": "stream",
     "text": [
      "[1] \"./mutect2/000000000-K4LKV_l01_SynCon_Mix22_rep1.fas_BWA_mutect2_standard_unfiltered.vcf\"\n"
     ]
    },
    {
     "name": "stderr",
     "output_type": "stream",
     "text": [
      "Extracting gt element AD\n",
      "\n",
      "Extracting gt element AF\n",
      "\n",
      "Extracting gt element DP\n",
      "\n",
      "Extracting gt element F1R2\n",
      "\n",
      "Extracting gt element F2R1\n",
      "\n",
      "Extracting gt element GQ\n",
      "\n",
      "Extracting gt element GT\n",
      "\n",
      "Extracting gt element PGT\n",
      "\n",
      "Extracting gt element PID\n",
      "\n",
      "Extracting gt element PL\n",
      "\n",
      "Extracting gt element PS\n",
      "\n",
      "Extracting gt element SB\n",
      "\n"
     ]
    },
    {
     "name": "stdout",
     "output_type": "stream",
     "text": [
      "[1] \"./mutect2/000000000-K4LKV_l01_SynCon_Mix22_rep2.fas_BWA_mutect2_standard_unfiltered.vcf\"\n"
     ]
    },
    {
     "name": "stderr",
     "output_type": "stream",
     "text": [
      "Extracting gt element AD\n",
      "\n",
      "Extracting gt element AF\n",
      "\n",
      "Extracting gt element DP\n",
      "\n",
      "Extracting gt element F1R2\n",
      "\n",
      "Extracting gt element F2R1\n",
      "\n",
      "Extracting gt element GQ\n",
      "\n",
      "Extracting gt element GT\n",
      "\n",
      "Extracting gt element PGT\n",
      "\n",
      "Extracting gt element PID\n",
      "\n",
      "Extracting gt element PL\n",
      "\n",
      "Extracting gt element PS\n",
      "\n",
      "Extracting gt element SB\n",
      "\n"
     ]
    },
    {
     "name": "stdout",
     "output_type": "stream",
     "text": [
      "[1] \"./mutect2/000000000-K4LKV_l01_SynCon_Mix23_rep1.fas_BWA_mutect2_standard_unfiltered.vcf\"\n"
     ]
    },
    {
     "name": "stderr",
     "output_type": "stream",
     "text": [
      "Extracting gt element AD\n",
      "\n",
      "Extracting gt element AF\n",
      "\n",
      "Extracting gt element DP\n",
      "\n",
      "Extracting gt element F1R2\n",
      "\n",
      "Extracting gt element F2R1\n",
      "\n",
      "Extracting gt element GQ\n",
      "\n",
      "Extracting gt element GT\n",
      "\n",
      "Extracting gt element PGT\n",
      "\n",
      "Extracting gt element PID\n",
      "\n",
      "Extracting gt element PL\n",
      "\n",
      "Extracting gt element PS\n",
      "\n",
      "Extracting gt element SB\n",
      "\n"
     ]
    },
    {
     "name": "stdout",
     "output_type": "stream",
     "text": [
      "[1] \"./mutect2/000000000-K4LKV_l01_SynCon_Mix23_rep2.fas_BWA_mutect2_standard_unfiltered.vcf\"\n"
     ]
    },
    {
     "name": "stderr",
     "output_type": "stream",
     "text": [
      "Extracting gt element AD\n",
      "\n",
      "Extracting gt element AF\n",
      "\n",
      "Extracting gt element DP\n",
      "\n",
      "Extracting gt element F1R2\n",
      "\n",
      "Extracting gt element F2R1\n",
      "\n",
      "Extracting gt element GQ\n",
      "\n",
      "Extracting gt element GT\n",
      "\n",
      "Extracting gt element PGT\n",
      "\n",
      "Extracting gt element PID\n",
      "\n",
      "Extracting gt element PL\n",
      "\n",
      "Extracting gt element PS\n",
      "\n",
      "Extracting gt element SB\n",
      "\n"
     ]
    },
    {
     "name": "stdout",
     "output_type": "stream",
     "text": [
      "[1] \"./mutect2/000000000-K4LKV_l01_SynCon_Mix24_rep1.fas_BWA_mutect2_standard_unfiltered.vcf\"\n"
     ]
    },
    {
     "name": "stderr",
     "output_type": "stream",
     "text": [
      "Extracting gt element AD\n",
      "\n",
      "Extracting gt element AF\n",
      "\n",
      "Extracting gt element DP\n",
      "\n",
      "Extracting gt element F1R2\n",
      "\n",
      "Extracting gt element F2R1\n",
      "\n",
      "Extracting gt element GQ\n",
      "\n",
      "Extracting gt element GT\n",
      "\n",
      "Extracting gt element PGT\n",
      "\n",
      "Extracting gt element PID\n",
      "\n",
      "Extracting gt element PL\n",
      "\n",
      "Extracting gt element PS\n",
      "\n",
      "Extracting gt element SB\n",
      "\n"
     ]
    },
    {
     "name": "stdout",
     "output_type": "stream",
     "text": [
      "[1] \"./mutect2/000000000-K4LKV_l01_SynCon_Mix24_rep2.fas_BWA_mutect2_standard_unfiltered.vcf\"\n"
     ]
    },
    {
     "name": "stderr",
     "output_type": "stream",
     "text": [
      "Extracting gt element AD\n",
      "\n",
      "Extracting gt element AF\n",
      "\n",
      "Extracting gt element DP\n",
      "\n",
      "Extracting gt element F1R2\n",
      "\n",
      "Extracting gt element F2R1\n",
      "\n",
      "Extracting gt element GQ\n",
      "\n",
      "Extracting gt element GT\n",
      "\n",
      "Extracting gt element PGT\n",
      "\n",
      "Extracting gt element PID\n",
      "\n",
      "Extracting gt element PL\n",
      "\n",
      "Extracting gt element PS\n",
      "\n",
      "Extracting gt element SB\n",
      "\n"
     ]
    },
    {
     "name": "stdout",
     "output_type": "stream",
     "text": [
      "[1] \"./mutect2/000000000-K4LKV_l01_SynCon_Mix25_rep1.fas_BWA_mutect2_standard_unfiltered.vcf\"\n"
     ]
    },
    {
     "name": "stderr",
     "output_type": "stream",
     "text": [
      "Extracting gt element AD\n",
      "\n",
      "Extracting gt element AF\n",
      "\n",
      "Extracting gt element DP\n",
      "\n",
      "Extracting gt element F1R2\n",
      "\n",
      "Extracting gt element F2R1\n",
      "\n",
      "Extracting gt element GQ\n",
      "\n",
      "Extracting gt element GT\n",
      "\n",
      "Extracting gt element PGT\n",
      "\n",
      "Extracting gt element PID\n",
      "\n",
      "Extracting gt element PL\n",
      "\n",
      "Extracting gt element PS\n",
      "\n",
      "Extracting gt element SB\n",
      "\n"
     ]
    },
    {
     "name": "stdout",
     "output_type": "stream",
     "text": [
      "[1] \"./mutect2/000000000-K4LKV_l01_SynCon_Mix25_rep2.fas_BWA_mutect2_standard_unfiltered.vcf\"\n"
     ]
    },
    {
     "name": "stderr",
     "output_type": "stream",
     "text": [
      "Extracting gt element AD\n",
      "\n",
      "Extracting gt element AF\n",
      "\n",
      "Extracting gt element DP\n",
      "\n",
      "Extracting gt element F1R2\n",
      "\n",
      "Extracting gt element F2R1\n",
      "\n",
      "Extracting gt element GQ\n",
      "\n",
      "Extracting gt element GT\n",
      "\n",
      "Extracting gt element PGT\n",
      "\n",
      "Extracting gt element PID\n",
      "\n",
      "Extracting gt element PL\n",
      "\n",
      "Extracting gt element PS\n",
      "\n",
      "Extracting gt element SB\n",
      "\n"
     ]
    },
    {
     "name": "stdout",
     "output_type": "stream",
     "text": [
      "[1] \"./mutect2/000000000-K4LKV_l01_SynCon_Mix26_rep1.fas_BWA_mutect2_standard_unfiltered.vcf\"\n"
     ]
    },
    {
     "name": "stderr",
     "output_type": "stream",
     "text": [
      "Extracting gt element AD\n",
      "\n",
      "Extracting gt element AF\n",
      "\n",
      "Extracting gt element DP\n",
      "\n",
      "Extracting gt element F1R2\n",
      "\n",
      "Extracting gt element F2R1\n",
      "\n",
      "Extracting gt element GQ\n",
      "\n",
      "Extracting gt element GT\n",
      "\n",
      "Extracting gt element PGT\n",
      "\n",
      "Extracting gt element PID\n",
      "\n",
      "Extracting gt element PL\n",
      "\n",
      "Extracting gt element PS\n",
      "\n",
      "Extracting gt element SB\n",
      "\n"
     ]
    },
    {
     "name": "stdout",
     "output_type": "stream",
     "text": [
      "[1] \"./mutect2/000000000-K4LKV_l01_SynCon_Mix26_rep2.fas_BWA_mutect2_standard_unfiltered.vcf\"\n"
     ]
    },
    {
     "name": "stderr",
     "output_type": "stream",
     "text": [
      "Extracting gt element AD\n",
      "\n",
      "Extracting gt element AF\n",
      "\n",
      "Extracting gt element DP\n",
      "\n",
      "Extracting gt element F1R2\n",
      "\n",
      "Extracting gt element F2R1\n",
      "\n",
      "Extracting gt element GQ\n",
      "\n",
      "Extracting gt element GT\n",
      "\n",
      "Extracting gt element PGT\n",
      "\n",
      "Extracting gt element PID\n",
      "\n",
      "Extracting gt element PL\n",
      "\n",
      "Extracting gt element PS\n",
      "\n",
      "Extracting gt element SB\n",
      "\n"
     ]
    },
    {
     "name": "stdout",
     "output_type": "stream",
     "text": [
      "[1] \"./mutect2/000000000-K4LKV_l01_SynCon_Mix27_rep1.fas_BWA_mutect2_standard_unfiltered.vcf\"\n"
     ]
    },
    {
     "name": "stderr",
     "output_type": "stream",
     "text": [
      "Extracting gt element AD\n",
      "\n",
      "Extracting gt element AF\n",
      "\n",
      "Extracting gt element DP\n",
      "\n",
      "Extracting gt element F1R2\n",
      "\n",
      "Extracting gt element F2R1\n",
      "\n",
      "Extracting gt element GQ\n",
      "\n",
      "Extracting gt element GT\n",
      "\n",
      "Extracting gt element PGT\n",
      "\n",
      "Extracting gt element PID\n",
      "\n",
      "Extracting gt element PL\n",
      "\n",
      "Extracting gt element PS\n",
      "\n",
      "Extracting gt element SB\n",
      "\n"
     ]
    },
    {
     "name": "stdout",
     "output_type": "stream",
     "text": [
      "[1] \"./mutect2/000000000-K4LKV_l01_SynCon_Mix27_rep2.fas_BWA_mutect2_standard_unfiltered.vcf\"\n"
     ]
    },
    {
     "name": "stderr",
     "output_type": "stream",
     "text": [
      "Extracting gt element AD\n",
      "\n",
      "Extracting gt element AF\n",
      "\n",
      "Extracting gt element DP\n",
      "\n",
      "Extracting gt element F1R2\n",
      "\n",
      "Extracting gt element F2R1\n",
      "\n",
      "Extracting gt element GQ\n",
      "\n",
      "Extracting gt element GT\n",
      "\n",
      "Extracting gt element PGT\n",
      "\n",
      "Extracting gt element PID\n",
      "\n",
      "Extracting gt element PL\n",
      "\n",
      "Extracting gt element PS\n",
      "\n",
      "Extracting gt element SB\n",
      "\n"
     ]
    },
    {
     "name": "stdout",
     "output_type": "stream",
     "text": [
      "[1] \"./mutect2/000000000-K4LKV_l01_SynCon_Mix28_rep1.fas_BWA_mutect2_standard_unfiltered.vcf\"\n"
     ]
    },
    {
     "name": "stderr",
     "output_type": "stream",
     "text": [
      "Extracting gt element AD\n",
      "\n",
      "Extracting gt element AF\n",
      "\n",
      "Extracting gt element DP\n",
      "\n",
      "Extracting gt element F1R2\n",
      "\n",
      "Extracting gt element F2R1\n",
      "\n",
      "Extracting gt element GQ\n",
      "\n",
      "Extracting gt element GT\n",
      "\n",
      "Extracting gt element PGT\n",
      "\n",
      "Extracting gt element PID\n",
      "\n",
      "Extracting gt element PL\n",
      "\n",
      "Extracting gt element PS\n",
      "\n",
      "Extracting gt element SB\n",
      "\n"
     ]
    },
    {
     "name": "stdout",
     "output_type": "stream",
     "text": [
      "[1] \"./mutect2/000000000-K4LKV_l01_SynCon_Mix28_rep2.fas_BWA_mutect2_standard_unfiltered.vcf\"\n"
     ]
    },
    {
     "name": "stderr",
     "output_type": "stream",
     "text": [
      "Extracting gt element AD\n",
      "\n",
      "Extracting gt element AF\n",
      "\n",
      "Extracting gt element DP\n",
      "\n",
      "Extracting gt element F1R2\n",
      "\n",
      "Extracting gt element F2R1\n",
      "\n",
      "Extracting gt element GQ\n",
      "\n",
      "Extracting gt element GT\n",
      "\n",
      "Extracting gt element PGT\n",
      "\n",
      "Extracting gt element PID\n",
      "\n",
      "Extracting gt element PL\n",
      "\n",
      "Extracting gt element PS\n",
      "\n",
      "Extracting gt element SB\n",
      "\n"
     ]
    },
    {
     "name": "stdout",
     "output_type": "stream",
     "text": [
      "[1] \"./mutect2/000000000-K4LKV_l01_SynCon_Mix29_rep1.fas_BWA_mutect2_standard_unfiltered.vcf\"\n"
     ]
    },
    {
     "name": "stderr",
     "output_type": "stream",
     "text": [
      "Extracting gt element AD\n",
      "\n",
      "Extracting gt element AF\n",
      "\n",
      "Extracting gt element DP\n",
      "\n",
      "Extracting gt element F1R2\n",
      "\n",
      "Extracting gt element F2R1\n",
      "\n",
      "Extracting gt element GQ\n",
      "\n",
      "Extracting gt element GT\n",
      "\n",
      "Extracting gt element PGT\n",
      "\n",
      "Extracting gt element PID\n",
      "\n",
      "Extracting gt element PL\n",
      "\n",
      "Extracting gt element PS\n",
      "\n",
      "Extracting gt element SB\n",
      "\n"
     ]
    },
    {
     "name": "stdout",
     "output_type": "stream",
     "text": [
      "[1] \"./mutect2/000000000-K4LKV_l01_SynCon_Mix29_rep2.fas_BWA_mutect2_standard_unfiltered.vcf\"\n"
     ]
    },
    {
     "name": "stderr",
     "output_type": "stream",
     "text": [
      "Extracting gt element AD\n",
      "\n",
      "Extracting gt element AF\n",
      "\n",
      "Extracting gt element DP\n",
      "\n",
      "Extracting gt element F1R2\n",
      "\n",
      "Extracting gt element F2R1\n",
      "\n",
      "Extracting gt element GQ\n",
      "\n",
      "Extracting gt element GT\n",
      "\n",
      "Extracting gt element PGT\n",
      "\n",
      "Extracting gt element PID\n",
      "\n",
      "Extracting gt element PL\n",
      "\n",
      "Extracting gt element PS\n",
      "\n",
      "Extracting gt element SB\n",
      "\n"
     ]
    },
    {
     "name": "stdout",
     "output_type": "stream",
     "text": [
      "[1] \"./mutect2/000000000-K4LKV_l01_SynCon_Mix30_rep1.fas_BWA_mutect2_standard_unfiltered.vcf\"\n"
     ]
    },
    {
     "name": "stderr",
     "output_type": "stream",
     "text": [
      "Extracting gt element AD\n",
      "\n",
      "Extracting gt element AF\n",
      "\n",
      "Extracting gt element DP\n",
      "\n",
      "Extracting gt element F1R2\n",
      "\n",
      "Extracting gt element F2R1\n",
      "\n",
      "Extracting gt element GQ\n",
      "\n",
      "Extracting gt element GT\n",
      "\n",
      "Extracting gt element PGT\n",
      "\n",
      "Extracting gt element PID\n",
      "\n",
      "Extracting gt element PL\n",
      "\n",
      "Extracting gt element PS\n",
      "\n",
      "Extracting gt element SB\n",
      "\n"
     ]
    },
    {
     "name": "stdout",
     "output_type": "stream",
     "text": [
      "[1] \"./mutect2/000000000-K4LKV_l01_SynCon_Mix30_rep2.fas_BWA_mutect2_standard_unfiltered.vcf\"\n"
     ]
    },
    {
     "name": "stderr",
     "output_type": "stream",
     "text": [
      "Extracting gt element AD\n",
      "\n",
      "Extracting gt element AF\n",
      "\n",
      "Extracting gt element DP\n",
      "\n",
      "Extracting gt element F1R2\n",
      "\n",
      "Extracting gt element F2R1\n",
      "\n",
      "Extracting gt element GQ\n",
      "\n",
      "Extracting gt element GT\n",
      "\n",
      "Extracting gt element PGT\n",
      "\n",
      "Extracting gt element PID\n",
      "\n",
      "Extracting gt element PL\n",
      "\n",
      "Extracting gt element PS\n",
      "\n",
      "Extracting gt element SB\n",
      "\n"
     ]
    },
    {
     "name": "stdout",
     "output_type": "stream",
     "text": [
      "[1] \"./mutect2/000000000-K4LKV_l01_SynCon_Mix31_rep1.fas_BWA_mutect2_standard_unfiltered.vcf\"\n"
     ]
    },
    {
     "name": "stderr",
     "output_type": "stream",
     "text": [
      "Extracting gt element AD\n",
      "\n",
      "Extracting gt element AF\n",
      "\n",
      "Extracting gt element DP\n",
      "\n",
      "Extracting gt element F1R2\n",
      "\n",
      "Extracting gt element F2R1\n",
      "\n",
      "Extracting gt element GQ\n",
      "\n",
      "Extracting gt element GT\n",
      "\n",
      "Extracting gt element PGT\n",
      "\n",
      "Extracting gt element PID\n",
      "\n",
      "Extracting gt element PL\n",
      "\n",
      "Extracting gt element PS\n",
      "\n",
      "Extracting gt element SB\n",
      "\n"
     ]
    },
    {
     "name": "stdout",
     "output_type": "stream",
     "text": [
      "[1] \"./mutect2/000000000-K4LKV_l01_SynCon_Mix31_rep2.fas_BWA_mutect2_standard_unfiltered.vcf\"\n"
     ]
    },
    {
     "name": "stderr",
     "output_type": "stream",
     "text": [
      "Extracting gt element AD\n",
      "\n",
      "Extracting gt element AF\n",
      "\n",
      "Extracting gt element DP\n",
      "\n",
      "Extracting gt element F1R2\n",
      "\n",
      "Extracting gt element F2R1\n",
      "\n",
      "Extracting gt element GQ\n",
      "\n",
      "Extracting gt element GT\n",
      "\n",
      "Extracting gt element PGT\n",
      "\n",
      "Extracting gt element PID\n",
      "\n",
      "Extracting gt element PL\n",
      "\n",
      "Extracting gt element PS\n",
      "\n",
      "Extracting gt element SB\n",
      "\n"
     ]
    },
    {
     "name": "stdout",
     "output_type": "stream",
     "text": [
      "[1] \"./mutect2/000000000-K4LKV_l01_SynCon_Mix32_rep1.fas_BWA_mutect2_standard_unfiltered.vcf\"\n"
     ]
    },
    {
     "name": "stderr",
     "output_type": "stream",
     "text": [
      "Extracting gt element AD\n",
      "\n",
      "Extracting gt element AF\n",
      "\n",
      "Extracting gt element DP\n",
      "\n",
      "Extracting gt element F1R2\n",
      "\n",
      "Extracting gt element F2R1\n",
      "\n",
      "Extracting gt element GQ\n",
      "\n",
      "Extracting gt element GT\n",
      "\n",
      "Extracting gt element PGT\n",
      "\n",
      "Extracting gt element PID\n",
      "\n",
      "Extracting gt element PL\n",
      "\n",
      "Extracting gt element PS\n",
      "\n",
      "Extracting gt element SB\n",
      "\n"
     ]
    },
    {
     "name": "stdout",
     "output_type": "stream",
     "text": [
      "[1] \"./mutect2/000000000-K4LKV_l01_SynCon_Mix32_rep2.fas_BWA_mutect2_standard_unfiltered.vcf\"\n"
     ]
    },
    {
     "name": "stderr",
     "output_type": "stream",
     "text": [
      "Extracting gt element AD\n",
      "\n",
      "Extracting gt element AF\n",
      "\n",
      "Extracting gt element DP\n",
      "\n",
      "Extracting gt element F1R2\n",
      "\n",
      "Extracting gt element F2R1\n",
      "\n",
      "Extracting gt element GQ\n",
      "\n",
      "Extracting gt element GT\n",
      "\n",
      "Extracting gt element PGT\n",
      "\n",
      "Extracting gt element PID\n",
      "\n",
      "Extracting gt element PL\n",
      "\n",
      "Extracting gt element PS\n",
      "\n",
      "Extracting gt element SB\n",
      "\n"
     ]
    },
    {
     "name": "stdout",
     "output_type": "stream",
     "text": [
      "[1] \"./mutect2/000000000-K4LKV_l01_SynCon_Mix33_rep1.fas_BWA_mutect2_standard_unfiltered.vcf\"\n"
     ]
    },
    {
     "name": "stderr",
     "output_type": "stream",
     "text": [
      "Extracting gt element AD\n",
      "\n",
      "Extracting gt element AF\n",
      "\n",
      "Extracting gt element DP\n",
      "\n",
      "Extracting gt element F1R2\n",
      "\n",
      "Extracting gt element F2R1\n",
      "\n",
      "Extracting gt element GQ\n",
      "\n",
      "Extracting gt element GT\n",
      "\n",
      "Extracting gt element PGT\n",
      "\n",
      "Extracting gt element PID\n",
      "\n",
      "Extracting gt element PL\n",
      "\n",
      "Extracting gt element PS\n",
      "\n",
      "Extracting gt element SB\n",
      "\n"
     ]
    },
    {
     "name": "stdout",
     "output_type": "stream",
     "text": [
      "[1] \"./mutect2/000000000-K4LKV_l01_SynCon_Mix33_rep2.fas_BWA_mutect2_standard_unfiltered.vcf\"\n"
     ]
    },
    {
     "name": "stderr",
     "output_type": "stream",
     "text": [
      "Extracting gt element AD\n",
      "\n",
      "Extracting gt element AF\n",
      "\n",
      "Extracting gt element DP\n",
      "\n",
      "Extracting gt element F1R2\n",
      "\n",
      "Extracting gt element F2R1\n",
      "\n",
      "Extracting gt element GQ\n",
      "\n",
      "Extracting gt element GT\n",
      "\n",
      "Extracting gt element PGT\n",
      "\n",
      "Extracting gt element PID\n",
      "\n",
      "Extracting gt element PL\n",
      "\n",
      "Extracting gt element PS\n",
      "\n",
      "Extracting gt element SB\n",
      "\n"
     ]
    },
    {
     "name": "stdout",
     "output_type": "stream",
     "text": [
      "[1] \"./mutect2/000000000-K4LKV_l01_SynCon_Mix34_rep1.fas_BWA_mutect2_standard_unfiltered.vcf\"\n"
     ]
    },
    {
     "name": "stderr",
     "output_type": "stream",
     "text": [
      "Extracting gt element AD\n",
      "\n",
      "Extracting gt element AF\n",
      "\n",
      "Extracting gt element DP\n",
      "\n",
      "Extracting gt element F1R2\n",
      "\n",
      "Extracting gt element F2R1\n",
      "\n",
      "Extracting gt element GQ\n",
      "\n",
      "Extracting gt element GT\n",
      "\n",
      "Extracting gt element PGT\n",
      "\n",
      "Extracting gt element PID\n",
      "\n",
      "Extracting gt element PL\n",
      "\n",
      "Extracting gt element PS\n",
      "\n",
      "Extracting gt element SB\n",
      "\n"
     ]
    },
    {
     "name": "stdout",
     "output_type": "stream",
     "text": [
      "[1] \"./mutect2/000000000-K4LKV_l01_SynCon_Mix34_rep2.fas_BWA_mutect2_standard_unfiltered.vcf\"\n"
     ]
    },
    {
     "name": "stderr",
     "output_type": "stream",
     "text": [
      "Extracting gt element AD\n",
      "\n",
      "Extracting gt element AF\n",
      "\n",
      "Extracting gt element DP\n",
      "\n",
      "Extracting gt element F1R2\n",
      "\n",
      "Extracting gt element F2R1\n",
      "\n",
      "Extracting gt element GQ\n",
      "\n",
      "Extracting gt element GT\n",
      "\n",
      "Extracting gt element PGT\n",
      "\n",
      "Extracting gt element PID\n",
      "\n",
      "Extracting gt element PL\n",
      "\n",
      "Extracting gt element PS\n",
      "\n",
      "Extracting gt element SB\n",
      "\n"
     ]
    },
    {
     "name": "stdout",
     "output_type": "stream",
     "text": [
      "[1] \"./mutect2/000000000-K4LKV_l01_SynCon_Mix35_rep1.fas_BWA_mutect2_standard_unfiltered.vcf\"\n"
     ]
    },
    {
     "name": "stderr",
     "output_type": "stream",
     "text": [
      "Extracting gt element AD\n",
      "\n",
      "Extracting gt element AF\n",
      "\n",
      "Extracting gt element DP\n",
      "\n",
      "Extracting gt element F1R2\n",
      "\n",
      "Extracting gt element F2R1\n",
      "\n",
      "Extracting gt element GQ\n",
      "\n",
      "Extracting gt element GT\n",
      "\n",
      "Extracting gt element PGT\n",
      "\n",
      "Extracting gt element PID\n",
      "\n",
      "Extracting gt element PL\n",
      "\n",
      "Extracting gt element PS\n",
      "\n",
      "Extracting gt element SB\n",
      "\n"
     ]
    },
    {
     "name": "stdout",
     "output_type": "stream",
     "text": [
      "[1] \"./mutect2/000000000-K4LKV_l01_SynCon_Mix35_rep2.fas_BWA_mutect2_standard_unfiltered.vcf\"\n"
     ]
    },
    {
     "name": "stderr",
     "output_type": "stream",
     "text": [
      "Extracting gt element AD\n",
      "\n",
      "Extracting gt element AF\n",
      "\n",
      "Extracting gt element DP\n",
      "\n",
      "Extracting gt element F1R2\n",
      "\n",
      "Extracting gt element F2R1\n",
      "\n",
      "Extracting gt element GQ\n",
      "\n",
      "Extracting gt element GT\n",
      "\n",
      "Extracting gt element PGT\n",
      "\n",
      "Extracting gt element PID\n",
      "\n",
      "Extracting gt element PL\n",
      "\n",
      "Extracting gt element PS\n",
      "\n",
      "Extracting gt element SB\n",
      "\n"
     ]
    },
    {
     "name": "stdout",
     "output_type": "stream",
     "text": [
      "[1] \"./mutect2/000000000-K4LKV_l01_SynCon_Mix36_rep1.fas_BWA_mutect2_standard_unfiltered.vcf\"\n"
     ]
    },
    {
     "name": "stderr",
     "output_type": "stream",
     "text": [
      "Extracting gt element AD\n",
      "\n",
      "Extracting gt element AF\n",
      "\n",
      "Extracting gt element DP\n",
      "\n",
      "Extracting gt element F1R2\n",
      "\n",
      "Extracting gt element F2R1\n",
      "\n",
      "Extracting gt element GQ\n",
      "\n",
      "Extracting gt element GT\n",
      "\n",
      "Extracting gt element PGT\n",
      "\n",
      "Extracting gt element PID\n",
      "\n",
      "Extracting gt element PL\n",
      "\n",
      "Extracting gt element PS\n",
      "\n",
      "Extracting gt element SB\n",
      "\n"
     ]
    },
    {
     "name": "stdout",
     "output_type": "stream",
     "text": [
      "[1] \"./mutect2/000000000-K4LKV_l01_SynCon_Mix36_rep2.fas_BWA_mutect2_standard_unfiltered.vcf\"\n"
     ]
    },
    {
     "name": "stderr",
     "output_type": "stream",
     "text": [
      "Extracting gt element AD\n",
      "\n",
      "Extracting gt element AF\n",
      "\n",
      "Extracting gt element DP\n",
      "\n",
      "Extracting gt element F1R2\n",
      "\n",
      "Extracting gt element F2R1\n",
      "\n",
      "Extracting gt element GQ\n",
      "\n",
      "Extracting gt element GT\n",
      "\n",
      "Extracting gt element PGT\n",
      "\n",
      "Extracting gt element PID\n",
      "\n",
      "Extracting gt element PL\n",
      "\n",
      "Extracting gt element PS\n",
      "\n",
      "Extracting gt element SB\n",
      "\n"
     ]
    },
    {
     "name": "stdout",
     "output_type": "stream",
     "text": [
      "[1] \"./mutect2/000000000-K4LKV_l01_SynCon_Mix37_rep1.fas_BWA_mutect2_standard_unfiltered.vcf\"\n"
     ]
    },
    {
     "name": "stderr",
     "output_type": "stream",
     "text": [
      "Extracting gt element AD\n",
      "\n",
      "Extracting gt element AF\n",
      "\n",
      "Extracting gt element DP\n",
      "\n",
      "Extracting gt element F1R2\n",
      "\n",
      "Extracting gt element F2R1\n",
      "\n",
      "Extracting gt element GQ\n",
      "\n",
      "Extracting gt element GT\n",
      "\n",
      "Extracting gt element PGT\n",
      "\n",
      "Extracting gt element PID\n",
      "\n",
      "Extracting gt element PL\n",
      "\n",
      "Extracting gt element PS\n",
      "\n",
      "Extracting gt element SB\n",
      "\n"
     ]
    },
    {
     "name": "stdout",
     "output_type": "stream",
     "text": [
      "[1] \"./mutect2/000000000-K4LKV_l01_SynCon_Mix37_rep2.fas_BWA_mutect2_standard_unfiltered.vcf\"\n"
     ]
    },
    {
     "name": "stderr",
     "output_type": "stream",
     "text": [
      "Extracting gt element AD\n",
      "\n",
      "Extracting gt element AF\n",
      "\n",
      "Extracting gt element DP\n",
      "\n",
      "Extracting gt element F1R2\n",
      "\n",
      "Extracting gt element F2R1\n",
      "\n",
      "Extracting gt element GQ\n",
      "\n",
      "Extracting gt element GT\n",
      "\n",
      "Extracting gt element PGT\n",
      "\n",
      "Extracting gt element PID\n",
      "\n",
      "Extracting gt element PL\n",
      "\n",
      "Extracting gt element PS\n",
      "\n",
      "Extracting gt element SB\n",
      "\n"
     ]
    },
    {
     "name": "stdout",
     "output_type": "stream",
     "text": [
      "[1] \"./mutect2/000000000-K4LKV_l01_SynCon_Mix38_rep1.fas_BWA_mutect2_standard_unfiltered.vcf\"\n"
     ]
    },
    {
     "name": "stderr",
     "output_type": "stream",
     "text": [
      "Extracting gt element AD\n",
      "\n",
      "Extracting gt element AF\n",
      "\n",
      "Extracting gt element DP\n",
      "\n",
      "Extracting gt element F1R2\n",
      "\n",
      "Extracting gt element F2R1\n",
      "\n",
      "Extracting gt element GQ\n",
      "\n",
      "Extracting gt element GT\n",
      "\n",
      "Extracting gt element PGT\n",
      "\n",
      "Extracting gt element PID\n",
      "\n",
      "Extracting gt element PL\n",
      "\n",
      "Extracting gt element PS\n",
      "\n",
      "Extracting gt element SB\n",
      "\n"
     ]
    },
    {
     "name": "stdout",
     "output_type": "stream",
     "text": [
      "[1] \"./mutect2/000000000-K4LKV_l01_SynCon_Mix38_rep2.fas_BWA_mutect2_standard_unfiltered.vcf\"\n"
     ]
    },
    {
     "name": "stderr",
     "output_type": "stream",
     "text": [
      "Extracting gt element AD\n",
      "\n",
      "Extracting gt element AF\n",
      "\n",
      "Extracting gt element DP\n",
      "\n",
      "Extracting gt element F1R2\n",
      "\n",
      "Extracting gt element F2R1\n",
      "\n",
      "Extracting gt element GQ\n",
      "\n",
      "Extracting gt element GT\n",
      "\n",
      "Extracting gt element PGT\n",
      "\n",
      "Extracting gt element PID\n",
      "\n",
      "Extracting gt element PL\n",
      "\n",
      "Extracting gt element PS\n",
      "\n",
      "Extracting gt element SB\n",
      "\n"
     ]
    },
    {
     "name": "stdout",
     "output_type": "stream",
     "text": [
      "[1] \"./mutect2/000000000-K4LKV_l01_SynCon_Mix39_rep1.fas_BWA_mutect2_standard_unfiltered.vcf\"\n"
     ]
    },
    {
     "name": "stderr",
     "output_type": "stream",
     "text": [
      "Extracting gt element AD\n",
      "\n",
      "Extracting gt element AF\n",
      "\n",
      "Extracting gt element DP\n",
      "\n",
      "Extracting gt element F1R2\n",
      "\n",
      "Extracting gt element F2R1\n",
      "\n",
      "Extracting gt element GQ\n",
      "\n",
      "Extracting gt element GT\n",
      "\n",
      "Extracting gt element PGT\n",
      "\n",
      "Extracting gt element PID\n",
      "\n",
      "Extracting gt element PL\n",
      "\n",
      "Extracting gt element PS\n",
      "\n",
      "Extracting gt element SB\n",
      "\n"
     ]
    },
    {
     "name": "stdout",
     "output_type": "stream",
     "text": [
      "[1] \"./mutect2/000000000-K4LKV_l01_SynCon_Mix39_rep2.fas_BWA_mutect2_standard_unfiltered.vcf\"\n"
     ]
    },
    {
     "name": "stderr",
     "output_type": "stream",
     "text": [
      "Extracting gt element AD\n",
      "\n",
      "Extracting gt element AF\n",
      "\n",
      "Extracting gt element DP\n",
      "\n",
      "Extracting gt element F1R2\n",
      "\n",
      "Extracting gt element F2R1\n",
      "\n",
      "Extracting gt element GQ\n",
      "\n",
      "Extracting gt element GT\n",
      "\n",
      "Extracting gt element PGT\n",
      "\n",
      "Extracting gt element PID\n",
      "\n",
      "Extracting gt element PL\n",
      "\n",
      "Extracting gt element PS\n",
      "\n",
      "Extracting gt element SB\n",
      "\n"
     ]
    },
    {
     "name": "stdout",
     "output_type": "stream",
     "text": [
      "[1] \"./mutect2/000000000-K4LKV_l01_SynCon_Mix40_rep1.fas_BWA_mutect2_standard_unfiltered.vcf\"\n"
     ]
    },
    {
     "name": "stderr",
     "output_type": "stream",
     "text": [
      "Extracting gt element AD\n",
      "\n",
      "Extracting gt element AF\n",
      "\n",
      "Extracting gt element DP\n",
      "\n",
      "Extracting gt element F1R2\n",
      "\n",
      "Extracting gt element F2R1\n",
      "\n",
      "Extracting gt element GQ\n",
      "\n",
      "Extracting gt element GT\n",
      "\n",
      "Extracting gt element PGT\n",
      "\n",
      "Extracting gt element PID\n",
      "\n",
      "Extracting gt element PL\n",
      "\n",
      "Extracting gt element PS\n",
      "\n",
      "Extracting gt element SB\n",
      "\n"
     ]
    },
    {
     "name": "stdout",
     "output_type": "stream",
     "text": [
      "[1] \"./mutect2/000000000-K4LKV_l01_SynCon_Mix40_rep2.fas_BWA_mutect2_standard_unfiltered.vcf\"\n"
     ]
    },
    {
     "name": "stderr",
     "output_type": "stream",
     "text": [
      "Extracting gt element AD\n",
      "\n",
      "Extracting gt element AF\n",
      "\n",
      "Extracting gt element DP\n",
      "\n",
      "Extracting gt element F1R2\n",
      "\n",
      "Extracting gt element F2R1\n",
      "\n",
      "Extracting gt element GQ\n",
      "\n",
      "Extracting gt element GT\n",
      "\n",
      "Extracting gt element PGT\n",
      "\n",
      "Extracting gt element PID\n",
      "\n",
      "Extracting gt element PL\n",
      "\n",
      "Extracting gt element PS\n",
      "\n",
      "Extracting gt element SB\n",
      "\n"
     ]
    },
    {
     "name": "stdout",
     "output_type": "stream",
     "text": [
      "[1] \"./mutect2/000000000-K4LKV_l01_SynCon_Mix41_rep1.fas_BWA_mutect2_standard_unfiltered.vcf\"\n"
     ]
    },
    {
     "name": "stderr",
     "output_type": "stream",
     "text": [
      "Extracting gt element AD\n",
      "\n",
      "Extracting gt element AF\n",
      "\n",
      "Extracting gt element DP\n",
      "\n",
      "Extracting gt element F1R2\n",
      "\n",
      "Extracting gt element F2R1\n",
      "\n",
      "Extracting gt element GQ\n",
      "\n",
      "Extracting gt element GT\n",
      "\n",
      "Extracting gt element PGT\n",
      "\n",
      "Extracting gt element PID\n",
      "\n",
      "Extracting gt element PL\n",
      "\n",
      "Extracting gt element PS\n",
      "\n",
      "Extracting gt element SB\n",
      "\n"
     ]
    },
    {
     "name": "stdout",
     "output_type": "stream",
     "text": [
      "[1] \"./mutect2/000000000-K4LKV_l01_SynCon_Mix41_rep2.fas_BWA_mutect2_standard_unfiltered.vcf\"\n"
     ]
    },
    {
     "name": "stderr",
     "output_type": "stream",
     "text": [
      "Extracting gt element AD\n",
      "\n",
      "Extracting gt element AF\n",
      "\n",
      "Extracting gt element DP\n",
      "\n",
      "Extracting gt element F1R2\n",
      "\n",
      "Extracting gt element F2R1\n",
      "\n",
      "Extracting gt element GQ\n",
      "\n",
      "Extracting gt element GT\n",
      "\n",
      "Extracting gt element PGT\n",
      "\n",
      "Extracting gt element PID\n",
      "\n",
      "Extracting gt element PL\n",
      "\n",
      "Extracting gt element PS\n",
      "\n",
      "Extracting gt element SB\n",
      "\n"
     ]
    },
    {
     "name": "stdout",
     "output_type": "stream",
     "text": [
      "[1] \"./mutect2/000000000-K4LKV_l01_SynCon_Mix42_rep1.fas_BWA_mutect2_standard_unfiltered.vcf\"\n"
     ]
    },
    {
     "name": "stderr",
     "output_type": "stream",
     "text": [
      "Extracting gt element AD\n",
      "\n",
      "Extracting gt element AF\n",
      "\n",
      "Extracting gt element DP\n",
      "\n",
      "Extracting gt element F1R2\n",
      "\n",
      "Extracting gt element F2R1\n",
      "\n",
      "Extracting gt element GQ\n",
      "\n",
      "Extracting gt element GT\n",
      "\n",
      "Extracting gt element PGT\n",
      "\n",
      "Extracting gt element PID\n",
      "\n",
      "Extracting gt element PL\n",
      "\n",
      "Extracting gt element PS\n",
      "\n",
      "Extracting gt element SB\n",
      "\n"
     ]
    },
    {
     "name": "stdout",
     "output_type": "stream",
     "text": [
      "[1] \"./mutect2/000000000-K4LKV_l01_SynCon_Mix42_rep2.fas_BWA_mutect2_standard_unfiltered.vcf\"\n"
     ]
    },
    {
     "name": "stderr",
     "output_type": "stream",
     "text": [
      "Extracting gt element AD\n",
      "\n",
      "Extracting gt element AF\n",
      "\n",
      "Extracting gt element DP\n",
      "\n",
      "Extracting gt element F1R2\n",
      "\n",
      "Extracting gt element F2R1\n",
      "\n",
      "Extracting gt element GQ\n",
      "\n",
      "Extracting gt element GT\n",
      "\n",
      "Extracting gt element PGT\n",
      "\n",
      "Extracting gt element PID\n",
      "\n",
      "Extracting gt element PL\n",
      "\n",
      "Extracting gt element PS\n",
      "\n",
      "Extracting gt element SB\n",
      "\n"
     ]
    },
    {
     "name": "stdout",
     "output_type": "stream",
     "text": [
      "[1] \"./mutect2/000000000-K4LKV_l01_SynCon_Mix43_rep1.fas_BWA_mutect2_standard_unfiltered.vcf\"\n"
     ]
    },
    {
     "name": "stderr",
     "output_type": "stream",
     "text": [
      "Extracting gt element AD\n",
      "\n",
      "Extracting gt element AF\n",
      "\n",
      "Extracting gt element DP\n",
      "\n",
      "Extracting gt element F1R2\n",
      "\n",
      "Extracting gt element F2R1\n",
      "\n",
      "Extracting gt element GQ\n",
      "\n",
      "Extracting gt element GT\n",
      "\n",
      "Extracting gt element PGT\n",
      "\n",
      "Extracting gt element PID\n",
      "\n",
      "Extracting gt element PL\n",
      "\n",
      "Extracting gt element PS\n",
      "\n",
      "Extracting gt element SB\n",
      "\n"
     ]
    },
    {
     "name": "stdout",
     "output_type": "stream",
     "text": [
      "[1] \"./mutect2/000000000-K4LKV_l01_SynCon_Mix43_rep2.fas_BWA_mutect2_standard_unfiltered.vcf\"\n"
     ]
    },
    {
     "name": "stderr",
     "output_type": "stream",
     "text": [
      "Extracting gt element AD\n",
      "\n",
      "Extracting gt element AF\n",
      "\n",
      "Extracting gt element DP\n",
      "\n",
      "Extracting gt element F1R2\n",
      "\n",
      "Extracting gt element F2R1\n",
      "\n",
      "Extracting gt element GQ\n",
      "\n",
      "Extracting gt element GT\n",
      "\n",
      "Extracting gt element PGT\n",
      "\n",
      "Extracting gt element PID\n",
      "\n",
      "Extracting gt element PL\n",
      "\n",
      "Extracting gt element PS\n",
      "\n",
      "Extracting gt element SB\n",
      "\n"
     ]
    },
    {
     "name": "stdout",
     "output_type": "stream",
     "text": [
      "[1] \"./mutect2/000000000-K4LKV_l01_SynCon_Mix44_rep1.fas_BWA_mutect2_standard_unfiltered.vcf\"\n"
     ]
    },
    {
     "name": "stderr",
     "output_type": "stream",
     "text": [
      "Extracting gt element AD\n",
      "\n",
      "Extracting gt element AF\n",
      "\n",
      "Extracting gt element DP\n",
      "\n",
      "Extracting gt element F1R2\n",
      "\n",
      "Extracting gt element F2R1\n",
      "\n",
      "Extracting gt element GQ\n",
      "\n",
      "Extracting gt element GT\n",
      "\n",
      "Extracting gt element PGT\n",
      "\n",
      "Extracting gt element PID\n",
      "\n",
      "Extracting gt element PL\n",
      "\n",
      "Extracting gt element PS\n",
      "\n",
      "Extracting gt element SB\n",
      "\n"
     ]
    },
    {
     "name": "stdout",
     "output_type": "stream",
     "text": [
      "[1] \"./mutect2/000000000-K4LKV_l01_SynCon_Mix44_rep2.fas_BWA_mutect2_standard_unfiltered.vcf\"\n"
     ]
    },
    {
     "name": "stderr",
     "output_type": "stream",
     "text": [
      "Extracting gt element AD\n",
      "\n",
      "Extracting gt element AF\n",
      "\n",
      "Extracting gt element DP\n",
      "\n",
      "Extracting gt element F1R2\n",
      "\n",
      "Extracting gt element F2R1\n",
      "\n",
      "Extracting gt element GQ\n",
      "\n",
      "Extracting gt element GT\n",
      "\n",
      "Extracting gt element PGT\n",
      "\n",
      "Extracting gt element PID\n",
      "\n",
      "Extracting gt element PL\n",
      "\n",
      "Extracting gt element PS\n",
      "\n",
      "Extracting gt element SB\n",
      "\n"
     ]
    }
   ],
   "source": [
    "# create data frame to hold mutect vcf files\n",
    "vcf.mutect <- data.frame()\n",
    "\n",
    "# for each mutect2 vcf file\n",
    "for (filename in vcfs.m) {\n",
    "    print(filename)\n",
    "    # read in a file\n",
    "    vcf <- read.vcfR(filename, verbose = FALSE)\n",
    "    \n",
    "    # convert to a standard dataframe\n",
    "    vcf_df <- vcfR2tidy(vcf,single_frame = TRUE)\n",
    "    # extract the data frame from the list\n",
    "    vcf_df <- as.data.frame(vcf_df[[1]])\n",
    "    \n",
    "    if (nrow(vcf_df) > 0) {\n",
    "\n",
    "        # separate multiallelic positions from single allele positions\n",
    "        # multi allelic positions will not be just A, C, T, or G\n",
    "        multi <- vcf_df %>% filter(!ALT %in% ntlist)\n",
    "        single <- vcf_df %>% filter(ALT %in% ntlist)\n",
    "\n",
    "        # select desired columns and get rid of indels\n",
    "        single <- single %>% select(CHROM, POS, ID, REF, ALT, QUAL, FILTER, gt_AD, gt_DP) %>% filter(REF %in% ntlist)\n",
    "\n",
    "        # use allele depth column to calculate variant frequency for single allele positions\n",
    "        single <- separate(single, gt_AD, sep = ',', into = c(\"major_dp\",\"minor_dp\"))\n",
    "        single$minor_dp <- as.numeric(single$minor_dp)\n",
    "        # variant freq is equal to number of reads with the alt nucleotide over the total number of reads\n",
    "        single <- single %>%\n",
    "                    mutate(AF = minor_dp/gt_DP)\n",
    "        single$AF <- as.numeric(single$AF)\n",
    "        # round decimals to 4 digits\n",
    "        single$AF <- round(single$AF, digits = 4)\n",
    "        single <- single %>% select(CHROM, POS, ID, REF, ALT, QUAL, FILTER, AF, gt_DP)\n",
    "    \n",
    "        vcf_df <- single\n",
    "    \n",
    "        # detect just rows where the alt allele positions contains a comma \n",
    "        # indels were not considered for this study\n",
    "        # select necessary columns and filter out indels\n",
    "        multi <- multi %>% filter(str_detect(multi$ALT, \",\") == TRUE) %>% \n",
    "                           select(c(1:10),\"gt_AD\",\"gt_DP\") %>% \n",
    "                           filter(REF %in% ntlist)\n",
    "\n",
    "        if(nrow(multi) > 0) {\n",
    "        \n",
    "            # separate the allele depth column into the ref value, the depth of the first allele and the depth of the second allele\n",
    "            multi <- separate(multi, gt_AD, sep = ',', into = c(\"refAF\", \"adp1\", \"adp2\"))\n",
    "            # convert all to numeric values\n",
    "            multi$refAF <- as.numeric(multi$refAF)\n",
    "            multi$adp1 <- as.numeric(multi$adp1)\n",
    "            multi$adp2 <- as.numeric(multi$adp2)\n",
    "            # calculate allele frequency by dividing the depth of each allele by the total depth at a given position\n",
    "            multi <- multi %>% mutate(AF1 = adp1/gt_DP)\n",
    "            multi <- multi %>% mutate(AF2 = adp2/gt_DP)\n",
    "            # convert the allele frequencies to numeric values\n",
    "            multi$AF1 <- as.numeric(multi$AF1)\n",
    "            multi$AF2 <- as.numeric(multi$AF2)\n",
    "\n",
    "            # separate the allele into nucleotide for the first and nucleotide for the second\n",
    "            multi <- separate(multi, ALT, sep = \",\", \n",
    "                           into = c(\"ALT1\",\"ALT2\"))\n",
    "    \n",
    "            # add a new row for each second allele where the first allele frequency goes with the first allele and second freq with the second allele\n",
    "            # select desired columns\n",
    "            multi <- multi %>% pivot_longer(cols = starts_with(\"ALT\"),\n",
    "                                        names_to = \"var\",\n",
    "                                        values_to = \"ALT\") %>% \n",
    "                           mutate(AF=ifelse(var == \"ALT1\", AF1, AF2)) %>%\n",
    "                           select(CHROM, POS, ID, REF, ALT, QUAL, FILTER, AF, gt_DP)\n",
    "        \n",
    "            # combine the multi allele positions back with the single allele positons\n",
    "            vcf_df <- rbind(single, multi)\n",
    "        \n",
    "        }\n",
    "\n",
    "    vcf_df$source_ID <- filename\n",
    "    \n",
    "    # add to mutect data frame\n",
    "    vcf.mutect <- rbind(vcf.mutect, vcf_df)\n",
    "    \n",
    "    }\n",
    "}\n",
    "\n",
    "# separate tool and file columns\n",
    "vcf.mutect <- separate(vcf.mutect, source_ID, sep = \"/\", \n",
    "               into = c(\"dot\",\"tool\",\"file\")) %>%\n",
    "                select(-c(dot))\n",
    "\n",
    "# get source_ID\n",
    "vcf.mutect <- separate(vcf.mutect, file, sep = \".fas\", \n",
    "               into = c(\"source_ID\",\"rest\")) %>%\n",
    "                select(-c(rest))\n",
    "\n",
    "# change class of columns where necessary\n",
    "vcf.mutect$gt_DP = as.numeric(vcf.mutect$gt_DP)\n",
    "vcf.mutect$AF = as.numeric(vcf.mutect$AF)\n",
    "vcf.mutect$AF <- round(vcf.mutect$AF, digits = 4)\n",
    "\n",
    "# select necessary columns\n",
    "vcf.mutect <- vcf.mutect %>% select(tool, source_ID, CHROM, POS, REF, ALT, AF, gt_DP)\n",
    "\n",
    "# set names of columns to match other tools\n",
    "names(vcf.mutect) <- c(\"tool\",\"source_ID\",\"segment\",\"ntpos\",\"refnt\",\"varnt\",\"varfreq\",\"totalcount\")"
   ]
  },
  {
   "cell_type": "markdown",
   "metadata": {},
   "source": [
    "### Timo VCF files"
   ]
  },
  {
   "cell_type": "code",
   "execution_count": 112,
   "metadata": {
    "collapsed": true,
    "jupyter": {
     "outputs_hidden": true
    }
   },
   "outputs": [
    {
     "name": "stdout",
     "output_type": "stream",
     "text": [
      "[1] \"./timo/000000000-K4LKV_l01_SynCon_Mix01_rep1.fas_BWA_timo_standard_no-binom-check.vcf\"\n"
     ]
    },
    {
     "name": "stderr",
     "output_type": "stream",
     "text": [
      "Extracting gt element GT\n",
      "\n",
      "Extracting gt element AD\n",
      "\n",
      "Extracting gt element DP\n",
      "\n",
      "Extracting gt element GQ\n",
      "\n"
     ]
    },
    {
     "name": "stdout",
     "output_type": "stream",
     "text": [
      "[1] \"./timo/000000000-K4LKV_l01_SynCon_Mix01_rep2.fas_BWA_timo_standard_no-binom-check.vcf\"\n"
     ]
    },
    {
     "name": "stderr",
     "output_type": "stream",
     "text": [
      "Extracting gt element GT\n",
      "\n",
      "Extracting gt element AD\n",
      "\n",
      "Extracting gt element DP\n",
      "\n",
      "Extracting gt element GQ\n",
      "\n"
     ]
    },
    {
     "name": "stdout",
     "output_type": "stream",
     "text": [
      "[1] \"./timo/000000000-K4LKV_l01_SynCon_Mix02_rep1.fas_BWA_timo_standard_no-binom-check.vcf\"\n"
     ]
    },
    {
     "name": "stderr",
     "output_type": "stream",
     "text": [
      "Extracting gt element GT\n",
      "\n",
      "Extracting gt element AD\n",
      "\n",
      "Extracting gt element DP\n",
      "\n",
      "Extracting gt element GQ\n",
      "\n"
     ]
    },
    {
     "name": "stdout",
     "output_type": "stream",
     "text": [
      "[1] \"./timo/000000000-K4LKV_l01_SynCon_Mix02_rep2.fas_BWA_timo_standard_no-binom-check.vcf\"\n"
     ]
    },
    {
     "name": "stderr",
     "output_type": "stream",
     "text": [
      "Extracting gt element GT\n",
      "\n",
      "Extracting gt element AD\n",
      "\n",
      "Extracting gt element DP\n",
      "\n",
      "Extracting gt element GQ\n",
      "\n"
     ]
    },
    {
     "name": "stdout",
     "output_type": "stream",
     "text": [
      "[1] \"./timo/000000000-K4LKV_l01_SynCon_Mix03_rep1.fas_BWA_timo_standard_no-binom-check.vcf\"\n"
     ]
    },
    {
     "name": "stderr",
     "output_type": "stream",
     "text": [
      "Extracting gt element GT\n",
      "\n",
      "Extracting gt element AD\n",
      "\n",
      "Extracting gt element DP\n",
      "\n",
      "Extracting gt element GQ\n",
      "\n"
     ]
    },
    {
     "name": "stdout",
     "output_type": "stream",
     "text": [
      "[1] \"./timo/000000000-K4LKV_l01_SynCon_Mix03_rep2.fas_BWA_timo_standard_no-binom-check.vcf\"\n"
     ]
    },
    {
     "name": "stderr",
     "output_type": "stream",
     "text": [
      "Extracting gt element GT\n",
      "\n",
      "Extracting gt element AD\n",
      "\n",
      "Extracting gt element DP\n",
      "\n",
      "Extracting gt element GQ\n",
      "\n"
     ]
    },
    {
     "name": "stdout",
     "output_type": "stream",
     "text": [
      "[1] \"./timo/000000000-K4LKV_l01_SynCon_Mix04_rep1.fas_BWA_timo_standard_no-binom-check.vcf\"\n"
     ]
    },
    {
     "name": "stderr",
     "output_type": "stream",
     "text": [
      "Extracting gt element GT\n",
      "\n",
      "Extracting gt element AD\n",
      "\n",
      "Extracting gt element DP\n",
      "\n",
      "Extracting gt element GQ\n",
      "\n"
     ]
    },
    {
     "name": "stdout",
     "output_type": "stream",
     "text": [
      "[1] \"./timo/000000000-K4LKV_l01_SynCon_Mix04_rep2.fas_BWA_timo_standard_no-binom-check.vcf\"\n"
     ]
    },
    {
     "name": "stderr",
     "output_type": "stream",
     "text": [
      "Extracting gt element GT\n",
      "\n",
      "Extracting gt element AD\n",
      "\n",
      "Extracting gt element DP\n",
      "\n",
      "Extracting gt element GQ\n",
      "\n"
     ]
    },
    {
     "name": "stdout",
     "output_type": "stream",
     "text": [
      "[1] \"./timo/000000000-K4LKV_l01_SynCon_Mix05_rep1.fas_BWA_timo_standard_no-binom-check.vcf\"\n"
     ]
    },
    {
     "name": "stderr",
     "output_type": "stream",
     "text": [
      "Extracting gt element GT\n",
      "\n",
      "Extracting gt element AD\n",
      "\n",
      "Extracting gt element DP\n",
      "\n",
      "Extracting gt element GQ\n",
      "\n"
     ]
    },
    {
     "name": "stdout",
     "output_type": "stream",
     "text": [
      "[1] \"./timo/000000000-K4LKV_l01_SynCon_Mix05_rep2.fas_BWA_timo_standard_no-binom-check.vcf\"\n"
     ]
    },
    {
     "name": "stderr",
     "output_type": "stream",
     "text": [
      "Extracting gt element GT\n",
      "\n",
      "Extracting gt element AD\n",
      "\n",
      "Extracting gt element DP\n",
      "\n",
      "Extracting gt element GQ\n",
      "\n"
     ]
    },
    {
     "name": "stdout",
     "output_type": "stream",
     "text": [
      "[1] \"./timo/000000000-K4LKV_l01_SynCon_Mix06_rep1.fas_BWA_timo_standard_no-binom-check.vcf\"\n"
     ]
    },
    {
     "name": "stderr",
     "output_type": "stream",
     "text": [
      "Extracting gt element GT\n",
      "\n",
      "Extracting gt element AD\n",
      "\n",
      "Extracting gt element DP\n",
      "\n",
      "Extracting gt element GQ\n",
      "\n"
     ]
    },
    {
     "name": "stdout",
     "output_type": "stream",
     "text": [
      "[1] \"./timo/000000000-K4LKV_l01_SynCon_Mix06_rep2.fas_BWA_timo_standard_no-binom-check.vcf\"\n"
     ]
    },
    {
     "name": "stderr",
     "output_type": "stream",
     "text": [
      "Extracting gt element GT\n",
      "\n",
      "Extracting gt element AD\n",
      "\n",
      "Extracting gt element DP\n",
      "\n",
      "Extracting gt element GQ\n",
      "\n"
     ]
    },
    {
     "name": "stdout",
     "output_type": "stream",
     "text": [
      "[1] \"./timo/000000000-K4LKV_l01_SynCon_Mix07_rep1.fas_BWA_timo_standard_no-binom-check.vcf\"\n"
     ]
    },
    {
     "name": "stderr",
     "output_type": "stream",
     "text": [
      "Extracting gt element GT\n",
      "\n",
      "Extracting gt element AD\n",
      "\n",
      "Extracting gt element DP\n",
      "\n",
      "Extracting gt element GQ\n",
      "\n"
     ]
    },
    {
     "name": "stdout",
     "output_type": "stream",
     "text": [
      "[1] \"./timo/000000000-K4LKV_l01_SynCon_Mix07_rep2.fas_BWA_timo_standard_no-binom-check.vcf\"\n"
     ]
    },
    {
     "name": "stderr",
     "output_type": "stream",
     "text": [
      "Extracting gt element GT\n",
      "\n",
      "Extracting gt element AD\n",
      "\n",
      "Extracting gt element DP\n",
      "\n",
      "Extracting gt element GQ\n",
      "\n"
     ]
    },
    {
     "name": "stdout",
     "output_type": "stream",
     "text": [
      "[1] \"./timo/000000000-K4LKV_l01_SynCon_Mix08_rep1.fas_BWA_timo_standard_no-binom-check.vcf\"\n"
     ]
    },
    {
     "name": "stderr",
     "output_type": "stream",
     "text": [
      "Extracting gt element GT\n",
      "\n",
      "Extracting gt element AD\n",
      "\n",
      "Extracting gt element DP\n",
      "\n",
      "Extracting gt element GQ\n",
      "\n"
     ]
    },
    {
     "name": "stdout",
     "output_type": "stream",
     "text": [
      "[1] \"./timo/000000000-K4LKV_l01_SynCon_Mix08_rep2.fas_BWA_timo_standard_no-binom-check.vcf\"\n"
     ]
    },
    {
     "name": "stderr",
     "output_type": "stream",
     "text": [
      "Extracting gt element GT\n",
      "\n",
      "Extracting gt element AD\n",
      "\n",
      "Extracting gt element DP\n",
      "\n",
      "Extracting gt element GQ\n",
      "\n"
     ]
    },
    {
     "name": "stdout",
     "output_type": "stream",
     "text": [
      "[1] \"./timo/000000000-K4LKV_l01_SynCon_Mix09_rep1.fas_BWA_timo_standard_no-binom-check.vcf\"\n"
     ]
    },
    {
     "name": "stderr",
     "output_type": "stream",
     "text": [
      "Extracting gt element GT\n",
      "\n",
      "Extracting gt element AD\n",
      "\n",
      "Extracting gt element DP\n",
      "\n",
      "Extracting gt element GQ\n",
      "\n"
     ]
    },
    {
     "name": "stdout",
     "output_type": "stream",
     "text": [
      "[1] \"./timo/000000000-K4LKV_l01_SynCon_Mix09_rep2.fas_BWA_timo_standard_no-binom-check.vcf\"\n"
     ]
    },
    {
     "name": "stderr",
     "output_type": "stream",
     "text": [
      "Extracting gt element GT\n",
      "\n",
      "Extracting gt element AD\n",
      "\n",
      "Extracting gt element DP\n",
      "\n",
      "Extracting gt element GQ\n",
      "\n"
     ]
    },
    {
     "name": "stdout",
     "output_type": "stream",
     "text": [
      "[1] \"./timo/000000000-K4LKV_l01_SynCon_Mix10_rep1.fas_BWA_timo_standard_no-binom-check.vcf\"\n"
     ]
    },
    {
     "name": "stderr",
     "output_type": "stream",
     "text": [
      "Extracting gt element GT\n",
      "\n",
      "Extracting gt element AD\n",
      "\n",
      "Extracting gt element DP\n",
      "\n",
      "Extracting gt element GQ\n",
      "\n"
     ]
    },
    {
     "name": "stdout",
     "output_type": "stream",
     "text": [
      "[1] \"./timo/000000000-K4LKV_l01_SynCon_Mix10_rep2.fas_BWA_timo_standard_no-binom-check.vcf\"\n"
     ]
    },
    {
     "name": "stderr",
     "output_type": "stream",
     "text": [
      "Extracting gt element GT\n",
      "\n",
      "Extracting gt element AD\n",
      "\n",
      "Extracting gt element DP\n",
      "\n",
      "Extracting gt element GQ\n",
      "\n"
     ]
    },
    {
     "name": "stdout",
     "output_type": "stream",
     "text": [
      "[1] \"./timo/000000000-K4LKV_l01_SynCon_Mix11_rep1.fas_BWA_timo_standard_no-binom-check.vcf\"\n"
     ]
    },
    {
     "name": "stderr",
     "output_type": "stream",
     "text": [
      "Extracting gt element GT\n",
      "\n",
      "Extracting gt element AD\n",
      "\n",
      "Extracting gt element DP\n",
      "\n",
      "Extracting gt element GQ\n",
      "\n"
     ]
    },
    {
     "name": "stdout",
     "output_type": "stream",
     "text": [
      "[1] \"./timo/000000000-K4LKV_l01_SynCon_Mix11_rep2.fas_BWA_timo_standard_no-binom-check.vcf\"\n"
     ]
    },
    {
     "name": "stderr",
     "output_type": "stream",
     "text": [
      "Extracting gt element GT\n",
      "\n",
      "Extracting gt element AD\n",
      "\n",
      "Extracting gt element DP\n",
      "\n",
      "Extracting gt element GQ\n",
      "\n"
     ]
    },
    {
     "name": "stdout",
     "output_type": "stream",
     "text": [
      "[1] \"./timo/000000000-K4LKV_l01_SynCon_Mix12_rep1.fas_BWA_timo_standard_no-binom-check.vcf\"\n"
     ]
    },
    {
     "name": "stderr",
     "output_type": "stream",
     "text": [
      "Extracting gt element GT\n",
      "\n",
      "Extracting gt element AD\n",
      "\n",
      "Extracting gt element DP\n",
      "\n",
      "Extracting gt element GQ\n",
      "\n"
     ]
    },
    {
     "name": "stdout",
     "output_type": "stream",
     "text": [
      "[1] \"./timo/000000000-K4LKV_l01_SynCon_Mix12_rep2.fas_BWA_timo_standard_no-binom-check.vcf\"\n"
     ]
    },
    {
     "name": "stderr",
     "output_type": "stream",
     "text": [
      "Extracting gt element GT\n",
      "\n",
      "Extracting gt element AD\n",
      "\n",
      "Extracting gt element DP\n",
      "\n",
      "Extracting gt element GQ\n",
      "\n"
     ]
    },
    {
     "name": "stdout",
     "output_type": "stream",
     "text": [
      "[1] \"./timo/000000000-K4LKV_l01_SynCon_Mix13_rep1.fas_BWA_timo_standard_no-binom-check.vcf\"\n"
     ]
    },
    {
     "name": "stderr",
     "output_type": "stream",
     "text": [
      "Extracting gt element GT\n",
      "\n",
      "Extracting gt element AD\n",
      "\n",
      "Extracting gt element DP\n",
      "\n",
      "Extracting gt element GQ\n",
      "\n"
     ]
    },
    {
     "name": "stdout",
     "output_type": "stream",
     "text": [
      "[1] \"./timo/000000000-K4LKV_l01_SynCon_Mix13_rep2.fas_BWA_timo_standard_no-binom-check.vcf\"\n"
     ]
    },
    {
     "name": "stderr",
     "output_type": "stream",
     "text": [
      "Extracting gt element GT\n",
      "\n",
      "Extracting gt element AD\n",
      "\n",
      "Extracting gt element DP\n",
      "\n",
      "Extracting gt element GQ\n",
      "\n"
     ]
    },
    {
     "name": "stdout",
     "output_type": "stream",
     "text": [
      "[1] \"./timo/000000000-K4LKV_l01_SynCon_Mix14_rep1.fas_BWA_timo_standard_no-binom-check.vcf\"\n"
     ]
    },
    {
     "name": "stderr",
     "output_type": "stream",
     "text": [
      "Extracting gt element GT\n",
      "\n",
      "Extracting gt element AD\n",
      "\n",
      "Extracting gt element DP\n",
      "\n",
      "Extracting gt element GQ\n",
      "\n"
     ]
    },
    {
     "name": "stdout",
     "output_type": "stream",
     "text": [
      "[1] \"./timo/000000000-K4LKV_l01_SynCon_Mix14_rep2.fas_BWA_timo_standard_no-binom-check.vcf\"\n"
     ]
    },
    {
     "name": "stderr",
     "output_type": "stream",
     "text": [
      "Extracting gt element GT\n",
      "\n",
      "Extracting gt element AD\n",
      "\n",
      "Extracting gt element DP\n",
      "\n",
      "Extracting gt element GQ\n",
      "\n"
     ]
    },
    {
     "name": "stdout",
     "output_type": "stream",
     "text": [
      "[1] \"./timo/000000000-K4LKV_l01_SynCon_Mix15_rep1.fas_BWA_timo_standard_no-binom-check.vcf\"\n"
     ]
    },
    {
     "name": "stderr",
     "output_type": "stream",
     "text": [
      "Extracting gt element GT\n",
      "\n",
      "Extracting gt element AD\n",
      "\n",
      "Extracting gt element DP\n",
      "\n",
      "Extracting gt element GQ\n",
      "\n"
     ]
    },
    {
     "name": "stdout",
     "output_type": "stream",
     "text": [
      "[1] \"./timo/000000000-K4LKV_l01_SynCon_Mix15_rep2.fas_BWA_timo_standard_no-binom-check.vcf\"\n"
     ]
    },
    {
     "name": "stderr",
     "output_type": "stream",
     "text": [
      "Extracting gt element GT\n",
      "\n",
      "Extracting gt element AD\n",
      "\n",
      "Extracting gt element DP\n",
      "\n",
      "Extracting gt element GQ\n",
      "\n"
     ]
    },
    {
     "name": "stdout",
     "output_type": "stream",
     "text": [
      "[1] \"./timo/000000000-K4LKV_l01_SynCon_Mix16_rep1.fas_BWA_timo_standard_no-binom-check.vcf\"\n"
     ]
    },
    {
     "name": "stderr",
     "output_type": "stream",
     "text": [
      "Extracting gt element GT\n",
      "\n",
      "Extracting gt element AD\n",
      "\n",
      "Extracting gt element DP\n",
      "\n",
      "Extracting gt element GQ\n",
      "\n"
     ]
    },
    {
     "name": "stdout",
     "output_type": "stream",
     "text": [
      "[1] \"./timo/000000000-K4LKV_l01_SynCon_Mix16_rep2.fas_BWA_timo_standard_no-binom-check.vcf\"\n"
     ]
    },
    {
     "name": "stderr",
     "output_type": "stream",
     "text": [
      "Extracting gt element GT\n",
      "\n",
      "Extracting gt element AD\n",
      "\n",
      "Extracting gt element DP\n",
      "\n",
      "Extracting gt element GQ\n",
      "\n"
     ]
    },
    {
     "name": "stdout",
     "output_type": "stream",
     "text": [
      "[1] \"./timo/000000000-K4LKV_l01_SynCon_Mix17_rep1.fas_BWA_timo_standard_no-binom-check.vcf\"\n"
     ]
    },
    {
     "name": "stderr",
     "output_type": "stream",
     "text": [
      "Extracting gt element GT\n",
      "\n",
      "Extracting gt element AD\n",
      "\n",
      "Extracting gt element DP\n",
      "\n",
      "Extracting gt element GQ\n",
      "\n"
     ]
    },
    {
     "name": "stdout",
     "output_type": "stream",
     "text": [
      "[1] \"./timo/000000000-K4LKV_l01_SynCon_Mix17_rep2.fas_BWA_timo_standard_no-binom-check.vcf\"\n"
     ]
    },
    {
     "name": "stderr",
     "output_type": "stream",
     "text": [
      "Extracting gt element GT\n",
      "\n",
      "Extracting gt element AD\n",
      "\n",
      "Extracting gt element DP\n",
      "\n",
      "Extracting gt element GQ\n",
      "\n"
     ]
    },
    {
     "name": "stdout",
     "output_type": "stream",
     "text": [
      "[1] \"./timo/000000000-K4LKV_l01_SynCon_Mix18_rep1.fas_BWA_timo_standard_no-binom-check.vcf\"\n"
     ]
    },
    {
     "name": "stderr",
     "output_type": "stream",
     "text": [
      "Extracting gt element GT\n",
      "\n",
      "Extracting gt element AD\n",
      "\n",
      "Extracting gt element DP\n",
      "\n",
      "Extracting gt element GQ\n",
      "\n"
     ]
    },
    {
     "name": "stdout",
     "output_type": "stream",
     "text": [
      "[1] \"./timo/000000000-K4LKV_l01_SynCon_Mix18_rep2.fas_BWA_timo_standard_no-binom-check.vcf\"\n"
     ]
    },
    {
     "name": "stderr",
     "output_type": "stream",
     "text": [
      "Extracting gt element GT\n",
      "\n",
      "Extracting gt element AD\n",
      "\n",
      "Extracting gt element DP\n",
      "\n",
      "Extracting gt element GQ\n",
      "\n"
     ]
    },
    {
     "name": "stdout",
     "output_type": "stream",
     "text": [
      "[1] \"./timo/000000000-K4LKV_l01_SynCon_Mix19_rep1.fas_BWA_timo_standard_no-binom-check.vcf\"\n"
     ]
    },
    {
     "name": "stderr",
     "output_type": "stream",
     "text": [
      "Extracting gt element GT\n",
      "\n",
      "Extracting gt element AD\n",
      "\n",
      "Extracting gt element DP\n",
      "\n",
      "Extracting gt element GQ\n",
      "\n"
     ]
    },
    {
     "name": "stdout",
     "output_type": "stream",
     "text": [
      "[1] \"./timo/000000000-K4LKV_l01_SynCon_Mix19_rep2.fas_BWA_timo_standard_no-binom-check.vcf\"\n"
     ]
    },
    {
     "name": "stderr",
     "output_type": "stream",
     "text": [
      "Extracting gt element GT\n",
      "\n",
      "Extracting gt element AD\n",
      "\n",
      "Extracting gt element DP\n",
      "\n",
      "Extracting gt element GQ\n",
      "\n"
     ]
    },
    {
     "name": "stdout",
     "output_type": "stream",
     "text": [
      "[1] \"./timo/000000000-K4LKV_l01_SynCon_Mix20_rep1.fas_BWA_timo_standard_no-binom-check.vcf\"\n"
     ]
    },
    {
     "name": "stderr",
     "output_type": "stream",
     "text": [
      "Extracting gt element GT\n",
      "\n",
      "Extracting gt element AD\n",
      "\n",
      "Extracting gt element DP\n",
      "\n",
      "Extracting gt element GQ\n",
      "\n"
     ]
    },
    {
     "name": "stdout",
     "output_type": "stream",
     "text": [
      "[1] \"./timo/000000000-K4LKV_l01_SynCon_Mix20_rep2.fas_BWA_timo_standard_no-binom-check.vcf\"\n"
     ]
    },
    {
     "name": "stderr",
     "output_type": "stream",
     "text": [
      "Extracting gt element GT\n",
      "\n",
      "Extracting gt element AD\n",
      "\n",
      "Extracting gt element DP\n",
      "\n",
      "Extracting gt element GQ\n",
      "\n"
     ]
    },
    {
     "name": "stdout",
     "output_type": "stream",
     "text": [
      "[1] \"./timo/000000000-K4LKV_l01_SynCon_Mix21_rep1.fas_BWA_timo_standard_no-binom-check.vcf\"\n"
     ]
    },
    {
     "name": "stderr",
     "output_type": "stream",
     "text": [
      "Extracting gt element GT\n",
      "\n",
      "Extracting gt element AD\n",
      "\n",
      "Extracting gt element DP\n",
      "\n",
      "Extracting gt element GQ\n",
      "\n"
     ]
    },
    {
     "name": "stdout",
     "output_type": "stream",
     "text": [
      "[1] \"./timo/000000000-K4LKV_l01_SynCon_Mix21_rep2.fas_BWA_timo_standard_no-binom-check.vcf\"\n"
     ]
    },
    {
     "name": "stderr",
     "output_type": "stream",
     "text": [
      "Extracting gt element GT\n",
      "\n",
      "Extracting gt element AD\n",
      "\n",
      "Extracting gt element DP\n",
      "\n",
      "Extracting gt element GQ\n",
      "\n"
     ]
    },
    {
     "name": "stdout",
     "output_type": "stream",
     "text": [
      "[1] \"./timo/000000000-K4LKV_l01_SynCon_Mix22_rep1.fas_BWA_timo_standard_no-binom-check.vcf\"\n"
     ]
    },
    {
     "name": "stderr",
     "output_type": "stream",
     "text": [
      "Extracting gt element GT\n",
      "\n",
      "Extracting gt element AD\n",
      "\n",
      "Extracting gt element DP\n",
      "\n",
      "Extracting gt element GQ\n",
      "\n"
     ]
    },
    {
     "name": "stdout",
     "output_type": "stream",
     "text": [
      "[1] \"./timo/000000000-K4LKV_l01_SynCon_Mix22_rep2.fas_BWA_timo_standard_no-binom-check.vcf\"\n"
     ]
    },
    {
     "name": "stderr",
     "output_type": "stream",
     "text": [
      "Extracting gt element GT\n",
      "\n",
      "Extracting gt element AD\n",
      "\n",
      "Extracting gt element DP\n",
      "\n",
      "Extracting gt element GQ\n",
      "\n"
     ]
    },
    {
     "name": "stdout",
     "output_type": "stream",
     "text": [
      "[1] \"./timo/000000000-K4LKV_l01_SynCon_Mix23_rep1.fas_BWA_timo_standard_no-binom-check.vcf\"\n"
     ]
    },
    {
     "name": "stderr",
     "output_type": "stream",
     "text": [
      "Extracting gt element GT\n",
      "\n",
      "Extracting gt element AD\n",
      "\n",
      "Extracting gt element DP\n",
      "\n",
      "Extracting gt element GQ\n",
      "\n"
     ]
    },
    {
     "name": "stdout",
     "output_type": "stream",
     "text": [
      "[1] \"./timo/000000000-K4LKV_l01_SynCon_Mix23_rep2.fas_BWA_timo_standard_no-binom-check.vcf\"\n"
     ]
    },
    {
     "name": "stderr",
     "output_type": "stream",
     "text": [
      "Extracting gt element GT\n",
      "\n",
      "Extracting gt element AD\n",
      "\n",
      "Extracting gt element DP\n",
      "\n",
      "Extracting gt element GQ\n",
      "\n"
     ]
    },
    {
     "name": "stdout",
     "output_type": "stream",
     "text": [
      "[1] \"./timo/000000000-K4LKV_l01_SynCon_Mix24_rep1.fas_BWA_timo_standard_no-binom-check.vcf\"\n"
     ]
    },
    {
     "name": "stderr",
     "output_type": "stream",
     "text": [
      "Extracting gt element GT\n",
      "\n",
      "Extracting gt element AD\n",
      "\n",
      "Extracting gt element DP\n",
      "\n",
      "Extracting gt element GQ\n",
      "\n"
     ]
    },
    {
     "name": "stdout",
     "output_type": "stream",
     "text": [
      "[1] \"./timo/000000000-K4LKV_l01_SynCon_Mix24_rep2.fas_BWA_timo_standard_no-binom-check.vcf\"\n"
     ]
    },
    {
     "name": "stderr",
     "output_type": "stream",
     "text": [
      "Extracting gt element GT\n",
      "\n",
      "Extracting gt element AD\n",
      "\n",
      "Extracting gt element DP\n",
      "\n",
      "Extracting gt element GQ\n",
      "\n"
     ]
    },
    {
     "name": "stdout",
     "output_type": "stream",
     "text": [
      "[1] \"./timo/000000000-K4LKV_l01_SynCon_Mix25_rep1.fas_BWA_timo_standard_no-binom-check.vcf\"\n"
     ]
    },
    {
     "name": "stderr",
     "output_type": "stream",
     "text": [
      "Extracting gt element GT\n",
      "\n",
      "Extracting gt element AD\n",
      "\n",
      "Extracting gt element DP\n",
      "\n",
      "Extracting gt element GQ\n",
      "\n"
     ]
    },
    {
     "name": "stdout",
     "output_type": "stream",
     "text": [
      "[1] \"./timo/000000000-K4LKV_l01_SynCon_Mix25_rep2.fas_BWA_timo_standard_no-binom-check.vcf\"\n"
     ]
    },
    {
     "name": "stderr",
     "output_type": "stream",
     "text": [
      "Extracting gt element GT\n",
      "\n",
      "Extracting gt element AD\n",
      "\n",
      "Extracting gt element DP\n",
      "\n",
      "Extracting gt element GQ\n",
      "\n"
     ]
    },
    {
     "name": "stdout",
     "output_type": "stream",
     "text": [
      "[1] \"./timo/000000000-K4LKV_l01_SynCon_Mix26_rep1.fas_BWA_timo_standard_no-binom-check.vcf\"\n"
     ]
    },
    {
     "name": "stderr",
     "output_type": "stream",
     "text": [
      "Extracting gt element GT\n",
      "\n",
      "Extracting gt element AD\n",
      "\n",
      "Extracting gt element DP\n",
      "\n",
      "Extracting gt element GQ\n",
      "\n"
     ]
    },
    {
     "name": "stdout",
     "output_type": "stream",
     "text": [
      "[1] \"./timo/000000000-K4LKV_l01_SynCon_Mix26_rep2.fas_BWA_timo_standard_no-binom-check.vcf\"\n"
     ]
    },
    {
     "name": "stderr",
     "output_type": "stream",
     "text": [
      "Extracting gt element GT\n",
      "\n",
      "Extracting gt element AD\n",
      "\n",
      "Extracting gt element DP\n",
      "\n",
      "Extracting gt element GQ\n",
      "\n"
     ]
    },
    {
     "name": "stdout",
     "output_type": "stream",
     "text": [
      "[1] \"./timo/000000000-K4LKV_l01_SynCon_Mix27_rep1.fas_BWA_timo_standard_no-binom-check.vcf\"\n"
     ]
    },
    {
     "name": "stderr",
     "output_type": "stream",
     "text": [
      "Extracting gt element GT\n",
      "\n",
      "Extracting gt element AD\n",
      "\n",
      "Extracting gt element DP\n",
      "\n",
      "Extracting gt element GQ\n",
      "\n"
     ]
    },
    {
     "name": "stdout",
     "output_type": "stream",
     "text": [
      "[1] \"./timo/000000000-K4LKV_l01_SynCon_Mix27_rep2.fas_BWA_timo_standard_no-binom-check.vcf\"\n"
     ]
    },
    {
     "name": "stderr",
     "output_type": "stream",
     "text": [
      "Extracting gt element GT\n",
      "\n",
      "Extracting gt element AD\n",
      "\n",
      "Extracting gt element DP\n",
      "\n",
      "Extracting gt element GQ\n",
      "\n"
     ]
    },
    {
     "name": "stdout",
     "output_type": "stream",
     "text": [
      "[1] \"./timo/000000000-K4LKV_l01_SynCon_Mix28_rep1.fas_BWA_timo_standard_no-binom-check.vcf\"\n"
     ]
    },
    {
     "name": "stderr",
     "output_type": "stream",
     "text": [
      "Extracting gt element GT\n",
      "\n",
      "Extracting gt element AD\n",
      "\n",
      "Extracting gt element DP\n",
      "\n",
      "Extracting gt element GQ\n",
      "\n"
     ]
    },
    {
     "name": "stdout",
     "output_type": "stream",
     "text": [
      "[1] \"./timo/000000000-K4LKV_l01_SynCon_Mix28_rep2.fas_BWA_timo_standard_no-binom-check.vcf\"\n"
     ]
    },
    {
     "name": "stderr",
     "output_type": "stream",
     "text": [
      "Extracting gt element GT\n",
      "\n",
      "Extracting gt element AD\n",
      "\n",
      "Extracting gt element DP\n",
      "\n",
      "Extracting gt element GQ\n",
      "\n"
     ]
    },
    {
     "name": "stdout",
     "output_type": "stream",
     "text": [
      "[1] \"./timo/000000000-K4LKV_l01_SynCon_Mix29_rep1.fas_BWA_timo_standard_no-binom-check.vcf\"\n"
     ]
    },
    {
     "name": "stderr",
     "output_type": "stream",
     "text": [
      "Extracting gt element GT\n",
      "\n",
      "Extracting gt element AD\n",
      "\n",
      "Extracting gt element DP\n",
      "\n",
      "Extracting gt element GQ\n",
      "\n"
     ]
    },
    {
     "name": "stdout",
     "output_type": "stream",
     "text": [
      "[1] \"./timo/000000000-K4LKV_l01_SynCon_Mix29_rep2.fas_BWA_timo_standard_no-binom-check.vcf\"\n"
     ]
    },
    {
     "name": "stderr",
     "output_type": "stream",
     "text": [
      "Extracting gt element GT\n",
      "\n",
      "Extracting gt element AD\n",
      "\n",
      "Extracting gt element DP\n",
      "\n",
      "Extracting gt element GQ\n",
      "\n"
     ]
    },
    {
     "name": "stdout",
     "output_type": "stream",
     "text": [
      "[1] \"./timo/000000000-K4LKV_l01_SynCon_Mix30_rep1.fas_BWA_timo_standard_no-binom-check.vcf\"\n"
     ]
    },
    {
     "name": "stderr",
     "output_type": "stream",
     "text": [
      "Extracting gt element GT\n",
      "\n",
      "Extracting gt element AD\n",
      "\n",
      "Extracting gt element DP\n",
      "\n",
      "Extracting gt element GQ\n",
      "\n"
     ]
    },
    {
     "name": "stdout",
     "output_type": "stream",
     "text": [
      "[1] \"./timo/000000000-K4LKV_l01_SynCon_Mix30_rep2.fas_BWA_timo_standard_no-binom-check.vcf\"\n"
     ]
    },
    {
     "name": "stderr",
     "output_type": "stream",
     "text": [
      "Extracting gt element GT\n",
      "\n",
      "Extracting gt element AD\n",
      "\n",
      "Extracting gt element DP\n",
      "\n",
      "Extracting gt element GQ\n",
      "\n"
     ]
    },
    {
     "name": "stdout",
     "output_type": "stream",
     "text": [
      "[1] \"./timo/000000000-K4LKV_l01_SynCon_Mix31_rep1.fas_BWA_timo_standard_no-binom-check.vcf\"\n"
     ]
    },
    {
     "name": "stderr",
     "output_type": "stream",
     "text": [
      "Extracting gt element GT\n",
      "\n",
      "Extracting gt element AD\n",
      "\n",
      "Extracting gt element DP\n",
      "\n",
      "Extracting gt element GQ\n",
      "\n"
     ]
    },
    {
     "name": "stdout",
     "output_type": "stream",
     "text": [
      "[1] \"./timo/000000000-K4LKV_l01_SynCon_Mix31_rep2.fas_BWA_timo_standard_no-binom-check.vcf\"\n"
     ]
    },
    {
     "name": "stderr",
     "output_type": "stream",
     "text": [
      "Extracting gt element GT\n",
      "\n",
      "Extracting gt element AD\n",
      "\n",
      "Extracting gt element DP\n",
      "\n",
      "Extracting gt element GQ\n",
      "\n"
     ]
    },
    {
     "name": "stdout",
     "output_type": "stream",
     "text": [
      "[1] \"./timo/000000000-K4LKV_l01_SynCon_Mix32_rep1.fas_BWA_timo_standard_no-binom-check.vcf\"\n"
     ]
    },
    {
     "name": "stderr",
     "output_type": "stream",
     "text": [
      "Extracting gt element GT\n",
      "\n",
      "Extracting gt element AD\n",
      "\n",
      "Extracting gt element DP\n",
      "\n",
      "Extracting gt element GQ\n",
      "\n"
     ]
    },
    {
     "name": "stdout",
     "output_type": "stream",
     "text": [
      "[1] \"./timo/000000000-K4LKV_l01_SynCon_Mix32_rep2.fas_BWA_timo_standard_no-binom-check.vcf\"\n"
     ]
    },
    {
     "name": "stderr",
     "output_type": "stream",
     "text": [
      "Extracting gt element GT\n",
      "\n",
      "Extracting gt element AD\n",
      "\n",
      "Extracting gt element DP\n",
      "\n",
      "Extracting gt element GQ\n",
      "\n"
     ]
    },
    {
     "name": "stdout",
     "output_type": "stream",
     "text": [
      "[1] \"./timo/000000000-K4LKV_l01_SynCon_Mix33_rep1.fas_BWA_timo_standard_no-binom-check.vcf\"\n"
     ]
    },
    {
     "name": "stderr",
     "output_type": "stream",
     "text": [
      "Extracting gt element GT\n",
      "\n",
      "Extracting gt element AD\n",
      "\n",
      "Extracting gt element DP\n",
      "\n",
      "Extracting gt element GQ\n",
      "\n"
     ]
    },
    {
     "name": "stdout",
     "output_type": "stream",
     "text": [
      "[1] \"./timo/000000000-K4LKV_l01_SynCon_Mix33_rep2.fas_BWA_timo_standard_no-binom-check.vcf\"\n"
     ]
    },
    {
     "name": "stderr",
     "output_type": "stream",
     "text": [
      "Extracting gt element GT\n",
      "\n",
      "Extracting gt element AD\n",
      "\n",
      "Extracting gt element DP\n",
      "\n",
      "Extracting gt element GQ\n",
      "\n"
     ]
    },
    {
     "name": "stdout",
     "output_type": "stream",
     "text": [
      "[1] \"./timo/000000000-K4LKV_l01_SynCon_Mix34_rep1.fas_BWA_timo_standard_no-binom-check.vcf\"\n"
     ]
    },
    {
     "name": "stderr",
     "output_type": "stream",
     "text": [
      "Extracting gt element GT\n",
      "\n",
      "Extracting gt element AD\n",
      "\n",
      "Extracting gt element DP\n",
      "\n",
      "Extracting gt element GQ\n",
      "\n"
     ]
    },
    {
     "name": "stdout",
     "output_type": "stream",
     "text": [
      "[1] \"./timo/000000000-K4LKV_l01_SynCon_Mix34_rep2.fas_BWA_timo_standard_no-binom-check.vcf\"\n"
     ]
    },
    {
     "name": "stderr",
     "output_type": "stream",
     "text": [
      "Extracting gt element GT\n",
      "\n",
      "Extracting gt element AD\n",
      "\n",
      "Extracting gt element DP\n",
      "\n",
      "Extracting gt element GQ\n",
      "\n"
     ]
    },
    {
     "name": "stdout",
     "output_type": "stream",
     "text": [
      "[1] \"./timo/000000000-K4LKV_l01_SynCon_Mix35_rep1.fas_BWA_timo_standard_no-binom-check.vcf\"\n"
     ]
    },
    {
     "name": "stderr",
     "output_type": "stream",
     "text": [
      "Extracting gt element GT\n",
      "\n",
      "Extracting gt element AD\n",
      "\n",
      "Extracting gt element DP\n",
      "\n",
      "Extracting gt element GQ\n",
      "\n"
     ]
    },
    {
     "name": "stdout",
     "output_type": "stream",
     "text": [
      "[1] \"./timo/000000000-K4LKV_l01_SynCon_Mix35_rep2.fas_BWA_timo_standard_no-binom-check.vcf\"\n"
     ]
    },
    {
     "name": "stderr",
     "output_type": "stream",
     "text": [
      "Extracting gt element GT\n",
      "\n",
      "Extracting gt element AD\n",
      "\n",
      "Extracting gt element DP\n",
      "\n",
      "Extracting gt element GQ\n",
      "\n"
     ]
    },
    {
     "name": "stdout",
     "output_type": "stream",
     "text": [
      "[1] \"./timo/000000000-K4LKV_l01_SynCon_Mix36_rep1.fas_BWA_timo_standard_no-binom-check.vcf\"\n"
     ]
    },
    {
     "name": "stderr",
     "output_type": "stream",
     "text": [
      "Extracting gt element GT\n",
      "\n",
      "Extracting gt element AD\n",
      "\n",
      "Extracting gt element DP\n",
      "\n",
      "Extracting gt element GQ\n",
      "\n"
     ]
    },
    {
     "name": "stdout",
     "output_type": "stream",
     "text": [
      "[1] \"./timo/000000000-K4LKV_l01_SynCon_Mix36_rep2.fas_BWA_timo_standard_no-binom-check.vcf\"\n"
     ]
    },
    {
     "name": "stderr",
     "output_type": "stream",
     "text": [
      "Extracting gt element GT\n",
      "\n",
      "Extracting gt element AD\n",
      "\n",
      "Extracting gt element DP\n",
      "\n",
      "Extracting gt element GQ\n",
      "\n"
     ]
    },
    {
     "name": "stdout",
     "output_type": "stream",
     "text": [
      "[1] \"./timo/000000000-K4LKV_l01_SynCon_Mix37_rep1.fas_BWA_timo_standard_no-binom-check.vcf\"\n"
     ]
    },
    {
     "name": "stderr",
     "output_type": "stream",
     "text": [
      "Extracting gt element GT\n",
      "\n",
      "Extracting gt element AD\n",
      "\n",
      "Extracting gt element DP\n",
      "\n",
      "Extracting gt element GQ\n",
      "\n"
     ]
    },
    {
     "name": "stdout",
     "output_type": "stream",
     "text": [
      "[1] \"./timo/000000000-K4LKV_l01_SynCon_Mix37_rep2.fas_BWA_timo_standard_no-binom-check.vcf\"\n"
     ]
    },
    {
     "name": "stderr",
     "output_type": "stream",
     "text": [
      "Extracting gt element GT\n",
      "\n",
      "Extracting gt element AD\n",
      "\n",
      "Extracting gt element DP\n",
      "\n",
      "Extracting gt element GQ\n",
      "\n"
     ]
    },
    {
     "name": "stdout",
     "output_type": "stream",
     "text": [
      "[1] \"./timo/000000000-K4LKV_l01_SynCon_Mix38_rep1.fas_BWA_timo_standard_no-binom-check.vcf\"\n"
     ]
    },
    {
     "name": "stderr",
     "output_type": "stream",
     "text": [
      "Extracting gt element GT\n",
      "\n",
      "Extracting gt element AD\n",
      "\n",
      "Extracting gt element DP\n",
      "\n",
      "Extracting gt element GQ\n",
      "\n"
     ]
    },
    {
     "name": "stdout",
     "output_type": "stream",
     "text": [
      "[1] \"./timo/000000000-K4LKV_l01_SynCon_Mix38_rep2.fas_BWA_timo_standard_no-binom-check.vcf\"\n"
     ]
    },
    {
     "name": "stderr",
     "output_type": "stream",
     "text": [
      "Extracting gt element GT\n",
      "\n",
      "Extracting gt element AD\n",
      "\n",
      "Extracting gt element DP\n",
      "\n",
      "Extracting gt element GQ\n",
      "\n"
     ]
    },
    {
     "name": "stdout",
     "output_type": "stream",
     "text": [
      "[1] \"./timo/000000000-K4LKV_l01_SynCon_Mix39_rep1.fas_BWA_timo_standard_no-binom-check.vcf\"\n"
     ]
    },
    {
     "name": "stderr",
     "output_type": "stream",
     "text": [
      "Extracting gt element GT\n",
      "\n",
      "Extracting gt element AD\n",
      "\n",
      "Extracting gt element DP\n",
      "\n",
      "Extracting gt element GQ\n",
      "\n"
     ]
    },
    {
     "name": "stdout",
     "output_type": "stream",
     "text": [
      "[1] \"./timo/000000000-K4LKV_l01_SynCon_Mix39_rep2.fas_BWA_timo_standard_no-binom-check.vcf\"\n"
     ]
    },
    {
     "name": "stderr",
     "output_type": "stream",
     "text": [
      "Extracting gt element GT\n",
      "\n",
      "Extracting gt element AD\n",
      "\n",
      "Extracting gt element DP\n",
      "\n",
      "Extracting gt element GQ\n",
      "\n"
     ]
    },
    {
     "name": "stdout",
     "output_type": "stream",
     "text": [
      "[1] \"./timo/000000000-K4LKV_l01_SynCon_Mix40_rep1.fas_BWA_timo_standard_no-binom-check.vcf\"\n"
     ]
    },
    {
     "name": "stderr",
     "output_type": "stream",
     "text": [
      "Extracting gt element GT\n",
      "\n",
      "Extracting gt element AD\n",
      "\n",
      "Extracting gt element DP\n",
      "\n",
      "Extracting gt element GQ\n",
      "\n"
     ]
    },
    {
     "name": "stdout",
     "output_type": "stream",
     "text": [
      "[1] \"./timo/000000000-K4LKV_l01_SynCon_Mix40_rep2.fas_BWA_timo_standard_no-binom-check.vcf\"\n"
     ]
    },
    {
     "name": "stderr",
     "output_type": "stream",
     "text": [
      "Extracting gt element GT\n",
      "\n",
      "Extracting gt element AD\n",
      "\n",
      "Extracting gt element DP\n",
      "\n",
      "Extracting gt element GQ\n",
      "\n"
     ]
    },
    {
     "name": "stdout",
     "output_type": "stream",
     "text": [
      "[1] \"./timo/000000000-K4LKV_l01_SynCon_Mix41_rep1.fas_BWA_timo_standard_no-binom-check.vcf\"\n"
     ]
    },
    {
     "name": "stderr",
     "output_type": "stream",
     "text": [
      "Extracting gt element GT\n",
      "\n",
      "Extracting gt element AD\n",
      "\n",
      "Extracting gt element DP\n",
      "\n",
      "Extracting gt element GQ\n",
      "\n"
     ]
    },
    {
     "name": "stdout",
     "output_type": "stream",
     "text": [
      "[1] \"./timo/000000000-K4LKV_l01_SynCon_Mix41_rep2.fas_BWA_timo_standard_no-binom-check.vcf\"\n"
     ]
    },
    {
     "name": "stderr",
     "output_type": "stream",
     "text": [
      "Extracting gt element GT\n",
      "\n",
      "Extracting gt element AD\n",
      "\n",
      "Extracting gt element DP\n",
      "\n",
      "Extracting gt element GQ\n",
      "\n"
     ]
    },
    {
     "name": "stdout",
     "output_type": "stream",
     "text": [
      "[1] \"./timo/000000000-K4LKV_l01_SynCon_Mix42_rep1.fas_BWA_timo_standard_no-binom-check.vcf\"\n"
     ]
    },
    {
     "name": "stderr",
     "output_type": "stream",
     "text": [
      "Extracting gt element GT\n",
      "\n",
      "Extracting gt element AD\n",
      "\n",
      "Extracting gt element DP\n",
      "\n",
      "Extracting gt element GQ\n",
      "\n"
     ]
    },
    {
     "name": "stdout",
     "output_type": "stream",
     "text": [
      "[1] \"./timo/000000000-K4LKV_l01_SynCon_Mix42_rep2.fas_BWA_timo_standard_no-binom-check.vcf\"\n"
     ]
    },
    {
     "name": "stderr",
     "output_type": "stream",
     "text": [
      "Extracting gt element GT\n",
      "\n",
      "Extracting gt element AD\n",
      "\n",
      "Extracting gt element DP\n",
      "\n",
      "Extracting gt element GQ\n",
      "\n"
     ]
    },
    {
     "name": "stdout",
     "output_type": "stream",
     "text": [
      "[1] \"./timo/000000000-K4LKV_l01_SynCon_Mix43_rep1.fas_BWA_timo_standard_no-binom-check.vcf\"\n"
     ]
    },
    {
     "name": "stderr",
     "output_type": "stream",
     "text": [
      "Extracting gt element GT\n",
      "\n",
      "Extracting gt element AD\n",
      "\n",
      "Extracting gt element DP\n",
      "\n",
      "Extracting gt element GQ\n",
      "\n"
     ]
    },
    {
     "name": "stdout",
     "output_type": "stream",
     "text": [
      "[1] \"./timo/000000000-K4LKV_l01_SynCon_Mix43_rep2.fas_BWA_timo_standard_no-binom-check.vcf\"\n"
     ]
    },
    {
     "name": "stderr",
     "output_type": "stream",
     "text": [
      "Extracting gt element GT\n",
      "\n",
      "Extracting gt element AD\n",
      "\n",
      "Extracting gt element DP\n",
      "\n",
      "Extracting gt element GQ\n",
      "\n"
     ]
    },
    {
     "name": "stdout",
     "output_type": "stream",
     "text": [
      "[1] \"./timo/000000000-K4LKV_l01_SynCon_Mix44_rep1.fas_BWA_timo_standard_no-binom-check.vcf\"\n"
     ]
    },
    {
     "name": "stderr",
     "output_type": "stream",
     "text": [
      "Extracting gt element GT\n",
      "\n",
      "Extracting gt element AD\n",
      "\n",
      "Extracting gt element DP\n",
      "\n",
      "Extracting gt element GQ\n",
      "\n"
     ]
    },
    {
     "name": "stdout",
     "output_type": "stream",
     "text": [
      "[1] \"./timo/000000000-K4LKV_l01_SynCon_Mix44_rep2.fas_BWA_timo_standard_no-binom-check.vcf\"\n"
     ]
    },
    {
     "name": "stderr",
     "output_type": "stream",
     "text": [
      "Extracting gt element GT\n",
      "\n",
      "Extracting gt element AD\n",
      "\n",
      "Extracting gt element DP\n",
      "\n",
      "Extracting gt element GQ\n",
      "\n"
     ]
    }
   ],
   "source": [
    "# set up dataframe to hold vcf files for timo, haplotype caller and ivar\n",
    "vcf.all.t <- data.frame()\n",
    "\n",
    "for (filename in vcfs.t) {    \n",
    "    print(filename)\n",
    "    # read in a file\n",
    "    vcf <- read.vcfR(filename, verbose = FALSE)\n",
    "    \n",
    "    # convert to a standard dataframe\n",
    "    vcf_df <- vcfR2tidy(vcf,single_frame = TRUE)\n",
    "    # extract the data frame from the list\n",
    "    vcf_df <- as.data.frame(vcf_df[[1]])\n",
    "    \n",
    "    if (nrow(vcf_df) > 0) {\n",
    "\n",
    "        # separate multiallelic positions from single allele positions\n",
    "        # multi allelic positions will not be just A, C, T, or G\n",
    "        multi <- vcf_df %>% filter(!ALT %in% ntlist)\n",
    "        single <- vcf_df %>% filter(ALT %in% ntlist)\n",
    "    \n",
    "        vcf_df <- single\n",
    "    \n",
    "        # detect just rows where the alt allele positions contains a comma \n",
    "        # indels were not considered for this study\n",
    "        # select necessary columns and filter out indels\n",
    "        multi <- multi %>% filter(str_detect(multi$ALT, \",\") == TRUE) %>% \n",
    "                           filter(REF %in% ntlist)\n",
    "\n",
    "        if(nrow(multi) > 0) {\n",
    "        \n",
    "            multi <- distinct(multi)\n",
    "    \n",
    "            # separate alleles\n",
    "            multi <- separate(multi, ALT, sep = \",\", \n",
    "                           into = c(\"ALT1\",\"ALT2\"))\n",
    "            # separate allele frequencies\n",
    "            multi <- separate(multi, AF, sep = \",\",\n",
    "                           into = c(\"AF1\", \"AF2\"))\n",
    "    \n",
    "            # add a new row for each second allele\n",
    "            multi <- multi %>% pivot_longer(cols = starts_with(\"ALT\"),\n",
    "                                    names_to = \"var\",\n",
    "                                    values_to = \"ALT\") %>% \n",
    "                       mutate(AF=ifelse(var == \"ALT1\", AF1, AF2)) %>%\n",
    "                       select(CHROM, POS, ID, REF, ALT, QUAL, FILTER, AF, Indiv, gt_GT, gt_AD, gt_DP, gt_GQ, gt_GT_alleles)\n",
    "    \n",
    "            vcf_df <- rbind(single, multi)\n",
    "        \n",
    "        }\n",
    "        # make source ID column\n",
    "        vcf_df$source_ID <- filename\n",
    "    \n",
    "        # select desired columns in order\n",
    "        vcf_df <- vcf_df %>% select(source_ID, CHROM, POS, REF, ALT, QUAL, FILTER, AF, gt_DP)\n",
    "    \n",
    "        # add to larger data frame\n",
    "        vcf.all.t <- rbind(vcf.all.t, vcf_df)\n",
    "\n",
    "    \n",
    "    }\n",
    "}\n",
    "\n",
    "# separate tool and file columns\n",
    "vcf.all.t <- separate(vcf.all.t, source_ID, sep = \"/\", \n",
    "               into = c(\"dot\",\"tool\",\"file\")) %>%\n",
    "                select(-c(dot))\n",
    "\n",
    "# get source_ID\n",
    "vcf.all.t <- separate(vcf.all.t, file, sep = \".fas\", \n",
    "               into = c(\"source_ID\",\"rest\")) %>%\n",
    "                select(-c(rest))\n",
    "\n",
    "# change class of columns where necessary\n",
    "vcf.all.t$gt_DP = as.numeric(vcf.all.t$gt_DP)\n",
    "vcf.all.t$AF = as.numeric(vcf.all.t$AF)\n",
    "vcf.all.t$AF <- round(vcf.all.t$AF, digits = 4)\n",
    "\n",
    "# select necessary columns\n",
    "vcf.all.t <- vcf.all.t %>% select(tool, source_ID, CHROM, POS, REF, ALT, AF, gt_DP)\n",
    "\n",
    "# set names of columns to match other tools\n",
    "names(vcf.all.t) <- c(\"tool\",\"source_ID\",\"segment\",\"ntpos\",\"refnt\",\"varnt\",\"varfreq\",\"totalcount\")"
   ]
  },
  {
   "cell_type": "markdown",
   "metadata": {},
   "source": [
    "### Freebayes VCF files"
   ]
  },
  {
   "cell_type": "code",
   "execution_count": 113,
   "metadata": {
    "collapsed": true,
    "jupyter": {
     "outputs_hidden": true
    }
   },
   "outputs": [
    {
     "name": "stdout",
     "output_type": "stream",
     "text": [
      "[1] \"./freebayes/000000000-K4LKV_l01_SynCon_Mix01_rep1.fas_BWA_freebayes_standard.vcf\"\n"
     ]
    },
    {
     "name": "stderr",
     "output_type": "stream",
     "text": [
      "Extracting gt element GT\n",
      "\n",
      "Extracting gt element GQ\n",
      "\n",
      "Extracting gt element GL\n",
      "\n",
      "Extracting gt element DP\n",
      "\n",
      "Extracting gt element AD\n",
      "\n",
      "Extracting gt element RO\n",
      "\n",
      "Extracting gt element QR\n",
      "\n",
      "Extracting gt element AO\n",
      "\n",
      "Extracting gt element QA\n",
      "\n",
      "Extracting gt element MIN_DP\n",
      "\n"
     ]
    },
    {
     "name": "stdout",
     "output_type": "stream",
     "text": [
      "[1] \"./freebayes/000000000-K4LKV_l01_SynCon_Mix01_rep2.fas_BWA_freebayes_standard.vcf\"\n"
     ]
    },
    {
     "name": "stderr",
     "output_type": "stream",
     "text": [
      "Extracting gt element GT\n",
      "\n",
      "Extracting gt element GQ\n",
      "\n",
      "Extracting gt element GL\n",
      "\n",
      "Extracting gt element DP\n",
      "\n",
      "Extracting gt element AD\n",
      "\n",
      "Extracting gt element RO\n",
      "\n",
      "Extracting gt element QR\n",
      "\n",
      "Extracting gt element AO\n",
      "\n",
      "Extracting gt element QA\n",
      "\n",
      "Extracting gt element MIN_DP\n",
      "\n"
     ]
    },
    {
     "name": "stdout",
     "output_type": "stream",
     "text": [
      "[1] \"./freebayes/000000000-K4LKV_l01_SynCon_Mix02_rep1.fas_BWA_freebayes_standard.vcf\"\n"
     ]
    },
    {
     "name": "stderr",
     "output_type": "stream",
     "text": [
      "Extracting gt element GT\n",
      "\n",
      "Extracting gt element GQ\n",
      "\n",
      "Extracting gt element GL\n",
      "\n",
      "Extracting gt element DP\n",
      "\n",
      "Extracting gt element AD\n",
      "\n",
      "Extracting gt element RO\n",
      "\n",
      "Extracting gt element QR\n",
      "\n",
      "Extracting gt element AO\n",
      "\n",
      "Extracting gt element QA\n",
      "\n",
      "Extracting gt element MIN_DP\n",
      "\n"
     ]
    },
    {
     "name": "stdout",
     "output_type": "stream",
     "text": [
      "[1] \"./freebayes/000000000-K4LKV_l01_SynCon_Mix02_rep2.fas_BWA_freebayes_standard.vcf\"\n"
     ]
    },
    {
     "name": "stderr",
     "output_type": "stream",
     "text": [
      "Extracting gt element GT\n",
      "\n",
      "Extracting gt element GQ\n",
      "\n",
      "Extracting gt element GL\n",
      "\n",
      "Extracting gt element DP\n",
      "\n",
      "Extracting gt element AD\n",
      "\n",
      "Extracting gt element RO\n",
      "\n",
      "Extracting gt element QR\n",
      "\n",
      "Extracting gt element AO\n",
      "\n",
      "Extracting gt element QA\n",
      "\n",
      "Extracting gt element MIN_DP\n",
      "\n"
     ]
    },
    {
     "name": "stdout",
     "output_type": "stream",
     "text": [
      "[1] \"./freebayes/000000000-K4LKV_l01_SynCon_Mix03_rep1.fas_BWA_freebayes_standard.vcf\"\n"
     ]
    },
    {
     "name": "stderr",
     "output_type": "stream",
     "text": [
      "Extracting gt element GT\n",
      "\n",
      "Extracting gt element GQ\n",
      "\n",
      "Extracting gt element GL\n",
      "\n",
      "Extracting gt element DP\n",
      "\n",
      "Extracting gt element AD\n",
      "\n",
      "Extracting gt element RO\n",
      "\n",
      "Extracting gt element QR\n",
      "\n",
      "Extracting gt element AO\n",
      "\n",
      "Extracting gt element QA\n",
      "\n",
      "Extracting gt element MIN_DP\n",
      "\n"
     ]
    },
    {
     "name": "stdout",
     "output_type": "stream",
     "text": [
      "[1] \"./freebayes/000000000-K4LKV_l01_SynCon_Mix03_rep2.fas_BWA_freebayes_standard.vcf\"\n"
     ]
    },
    {
     "name": "stderr",
     "output_type": "stream",
     "text": [
      "Extracting gt element GT\n",
      "\n",
      "Extracting gt element GQ\n",
      "\n",
      "Extracting gt element GL\n",
      "\n",
      "Extracting gt element DP\n",
      "\n",
      "Extracting gt element AD\n",
      "\n",
      "Extracting gt element RO\n",
      "\n",
      "Extracting gt element QR\n",
      "\n",
      "Extracting gt element AO\n",
      "\n",
      "Extracting gt element QA\n",
      "\n",
      "Extracting gt element MIN_DP\n",
      "\n"
     ]
    },
    {
     "name": "stdout",
     "output_type": "stream",
     "text": [
      "[1] \"./freebayes/000000000-K4LKV_l01_SynCon_Mix04_rep1.fas_BWA_freebayes_standard.vcf\"\n"
     ]
    },
    {
     "name": "stderr",
     "output_type": "stream",
     "text": [
      "Extracting gt element GT\n",
      "\n",
      "Extracting gt element GQ\n",
      "\n",
      "Extracting gt element GL\n",
      "\n",
      "Extracting gt element DP\n",
      "\n",
      "Extracting gt element AD\n",
      "\n",
      "Extracting gt element RO\n",
      "\n",
      "Extracting gt element QR\n",
      "\n",
      "Extracting gt element AO\n",
      "\n",
      "Extracting gt element QA\n",
      "\n",
      "Extracting gt element MIN_DP\n",
      "\n"
     ]
    },
    {
     "name": "stdout",
     "output_type": "stream",
     "text": [
      "[1] \"./freebayes/000000000-K4LKV_l01_SynCon_Mix04_rep2.fas_BWA_freebayes_standard.vcf\"\n"
     ]
    },
    {
     "name": "stderr",
     "output_type": "stream",
     "text": [
      "Extracting gt element GT\n",
      "\n",
      "Extracting gt element GQ\n",
      "\n",
      "Extracting gt element GL\n",
      "\n",
      "Extracting gt element DP\n",
      "\n",
      "Extracting gt element AD\n",
      "\n",
      "Extracting gt element RO\n",
      "\n",
      "Extracting gt element QR\n",
      "\n",
      "Extracting gt element AO\n",
      "\n",
      "Extracting gt element QA\n",
      "\n",
      "Extracting gt element MIN_DP\n",
      "\n"
     ]
    },
    {
     "name": "stdout",
     "output_type": "stream",
     "text": [
      "[1] \"./freebayes/000000000-K4LKV_l01_SynCon_Mix05_rep1.fas_BWA_freebayes_standard.vcf\"\n"
     ]
    },
    {
     "name": "stderr",
     "output_type": "stream",
     "text": [
      "Extracting gt element GT\n",
      "\n",
      "Extracting gt element GQ\n",
      "\n",
      "Extracting gt element GL\n",
      "\n",
      "Extracting gt element DP\n",
      "\n",
      "Extracting gt element AD\n",
      "\n",
      "Extracting gt element RO\n",
      "\n",
      "Extracting gt element QR\n",
      "\n",
      "Extracting gt element AO\n",
      "\n",
      "Extracting gt element QA\n",
      "\n",
      "Extracting gt element MIN_DP\n",
      "\n"
     ]
    },
    {
     "name": "stdout",
     "output_type": "stream",
     "text": [
      "[1] \"./freebayes/000000000-K4LKV_l01_SynCon_Mix05_rep2.fas_BWA_freebayes_standard.vcf\"\n"
     ]
    },
    {
     "name": "stderr",
     "output_type": "stream",
     "text": [
      "Extracting gt element GT\n",
      "\n",
      "Extracting gt element GQ\n",
      "\n",
      "Extracting gt element GL\n",
      "\n",
      "Extracting gt element DP\n",
      "\n",
      "Extracting gt element AD\n",
      "\n",
      "Extracting gt element RO\n",
      "\n",
      "Extracting gt element QR\n",
      "\n",
      "Extracting gt element AO\n",
      "\n",
      "Extracting gt element QA\n",
      "\n",
      "Extracting gt element MIN_DP\n",
      "\n"
     ]
    },
    {
     "name": "stdout",
     "output_type": "stream",
     "text": [
      "[1] \"./freebayes/000000000-K4LKV_l01_SynCon_Mix06_rep1.fas_BWA_freebayes_standard.vcf\"\n"
     ]
    },
    {
     "name": "stderr",
     "output_type": "stream",
     "text": [
      "Extracting gt element GT\n",
      "\n",
      "Extracting gt element GQ\n",
      "\n",
      "Extracting gt element GL\n",
      "\n",
      "Extracting gt element DP\n",
      "\n",
      "Extracting gt element AD\n",
      "\n",
      "Extracting gt element RO\n",
      "\n",
      "Extracting gt element QR\n",
      "\n",
      "Extracting gt element AO\n",
      "\n",
      "Extracting gt element QA\n",
      "\n",
      "Extracting gt element MIN_DP\n",
      "\n"
     ]
    },
    {
     "name": "stdout",
     "output_type": "stream",
     "text": [
      "[1] \"./freebayes/000000000-K4LKV_l01_SynCon_Mix06_rep2.fas_BWA_freebayes_standard.vcf\"\n"
     ]
    },
    {
     "name": "stderr",
     "output_type": "stream",
     "text": [
      "Extracting gt element GT\n",
      "\n",
      "Extracting gt element GQ\n",
      "\n",
      "Extracting gt element GL\n",
      "\n",
      "Extracting gt element DP\n",
      "\n",
      "Extracting gt element AD\n",
      "\n",
      "Extracting gt element RO\n",
      "\n",
      "Extracting gt element QR\n",
      "\n",
      "Extracting gt element AO\n",
      "\n",
      "Extracting gt element QA\n",
      "\n",
      "Extracting gt element MIN_DP\n",
      "\n"
     ]
    },
    {
     "name": "stdout",
     "output_type": "stream",
     "text": [
      "[1] \"./freebayes/000000000-K4LKV_l01_SynCon_Mix07_rep1.fas_BWA_freebayes_standard.vcf\"\n"
     ]
    },
    {
     "name": "stderr",
     "output_type": "stream",
     "text": [
      "Extracting gt element GT\n",
      "\n",
      "Extracting gt element GQ\n",
      "\n",
      "Extracting gt element GL\n",
      "\n",
      "Extracting gt element DP\n",
      "\n",
      "Extracting gt element AD\n",
      "\n",
      "Extracting gt element RO\n",
      "\n",
      "Extracting gt element QR\n",
      "\n",
      "Extracting gt element AO\n",
      "\n",
      "Extracting gt element QA\n",
      "\n",
      "Extracting gt element MIN_DP\n",
      "\n"
     ]
    },
    {
     "name": "stdout",
     "output_type": "stream",
     "text": [
      "[1] \"./freebayes/000000000-K4LKV_l01_SynCon_Mix07_rep2.fas_BWA_freebayes_standard.vcf\"\n"
     ]
    },
    {
     "name": "stderr",
     "output_type": "stream",
     "text": [
      "Extracting gt element GT\n",
      "\n",
      "Extracting gt element GQ\n",
      "\n",
      "Extracting gt element GL\n",
      "\n",
      "Extracting gt element DP\n",
      "\n",
      "Extracting gt element AD\n",
      "\n",
      "Extracting gt element RO\n",
      "\n",
      "Extracting gt element QR\n",
      "\n",
      "Extracting gt element AO\n",
      "\n",
      "Extracting gt element QA\n",
      "\n",
      "Extracting gt element MIN_DP\n",
      "\n"
     ]
    },
    {
     "name": "stdout",
     "output_type": "stream",
     "text": [
      "[1] \"./freebayes/000000000-K4LKV_l01_SynCon_Mix08_rep1.fas_BWA_freebayes_standard.vcf\"\n"
     ]
    },
    {
     "name": "stderr",
     "output_type": "stream",
     "text": [
      "Extracting gt element GT\n",
      "\n",
      "Extracting gt element GQ\n",
      "\n",
      "Extracting gt element GL\n",
      "\n",
      "Extracting gt element DP\n",
      "\n",
      "Extracting gt element AD\n",
      "\n",
      "Extracting gt element RO\n",
      "\n",
      "Extracting gt element QR\n",
      "\n",
      "Extracting gt element AO\n",
      "\n",
      "Extracting gt element QA\n",
      "\n",
      "Extracting gt element MIN_DP\n",
      "\n"
     ]
    },
    {
     "name": "stdout",
     "output_type": "stream",
     "text": [
      "[1] \"./freebayes/000000000-K4LKV_l01_SynCon_Mix08_rep2.fas_BWA_freebayes_standard.vcf\"\n"
     ]
    },
    {
     "name": "stderr",
     "output_type": "stream",
     "text": [
      "Extracting gt element GT\n",
      "\n",
      "Extracting gt element GQ\n",
      "\n",
      "Extracting gt element GL\n",
      "\n",
      "Extracting gt element DP\n",
      "\n",
      "Extracting gt element AD\n",
      "\n",
      "Extracting gt element RO\n",
      "\n",
      "Extracting gt element QR\n",
      "\n",
      "Extracting gt element AO\n",
      "\n",
      "Extracting gt element QA\n",
      "\n",
      "Extracting gt element MIN_DP\n",
      "\n"
     ]
    },
    {
     "name": "stdout",
     "output_type": "stream",
     "text": [
      "[1] \"./freebayes/000000000-K4LKV_l01_SynCon_Mix09_rep1.fas_BWA_freebayes_standard.vcf\"\n"
     ]
    },
    {
     "name": "stderr",
     "output_type": "stream",
     "text": [
      "Extracting gt element GT\n",
      "\n",
      "Extracting gt element GQ\n",
      "\n",
      "Extracting gt element GL\n",
      "\n",
      "Extracting gt element DP\n",
      "\n",
      "Extracting gt element AD\n",
      "\n",
      "Extracting gt element RO\n",
      "\n",
      "Extracting gt element QR\n",
      "\n",
      "Extracting gt element AO\n",
      "\n",
      "Extracting gt element QA\n",
      "\n",
      "Extracting gt element MIN_DP\n",
      "\n"
     ]
    },
    {
     "name": "stdout",
     "output_type": "stream",
     "text": [
      "[1] \"./freebayes/000000000-K4LKV_l01_SynCon_Mix09_rep2.fas_BWA_freebayes_standard.vcf\"\n"
     ]
    },
    {
     "name": "stderr",
     "output_type": "stream",
     "text": [
      "Extracting gt element GT\n",
      "\n",
      "Extracting gt element GQ\n",
      "\n",
      "Extracting gt element GL\n",
      "\n",
      "Extracting gt element DP\n",
      "\n",
      "Extracting gt element AD\n",
      "\n",
      "Extracting gt element RO\n",
      "\n",
      "Extracting gt element QR\n",
      "\n",
      "Extracting gt element AO\n",
      "\n",
      "Extracting gt element QA\n",
      "\n",
      "Extracting gt element MIN_DP\n",
      "\n"
     ]
    },
    {
     "name": "stdout",
     "output_type": "stream",
     "text": [
      "[1] \"./freebayes/000000000-K4LKV_l01_SynCon_Mix10_rep1.fas_BWA_freebayes_standard.vcf\"\n"
     ]
    },
    {
     "name": "stderr",
     "output_type": "stream",
     "text": [
      "Extracting gt element GT\n",
      "\n",
      "Extracting gt element GQ\n",
      "\n",
      "Extracting gt element GL\n",
      "\n",
      "Extracting gt element DP\n",
      "\n",
      "Extracting gt element AD\n",
      "\n",
      "Extracting gt element RO\n",
      "\n",
      "Extracting gt element QR\n",
      "\n",
      "Extracting gt element AO\n",
      "\n",
      "Extracting gt element QA\n",
      "\n",
      "Extracting gt element MIN_DP\n",
      "\n"
     ]
    },
    {
     "name": "stdout",
     "output_type": "stream",
     "text": [
      "[1] \"./freebayes/000000000-K4LKV_l01_SynCon_Mix10_rep2.fas_BWA_freebayes_standard.vcf\"\n"
     ]
    },
    {
     "name": "stderr",
     "output_type": "stream",
     "text": [
      "Extracting gt element GT\n",
      "\n",
      "Extracting gt element GQ\n",
      "\n",
      "Extracting gt element GL\n",
      "\n",
      "Extracting gt element DP\n",
      "\n",
      "Extracting gt element AD\n",
      "\n",
      "Extracting gt element RO\n",
      "\n",
      "Extracting gt element QR\n",
      "\n",
      "Extracting gt element AO\n",
      "\n",
      "Extracting gt element QA\n",
      "\n",
      "Extracting gt element MIN_DP\n",
      "\n"
     ]
    },
    {
     "name": "stdout",
     "output_type": "stream",
     "text": [
      "[1] \"./freebayes/000000000-K4LKV_l01_SynCon_Mix11_rep1.fas_BWA_freebayes_standard.vcf\"\n"
     ]
    },
    {
     "name": "stderr",
     "output_type": "stream",
     "text": [
      "Extracting gt element GT\n",
      "\n",
      "Extracting gt element GQ\n",
      "\n",
      "Extracting gt element GL\n",
      "\n",
      "Extracting gt element DP\n",
      "\n",
      "Extracting gt element AD\n",
      "\n",
      "Extracting gt element RO\n",
      "\n",
      "Extracting gt element QR\n",
      "\n",
      "Extracting gt element AO\n",
      "\n",
      "Extracting gt element QA\n",
      "\n",
      "Extracting gt element MIN_DP\n",
      "\n"
     ]
    },
    {
     "name": "stdout",
     "output_type": "stream",
     "text": [
      "[1] \"./freebayes/000000000-K4LKV_l01_SynCon_Mix11_rep2.fas_BWA_freebayes_standard.vcf\"\n"
     ]
    },
    {
     "name": "stderr",
     "output_type": "stream",
     "text": [
      "Extracting gt element GT\n",
      "\n",
      "Extracting gt element GQ\n",
      "\n",
      "Extracting gt element GL\n",
      "\n",
      "Extracting gt element DP\n",
      "\n",
      "Extracting gt element AD\n",
      "\n",
      "Extracting gt element RO\n",
      "\n",
      "Extracting gt element QR\n",
      "\n",
      "Extracting gt element AO\n",
      "\n",
      "Extracting gt element QA\n",
      "\n",
      "Extracting gt element MIN_DP\n",
      "\n"
     ]
    },
    {
     "name": "stdout",
     "output_type": "stream",
     "text": [
      "[1] \"./freebayes/000000000-K4LKV_l01_SynCon_Mix12_rep1.fas_BWA_freebayes_standard.vcf\"\n"
     ]
    },
    {
     "name": "stderr",
     "output_type": "stream",
     "text": [
      "Extracting gt element GT\n",
      "\n",
      "Extracting gt element GQ\n",
      "\n",
      "Extracting gt element GL\n",
      "\n",
      "Extracting gt element DP\n",
      "\n",
      "Extracting gt element AD\n",
      "\n",
      "Extracting gt element RO\n",
      "\n",
      "Extracting gt element QR\n",
      "\n",
      "Extracting gt element AO\n",
      "\n",
      "Extracting gt element QA\n",
      "\n",
      "Extracting gt element MIN_DP\n",
      "\n"
     ]
    },
    {
     "name": "stdout",
     "output_type": "stream",
     "text": [
      "[1] \"./freebayes/000000000-K4LKV_l01_SynCon_Mix12_rep2.fas_BWA_freebayes_standard.vcf\"\n"
     ]
    },
    {
     "name": "stderr",
     "output_type": "stream",
     "text": [
      "Extracting gt element GT\n",
      "\n",
      "Extracting gt element GQ\n",
      "\n",
      "Extracting gt element GL\n",
      "\n",
      "Extracting gt element DP\n",
      "\n",
      "Extracting gt element AD\n",
      "\n",
      "Extracting gt element RO\n",
      "\n",
      "Extracting gt element QR\n",
      "\n",
      "Extracting gt element AO\n",
      "\n",
      "Extracting gt element QA\n",
      "\n",
      "Extracting gt element MIN_DP\n",
      "\n"
     ]
    },
    {
     "name": "stdout",
     "output_type": "stream",
     "text": [
      "[1] \"./freebayes/000000000-K4LKV_l01_SynCon_Mix13_rep1.fas_BWA_freebayes_standard.vcf\"\n"
     ]
    },
    {
     "name": "stderr",
     "output_type": "stream",
     "text": [
      "Extracting gt element GT\n",
      "\n",
      "Extracting gt element GQ\n",
      "\n",
      "Extracting gt element GL\n",
      "\n",
      "Extracting gt element DP\n",
      "\n",
      "Extracting gt element AD\n",
      "\n",
      "Extracting gt element RO\n",
      "\n",
      "Extracting gt element QR\n",
      "\n",
      "Extracting gt element AO\n",
      "\n",
      "Extracting gt element QA\n",
      "\n",
      "Extracting gt element MIN_DP\n",
      "\n"
     ]
    },
    {
     "name": "stdout",
     "output_type": "stream",
     "text": [
      "[1] \"./freebayes/000000000-K4LKV_l01_SynCon_Mix13_rep2.fas_BWA_freebayes_standard.vcf\"\n"
     ]
    },
    {
     "name": "stderr",
     "output_type": "stream",
     "text": [
      "Extracting gt element GT\n",
      "\n",
      "Extracting gt element GQ\n",
      "\n",
      "Extracting gt element GL\n",
      "\n",
      "Extracting gt element DP\n",
      "\n",
      "Extracting gt element AD\n",
      "\n",
      "Extracting gt element RO\n",
      "\n",
      "Extracting gt element QR\n",
      "\n",
      "Extracting gt element AO\n",
      "\n",
      "Extracting gt element QA\n",
      "\n",
      "Extracting gt element MIN_DP\n",
      "\n"
     ]
    },
    {
     "name": "stdout",
     "output_type": "stream",
     "text": [
      "[1] \"./freebayes/000000000-K4LKV_l01_SynCon_Mix14_rep1.fas_BWA_freebayes_standard.vcf\"\n"
     ]
    },
    {
     "name": "stderr",
     "output_type": "stream",
     "text": [
      "Extracting gt element GT\n",
      "\n",
      "Extracting gt element GQ\n",
      "\n",
      "Extracting gt element GL\n",
      "\n",
      "Extracting gt element DP\n",
      "\n",
      "Extracting gt element AD\n",
      "\n",
      "Extracting gt element RO\n",
      "\n",
      "Extracting gt element QR\n",
      "\n",
      "Extracting gt element AO\n",
      "\n",
      "Extracting gt element QA\n",
      "\n",
      "Extracting gt element MIN_DP\n",
      "\n"
     ]
    },
    {
     "name": "stdout",
     "output_type": "stream",
     "text": [
      "[1] \"./freebayes/000000000-K4LKV_l01_SynCon_Mix14_rep2.fas_BWA_freebayes_standard.vcf\"\n"
     ]
    },
    {
     "name": "stderr",
     "output_type": "stream",
     "text": [
      "Extracting gt element GT\n",
      "\n",
      "Extracting gt element GQ\n",
      "\n",
      "Extracting gt element GL\n",
      "\n",
      "Extracting gt element DP\n",
      "\n",
      "Extracting gt element AD\n",
      "\n",
      "Extracting gt element RO\n",
      "\n",
      "Extracting gt element QR\n",
      "\n",
      "Extracting gt element AO\n",
      "\n",
      "Extracting gt element QA\n",
      "\n",
      "Extracting gt element MIN_DP\n",
      "\n"
     ]
    },
    {
     "name": "stdout",
     "output_type": "stream",
     "text": [
      "[1] \"./freebayes/000000000-K4LKV_l01_SynCon_Mix15_rep1.fas_BWA_freebayes_standard.vcf\"\n"
     ]
    },
    {
     "name": "stderr",
     "output_type": "stream",
     "text": [
      "Extracting gt element GT\n",
      "\n",
      "Extracting gt element GQ\n",
      "\n",
      "Extracting gt element GL\n",
      "\n",
      "Extracting gt element DP\n",
      "\n",
      "Extracting gt element AD\n",
      "\n",
      "Extracting gt element RO\n",
      "\n",
      "Extracting gt element QR\n",
      "\n",
      "Extracting gt element AO\n",
      "\n",
      "Extracting gt element QA\n",
      "\n",
      "Extracting gt element MIN_DP\n",
      "\n"
     ]
    },
    {
     "name": "stdout",
     "output_type": "stream",
     "text": [
      "[1] \"./freebayes/000000000-K4LKV_l01_SynCon_Mix15_rep2.fas_BWA_freebayes_standard.vcf\"\n"
     ]
    },
    {
     "name": "stderr",
     "output_type": "stream",
     "text": [
      "Extracting gt element GT\n",
      "\n",
      "Extracting gt element GQ\n",
      "\n",
      "Extracting gt element GL\n",
      "\n",
      "Extracting gt element DP\n",
      "\n",
      "Extracting gt element AD\n",
      "\n",
      "Extracting gt element RO\n",
      "\n",
      "Extracting gt element QR\n",
      "\n",
      "Extracting gt element AO\n",
      "\n",
      "Extracting gt element QA\n",
      "\n",
      "Extracting gt element MIN_DP\n",
      "\n"
     ]
    },
    {
     "name": "stdout",
     "output_type": "stream",
     "text": [
      "[1] \"./freebayes/000000000-K4LKV_l01_SynCon_Mix16_rep1.fas_BWA_freebayes_standard.vcf\"\n"
     ]
    },
    {
     "name": "stderr",
     "output_type": "stream",
     "text": [
      "Extracting gt element GT\n",
      "\n",
      "Extracting gt element GQ\n",
      "\n",
      "Extracting gt element GL\n",
      "\n",
      "Extracting gt element DP\n",
      "\n",
      "Extracting gt element AD\n",
      "\n",
      "Extracting gt element RO\n",
      "\n",
      "Extracting gt element QR\n",
      "\n",
      "Extracting gt element AO\n",
      "\n",
      "Extracting gt element QA\n",
      "\n",
      "Extracting gt element MIN_DP\n",
      "\n"
     ]
    },
    {
     "name": "stdout",
     "output_type": "stream",
     "text": [
      "[1] \"./freebayes/000000000-K4LKV_l01_SynCon_Mix16_rep2.fas_BWA_freebayes_standard.vcf\"\n"
     ]
    },
    {
     "name": "stderr",
     "output_type": "stream",
     "text": [
      "Extracting gt element GT\n",
      "\n",
      "Extracting gt element GQ\n",
      "\n",
      "Extracting gt element GL\n",
      "\n",
      "Extracting gt element DP\n",
      "\n",
      "Extracting gt element AD\n",
      "\n",
      "Extracting gt element RO\n",
      "\n",
      "Extracting gt element QR\n",
      "\n",
      "Extracting gt element AO\n",
      "\n",
      "Extracting gt element QA\n",
      "\n",
      "Extracting gt element MIN_DP\n",
      "\n"
     ]
    },
    {
     "name": "stdout",
     "output_type": "stream",
     "text": [
      "[1] \"./freebayes/000000000-K4LKV_l01_SynCon_Mix17_rep1.fas_BWA_freebayes_standard.vcf\"\n"
     ]
    },
    {
     "name": "stderr",
     "output_type": "stream",
     "text": [
      "Extracting gt element GT\n",
      "\n",
      "Extracting gt element GQ\n",
      "\n",
      "Extracting gt element GL\n",
      "\n",
      "Extracting gt element DP\n",
      "\n",
      "Extracting gt element AD\n",
      "\n",
      "Extracting gt element RO\n",
      "\n",
      "Extracting gt element QR\n",
      "\n",
      "Extracting gt element AO\n",
      "\n",
      "Extracting gt element QA\n",
      "\n",
      "Extracting gt element MIN_DP\n",
      "\n"
     ]
    },
    {
     "name": "stdout",
     "output_type": "stream",
     "text": [
      "[1] \"./freebayes/000000000-K4LKV_l01_SynCon_Mix17_rep2.fas_BWA_freebayes_standard.vcf\"\n"
     ]
    },
    {
     "name": "stderr",
     "output_type": "stream",
     "text": [
      "Extracting gt element GT\n",
      "\n",
      "Extracting gt element GQ\n",
      "\n",
      "Extracting gt element GL\n",
      "\n",
      "Extracting gt element DP\n",
      "\n",
      "Extracting gt element AD\n",
      "\n",
      "Extracting gt element RO\n",
      "\n",
      "Extracting gt element QR\n",
      "\n",
      "Extracting gt element AO\n",
      "\n",
      "Extracting gt element QA\n",
      "\n",
      "Extracting gt element MIN_DP\n",
      "\n"
     ]
    },
    {
     "name": "stdout",
     "output_type": "stream",
     "text": [
      "[1] \"./freebayes/000000000-K4LKV_l01_SynCon_Mix18_rep1.fas_BWA_freebayes_standard.vcf\"\n"
     ]
    },
    {
     "name": "stderr",
     "output_type": "stream",
     "text": [
      "Extracting gt element GT\n",
      "\n",
      "Extracting gt element GQ\n",
      "\n",
      "Extracting gt element GL\n",
      "\n",
      "Extracting gt element DP\n",
      "\n",
      "Extracting gt element AD\n",
      "\n",
      "Extracting gt element RO\n",
      "\n",
      "Extracting gt element QR\n",
      "\n",
      "Extracting gt element AO\n",
      "\n",
      "Extracting gt element QA\n",
      "\n",
      "Extracting gt element MIN_DP\n",
      "\n"
     ]
    },
    {
     "name": "stdout",
     "output_type": "stream",
     "text": [
      "[1] \"./freebayes/000000000-K4LKV_l01_SynCon_Mix18_rep2.fas_BWA_freebayes_standard.vcf\"\n"
     ]
    },
    {
     "name": "stderr",
     "output_type": "stream",
     "text": [
      "Extracting gt element GT\n",
      "\n",
      "Extracting gt element GQ\n",
      "\n",
      "Extracting gt element GL\n",
      "\n",
      "Extracting gt element DP\n",
      "\n",
      "Extracting gt element AD\n",
      "\n",
      "Extracting gt element RO\n",
      "\n",
      "Extracting gt element QR\n",
      "\n",
      "Extracting gt element AO\n",
      "\n",
      "Extracting gt element QA\n",
      "\n",
      "Extracting gt element MIN_DP\n",
      "\n"
     ]
    },
    {
     "name": "stdout",
     "output_type": "stream",
     "text": [
      "[1] \"./freebayes/000000000-K4LKV_l01_SynCon_Mix19_rep1.fas_BWA_freebayes_standard.vcf\"\n"
     ]
    },
    {
     "name": "stderr",
     "output_type": "stream",
     "text": [
      "Extracting gt element GT\n",
      "\n",
      "Extracting gt element GQ\n",
      "\n",
      "Extracting gt element GL\n",
      "\n",
      "Extracting gt element DP\n",
      "\n",
      "Extracting gt element AD\n",
      "\n",
      "Extracting gt element RO\n",
      "\n",
      "Extracting gt element QR\n",
      "\n",
      "Extracting gt element AO\n",
      "\n",
      "Extracting gt element QA\n",
      "\n",
      "Extracting gt element MIN_DP\n",
      "\n"
     ]
    },
    {
     "name": "stdout",
     "output_type": "stream",
     "text": [
      "[1] \"./freebayes/000000000-K4LKV_l01_SynCon_Mix19_rep2.fas_BWA_freebayes_standard.vcf\"\n"
     ]
    },
    {
     "name": "stderr",
     "output_type": "stream",
     "text": [
      "Extracting gt element GT\n",
      "\n",
      "Extracting gt element GQ\n",
      "\n",
      "Extracting gt element GL\n",
      "\n",
      "Extracting gt element DP\n",
      "\n",
      "Extracting gt element AD\n",
      "\n",
      "Extracting gt element RO\n",
      "\n",
      "Extracting gt element QR\n",
      "\n",
      "Extracting gt element AO\n",
      "\n",
      "Extracting gt element QA\n",
      "\n",
      "Extracting gt element MIN_DP\n",
      "\n"
     ]
    },
    {
     "name": "stdout",
     "output_type": "stream",
     "text": [
      "[1] \"./freebayes/000000000-K4LKV_l01_SynCon_Mix20_rep1.fas_BWA_freebayes_standard.vcf\"\n"
     ]
    },
    {
     "name": "stderr",
     "output_type": "stream",
     "text": [
      "Extracting gt element GT\n",
      "\n",
      "Extracting gt element GQ\n",
      "\n",
      "Extracting gt element GL\n",
      "\n",
      "Extracting gt element DP\n",
      "\n",
      "Extracting gt element AD\n",
      "\n",
      "Extracting gt element RO\n",
      "\n",
      "Extracting gt element QR\n",
      "\n",
      "Extracting gt element AO\n",
      "\n",
      "Extracting gt element QA\n",
      "\n",
      "Extracting gt element MIN_DP\n",
      "\n"
     ]
    },
    {
     "name": "stdout",
     "output_type": "stream",
     "text": [
      "[1] \"./freebayes/000000000-K4LKV_l01_SynCon_Mix20_rep2.fas_BWA_freebayes_standard.vcf\"\n"
     ]
    },
    {
     "name": "stderr",
     "output_type": "stream",
     "text": [
      "Extracting gt element GT\n",
      "\n",
      "Extracting gt element GQ\n",
      "\n",
      "Extracting gt element GL\n",
      "\n",
      "Extracting gt element DP\n",
      "\n",
      "Extracting gt element AD\n",
      "\n",
      "Extracting gt element RO\n",
      "\n",
      "Extracting gt element QR\n",
      "\n",
      "Extracting gt element AO\n",
      "\n",
      "Extracting gt element QA\n",
      "\n",
      "Extracting gt element MIN_DP\n",
      "\n"
     ]
    },
    {
     "name": "stdout",
     "output_type": "stream",
     "text": [
      "[1] \"./freebayes/000000000-K4LKV_l01_SynCon_Mix21_rep1.fas_BWA_freebayes_standard.vcf\"\n"
     ]
    },
    {
     "name": "stderr",
     "output_type": "stream",
     "text": [
      "Extracting gt element GT\n",
      "\n",
      "Extracting gt element GQ\n",
      "\n",
      "Extracting gt element GL\n",
      "\n",
      "Extracting gt element DP\n",
      "\n",
      "Extracting gt element AD\n",
      "\n",
      "Extracting gt element RO\n",
      "\n",
      "Extracting gt element QR\n",
      "\n",
      "Extracting gt element AO\n",
      "\n",
      "Extracting gt element QA\n",
      "\n",
      "Extracting gt element MIN_DP\n",
      "\n"
     ]
    },
    {
     "name": "stdout",
     "output_type": "stream",
     "text": [
      "[1] \"./freebayes/000000000-K4LKV_l01_SynCon_Mix21_rep2.fas_BWA_freebayes_standard.vcf\"\n"
     ]
    },
    {
     "name": "stderr",
     "output_type": "stream",
     "text": [
      "Extracting gt element GT\n",
      "\n",
      "Extracting gt element GQ\n",
      "\n",
      "Extracting gt element GL\n",
      "\n",
      "Extracting gt element DP\n",
      "\n",
      "Extracting gt element AD\n",
      "\n",
      "Extracting gt element RO\n",
      "\n",
      "Extracting gt element QR\n",
      "\n",
      "Extracting gt element AO\n",
      "\n",
      "Extracting gt element QA\n",
      "\n",
      "Extracting gt element MIN_DP\n",
      "\n"
     ]
    },
    {
     "name": "stdout",
     "output_type": "stream",
     "text": [
      "[1] \"./freebayes/000000000-K4LKV_l01_SynCon_Mix22_rep1.fas_BWA_freebayes_standard.vcf\"\n"
     ]
    },
    {
     "name": "stderr",
     "output_type": "stream",
     "text": [
      "Extracting gt element GT\n",
      "\n",
      "Extracting gt element GQ\n",
      "\n",
      "Extracting gt element GL\n",
      "\n",
      "Extracting gt element DP\n",
      "\n",
      "Extracting gt element AD\n",
      "\n",
      "Extracting gt element RO\n",
      "\n",
      "Extracting gt element QR\n",
      "\n",
      "Extracting gt element AO\n",
      "\n",
      "Extracting gt element QA\n",
      "\n",
      "Extracting gt element MIN_DP\n",
      "\n"
     ]
    },
    {
     "name": "stdout",
     "output_type": "stream",
     "text": [
      "[1] \"./freebayes/000000000-K4LKV_l01_SynCon_Mix22_rep2.fas_BWA_freebayes_standard.vcf\"\n"
     ]
    },
    {
     "name": "stderr",
     "output_type": "stream",
     "text": [
      "Extracting gt element GT\n",
      "\n",
      "Extracting gt element GQ\n",
      "\n",
      "Extracting gt element GL\n",
      "\n",
      "Extracting gt element DP\n",
      "\n",
      "Extracting gt element AD\n",
      "\n",
      "Extracting gt element RO\n",
      "\n",
      "Extracting gt element QR\n",
      "\n",
      "Extracting gt element AO\n",
      "\n",
      "Extracting gt element QA\n",
      "\n",
      "Extracting gt element MIN_DP\n",
      "\n"
     ]
    },
    {
     "name": "stdout",
     "output_type": "stream",
     "text": [
      "[1] \"./freebayes/000000000-K4LKV_l01_SynCon_Mix23_rep1.fas_BWA_freebayes_standard.vcf\"\n"
     ]
    },
    {
     "name": "stderr",
     "output_type": "stream",
     "text": [
      "Extracting gt element GT\n",
      "\n",
      "Extracting gt element GQ\n",
      "\n",
      "Extracting gt element GL\n",
      "\n",
      "Extracting gt element DP\n",
      "\n",
      "Extracting gt element AD\n",
      "\n",
      "Extracting gt element RO\n",
      "\n",
      "Extracting gt element QR\n",
      "\n",
      "Extracting gt element AO\n",
      "\n",
      "Extracting gt element QA\n",
      "\n",
      "Extracting gt element MIN_DP\n",
      "\n"
     ]
    },
    {
     "name": "stdout",
     "output_type": "stream",
     "text": [
      "[1] \"./freebayes/000000000-K4LKV_l01_SynCon_Mix23_rep2.fas_BWA_freebayes_standard.vcf\"\n"
     ]
    },
    {
     "name": "stderr",
     "output_type": "stream",
     "text": [
      "Extracting gt element GT\n",
      "\n",
      "Extracting gt element GQ\n",
      "\n",
      "Extracting gt element GL\n",
      "\n",
      "Extracting gt element DP\n",
      "\n",
      "Extracting gt element AD\n",
      "\n",
      "Extracting gt element RO\n",
      "\n",
      "Extracting gt element QR\n",
      "\n",
      "Extracting gt element AO\n",
      "\n",
      "Extracting gt element QA\n",
      "\n",
      "Extracting gt element MIN_DP\n",
      "\n"
     ]
    },
    {
     "name": "stdout",
     "output_type": "stream",
     "text": [
      "[1] \"./freebayes/000000000-K4LKV_l01_SynCon_Mix24_rep1.fas_BWA_freebayes_standard.vcf\"\n"
     ]
    },
    {
     "name": "stderr",
     "output_type": "stream",
     "text": [
      "Extracting gt element GT\n",
      "\n",
      "Extracting gt element GQ\n",
      "\n",
      "Extracting gt element GL\n",
      "\n",
      "Extracting gt element DP\n",
      "\n",
      "Extracting gt element AD\n",
      "\n",
      "Extracting gt element RO\n",
      "\n",
      "Extracting gt element QR\n",
      "\n",
      "Extracting gt element AO\n",
      "\n",
      "Extracting gt element QA\n",
      "\n",
      "Extracting gt element MIN_DP\n",
      "\n"
     ]
    },
    {
     "name": "stdout",
     "output_type": "stream",
     "text": [
      "[1] \"./freebayes/000000000-K4LKV_l01_SynCon_Mix24_rep2.fas_BWA_freebayes_standard.vcf\"\n"
     ]
    },
    {
     "name": "stderr",
     "output_type": "stream",
     "text": [
      "Extracting gt element GT\n",
      "\n",
      "Extracting gt element GQ\n",
      "\n",
      "Extracting gt element GL\n",
      "\n",
      "Extracting gt element DP\n",
      "\n",
      "Extracting gt element AD\n",
      "\n",
      "Extracting gt element RO\n",
      "\n",
      "Extracting gt element QR\n",
      "\n",
      "Extracting gt element AO\n",
      "\n",
      "Extracting gt element QA\n",
      "\n",
      "Extracting gt element MIN_DP\n",
      "\n"
     ]
    },
    {
     "name": "stdout",
     "output_type": "stream",
     "text": [
      "[1] \"./freebayes/000000000-K4LKV_l01_SynCon_Mix25_rep1.fas_BWA_freebayes_standard.vcf\"\n"
     ]
    },
    {
     "name": "stderr",
     "output_type": "stream",
     "text": [
      "Extracting gt element GT\n",
      "\n",
      "Extracting gt element GQ\n",
      "\n",
      "Extracting gt element GL\n",
      "\n",
      "Extracting gt element DP\n",
      "\n",
      "Extracting gt element AD\n",
      "\n",
      "Extracting gt element RO\n",
      "\n",
      "Extracting gt element QR\n",
      "\n",
      "Extracting gt element AO\n",
      "\n",
      "Extracting gt element QA\n",
      "\n",
      "Extracting gt element MIN_DP\n",
      "\n"
     ]
    },
    {
     "name": "stdout",
     "output_type": "stream",
     "text": [
      "[1] \"./freebayes/000000000-K4LKV_l01_SynCon_Mix25_rep2.fas_BWA_freebayes_standard.vcf\"\n"
     ]
    },
    {
     "name": "stderr",
     "output_type": "stream",
     "text": [
      "Extracting gt element GT\n",
      "\n",
      "Extracting gt element GQ\n",
      "\n",
      "Extracting gt element GL\n",
      "\n",
      "Extracting gt element DP\n",
      "\n",
      "Extracting gt element AD\n",
      "\n",
      "Extracting gt element RO\n",
      "\n",
      "Extracting gt element QR\n",
      "\n",
      "Extracting gt element AO\n",
      "\n",
      "Extracting gt element QA\n",
      "\n",
      "Extracting gt element MIN_DP\n",
      "\n"
     ]
    },
    {
     "name": "stdout",
     "output_type": "stream",
     "text": [
      "[1] \"./freebayes/000000000-K4LKV_l01_SynCon_Mix26_rep1.fas_BWA_freebayes_standard.vcf\"\n"
     ]
    },
    {
     "name": "stderr",
     "output_type": "stream",
     "text": [
      "Extracting gt element GT\n",
      "\n",
      "Extracting gt element GQ\n",
      "\n",
      "Extracting gt element GL\n",
      "\n",
      "Extracting gt element DP\n",
      "\n",
      "Extracting gt element AD\n",
      "\n",
      "Extracting gt element RO\n",
      "\n",
      "Extracting gt element QR\n",
      "\n",
      "Extracting gt element AO\n",
      "\n",
      "Extracting gt element QA\n",
      "\n",
      "Extracting gt element MIN_DP\n",
      "\n"
     ]
    },
    {
     "name": "stdout",
     "output_type": "stream",
     "text": [
      "[1] \"./freebayes/000000000-K4LKV_l01_SynCon_Mix26_rep2.fas_BWA_freebayes_standard.vcf\"\n"
     ]
    },
    {
     "name": "stderr",
     "output_type": "stream",
     "text": [
      "Extracting gt element GT\n",
      "\n",
      "Extracting gt element GQ\n",
      "\n",
      "Extracting gt element GL\n",
      "\n",
      "Extracting gt element DP\n",
      "\n",
      "Extracting gt element AD\n",
      "\n",
      "Extracting gt element RO\n",
      "\n",
      "Extracting gt element QR\n",
      "\n",
      "Extracting gt element AO\n",
      "\n",
      "Extracting gt element QA\n",
      "\n",
      "Extracting gt element MIN_DP\n",
      "\n"
     ]
    },
    {
     "name": "stdout",
     "output_type": "stream",
     "text": [
      "[1] \"./freebayes/000000000-K4LKV_l01_SynCon_Mix27_rep1.fas_BWA_freebayes_standard.vcf\"\n"
     ]
    },
    {
     "name": "stderr",
     "output_type": "stream",
     "text": [
      "Extracting gt element GT\n",
      "\n",
      "Extracting gt element GQ\n",
      "\n",
      "Extracting gt element GL\n",
      "\n",
      "Extracting gt element DP\n",
      "\n",
      "Extracting gt element AD\n",
      "\n",
      "Extracting gt element RO\n",
      "\n",
      "Extracting gt element QR\n",
      "\n",
      "Extracting gt element AO\n",
      "\n",
      "Extracting gt element QA\n",
      "\n",
      "Extracting gt element MIN_DP\n",
      "\n"
     ]
    },
    {
     "name": "stdout",
     "output_type": "stream",
     "text": [
      "[1] \"./freebayes/000000000-K4LKV_l01_SynCon_Mix27_rep2.fas_BWA_freebayes_standard.vcf\"\n"
     ]
    },
    {
     "name": "stderr",
     "output_type": "stream",
     "text": [
      "Extracting gt element GT\n",
      "\n",
      "Extracting gt element GQ\n",
      "\n",
      "Extracting gt element GL\n",
      "\n",
      "Extracting gt element DP\n",
      "\n",
      "Extracting gt element AD\n",
      "\n",
      "Extracting gt element RO\n",
      "\n",
      "Extracting gt element QR\n",
      "\n",
      "Extracting gt element AO\n",
      "\n",
      "Extracting gt element QA\n",
      "\n",
      "Extracting gt element MIN_DP\n",
      "\n"
     ]
    },
    {
     "name": "stdout",
     "output_type": "stream",
     "text": [
      "[1] \"./freebayes/000000000-K4LKV_l01_SynCon_Mix28_rep1.fas_BWA_freebayes_standard.vcf\"\n"
     ]
    },
    {
     "name": "stderr",
     "output_type": "stream",
     "text": [
      "Extracting gt element GT\n",
      "\n",
      "Extracting gt element GQ\n",
      "\n",
      "Extracting gt element GL\n",
      "\n",
      "Extracting gt element DP\n",
      "\n",
      "Extracting gt element AD\n",
      "\n",
      "Extracting gt element RO\n",
      "\n",
      "Extracting gt element QR\n",
      "\n",
      "Extracting gt element AO\n",
      "\n",
      "Extracting gt element QA\n",
      "\n",
      "Extracting gt element MIN_DP\n",
      "\n"
     ]
    },
    {
     "name": "stdout",
     "output_type": "stream",
     "text": [
      "[1] \"./freebayes/000000000-K4LKV_l01_SynCon_Mix28_rep2.fas_BWA_freebayes_standard.vcf\"\n"
     ]
    },
    {
     "name": "stderr",
     "output_type": "stream",
     "text": [
      "Extracting gt element GT\n",
      "\n",
      "Extracting gt element GQ\n",
      "\n",
      "Extracting gt element GL\n",
      "\n",
      "Extracting gt element DP\n",
      "\n",
      "Extracting gt element AD\n",
      "\n",
      "Extracting gt element RO\n",
      "\n",
      "Extracting gt element QR\n",
      "\n",
      "Extracting gt element AO\n",
      "\n",
      "Extracting gt element QA\n",
      "\n",
      "Extracting gt element MIN_DP\n",
      "\n"
     ]
    },
    {
     "name": "stdout",
     "output_type": "stream",
     "text": [
      "[1] \"./freebayes/000000000-K4LKV_l01_SynCon_Mix29_rep1.fas_BWA_freebayes_standard.vcf\"\n"
     ]
    },
    {
     "name": "stderr",
     "output_type": "stream",
     "text": [
      "Extracting gt element GT\n",
      "\n",
      "Extracting gt element GQ\n",
      "\n",
      "Extracting gt element GL\n",
      "\n",
      "Extracting gt element DP\n",
      "\n",
      "Extracting gt element AD\n",
      "\n",
      "Extracting gt element RO\n",
      "\n",
      "Extracting gt element QR\n",
      "\n",
      "Extracting gt element AO\n",
      "\n",
      "Extracting gt element QA\n",
      "\n",
      "Extracting gt element MIN_DP\n",
      "\n"
     ]
    },
    {
     "name": "stdout",
     "output_type": "stream",
     "text": [
      "[1] \"./freebayes/000000000-K4LKV_l01_SynCon_Mix29_rep2.fas_BWA_freebayes_standard.vcf\"\n"
     ]
    },
    {
     "name": "stderr",
     "output_type": "stream",
     "text": [
      "Extracting gt element GT\n",
      "\n",
      "Extracting gt element GQ\n",
      "\n",
      "Extracting gt element GL\n",
      "\n",
      "Extracting gt element DP\n",
      "\n",
      "Extracting gt element AD\n",
      "\n",
      "Extracting gt element RO\n",
      "\n",
      "Extracting gt element QR\n",
      "\n",
      "Extracting gt element AO\n",
      "\n",
      "Extracting gt element QA\n",
      "\n",
      "Extracting gt element MIN_DP\n",
      "\n"
     ]
    },
    {
     "name": "stdout",
     "output_type": "stream",
     "text": [
      "[1] \"./freebayes/000000000-K4LKV_l01_SynCon_Mix30_rep1.fas_BWA_freebayes_standard.vcf\"\n"
     ]
    },
    {
     "name": "stderr",
     "output_type": "stream",
     "text": [
      "Extracting gt element GT\n",
      "\n",
      "Extracting gt element GQ\n",
      "\n",
      "Extracting gt element GL\n",
      "\n",
      "Extracting gt element DP\n",
      "\n",
      "Extracting gt element AD\n",
      "\n",
      "Extracting gt element RO\n",
      "\n",
      "Extracting gt element QR\n",
      "\n",
      "Extracting gt element AO\n",
      "\n",
      "Extracting gt element QA\n",
      "\n",
      "Extracting gt element MIN_DP\n",
      "\n"
     ]
    },
    {
     "name": "stdout",
     "output_type": "stream",
     "text": [
      "[1] \"./freebayes/000000000-K4LKV_l01_SynCon_Mix30_rep2.fas_BWA_freebayes_standard.vcf\"\n"
     ]
    },
    {
     "name": "stderr",
     "output_type": "stream",
     "text": [
      "Extracting gt element GT\n",
      "\n",
      "Extracting gt element GQ\n",
      "\n",
      "Extracting gt element GL\n",
      "\n",
      "Extracting gt element DP\n",
      "\n",
      "Extracting gt element AD\n",
      "\n",
      "Extracting gt element RO\n",
      "\n",
      "Extracting gt element QR\n",
      "\n",
      "Extracting gt element AO\n",
      "\n",
      "Extracting gt element QA\n",
      "\n",
      "Extracting gt element MIN_DP\n",
      "\n"
     ]
    },
    {
     "name": "stdout",
     "output_type": "stream",
     "text": [
      "[1] \"./freebayes/000000000-K4LKV_l01_SynCon_Mix31_rep1.fas_BWA_freebayes_standard.vcf\"\n"
     ]
    },
    {
     "name": "stderr",
     "output_type": "stream",
     "text": [
      "Extracting gt element GT\n",
      "\n",
      "Extracting gt element GQ\n",
      "\n",
      "Extracting gt element GL\n",
      "\n",
      "Extracting gt element DP\n",
      "\n",
      "Extracting gt element AD\n",
      "\n",
      "Extracting gt element RO\n",
      "\n",
      "Extracting gt element QR\n",
      "\n",
      "Extracting gt element AO\n",
      "\n",
      "Extracting gt element QA\n",
      "\n",
      "Extracting gt element MIN_DP\n",
      "\n"
     ]
    },
    {
     "name": "stdout",
     "output_type": "stream",
     "text": [
      "[1] \"./freebayes/000000000-K4LKV_l01_SynCon_Mix31_rep2.fas_BWA_freebayes_standard.vcf\"\n"
     ]
    },
    {
     "name": "stderr",
     "output_type": "stream",
     "text": [
      "Extracting gt element GT\n",
      "\n",
      "Extracting gt element GQ\n",
      "\n",
      "Extracting gt element GL\n",
      "\n",
      "Extracting gt element DP\n",
      "\n",
      "Extracting gt element AD\n",
      "\n",
      "Extracting gt element RO\n",
      "\n",
      "Extracting gt element QR\n",
      "\n",
      "Extracting gt element AO\n",
      "\n",
      "Extracting gt element QA\n",
      "\n",
      "Extracting gt element MIN_DP\n",
      "\n"
     ]
    },
    {
     "name": "stdout",
     "output_type": "stream",
     "text": [
      "[1] \"./freebayes/000000000-K4LKV_l01_SynCon_Mix32_rep1.fas_BWA_freebayes_standard.vcf\"\n"
     ]
    },
    {
     "name": "stderr",
     "output_type": "stream",
     "text": [
      "Extracting gt element GT\n",
      "\n",
      "Extracting gt element GQ\n",
      "\n",
      "Extracting gt element GL\n",
      "\n",
      "Extracting gt element DP\n",
      "\n",
      "Extracting gt element AD\n",
      "\n",
      "Extracting gt element RO\n",
      "\n",
      "Extracting gt element QR\n",
      "\n",
      "Extracting gt element AO\n",
      "\n",
      "Extracting gt element QA\n",
      "\n",
      "Extracting gt element MIN_DP\n",
      "\n"
     ]
    },
    {
     "name": "stdout",
     "output_type": "stream",
     "text": [
      "[1] \"./freebayes/000000000-K4LKV_l01_SynCon_Mix32_rep2.fas_BWA_freebayes_standard.vcf\"\n"
     ]
    },
    {
     "name": "stderr",
     "output_type": "stream",
     "text": [
      "Extracting gt element GT\n",
      "\n",
      "Extracting gt element GQ\n",
      "\n",
      "Extracting gt element GL\n",
      "\n",
      "Extracting gt element DP\n",
      "\n",
      "Extracting gt element AD\n",
      "\n",
      "Extracting gt element RO\n",
      "\n",
      "Extracting gt element QR\n",
      "\n",
      "Extracting gt element AO\n",
      "\n",
      "Extracting gt element QA\n",
      "\n",
      "Extracting gt element MIN_DP\n",
      "\n"
     ]
    },
    {
     "name": "stdout",
     "output_type": "stream",
     "text": [
      "[1] \"./freebayes/000000000-K4LKV_l01_SynCon_Mix33_rep1.fas_BWA_freebayes_standard.vcf\"\n"
     ]
    },
    {
     "name": "stderr",
     "output_type": "stream",
     "text": [
      "Extracting gt element GT\n",
      "\n",
      "Extracting gt element GQ\n",
      "\n",
      "Extracting gt element GL\n",
      "\n",
      "Extracting gt element DP\n",
      "\n",
      "Extracting gt element AD\n",
      "\n",
      "Extracting gt element RO\n",
      "\n",
      "Extracting gt element QR\n",
      "\n",
      "Extracting gt element AO\n",
      "\n",
      "Extracting gt element QA\n",
      "\n",
      "Extracting gt element MIN_DP\n",
      "\n"
     ]
    },
    {
     "name": "stdout",
     "output_type": "stream",
     "text": [
      "[1] \"./freebayes/000000000-K4LKV_l01_SynCon_Mix33_rep2.fas_BWA_freebayes_standard.vcf\"\n"
     ]
    },
    {
     "name": "stderr",
     "output_type": "stream",
     "text": [
      "Extracting gt element GT\n",
      "\n",
      "Extracting gt element GQ\n",
      "\n",
      "Extracting gt element GL\n",
      "\n",
      "Extracting gt element DP\n",
      "\n",
      "Extracting gt element AD\n",
      "\n",
      "Extracting gt element RO\n",
      "\n",
      "Extracting gt element QR\n",
      "\n",
      "Extracting gt element AO\n",
      "\n",
      "Extracting gt element QA\n",
      "\n",
      "Extracting gt element MIN_DP\n",
      "\n"
     ]
    },
    {
     "name": "stdout",
     "output_type": "stream",
     "text": [
      "[1] \"./freebayes/000000000-K4LKV_l01_SynCon_Mix34_rep1.fas_BWA_freebayes_standard.vcf\"\n"
     ]
    },
    {
     "name": "stderr",
     "output_type": "stream",
     "text": [
      "Extracting gt element GT\n",
      "\n",
      "Extracting gt element GQ\n",
      "\n",
      "Extracting gt element GL\n",
      "\n",
      "Extracting gt element DP\n",
      "\n",
      "Extracting gt element AD\n",
      "\n",
      "Extracting gt element RO\n",
      "\n",
      "Extracting gt element QR\n",
      "\n",
      "Extracting gt element AO\n",
      "\n",
      "Extracting gt element QA\n",
      "\n",
      "Extracting gt element MIN_DP\n",
      "\n"
     ]
    },
    {
     "name": "stdout",
     "output_type": "stream",
     "text": [
      "[1] \"./freebayes/000000000-K4LKV_l01_SynCon_Mix34_rep2.fas_BWA_freebayes_standard.vcf\"\n"
     ]
    },
    {
     "name": "stderr",
     "output_type": "stream",
     "text": [
      "Extracting gt element GT\n",
      "\n",
      "Extracting gt element GQ\n",
      "\n",
      "Extracting gt element GL\n",
      "\n",
      "Extracting gt element DP\n",
      "\n",
      "Extracting gt element AD\n",
      "\n",
      "Extracting gt element RO\n",
      "\n",
      "Extracting gt element QR\n",
      "\n",
      "Extracting gt element AO\n",
      "\n",
      "Extracting gt element QA\n",
      "\n",
      "Extracting gt element MIN_DP\n",
      "\n"
     ]
    },
    {
     "name": "stdout",
     "output_type": "stream",
     "text": [
      "[1] \"./freebayes/000000000-K4LKV_l01_SynCon_Mix35_rep1.fas_BWA_freebayes_standard.vcf\"\n"
     ]
    },
    {
     "name": "stderr",
     "output_type": "stream",
     "text": [
      "Extracting gt element GT\n",
      "\n",
      "Extracting gt element GQ\n",
      "\n",
      "Extracting gt element GL\n",
      "\n",
      "Extracting gt element DP\n",
      "\n",
      "Extracting gt element AD\n",
      "\n",
      "Extracting gt element RO\n",
      "\n",
      "Extracting gt element QR\n",
      "\n",
      "Extracting gt element AO\n",
      "\n",
      "Extracting gt element QA\n",
      "\n",
      "Extracting gt element MIN_DP\n",
      "\n"
     ]
    },
    {
     "name": "stdout",
     "output_type": "stream",
     "text": [
      "[1] \"./freebayes/000000000-K4LKV_l01_SynCon_Mix35_rep2.fas_BWA_freebayes_standard.vcf\"\n"
     ]
    },
    {
     "name": "stderr",
     "output_type": "stream",
     "text": [
      "Extracting gt element GT\n",
      "\n",
      "Extracting gt element GQ\n",
      "\n",
      "Extracting gt element GL\n",
      "\n",
      "Extracting gt element DP\n",
      "\n",
      "Extracting gt element AD\n",
      "\n",
      "Extracting gt element RO\n",
      "\n",
      "Extracting gt element QR\n",
      "\n",
      "Extracting gt element AO\n",
      "\n",
      "Extracting gt element QA\n",
      "\n",
      "Extracting gt element MIN_DP\n",
      "\n"
     ]
    },
    {
     "name": "stdout",
     "output_type": "stream",
     "text": [
      "[1] \"./freebayes/000000000-K4LKV_l01_SynCon_Mix36_rep1.fas_BWA_freebayes_standard.vcf\"\n"
     ]
    },
    {
     "name": "stderr",
     "output_type": "stream",
     "text": [
      "Extracting gt element GT\n",
      "\n",
      "Extracting gt element GQ\n",
      "\n",
      "Extracting gt element GL\n",
      "\n",
      "Extracting gt element DP\n",
      "\n",
      "Extracting gt element AD\n",
      "\n",
      "Extracting gt element RO\n",
      "\n",
      "Extracting gt element QR\n",
      "\n",
      "Extracting gt element AO\n",
      "\n",
      "Extracting gt element QA\n",
      "\n",
      "Extracting gt element MIN_DP\n",
      "\n"
     ]
    },
    {
     "name": "stdout",
     "output_type": "stream",
     "text": [
      "[1] \"./freebayes/000000000-K4LKV_l01_SynCon_Mix36_rep2.fas_BWA_freebayes_standard.vcf\"\n"
     ]
    },
    {
     "name": "stderr",
     "output_type": "stream",
     "text": [
      "Extracting gt element GT\n",
      "\n",
      "Extracting gt element GQ\n",
      "\n",
      "Extracting gt element GL\n",
      "\n",
      "Extracting gt element DP\n",
      "\n",
      "Extracting gt element AD\n",
      "\n",
      "Extracting gt element RO\n",
      "\n",
      "Extracting gt element QR\n",
      "\n",
      "Extracting gt element AO\n",
      "\n",
      "Extracting gt element QA\n",
      "\n",
      "Extracting gt element MIN_DP\n",
      "\n"
     ]
    },
    {
     "name": "stdout",
     "output_type": "stream",
     "text": [
      "[1] \"./freebayes/000000000-K4LKV_l01_SynCon_Mix37_rep1.fas_BWA_freebayes_standard.vcf\"\n"
     ]
    },
    {
     "name": "stderr",
     "output_type": "stream",
     "text": [
      "Extracting gt element GT\n",
      "\n",
      "Extracting gt element GQ\n",
      "\n",
      "Extracting gt element GL\n",
      "\n",
      "Extracting gt element DP\n",
      "\n",
      "Extracting gt element AD\n",
      "\n",
      "Extracting gt element RO\n",
      "\n",
      "Extracting gt element QR\n",
      "\n",
      "Extracting gt element AO\n",
      "\n",
      "Extracting gt element QA\n",
      "\n",
      "Extracting gt element MIN_DP\n",
      "\n"
     ]
    },
    {
     "name": "stdout",
     "output_type": "stream",
     "text": [
      "[1] \"./freebayes/000000000-K4LKV_l01_SynCon_Mix37_rep2.fas_BWA_freebayes_standard.vcf\"\n"
     ]
    },
    {
     "name": "stderr",
     "output_type": "stream",
     "text": [
      "Extracting gt element GT\n",
      "\n",
      "Extracting gt element GQ\n",
      "\n",
      "Extracting gt element GL\n",
      "\n",
      "Extracting gt element DP\n",
      "\n",
      "Extracting gt element AD\n",
      "\n",
      "Extracting gt element RO\n",
      "\n",
      "Extracting gt element QR\n",
      "\n",
      "Extracting gt element AO\n",
      "\n",
      "Extracting gt element QA\n",
      "\n",
      "Extracting gt element MIN_DP\n",
      "\n"
     ]
    },
    {
     "name": "stdout",
     "output_type": "stream",
     "text": [
      "[1] \"./freebayes/000000000-K4LKV_l01_SynCon_Mix38_rep1.fas_BWA_freebayes_standard.vcf\"\n"
     ]
    },
    {
     "name": "stderr",
     "output_type": "stream",
     "text": [
      "Extracting gt element GT\n",
      "\n",
      "Extracting gt element GQ\n",
      "\n",
      "Extracting gt element GL\n",
      "\n",
      "Extracting gt element DP\n",
      "\n",
      "Extracting gt element AD\n",
      "\n",
      "Extracting gt element RO\n",
      "\n",
      "Extracting gt element QR\n",
      "\n",
      "Extracting gt element AO\n",
      "\n",
      "Extracting gt element QA\n",
      "\n",
      "Extracting gt element MIN_DP\n",
      "\n"
     ]
    },
    {
     "name": "stdout",
     "output_type": "stream",
     "text": [
      "[1] \"./freebayes/000000000-K4LKV_l01_SynCon_Mix38_rep2.fas_BWA_freebayes_standard.vcf\"\n"
     ]
    },
    {
     "name": "stderr",
     "output_type": "stream",
     "text": [
      "Extracting gt element GT\n",
      "\n",
      "Extracting gt element GQ\n",
      "\n",
      "Extracting gt element GL\n",
      "\n",
      "Extracting gt element DP\n",
      "\n",
      "Extracting gt element AD\n",
      "\n",
      "Extracting gt element RO\n",
      "\n",
      "Extracting gt element QR\n",
      "\n",
      "Extracting gt element AO\n",
      "\n",
      "Extracting gt element QA\n",
      "\n",
      "Extracting gt element MIN_DP\n",
      "\n"
     ]
    },
    {
     "name": "stdout",
     "output_type": "stream",
     "text": [
      "[1] \"./freebayes/000000000-K4LKV_l01_SynCon_Mix39_rep1.fas_BWA_freebayes_standard.vcf\"\n"
     ]
    },
    {
     "name": "stderr",
     "output_type": "stream",
     "text": [
      "Extracting gt element GT\n",
      "\n",
      "Extracting gt element GQ\n",
      "\n",
      "Extracting gt element GL\n",
      "\n",
      "Extracting gt element DP\n",
      "\n",
      "Extracting gt element AD\n",
      "\n",
      "Extracting gt element RO\n",
      "\n",
      "Extracting gt element QR\n",
      "\n",
      "Extracting gt element AO\n",
      "\n",
      "Extracting gt element QA\n",
      "\n",
      "Extracting gt element MIN_DP\n",
      "\n"
     ]
    },
    {
     "name": "stdout",
     "output_type": "stream",
     "text": [
      "[1] \"./freebayes/000000000-K4LKV_l01_SynCon_Mix39_rep2.fas_BWA_freebayes_standard.vcf\"\n"
     ]
    },
    {
     "name": "stderr",
     "output_type": "stream",
     "text": [
      "Extracting gt element GT\n",
      "\n",
      "Extracting gt element GQ\n",
      "\n",
      "Extracting gt element GL\n",
      "\n",
      "Extracting gt element DP\n",
      "\n",
      "Extracting gt element AD\n",
      "\n",
      "Extracting gt element RO\n",
      "\n",
      "Extracting gt element QR\n",
      "\n",
      "Extracting gt element AO\n",
      "\n",
      "Extracting gt element QA\n",
      "\n",
      "Extracting gt element MIN_DP\n",
      "\n"
     ]
    },
    {
     "name": "stdout",
     "output_type": "stream",
     "text": [
      "[1] \"./freebayes/000000000-K4LKV_l01_SynCon_Mix40_rep1.fas_BWA_freebayes_standard.vcf\"\n"
     ]
    },
    {
     "name": "stderr",
     "output_type": "stream",
     "text": [
      "Extracting gt element GT\n",
      "\n",
      "Extracting gt element GQ\n",
      "\n",
      "Extracting gt element GL\n",
      "\n",
      "Extracting gt element DP\n",
      "\n",
      "Extracting gt element AD\n",
      "\n",
      "Extracting gt element RO\n",
      "\n",
      "Extracting gt element QR\n",
      "\n",
      "Extracting gt element AO\n",
      "\n",
      "Extracting gt element QA\n",
      "\n",
      "Extracting gt element MIN_DP\n",
      "\n"
     ]
    },
    {
     "name": "stdout",
     "output_type": "stream",
     "text": [
      "[1] \"./freebayes/000000000-K4LKV_l01_SynCon_Mix40_rep2.fas_BWA_freebayes_standard.vcf\"\n"
     ]
    },
    {
     "name": "stderr",
     "output_type": "stream",
     "text": [
      "Extracting gt element GT\n",
      "\n",
      "Extracting gt element GQ\n",
      "\n",
      "Extracting gt element GL\n",
      "\n",
      "Extracting gt element DP\n",
      "\n",
      "Extracting gt element AD\n",
      "\n",
      "Extracting gt element RO\n",
      "\n",
      "Extracting gt element QR\n",
      "\n",
      "Extracting gt element AO\n",
      "\n",
      "Extracting gt element QA\n",
      "\n",
      "Extracting gt element MIN_DP\n",
      "\n"
     ]
    },
    {
     "name": "stdout",
     "output_type": "stream",
     "text": [
      "[1] \"./freebayes/000000000-K4LKV_l01_SynCon_Mix41_rep1.fas_BWA_freebayes_standard.vcf\"\n"
     ]
    },
    {
     "name": "stderr",
     "output_type": "stream",
     "text": [
      "Extracting gt element GT\n",
      "\n",
      "Extracting gt element GQ\n",
      "\n",
      "Extracting gt element GL\n",
      "\n",
      "Extracting gt element DP\n",
      "\n",
      "Extracting gt element AD\n",
      "\n",
      "Extracting gt element RO\n",
      "\n",
      "Extracting gt element QR\n",
      "\n",
      "Extracting gt element AO\n",
      "\n",
      "Extracting gt element QA\n",
      "\n",
      "Extracting gt element MIN_DP\n",
      "\n"
     ]
    },
    {
     "name": "stdout",
     "output_type": "stream",
     "text": [
      "[1] \"./freebayes/000000000-K4LKV_l01_SynCon_Mix41_rep2.fas_BWA_freebayes_standard.vcf\"\n"
     ]
    },
    {
     "name": "stderr",
     "output_type": "stream",
     "text": [
      "Extracting gt element GT\n",
      "\n",
      "Extracting gt element GQ\n",
      "\n",
      "Extracting gt element GL\n",
      "\n",
      "Extracting gt element DP\n",
      "\n",
      "Extracting gt element AD\n",
      "\n",
      "Extracting gt element RO\n",
      "\n",
      "Extracting gt element QR\n",
      "\n",
      "Extracting gt element AO\n",
      "\n",
      "Extracting gt element QA\n",
      "\n",
      "Extracting gt element MIN_DP\n",
      "\n"
     ]
    },
    {
     "name": "stdout",
     "output_type": "stream",
     "text": [
      "[1] \"./freebayes/000000000-K4LKV_l01_SynCon_Mix42_rep1.fas_BWA_freebayes_standard.vcf\"\n"
     ]
    },
    {
     "name": "stderr",
     "output_type": "stream",
     "text": [
      "Extracting gt element GT\n",
      "\n",
      "Extracting gt element GQ\n",
      "\n",
      "Extracting gt element GL\n",
      "\n",
      "Extracting gt element DP\n",
      "\n",
      "Extracting gt element AD\n",
      "\n",
      "Extracting gt element RO\n",
      "\n",
      "Extracting gt element QR\n",
      "\n",
      "Extracting gt element AO\n",
      "\n",
      "Extracting gt element QA\n",
      "\n",
      "Extracting gt element MIN_DP\n",
      "\n"
     ]
    },
    {
     "name": "stdout",
     "output_type": "stream",
     "text": [
      "[1] \"./freebayes/000000000-K4LKV_l01_SynCon_Mix42_rep2.fas_BWA_freebayes_standard.vcf\"\n"
     ]
    },
    {
     "name": "stderr",
     "output_type": "stream",
     "text": [
      "Extracting gt element GT\n",
      "\n",
      "Extracting gt element GQ\n",
      "\n",
      "Extracting gt element GL\n",
      "\n",
      "Extracting gt element DP\n",
      "\n",
      "Extracting gt element AD\n",
      "\n",
      "Extracting gt element RO\n",
      "\n",
      "Extracting gt element QR\n",
      "\n",
      "Extracting gt element AO\n",
      "\n",
      "Extracting gt element QA\n",
      "\n",
      "Extracting gt element MIN_DP\n",
      "\n"
     ]
    },
    {
     "name": "stdout",
     "output_type": "stream",
     "text": [
      "[1] \"./freebayes/000000000-K4LKV_l01_SynCon_Mix43_rep1.fas_BWA_freebayes_standard.vcf\"\n"
     ]
    },
    {
     "name": "stderr",
     "output_type": "stream",
     "text": [
      "Extracting gt element GT\n",
      "\n",
      "Extracting gt element GQ\n",
      "\n",
      "Extracting gt element GL\n",
      "\n",
      "Extracting gt element DP\n",
      "\n",
      "Extracting gt element AD\n",
      "\n",
      "Extracting gt element RO\n",
      "\n",
      "Extracting gt element QR\n",
      "\n",
      "Extracting gt element AO\n",
      "\n",
      "Extracting gt element QA\n",
      "\n",
      "Extracting gt element MIN_DP\n",
      "\n"
     ]
    },
    {
     "name": "stdout",
     "output_type": "stream",
     "text": [
      "[1] \"./freebayes/000000000-K4LKV_l01_SynCon_Mix43_rep2.fas_BWA_freebayes_standard.vcf\"\n"
     ]
    },
    {
     "name": "stderr",
     "output_type": "stream",
     "text": [
      "Extracting gt element GT\n",
      "\n",
      "Extracting gt element GQ\n",
      "\n",
      "Extracting gt element GL\n",
      "\n",
      "Extracting gt element DP\n",
      "\n",
      "Extracting gt element AD\n",
      "\n",
      "Extracting gt element RO\n",
      "\n",
      "Extracting gt element QR\n",
      "\n",
      "Extracting gt element AO\n",
      "\n",
      "Extracting gt element QA\n",
      "\n",
      "Extracting gt element MIN_DP\n",
      "\n"
     ]
    },
    {
     "name": "stdout",
     "output_type": "stream",
     "text": [
      "[1] \"./freebayes/000000000-K4LKV_l01_SynCon_Mix44_rep1.fas_BWA_freebayes_standard.vcf\"\n"
     ]
    },
    {
     "name": "stderr",
     "output_type": "stream",
     "text": [
      "Extracting gt element GT\n",
      "\n",
      "Extracting gt element GQ\n",
      "\n",
      "Extracting gt element GL\n",
      "\n",
      "Extracting gt element DP\n",
      "\n",
      "Extracting gt element AD\n",
      "\n",
      "Extracting gt element RO\n",
      "\n",
      "Extracting gt element QR\n",
      "\n",
      "Extracting gt element AO\n",
      "\n",
      "Extracting gt element QA\n",
      "\n",
      "Extracting gt element MIN_DP\n",
      "\n"
     ]
    },
    {
     "name": "stdout",
     "output_type": "stream",
     "text": [
      "[1] \"./freebayes/000000000-K4LKV_l01_SynCon_Mix44_rep2.fas_BWA_freebayes_standard.vcf\"\n"
     ]
    },
    {
     "name": "stderr",
     "output_type": "stream",
     "text": [
      "Extracting gt element GT\n",
      "\n",
      "Extracting gt element GQ\n",
      "\n",
      "Extracting gt element GL\n",
      "\n",
      "Extracting gt element DP\n",
      "\n",
      "Extracting gt element AD\n",
      "\n",
      "Extracting gt element RO\n",
      "\n",
      "Extracting gt element QR\n",
      "\n",
      "Extracting gt element AO\n",
      "\n",
      "Extracting gt element QA\n",
      "\n",
      "Extracting gt element MIN_DP\n",
      "\n"
     ]
    }
   ],
   "source": [
    "# set up dataframe to hold vcf files for timo, haplotype caller and ivar\n",
    "vcf.all.fb <- data.frame()\n",
    "\n",
    "for (filename in vcfs.fb) {\n",
    "    \n",
    "    print(filename)\n",
    "    # read in a file\n",
    "    vcf <- read.vcfR(filename, verbose = FALSE)\n",
    "\n",
    "    vcf_df <- vcfR2tidy(vcf,single_frame = TRUE)\n",
    "    vcf_df <- as.data.frame(vcf_df[[1]])\n",
    "    \n",
    "    if(nrow(vcf_df) > 0) {\n",
    "    \n",
    "        multi <- vcf_df %>% filter(!ALT %in% ntlist)\n",
    "        single <- vcf_df %>% filter(ALT %in% ntlist)\n",
    "        \n",
    "        single <- single %>% select(CHROM, POS, ID, REF, ALT, QUAL, FILTER, gt_AD, gt_DP)\n",
    "\n",
    "        # use allele depth column to calculate variant frequency\n",
    "        single <- separate(single, gt_AD, sep = ',', into = c(\"major_dp\",\"minor_dp\"))\n",
    "        single$minor_dp <- as.numeric(single$minor_dp)\n",
    "        # variant freq is equal to number of reads with the alt nucleotide over the total number of reads\n",
    "        single <- single %>%\n",
    "                mutate(AF = minor_dp/gt_DP)\n",
    "        single$AF <- as.numeric(single$AF)\n",
    "        # round decimals to 4 digits\n",
    "        single$AF <- round(single$AF, digits = 4)\n",
    "        single <- single %>% select(CHROM, POS, ID, REF, ALT, QUAL, FILTER, AF, gt_DP)\n",
    "        \n",
    "        vcf_df <- single\n",
    "        \n",
    "        if(nrow(multi) > 0) {\n",
    "\n",
    "            multi <- multi %>% filter(str_detect(multi$ALT, \",\") == TRUE) %>% select(c(1:10),\"RO\",\"AO\",\"gt_AD\",\"gt_DP\")\n",
    "\n",
    "            multi <- separate(multi, gt_AD, sep = ',', into = c(\"refAF\", \"adp1\", \"adp2\"))\n",
    "            multi$refAF <- as.numeric(multi$refAF)\n",
    "            multi$adp1 <- as.numeric(multi$adp1)\n",
    "            multi$adp2 <- as.numeric(multi$adp2)\n",
    "            multi <- multi %>% mutate(AF1 = adp1/gt_DP)\n",
    "            multi <- multi %>% mutate(AF2 = adp2/gt_DP)\n",
    "            multi$AF1 <- as.numeric(multi$AF1)\n",
    "            multi$AF2 <- as.numeric(multi$AF2)\n",
    "\n",
    "            multi <- separate(multi, ALT, sep = \",\", \n",
    "                       into = c(\"ALT1\",\"ALT2\"))\n",
    "\n",
    "            multi <- multi %>% pivot_longer(cols = starts_with(\"ALT\"),\n",
    "                                            names_to = \"var\",\n",
    "                                            values_to = \"ALT\") %>% \n",
    "                                mutate(AF=ifelse(var == \"ALT1\", AF1, AF2)) %>%\n",
    "                                select(CHROM, POS, ID, REF, ALT, QUAL, FILTER, AF, gt_DP)\n",
    "\n",
    "            \n",
    "    \n",
    "            vcf_df <- rbind(single, multi)\n",
    "            \n",
    "        }\n",
    "    \n",
    "         # make source ID column\n",
    "        vcf_df$source_ID <- filename\n",
    "    \n",
    "        vcf.all.fb <- rbind(vcf.all.fb, vcf_df)\n",
    "        \n",
    "    }\n",
    "    \n",
    "}\n",
    "\n",
    "# separate tool and file columns\n",
    "vcf.all.fb <- separate(vcf.all.fb, source_ID, sep = \"/\", \n",
    "               into = c(\"dot\",\"tool\",\"file\")) %>%\n",
    "                select(-c(dot))\n",
    "\n",
    "# get source_ID\n",
    "vcf.all.fb <- separate(vcf.all.fb, file, sep = \".fas\", \n",
    "               into = c(\"source_ID\",\"rest\")) %>%\n",
    "                select(-c(rest))\n",
    "\n",
    "# change class of columns where necessary\n",
    "vcf.all.fb$gt_DP = as.numeric(vcf.all.fb$gt_DP)\n",
    "vcf.all.fb$AF = as.numeric(vcf.all.fb$AF)\n",
    "vcf.all.fb$AF <- round(vcf.all.fb$AF, digits = 4)\n",
    "\n",
    "# select necessary columns\n",
    "vcf.all.fb <- vcf.all.fb %>% select(tool, source_ID, CHROM, POS, REF, ALT, AF, gt_DP)\n",
    "\n",
    "# set names of columns to match other tools\n",
    "names(vcf.all.fb) <- c(\"tool\",\"source_ID\",\"segment\",\"ntpos\",\"refnt\",\"varnt\",\"varfreq\",\"totalcount\")"
   ]
  },
  {
   "cell_type": "markdown",
   "metadata": {},
   "source": [
    "#### All other VCF files - ivar and haplotype caller"
   ]
  },
  {
   "cell_type": "code",
   "execution_count": 114,
   "metadata": {
    "collapsed": true,
    "jupyter": {
     "outputs_hidden": true
    }
   },
   "outputs": [
    {
     "name": "stderr",
     "output_type": "stream",
     "text": [
      "Extracting gt element AD\n",
      "\n",
      "Extracting gt element DP\n",
      "\n",
      "Extracting gt element GQ\n",
      "\n",
      "Extracting gt element GT\n",
      "\n",
      "Extracting gt element PL\n",
      "\n",
      "Extracting gt element AD\n",
      "\n",
      "Extracting gt element DP\n",
      "\n",
      "Extracting gt element GQ\n",
      "\n",
      "Extracting gt element GT\n",
      "\n",
      "Extracting gt element PL\n",
      "\n",
      "Extracting gt element AD\n",
      "\n",
      "Extracting gt element DP\n",
      "\n",
      "Extracting gt element GQ\n",
      "\n",
      "Extracting gt element GT\n",
      "\n",
      "Extracting gt element PL\n",
      "\n",
      "Extracting gt element AD\n",
      "\n",
      "Extracting gt element DP\n",
      "\n",
      "Extracting gt element GQ\n",
      "\n",
      "Extracting gt element GT\n",
      "\n",
      "Extracting gt element PL\n",
      "\n",
      "Extracting gt element AD\n",
      "\n",
      "Extracting gt element DP\n",
      "\n",
      "Extracting gt element GQ\n",
      "\n",
      "Extracting gt element GT\n",
      "\n",
      "Extracting gt element PL\n",
      "\n",
      "Extracting gt element AD\n",
      "\n",
      "Extracting gt element DP\n",
      "\n",
      "Extracting gt element GQ\n",
      "\n",
      "Extracting gt element GT\n",
      "\n",
      "Extracting gt element PL\n",
      "\n",
      "Extracting gt element AD\n",
      "\n",
      "Extracting gt element DP\n",
      "\n",
      "Extracting gt element GQ\n",
      "\n",
      "Extracting gt element GT\n",
      "\n",
      "Extracting gt element PL\n",
      "\n",
      "Extracting gt element AD\n",
      "\n",
      "Extracting gt element DP\n",
      "\n",
      "Extracting gt element GQ\n",
      "\n",
      "Extracting gt element GT\n",
      "\n",
      "Extracting gt element PL\n",
      "\n",
      "Extracting gt element AD\n",
      "\n",
      "Extracting gt element DP\n",
      "\n",
      "Extracting gt element GQ\n",
      "\n",
      "Extracting gt element GT\n",
      "\n",
      "Extracting gt element PL\n",
      "\n",
      "Extracting gt element AD\n",
      "\n",
      "Extracting gt element DP\n",
      "\n",
      "Extracting gt element GQ\n",
      "\n",
      "Extracting gt element GT\n",
      "\n",
      "Extracting gt element PL\n",
      "\n",
      "Extracting gt element AD\n",
      "\n",
      "Extracting gt element DP\n",
      "\n",
      "Extracting gt element GQ\n",
      "\n",
      "Extracting gt element GT\n",
      "\n",
      "Extracting gt element PL\n",
      "\n",
      "Extracting gt element AD\n",
      "\n",
      "Extracting gt element DP\n",
      "\n",
      "Extracting gt element GQ\n",
      "\n",
      "Extracting gt element GT\n",
      "\n",
      "Extracting gt element PL\n",
      "\n",
      "Extracting gt element AD\n",
      "\n",
      "Extracting gt element DP\n",
      "\n",
      "Extracting gt element GQ\n",
      "\n",
      "Extracting gt element GT\n",
      "\n",
      "Extracting gt element PL\n",
      "\n",
      "Extracting gt element AD\n",
      "\n",
      "Extracting gt element DP\n",
      "\n",
      "Extracting gt element GQ\n",
      "\n",
      "Extracting gt element GT\n",
      "\n",
      "Extracting gt element PL\n",
      "\n",
      "Extracting gt element AD\n",
      "\n",
      "Extracting gt element DP\n",
      "\n",
      "Extracting gt element GQ\n",
      "\n",
      "Extracting gt element GT\n",
      "\n",
      "Extracting gt element PL\n",
      "\n",
      "Extracting gt element AD\n",
      "\n",
      "Extracting gt element DP\n",
      "\n",
      "Extracting gt element GQ\n",
      "\n",
      "Extracting gt element GT\n",
      "\n",
      "Extracting gt element PL\n",
      "\n",
      "Extracting gt element AD\n",
      "\n",
      "Extracting gt element DP\n",
      "\n",
      "Extracting gt element GQ\n",
      "\n",
      "Extracting gt element GT\n",
      "\n",
      "Extracting gt element PL\n",
      "\n",
      "Extracting gt element AD\n",
      "\n",
      "Extracting gt element DP\n",
      "\n",
      "Extracting gt element GQ\n",
      "\n",
      "Extracting gt element GT\n",
      "\n",
      "Extracting gt element PL\n",
      "\n",
      "Extracting gt element AD\n",
      "\n",
      "Extracting gt element DP\n",
      "\n",
      "Extracting gt element GQ\n",
      "\n",
      "Extracting gt element GT\n",
      "\n",
      "Extracting gt element PL\n",
      "\n",
      "Extracting gt element AD\n",
      "\n",
      "Extracting gt element DP\n",
      "\n",
      "Extracting gt element GQ\n",
      "\n",
      "Extracting gt element GT\n",
      "\n",
      "Extracting gt element PL\n",
      "\n",
      "Extracting gt element AD\n",
      "\n",
      "Extracting gt element DP\n",
      "\n",
      "Extracting gt element GQ\n",
      "\n",
      "Extracting gt element GT\n",
      "\n",
      "Extracting gt element PL\n",
      "\n",
      "Extracting gt element AD\n",
      "\n",
      "Extracting gt element DP\n",
      "\n",
      "Extracting gt element GQ\n",
      "\n",
      "Extracting gt element GT\n",
      "\n",
      "Extracting gt element PL\n",
      "\n",
      "Extracting gt element AD\n",
      "\n",
      "Extracting gt element DP\n",
      "\n",
      "Extracting gt element GQ\n",
      "\n",
      "Extracting gt element GT\n",
      "\n",
      "Extracting gt element PL\n",
      "\n",
      "Extracting gt element AD\n",
      "\n",
      "Extracting gt element DP\n",
      "\n",
      "Extracting gt element GQ\n",
      "\n",
      "Extracting gt element GT\n",
      "\n",
      "Extracting gt element PL\n",
      "\n",
      "Extracting gt element AD\n",
      "\n",
      "Extracting gt element DP\n",
      "\n",
      "Extracting gt element GQ\n",
      "\n",
      "Extracting gt element GT\n",
      "\n",
      "Extracting gt element PL\n",
      "\n",
      "Extracting gt element AD\n",
      "\n",
      "Extracting gt element DP\n",
      "\n",
      "Extracting gt element GQ\n",
      "\n",
      "Extracting gt element GT\n",
      "\n",
      "Extracting gt element PL\n",
      "\n",
      "Extracting gt element AD\n",
      "\n",
      "Extracting gt element DP\n",
      "\n",
      "Extracting gt element GQ\n",
      "\n",
      "Extracting gt element GT\n",
      "\n",
      "Extracting gt element PL\n",
      "\n",
      "Extracting gt element AD\n",
      "\n",
      "Extracting gt element DP\n",
      "\n",
      "Extracting gt element GQ\n",
      "\n",
      "Extracting gt element GT\n",
      "\n",
      "Extracting gt element PL\n",
      "\n",
      "Extracting gt element AD\n",
      "\n",
      "Extracting gt element DP\n",
      "\n",
      "Extracting gt element GQ\n",
      "\n",
      "Extracting gt element GT\n",
      "\n",
      "Extracting gt element PL\n",
      "\n",
      "Extracting gt element AD\n",
      "\n",
      "Extracting gt element DP\n",
      "\n",
      "Extracting gt element GQ\n",
      "\n",
      "Extracting gt element GT\n",
      "\n",
      "Extracting gt element PL\n",
      "\n",
      "Extracting gt element AD\n",
      "\n",
      "Extracting gt element DP\n",
      "\n",
      "Extracting gt element GQ\n",
      "\n",
      "Extracting gt element GT\n",
      "\n",
      "Extracting gt element PL\n",
      "\n",
      "Extracting gt element AD\n",
      "\n",
      "Extracting gt element DP\n",
      "\n",
      "Extracting gt element GQ\n",
      "\n",
      "Extracting gt element GT\n",
      "\n",
      "Extracting gt element PL\n",
      "\n",
      "Extracting gt element AD\n",
      "\n",
      "Extracting gt element DP\n",
      "\n",
      "Extracting gt element GQ\n",
      "\n",
      "Extracting gt element GT\n",
      "\n",
      "Extracting gt element PL\n",
      "\n",
      "Extracting gt element AD\n",
      "\n",
      "Extracting gt element DP\n",
      "\n",
      "Extracting gt element GQ\n",
      "\n",
      "Extracting gt element GT\n",
      "\n",
      "Extracting gt element PL\n",
      "\n",
      "Extracting gt element AD\n",
      "\n",
      "Extracting gt element DP\n",
      "\n",
      "Extracting gt element GQ\n",
      "\n",
      "Extracting gt element GT\n",
      "\n",
      "Extracting gt element PL\n",
      "\n",
      "Extracting gt element AD\n",
      "\n",
      "Extracting gt element DP\n",
      "\n",
      "Extracting gt element GQ\n",
      "\n",
      "Extracting gt element GT\n",
      "\n",
      "Extracting gt element PL\n",
      "\n",
      "Extracting gt element AD\n",
      "\n",
      "Extracting gt element DP\n",
      "\n",
      "Extracting gt element GQ\n",
      "\n",
      "Extracting gt element GT\n",
      "\n",
      "Extracting gt element PL\n",
      "\n",
      "Extracting gt element AD\n",
      "\n",
      "Extracting gt element DP\n",
      "\n",
      "Extracting gt element GQ\n",
      "\n",
      "Extracting gt element GT\n",
      "\n",
      "Extracting gt element PL\n",
      "\n",
      "Extracting gt element AD\n",
      "\n",
      "Extracting gt element DP\n",
      "\n",
      "Extracting gt element GQ\n",
      "\n",
      "Extracting gt element GT\n",
      "\n",
      "Extracting gt element PL\n",
      "\n",
      "Extracting gt element AD\n",
      "\n",
      "Extracting gt element DP\n",
      "\n",
      "Extracting gt element GQ\n",
      "\n",
      "Extracting gt element GT\n",
      "\n",
      "Extracting gt element PL\n",
      "\n",
      "Extracting gt element AD\n",
      "\n",
      "Extracting gt element DP\n",
      "\n",
      "Extracting gt element GQ\n",
      "\n",
      "Extracting gt element GT\n",
      "\n",
      "Extracting gt element PL\n",
      "\n",
      "Extracting gt element AD\n",
      "\n",
      "Extracting gt element DP\n",
      "\n",
      "Extracting gt element GQ\n",
      "\n",
      "Extracting gt element GT\n",
      "\n",
      "Extracting gt element PL\n",
      "\n",
      "Extracting gt element AD\n",
      "\n",
      "Extracting gt element DP\n",
      "\n",
      "Extracting gt element GQ\n",
      "\n",
      "Extracting gt element GT\n",
      "\n",
      "Extracting gt element PL\n",
      "\n",
      "Extracting gt element AD\n",
      "\n",
      "Extracting gt element DP\n",
      "\n",
      "Extracting gt element GQ\n",
      "\n",
      "Extracting gt element GT\n",
      "\n",
      "Extracting gt element PL\n",
      "\n",
      "Extracting gt element AD\n",
      "\n",
      "Extracting gt element DP\n",
      "\n",
      "Extracting gt element GQ\n",
      "\n",
      "Extracting gt element GT\n",
      "\n",
      "Extracting gt element PL\n",
      "\n",
      "Extracting gt element AD\n",
      "\n",
      "Extracting gt element DP\n",
      "\n",
      "Extracting gt element GQ\n",
      "\n",
      "Extracting gt element GT\n",
      "\n",
      "Extracting gt element PL\n",
      "\n",
      "Extracting gt element AD\n",
      "\n",
      "Extracting gt element DP\n",
      "\n",
      "Extracting gt element GQ\n",
      "\n",
      "Extracting gt element GT\n",
      "\n",
      "Extracting gt element PL\n",
      "\n",
      "Extracting gt element AD\n",
      "\n",
      "Extracting gt element DP\n",
      "\n",
      "Extracting gt element GQ\n",
      "\n",
      "Extracting gt element GT\n",
      "\n",
      "Extracting gt element PL\n",
      "\n",
      "Extracting gt element AD\n",
      "\n",
      "Extracting gt element DP\n",
      "\n",
      "Extracting gt element GQ\n",
      "\n",
      "Extracting gt element GT\n",
      "\n",
      "Extracting gt element PL\n",
      "\n",
      "Extracting gt element AD\n",
      "\n",
      "Extracting gt element DP\n",
      "\n",
      "Extracting gt element GQ\n",
      "\n",
      "Extracting gt element GT\n",
      "\n",
      "Extracting gt element PL\n",
      "\n",
      "Extracting gt element AD\n",
      "\n",
      "Extracting gt element DP\n",
      "\n",
      "Extracting gt element GQ\n",
      "\n",
      "Extracting gt element GT\n",
      "\n",
      "Extracting gt element PL\n",
      "\n",
      "Extracting gt element AD\n",
      "\n",
      "Extracting gt element DP\n",
      "\n",
      "Extracting gt element GQ\n",
      "\n",
      "Extracting gt element GT\n",
      "\n",
      "Extracting gt element PL\n",
      "\n",
      "Extracting gt element AD\n",
      "\n",
      "Extracting gt element DP\n",
      "\n",
      "Extracting gt element GQ\n",
      "\n",
      "Extracting gt element GT\n",
      "\n",
      "Extracting gt element PL\n",
      "\n",
      "Extracting gt element AD\n",
      "\n",
      "Extracting gt element DP\n",
      "\n",
      "Extracting gt element GQ\n",
      "\n",
      "Extracting gt element GT\n",
      "\n",
      "Extracting gt element PL\n",
      "\n",
      "Extracting gt element AD\n",
      "\n",
      "Extracting gt element DP\n",
      "\n",
      "Extracting gt element GQ\n",
      "\n",
      "Extracting gt element GT\n",
      "\n",
      "Extracting gt element PL\n",
      "\n",
      "Extracting gt element AD\n",
      "\n",
      "Extracting gt element DP\n",
      "\n",
      "Extracting gt element GQ\n",
      "\n",
      "Extracting gt element GT\n",
      "\n",
      "Extracting gt element PL\n",
      "\n",
      "Extracting gt element AD\n",
      "\n",
      "Extracting gt element DP\n",
      "\n",
      "Extracting gt element GQ\n",
      "\n",
      "Extracting gt element GT\n",
      "\n",
      "Extracting gt element PL\n",
      "\n",
      "Extracting gt element AD\n",
      "\n",
      "Extracting gt element DP\n",
      "\n",
      "Extracting gt element GQ\n",
      "\n",
      "Extracting gt element GT\n",
      "\n",
      "Extracting gt element PL\n",
      "\n",
      "Extracting gt element AD\n",
      "\n",
      "Extracting gt element DP\n",
      "\n",
      "Extracting gt element GQ\n",
      "\n",
      "Extracting gt element GT\n",
      "\n",
      "Extracting gt element PL\n",
      "\n",
      "Extracting gt element AD\n",
      "\n",
      "Extracting gt element DP\n",
      "\n",
      "Extracting gt element GQ\n",
      "\n",
      "Extracting gt element GT\n",
      "\n",
      "Extracting gt element PL\n",
      "\n",
      "Extracting gt element AD\n",
      "\n",
      "Extracting gt element DP\n",
      "\n",
      "Extracting gt element GQ\n",
      "\n",
      "Extracting gt element GT\n",
      "\n",
      "Extracting gt element PL\n",
      "\n",
      "Extracting gt element AD\n",
      "\n",
      "Extracting gt element DP\n",
      "\n",
      "Extracting gt element GQ\n",
      "\n",
      "Extracting gt element GT\n",
      "\n",
      "Extracting gt element PL\n",
      "\n",
      "Extracting gt element AD\n",
      "\n",
      "Extracting gt element DP\n",
      "\n",
      "Extracting gt element GQ\n",
      "\n",
      "Extracting gt element GT\n",
      "\n",
      "Extracting gt element PL\n",
      "\n",
      "Extracting gt element AD\n",
      "\n",
      "Extracting gt element DP\n",
      "\n",
      "Extracting gt element GQ\n",
      "\n",
      "Extracting gt element GT\n",
      "\n",
      "Extracting gt element PL\n",
      "\n",
      "Extracting gt element AD\n",
      "\n",
      "Extracting gt element DP\n",
      "\n",
      "Extracting gt element GQ\n",
      "\n",
      "Extracting gt element GT\n",
      "\n",
      "Extracting gt element PL\n",
      "\n",
      "Extracting gt element AD\n",
      "\n",
      "Extracting gt element DP\n",
      "\n",
      "Extracting gt element GQ\n",
      "\n",
      "Extracting gt element GT\n",
      "\n",
      "Extracting gt element PL\n",
      "\n",
      "Extracting gt element AD\n",
      "\n",
      "Extracting gt element DP\n",
      "\n",
      "Extracting gt element GQ\n",
      "\n",
      "Extracting gt element GT\n",
      "\n",
      "Extracting gt element PL\n",
      "\n",
      "Extracting gt element AD\n",
      "\n",
      "Extracting gt element DP\n",
      "\n",
      "Extracting gt element GQ\n",
      "\n",
      "Extracting gt element GT\n",
      "\n",
      "Extracting gt element PL\n",
      "\n",
      "Extracting gt element AD\n",
      "\n",
      "Extracting gt element DP\n",
      "\n",
      "Extracting gt element GQ\n",
      "\n",
      "Extracting gt element GT\n",
      "\n",
      "Extracting gt element PL\n",
      "\n",
      "Extracting gt element AD\n",
      "\n",
      "Extracting gt element DP\n",
      "\n",
      "Extracting gt element GQ\n",
      "\n",
      "Extracting gt element GT\n",
      "\n",
      "Extracting gt element PL\n",
      "\n",
      "Extracting gt element AD\n",
      "\n",
      "Extracting gt element DP\n",
      "\n",
      "Extracting gt element GQ\n",
      "\n",
      "Extracting gt element GT\n",
      "\n",
      "Extracting gt element PL\n",
      "\n",
      "Extracting gt element AD\n",
      "\n",
      "Extracting gt element DP\n",
      "\n",
      "Extracting gt element GQ\n",
      "\n",
      "Extracting gt element GT\n",
      "\n",
      "Extracting gt element PL\n",
      "\n",
      "Extracting gt element AD\n",
      "\n",
      "Extracting gt element DP\n",
      "\n",
      "Extracting gt element GQ\n",
      "\n",
      "Extracting gt element GT\n",
      "\n",
      "Extracting gt element PL\n",
      "\n",
      "Extracting gt element AD\n",
      "\n",
      "Extracting gt element DP\n",
      "\n",
      "Extracting gt element GQ\n",
      "\n",
      "Extracting gt element GT\n",
      "\n",
      "Extracting gt element PL\n",
      "\n",
      "Extracting gt element AD\n",
      "\n",
      "Extracting gt element DP\n",
      "\n",
      "Extracting gt element GQ\n",
      "\n",
      "Extracting gt element GT\n",
      "\n",
      "Extracting gt element PL\n",
      "\n",
      "Extracting gt element AD\n",
      "\n",
      "Extracting gt element DP\n",
      "\n",
      "Extracting gt element GQ\n",
      "\n",
      "Extracting gt element GT\n",
      "\n",
      "Extracting gt element PL\n",
      "\n",
      "Extracting gt element AD\n",
      "\n",
      "Extracting gt element DP\n",
      "\n",
      "Extracting gt element GQ\n",
      "\n",
      "Extracting gt element GT\n",
      "\n",
      "Extracting gt element PL\n",
      "\n",
      "Extracting gt element AD\n",
      "\n",
      "Extracting gt element DP\n",
      "\n",
      "Extracting gt element GQ\n",
      "\n",
      "Extracting gt element GT\n",
      "\n",
      "Extracting gt element PL\n",
      "\n",
      "Extracting gt element AD\n",
      "\n",
      "Extracting gt element DP\n",
      "\n",
      "Extracting gt element GQ\n",
      "\n",
      "Extracting gt element GT\n",
      "\n",
      "Extracting gt element PL\n",
      "\n",
      "Extracting gt element AD\n",
      "\n",
      "Extracting gt element DP\n",
      "\n",
      "Extracting gt element GQ\n",
      "\n",
      "Extracting gt element GT\n",
      "\n",
      "Extracting gt element PL\n",
      "\n",
      "Extracting gt element AD\n",
      "\n",
      "Extracting gt element DP\n",
      "\n",
      "Extracting gt element GQ\n",
      "\n",
      "Extracting gt element GT\n",
      "\n",
      "Extracting gt element PL\n",
      "\n",
      "Extracting gt element AD\n",
      "\n",
      "Extracting gt element DP\n",
      "\n",
      "Extracting gt element GQ\n",
      "\n",
      "Extracting gt element GT\n",
      "\n",
      "Extracting gt element PL\n",
      "\n",
      "Extracting gt element AD\n",
      "\n",
      "Extracting gt element DP\n",
      "\n",
      "Extracting gt element GQ\n",
      "\n",
      "Extracting gt element GT\n",
      "\n",
      "Extracting gt element PL\n",
      "\n",
      "Extracting gt element AD\n",
      "\n",
      "Extracting gt element DP\n",
      "\n",
      "Extracting gt element GQ\n",
      "\n",
      "Extracting gt element GT\n",
      "\n",
      "Extracting gt element PL\n",
      "\n",
      "Extracting gt element AD\n",
      "\n",
      "Extracting gt element DP\n",
      "\n",
      "Extracting gt element GQ\n",
      "\n",
      "Extracting gt element GT\n",
      "\n",
      "Extracting gt element PL\n",
      "\n",
      "Extracting gt element AD\n",
      "\n",
      "Extracting gt element DP\n",
      "\n",
      "Extracting gt element GQ\n",
      "\n",
      "Extracting gt element GT\n",
      "\n",
      "Extracting gt element PL\n",
      "\n",
      "Extracting gt element AD\n",
      "\n",
      "Extracting gt element DP\n",
      "\n",
      "Extracting gt element GQ\n",
      "\n",
      "Extracting gt element GT\n",
      "\n",
      "Extracting gt element PL\n",
      "\n",
      "Extracting gt element AD\n",
      "\n",
      "Extracting gt element DP\n",
      "\n",
      "Extracting gt element GQ\n",
      "\n",
      "Extracting gt element GT\n",
      "\n",
      "Extracting gt element PL\n",
      "\n",
      "Extracting gt element GT\n",
      "\n",
      "Extracting gt element AD\n",
      "\n",
      "Extracting gt element DP\n",
      "\n",
      "Extracting gt element GQ\n",
      "\n",
      "Extracting gt element GT\n",
      "\n",
      "Extracting gt element AD\n",
      "\n",
      "Extracting gt element DP\n",
      "\n",
      "Extracting gt element GQ\n",
      "\n",
      "Extracting gt element GT\n",
      "\n",
      "Extracting gt element AD\n",
      "\n",
      "Extracting gt element DP\n",
      "\n",
      "Extracting gt element GQ\n",
      "\n",
      "Extracting gt element GT\n",
      "\n",
      "Extracting gt element AD\n",
      "\n",
      "Extracting gt element DP\n",
      "\n",
      "Extracting gt element GQ\n",
      "\n",
      "Extracting gt element GT\n",
      "\n",
      "Extracting gt element AD\n",
      "\n",
      "Extracting gt element DP\n",
      "\n",
      "Extracting gt element GQ\n",
      "\n",
      "Extracting gt element GT\n",
      "\n",
      "Extracting gt element AD\n",
      "\n",
      "Extracting gt element DP\n",
      "\n",
      "Extracting gt element GQ\n",
      "\n",
      "Extracting gt element GT\n",
      "\n",
      "Extracting gt element AD\n",
      "\n",
      "Extracting gt element DP\n",
      "\n",
      "Extracting gt element GQ\n",
      "\n",
      "Extracting gt element GT\n",
      "\n",
      "Extracting gt element AD\n",
      "\n",
      "Extracting gt element DP\n",
      "\n",
      "Extracting gt element GQ\n",
      "\n",
      "Extracting gt element GT\n",
      "\n",
      "Extracting gt element AD\n",
      "\n",
      "Extracting gt element DP\n",
      "\n",
      "Extracting gt element GQ\n",
      "\n",
      "Extracting gt element GT\n",
      "\n",
      "Extracting gt element AD\n",
      "\n",
      "Extracting gt element DP\n",
      "\n",
      "Extracting gt element GQ\n",
      "\n",
      "Extracting gt element GT\n",
      "\n",
      "Extracting gt element AD\n",
      "\n",
      "Extracting gt element DP\n",
      "\n",
      "Extracting gt element GQ\n",
      "\n",
      "Extracting gt element GT\n",
      "\n",
      "Extracting gt element AD\n",
      "\n",
      "Extracting gt element DP\n",
      "\n",
      "Extracting gt element GQ\n",
      "\n",
      "Extracting gt element GT\n",
      "\n",
      "Extracting gt element AD\n",
      "\n",
      "Extracting gt element DP\n",
      "\n",
      "Extracting gt element GQ\n",
      "\n",
      "Extracting gt element GT\n",
      "\n",
      "Extracting gt element AD\n",
      "\n",
      "Extracting gt element DP\n",
      "\n",
      "Extracting gt element GQ\n",
      "\n",
      "Extracting gt element GT\n",
      "\n",
      "Extracting gt element AD\n",
      "\n",
      "Extracting gt element DP\n",
      "\n",
      "Extracting gt element GQ\n",
      "\n",
      "Extracting gt element GT\n",
      "\n",
      "Extracting gt element AD\n",
      "\n",
      "Extracting gt element DP\n",
      "\n",
      "Extracting gt element GQ\n",
      "\n",
      "Extracting gt element GT\n",
      "\n",
      "Extracting gt element AD\n",
      "\n",
      "Extracting gt element DP\n",
      "\n",
      "Extracting gt element GQ\n",
      "\n",
      "Extracting gt element GT\n",
      "\n",
      "Extracting gt element AD\n",
      "\n",
      "Extracting gt element DP\n",
      "\n",
      "Extracting gt element GQ\n",
      "\n",
      "Extracting gt element GT\n",
      "\n",
      "Extracting gt element AD\n",
      "\n",
      "Extracting gt element DP\n",
      "\n",
      "Extracting gt element GQ\n",
      "\n",
      "Extracting gt element GT\n",
      "\n",
      "Extracting gt element AD\n",
      "\n",
      "Extracting gt element DP\n",
      "\n",
      "Extracting gt element GQ\n",
      "\n",
      "Extracting gt element GT\n",
      "\n",
      "Extracting gt element AD\n",
      "\n",
      "Extracting gt element DP\n",
      "\n",
      "Extracting gt element GQ\n",
      "\n",
      "Extracting gt element GT\n",
      "\n",
      "Extracting gt element AD\n",
      "\n",
      "Extracting gt element DP\n",
      "\n",
      "Extracting gt element GQ\n",
      "\n",
      "Extracting gt element GT\n",
      "\n",
      "Extracting gt element AD\n",
      "\n",
      "Extracting gt element DP\n",
      "\n",
      "Extracting gt element GQ\n",
      "\n",
      "Extracting gt element GT\n",
      "\n",
      "Extracting gt element AD\n",
      "\n",
      "Extracting gt element DP\n",
      "\n",
      "Extracting gt element GQ\n",
      "\n",
      "Extracting gt element GT\n",
      "\n",
      "Extracting gt element AD\n",
      "\n",
      "Extracting gt element DP\n",
      "\n",
      "Extracting gt element GQ\n",
      "\n",
      "Extracting gt element GT\n",
      "\n",
      "Extracting gt element AD\n",
      "\n",
      "Extracting gt element DP\n",
      "\n",
      "Extracting gt element GQ\n",
      "\n",
      "Extracting gt element GT\n",
      "\n",
      "Extracting gt element AD\n",
      "\n",
      "Extracting gt element DP\n",
      "\n",
      "Extracting gt element GQ\n",
      "\n",
      "Extracting gt element GT\n",
      "\n",
      "Extracting gt element AD\n",
      "\n",
      "Extracting gt element DP\n",
      "\n",
      "Extracting gt element GQ\n",
      "\n",
      "Extracting gt element GT\n",
      "\n",
      "Extracting gt element AD\n",
      "\n",
      "Extracting gt element DP\n",
      "\n",
      "Extracting gt element GQ\n",
      "\n",
      "Extracting gt element GT\n",
      "\n",
      "Extracting gt element AD\n",
      "\n",
      "Extracting gt element DP\n",
      "\n",
      "Extracting gt element GQ\n",
      "\n",
      "Extracting gt element GT\n",
      "\n",
      "Extracting gt element AD\n",
      "\n",
      "Extracting gt element DP\n",
      "\n",
      "Extracting gt element GQ\n",
      "\n",
      "Extracting gt element GT\n",
      "\n",
      "Extracting gt element AD\n",
      "\n",
      "Extracting gt element DP\n",
      "\n",
      "Extracting gt element GQ\n",
      "\n",
      "Extracting gt element GT\n",
      "\n",
      "Extracting gt element AD\n",
      "\n",
      "Extracting gt element DP\n",
      "\n",
      "Extracting gt element GQ\n",
      "\n",
      "Extracting gt element GT\n",
      "\n",
      "Extracting gt element AD\n",
      "\n",
      "Extracting gt element DP\n",
      "\n",
      "Extracting gt element GQ\n",
      "\n",
      "Extracting gt element GT\n",
      "\n",
      "Extracting gt element AD\n",
      "\n",
      "Extracting gt element DP\n",
      "\n",
      "Extracting gt element GQ\n",
      "\n",
      "Extracting gt element GT\n",
      "\n",
      "Extracting gt element AD\n",
      "\n",
      "Extracting gt element DP\n",
      "\n",
      "Extracting gt element GQ\n",
      "\n",
      "Extracting gt element GT\n",
      "\n",
      "Extracting gt element AD\n",
      "\n",
      "Extracting gt element DP\n",
      "\n",
      "Extracting gt element GQ\n",
      "\n",
      "Extracting gt element GT\n",
      "\n",
      "Extracting gt element AD\n",
      "\n",
      "Extracting gt element DP\n",
      "\n",
      "Extracting gt element GQ\n",
      "\n",
      "Extracting gt element GT\n",
      "\n",
      "Extracting gt element AD\n",
      "\n",
      "Extracting gt element DP\n",
      "\n",
      "Extracting gt element GQ\n",
      "\n",
      "Extracting gt element GT\n",
      "\n",
      "Extracting gt element AD\n",
      "\n",
      "Extracting gt element DP\n",
      "\n",
      "Extracting gt element GQ\n",
      "\n",
      "Extracting gt element GT\n",
      "\n",
      "Extracting gt element AD\n",
      "\n",
      "Extracting gt element DP\n",
      "\n",
      "Extracting gt element GQ\n",
      "\n",
      "Extracting gt element GT\n",
      "\n",
      "Extracting gt element AD\n",
      "\n",
      "Extracting gt element DP\n",
      "\n",
      "Extracting gt element GQ\n",
      "\n",
      "Extracting gt element GT\n",
      "\n",
      "Extracting gt element AD\n",
      "\n",
      "Extracting gt element DP\n",
      "\n",
      "Extracting gt element GQ\n",
      "\n",
      "Extracting gt element GT\n",
      "\n",
      "Extracting gt element AD\n",
      "\n",
      "Extracting gt element DP\n",
      "\n",
      "Extracting gt element GQ\n",
      "\n",
      "Extracting gt element GT\n",
      "\n",
      "Extracting gt element AD\n",
      "\n",
      "Extracting gt element DP\n",
      "\n",
      "Extracting gt element GQ\n",
      "\n",
      "Extracting gt element GT\n",
      "\n",
      "Extracting gt element AD\n",
      "\n",
      "Extracting gt element DP\n",
      "\n",
      "Extracting gt element GQ\n",
      "\n",
      "Extracting gt element GT\n",
      "\n",
      "Extracting gt element AD\n",
      "\n",
      "Extracting gt element DP\n",
      "\n",
      "Extracting gt element GQ\n",
      "\n",
      "Extracting gt element GT\n",
      "\n",
      "Extracting gt element AD\n",
      "\n",
      "Extracting gt element DP\n",
      "\n",
      "Extracting gt element GQ\n",
      "\n",
      "Extracting gt element GT\n",
      "\n",
      "Extracting gt element AD\n",
      "\n",
      "Extracting gt element DP\n",
      "\n",
      "Extracting gt element GQ\n",
      "\n",
      "Extracting gt element GT\n",
      "\n",
      "Extracting gt element AD\n",
      "\n",
      "Extracting gt element DP\n",
      "\n",
      "Extracting gt element GQ\n",
      "\n",
      "Extracting gt element GT\n",
      "\n",
      "Extracting gt element AD\n",
      "\n",
      "Extracting gt element DP\n",
      "\n",
      "Extracting gt element GQ\n",
      "\n",
      "Extracting gt element GT\n",
      "\n",
      "Extracting gt element AD\n",
      "\n",
      "Extracting gt element DP\n",
      "\n",
      "Extracting gt element GQ\n",
      "\n",
      "Extracting gt element GT\n",
      "\n",
      "Extracting gt element AD\n",
      "\n",
      "Extracting gt element DP\n",
      "\n",
      "Extracting gt element GQ\n",
      "\n",
      "Extracting gt element GT\n",
      "\n",
      "Extracting gt element AD\n",
      "\n",
      "Extracting gt element DP\n",
      "\n",
      "Extracting gt element GQ\n",
      "\n",
      "Extracting gt element GT\n",
      "\n",
      "Extracting gt element AD\n",
      "\n",
      "Extracting gt element DP\n",
      "\n",
      "Extracting gt element GQ\n",
      "\n",
      "Extracting gt element GT\n",
      "\n",
      "Extracting gt element AD\n",
      "\n",
      "Extracting gt element DP\n",
      "\n",
      "Extracting gt element GQ\n",
      "\n",
      "Extracting gt element GT\n",
      "\n",
      "Extracting gt element AD\n",
      "\n",
      "Extracting gt element DP\n",
      "\n",
      "Extracting gt element GQ\n",
      "\n",
      "Extracting gt element GT\n",
      "\n",
      "Extracting gt element AD\n",
      "\n",
      "Extracting gt element DP\n",
      "\n",
      "Extracting gt element GQ\n",
      "\n",
      "Extracting gt element GT\n",
      "\n",
      "Extracting gt element AD\n",
      "\n",
      "Extracting gt element DP\n",
      "\n",
      "Extracting gt element GQ\n",
      "\n",
      "Extracting gt element GT\n",
      "\n",
      "Extracting gt element AD\n",
      "\n",
      "Extracting gt element DP\n",
      "\n",
      "Extracting gt element GQ\n",
      "\n",
      "Extracting gt element GT\n",
      "\n",
      "Extracting gt element AD\n",
      "\n",
      "Extracting gt element DP\n",
      "\n",
      "Extracting gt element GQ\n",
      "\n",
      "Extracting gt element GT\n",
      "\n",
      "Extracting gt element AD\n",
      "\n",
      "Extracting gt element DP\n",
      "\n",
      "Extracting gt element GQ\n",
      "\n",
      "Extracting gt element GT\n",
      "\n",
      "Extracting gt element AD\n",
      "\n",
      "Extracting gt element DP\n",
      "\n",
      "Extracting gt element GQ\n",
      "\n",
      "Extracting gt element GT\n",
      "\n",
      "Extracting gt element AD\n",
      "\n",
      "Extracting gt element DP\n",
      "\n",
      "Extracting gt element GQ\n",
      "\n",
      "Extracting gt element GT\n",
      "\n",
      "Extracting gt element AD\n",
      "\n",
      "Extracting gt element DP\n",
      "\n",
      "Extracting gt element GQ\n",
      "\n",
      "Extracting gt element GT\n",
      "\n",
      "Extracting gt element AD\n",
      "\n",
      "Extracting gt element DP\n",
      "\n",
      "Extracting gt element GQ\n",
      "\n",
      "Extracting gt element GT\n",
      "\n",
      "Extracting gt element AD\n",
      "\n",
      "Extracting gt element DP\n",
      "\n",
      "Extracting gt element GQ\n",
      "\n",
      "Extracting gt element GT\n",
      "\n",
      "Extracting gt element AD\n",
      "\n",
      "Extracting gt element DP\n",
      "\n",
      "Extracting gt element GQ\n",
      "\n",
      "Extracting gt element GT\n",
      "\n",
      "Extracting gt element AD\n",
      "\n",
      "Extracting gt element DP\n",
      "\n",
      "Extracting gt element GQ\n",
      "\n",
      "Extracting gt element GT\n",
      "\n",
      "Extracting gt element AD\n",
      "\n",
      "Extracting gt element DP\n",
      "\n",
      "Extracting gt element GQ\n",
      "\n",
      "Extracting gt element GT\n",
      "\n",
      "Extracting gt element AD\n",
      "\n",
      "Extracting gt element DP\n",
      "\n",
      "Extracting gt element GQ\n",
      "\n",
      "Extracting gt element GT\n",
      "\n",
      "Extracting gt element AD\n",
      "\n",
      "Extracting gt element DP\n",
      "\n",
      "Extracting gt element GQ\n",
      "\n",
      "Extracting gt element GT\n",
      "\n",
      "Extracting gt element AD\n",
      "\n",
      "Extracting gt element DP\n",
      "\n",
      "Extracting gt element GQ\n",
      "\n",
      "Extracting gt element GT\n",
      "\n",
      "Extracting gt element AD\n",
      "\n",
      "Extracting gt element DP\n",
      "\n",
      "Extracting gt element GQ\n",
      "\n",
      "Extracting gt element GT\n",
      "\n",
      "Extracting gt element AD\n",
      "\n",
      "Extracting gt element DP\n",
      "\n",
      "Extracting gt element GQ\n",
      "\n",
      "Extracting gt element GT\n",
      "\n",
      "Extracting gt element AD\n",
      "\n",
      "Extracting gt element DP\n",
      "\n",
      "Extracting gt element GQ\n",
      "\n",
      "Extracting gt element GT\n",
      "\n",
      "Extracting gt element AD\n",
      "\n",
      "Extracting gt element DP\n",
      "\n",
      "Extracting gt element GQ\n",
      "\n",
      "Extracting gt element GT\n",
      "\n",
      "Extracting gt element AD\n",
      "\n",
      "Extracting gt element DP\n",
      "\n",
      "Extracting gt element GQ\n",
      "\n",
      "Extracting gt element GT\n",
      "\n",
      "Extracting gt element AD\n",
      "\n",
      "Extracting gt element DP\n",
      "\n",
      "Extracting gt element GQ\n",
      "\n",
      "Extracting gt element GT\n",
      "\n",
      "Extracting gt element AD\n",
      "\n",
      "Extracting gt element DP\n",
      "\n",
      "Extracting gt element GQ\n",
      "\n",
      "Extracting gt element GT\n",
      "\n",
      "Extracting gt element AD\n",
      "\n",
      "Extracting gt element DP\n",
      "\n",
      "Extracting gt element GQ\n",
      "\n",
      "Extracting gt element GT\n",
      "\n",
      "Extracting gt element AD\n",
      "\n",
      "Extracting gt element DP\n",
      "\n",
      "Extracting gt element GQ\n",
      "\n",
      "Extracting gt element GT\n",
      "\n",
      "Extracting gt element AD\n",
      "\n",
      "Extracting gt element DP\n",
      "\n",
      "Extracting gt element GQ\n",
      "\n",
      "Extracting gt element GT\n",
      "\n",
      "Extracting gt element AD\n",
      "\n",
      "Extracting gt element DP\n",
      "\n",
      "Extracting gt element GQ\n",
      "\n",
      "Extracting gt element GT\n",
      "\n",
      "Extracting gt element AD\n",
      "\n",
      "Extracting gt element DP\n",
      "\n",
      "Extracting gt element GQ\n",
      "\n",
      "Extracting gt element GT\n",
      "\n",
      "Extracting gt element AD\n",
      "\n",
      "Extracting gt element DP\n",
      "\n",
      "Extracting gt element GQ\n",
      "\n",
      "Extracting gt element GT\n",
      "\n",
      "Extracting gt element AD\n",
      "\n",
      "Extracting gt element DP\n",
      "\n",
      "Extracting gt element GQ\n",
      "\n",
      "Extracting gt element GT\n",
      "\n",
      "Extracting gt element AD\n",
      "\n",
      "Extracting gt element DP\n",
      "\n",
      "Extracting gt element GQ\n",
      "\n"
     ]
    }
   ],
   "source": [
    "# set up dataframe to hold vcf files for timo, haplotype caller and ivar\n",
    "vcf.all1 <- data.frame()\n",
    "\n",
    "for (filename in vcf_lists) {\n",
    "    # read in a file\n",
    "    vcf <- read.vcfR(filename, verbose = FALSE)\n",
    "    # convert to a usable data frame\n",
    "    vcf_df <- vcfR2tidy(vcf,single_frame = TRUE)\n",
    "    vcf_df <- as.data.frame(vcf_df[[1]])\n",
    "    \n",
    "    if(nrow(vcf_df) > 0) {\n",
    "        # make source ID column\n",
    "        vcf_df$source_ID <- filename\n",
    "    \n",
    "        # select desired columns in order\n",
    "        vcf_df <- vcf_df %>% select(source_ID, CHROM, POS, REF, ALT, QUAL, FILTER, AF, gt_AD, gt_DP)\n",
    "    \n",
    "        # add to larger data frame\n",
    "        vcf.all1 <- rbind(vcf.all1, vcf_df)\n",
    "    }\n",
    "    \n",
    "}\n",
    "\n",
    "# separate tool and file columns\n",
    "vcf.all1 <- separate(vcf.all1, source_ID, sep = \"/\", \n",
    "               into = c(\"dot\",\"tool\",\"file\")) %>%\n",
    "                select(-c(dot))\n",
    "\n",
    "# get source_ID\n",
    "vcf.all1 <- separate(vcf.all1, file, sep = \".fas\", \n",
    "               into = c(\"source_ID\",\"rest\")) %>%\n",
    "                select(-c(rest))\n",
    "\n",
    "# change class of columns where necessary\n",
    "vcf.all1$gt_DP = as.numeric(vcf.all1$gt_DP)\n",
    "vcf.all1$AF = as.numeric(vcf.all1$AF)\n",
    "vcf.all1$AF <- round(vcf.all1$AF, digits = 4)\n",
    "\n",
    "# set names to match other data frames\n",
    "names(vcf.all1) <- c(\"tool\",\"source_ID\",\"segment\",\"ntpos\",\"refnt\",\"varnt\",\"qual\",\"filter\",\"varfreq\",\"allele_depth\",\"totalcount\")\n",
    "\n",
    "# use allele depth column to calculate variant frequency\n",
    "vcf.all1 <- separate(vcf.all1, allele_depth, sep = ',', into = c(\"major_dp\",\"minor_dp\"))\n",
    "vcf.all1$minor_dp <- as.numeric(vcf.all1$minor_dp)\n",
    "# variant freq is equal to number of reads with the alt nucleotide over the total number of reads\n",
    "vcf.all1 <- vcf.all1 %>%\n",
    "    mutate(AF2 = minor_dp/totalcount)\n",
    "vcf.all1$AF2 <- as.numeric(vcf.all1$AF2)\n",
    "# round decimals to 4 digits\n",
    "vcf.all1$AF2 <- round(vcf.all1$AF2, digits = 4)\n",
    "# replace varfreq column with AF2 value\n",
    "vcf.all1 <- vcf.all1 %>% mutate(varfreq = AF2)\n",
    "# select columns to match other data sets\n",
    "vcf.all1 <- vcf.all1 %>% select(tool, source_ID, segment, ntpos, refnt, varnt, varfreq, totalcount)"
   ]
  },
  {
   "cell_type": "code",
   "execution_count": 115,
   "metadata": {},
   "outputs": [
    {
     "data": {
      "text/html": [
       "<table class=\"dataframe\">\n",
       "<caption>A data.frame: 6 × 8</caption>\n",
       "<thead>\n",
       "\t<tr><th></th><th scope=col>tool</th><th scope=col>source_ID</th><th scope=col>segment</th><th scope=col>ntpos</th><th scope=col>refnt</th><th scope=col>varnt</th><th scope=col>varfreq</th><th scope=col>totalcount</th></tr>\n",
       "\t<tr><th></th><th scope=col>&lt;chr&gt;</th><th scope=col>&lt;chr&gt;</th><th scope=col>&lt;chr&gt;</th><th scope=col>&lt;int&gt;</th><th scope=col>&lt;chr&gt;</th><th scope=col>&lt;chr&gt;</th><th scope=col>&lt;dbl&gt;</th><th scope=col>&lt;dbl&gt;</th></tr>\n",
       "</thead>\n",
       "<tbody>\n",
       "\t<tr><th scope=row>1</th><td>hc</td><td>000000000-K4LKV_l01_SynCon_Mix01_rep1</td><td>HA</td><td> 43</td><td>G</td><td>A</td><td>0.0049</td><td>1228</td></tr>\n",
       "\t<tr><th scope=row>2</th><td>hc</td><td>000000000-K4LKV_l01_SynCon_Mix01_rep1</td><td>HA</td><td>236</td><td>T</td><td>C</td><td>0.0035</td><td>2024</td></tr>\n",
       "\t<tr><th scope=row>3</th><td>hc</td><td>000000000-K4LKV_l01_SynCon_Mix01_rep1</td><td>HA</td><td>298</td><td>T</td><td>C</td><td>0.4216</td><td>2244</td></tr>\n",
       "\t<tr><th scope=row>4</th><td>hc</td><td>000000000-K4LKV_l01_SynCon_Mix01_rep1</td><td>HA</td><td>333</td><td>T</td><td>C</td><td>0.4262</td><td>2419</td></tr>\n",
       "\t<tr><th scope=row>5</th><td>hc</td><td>000000000-K4LKV_l01_SynCon_Mix01_rep1</td><td>HA</td><td>515</td><td>G</td><td>A</td><td>0.3842</td><td>2691</td></tr>\n",
       "\t<tr><th scope=row>6</th><td>hc</td><td>000000000-K4LKV_l01_SynCon_Mix01_rep1</td><td>HA</td><td>516</td><td>A</td><td>G</td><td>0.4213</td><td>2846</td></tr>\n",
       "</tbody>\n",
       "</table>\n"
      ],
      "text/latex": [
       "A data.frame: 6 × 8\n",
       "\\begin{tabular}{r|llllllll}\n",
       "  & tool & source\\_ID & segment & ntpos & refnt & varnt & varfreq & totalcount\\\\\n",
       "  & <chr> & <chr> & <chr> & <int> & <chr> & <chr> & <dbl> & <dbl>\\\\\n",
       "\\hline\n",
       "\t1 & hc & 000000000-K4LKV\\_l01\\_SynCon\\_Mix01\\_rep1 & HA &  43 & G & A & 0.0049 & 1228\\\\\n",
       "\t2 & hc & 000000000-K4LKV\\_l01\\_SynCon\\_Mix01\\_rep1 & HA & 236 & T & C & 0.0035 & 2024\\\\\n",
       "\t3 & hc & 000000000-K4LKV\\_l01\\_SynCon\\_Mix01\\_rep1 & HA & 298 & T & C & 0.4216 & 2244\\\\\n",
       "\t4 & hc & 000000000-K4LKV\\_l01\\_SynCon\\_Mix01\\_rep1 & HA & 333 & T & C & 0.4262 & 2419\\\\\n",
       "\t5 & hc & 000000000-K4LKV\\_l01\\_SynCon\\_Mix01\\_rep1 & HA & 515 & G & A & 0.3842 & 2691\\\\\n",
       "\t6 & hc & 000000000-K4LKV\\_l01\\_SynCon\\_Mix01\\_rep1 & HA & 516 & A & G & 0.4213 & 2846\\\\\n",
       "\\end{tabular}\n"
      ],
      "text/markdown": [
       "\n",
       "A data.frame: 6 × 8\n",
       "\n",
       "| <!--/--> | tool &lt;chr&gt; | source_ID &lt;chr&gt; | segment &lt;chr&gt; | ntpos &lt;int&gt; | refnt &lt;chr&gt; | varnt &lt;chr&gt; | varfreq &lt;dbl&gt; | totalcount &lt;dbl&gt; |\n",
       "|---|---|---|---|---|---|---|---|---|\n",
       "| 1 | hc | 000000000-K4LKV_l01_SynCon_Mix01_rep1 | HA |  43 | G | A | 0.0049 | 1228 |\n",
       "| 2 | hc | 000000000-K4LKV_l01_SynCon_Mix01_rep1 | HA | 236 | T | C | 0.0035 | 2024 |\n",
       "| 3 | hc | 000000000-K4LKV_l01_SynCon_Mix01_rep1 | HA | 298 | T | C | 0.4216 | 2244 |\n",
       "| 4 | hc | 000000000-K4LKV_l01_SynCon_Mix01_rep1 | HA | 333 | T | C | 0.4262 | 2419 |\n",
       "| 5 | hc | 000000000-K4LKV_l01_SynCon_Mix01_rep1 | HA | 515 | G | A | 0.3842 | 2691 |\n",
       "| 6 | hc | 000000000-K4LKV_l01_SynCon_Mix01_rep1 | HA | 516 | A | G | 0.4213 | 2846 |\n",
       "\n"
      ],
      "text/plain": [
       "  tool source_ID                             segment ntpos refnt varnt varfreq\n",
       "1 hc   000000000-K4LKV_l01_SynCon_Mix01_rep1 HA       43   G     A     0.0049 \n",
       "2 hc   000000000-K4LKV_l01_SynCon_Mix01_rep1 HA      236   T     C     0.0035 \n",
       "3 hc   000000000-K4LKV_l01_SynCon_Mix01_rep1 HA      298   T     C     0.4216 \n",
       "4 hc   000000000-K4LKV_l01_SynCon_Mix01_rep1 HA      333   T     C     0.4262 \n",
       "5 hc   000000000-K4LKV_l01_SynCon_Mix01_rep1 HA      515   G     A     0.3842 \n",
       "6 hc   000000000-K4LKV_l01_SynCon_Mix01_rep1 HA      516   A     G     0.4213 \n",
       "  totalcount\n",
       "1 1228      \n",
       "2 2024      \n",
       "3 2244      \n",
       "4 2419      \n",
       "5 2691      \n",
       "6 2846      "
      ]
     },
     "metadata": {},
     "output_type": "display_data"
    },
    {
     "data": {
      "text/html": [
       "<table class=\"dataframe\">\n",
       "<caption>A data.frame: 6 × 8</caption>\n",
       "<thead>\n",
       "\t<tr><th></th><th scope=col>tool</th><th scope=col>source_ID</th><th scope=col>segment</th><th scope=col>ntpos</th><th scope=col>refnt</th><th scope=col>varnt</th><th scope=col>varfreq</th><th scope=col>totalcount</th></tr>\n",
       "\t<tr><th></th><th scope=col>&lt;chr&gt;</th><th scope=col>&lt;chr&gt;</th><th scope=col>&lt;chr&gt;</th><th scope=col>&lt;int&gt;</th><th scope=col>&lt;chr&gt;</th><th scope=col>&lt;chr&gt;</th><th scope=col>&lt;dbl&gt;</th><th scope=col>&lt;dbl&gt;</th></tr>\n",
       "</thead>\n",
       "<tbody>\n",
       "\t<tr><th scope=row>1</th><td>freebayes</td><td>000000000-K4LKV_l01_SynCon_Mix01_rep1</td><td>HA</td><td>  4</td><td>A</td><td>G</td><td>0.0269</td><td>1376</td></tr>\n",
       "\t<tr><th scope=row>2</th><td>freebayes</td><td>000000000-K4LKV_l01_SynCon_Mix01_rep1</td><td>HA</td><td>298</td><td>T</td><td>C</td><td>0.4266</td><td>3835</td></tr>\n",
       "\t<tr><th scope=row>3</th><td>freebayes</td><td>000000000-K4LKV_l01_SynCon_Mix01_rep1</td><td>HA</td><td>333</td><td>T</td><td>C</td><td>0.4501</td><td>4481</td></tr>\n",
       "\t<tr><th scope=row>4</th><td>freebayes</td><td>000000000-K4LKV_l01_SynCon_Mix01_rep1</td><td>HA</td><td>621</td><td>T</td><td>C</td><td>0.4110</td><td>5778</td></tr>\n",
       "\t<tr><th scope=row>5</th><td>freebayes</td><td>000000000-K4LKV_l01_SynCon_Mix01_rep1</td><td>HA</td><td>796</td><td>G</td><td>T</td><td>0.3953</td><td>5280</td></tr>\n",
       "\t<tr><th scope=row>6</th><td>freebayes</td><td>000000000-K4LKV_l01_SynCon_Mix01_rep1</td><td>HA</td><td>831</td><td>T</td><td>C</td><td>0.4100</td><td>4583</td></tr>\n",
       "</tbody>\n",
       "</table>\n"
      ],
      "text/latex": [
       "A data.frame: 6 × 8\n",
       "\\begin{tabular}{r|llllllll}\n",
       "  & tool & source\\_ID & segment & ntpos & refnt & varnt & varfreq & totalcount\\\\\n",
       "  & <chr> & <chr> & <chr> & <int> & <chr> & <chr> & <dbl> & <dbl>\\\\\n",
       "\\hline\n",
       "\t1 & freebayes & 000000000-K4LKV\\_l01\\_SynCon\\_Mix01\\_rep1 & HA &   4 & A & G & 0.0269 & 1376\\\\\n",
       "\t2 & freebayes & 000000000-K4LKV\\_l01\\_SynCon\\_Mix01\\_rep1 & HA & 298 & T & C & 0.4266 & 3835\\\\\n",
       "\t3 & freebayes & 000000000-K4LKV\\_l01\\_SynCon\\_Mix01\\_rep1 & HA & 333 & T & C & 0.4501 & 4481\\\\\n",
       "\t4 & freebayes & 000000000-K4LKV\\_l01\\_SynCon\\_Mix01\\_rep1 & HA & 621 & T & C & 0.4110 & 5778\\\\\n",
       "\t5 & freebayes & 000000000-K4LKV\\_l01\\_SynCon\\_Mix01\\_rep1 & HA & 796 & G & T & 0.3953 & 5280\\\\\n",
       "\t6 & freebayes & 000000000-K4LKV\\_l01\\_SynCon\\_Mix01\\_rep1 & HA & 831 & T & C & 0.4100 & 4583\\\\\n",
       "\\end{tabular}\n"
      ],
      "text/markdown": [
       "\n",
       "A data.frame: 6 × 8\n",
       "\n",
       "| <!--/--> | tool &lt;chr&gt; | source_ID &lt;chr&gt; | segment &lt;chr&gt; | ntpos &lt;int&gt; | refnt &lt;chr&gt; | varnt &lt;chr&gt; | varfreq &lt;dbl&gt; | totalcount &lt;dbl&gt; |\n",
       "|---|---|---|---|---|---|---|---|---|\n",
       "| 1 | freebayes | 000000000-K4LKV_l01_SynCon_Mix01_rep1 | HA |   4 | A | G | 0.0269 | 1376 |\n",
       "| 2 | freebayes | 000000000-K4LKV_l01_SynCon_Mix01_rep1 | HA | 298 | T | C | 0.4266 | 3835 |\n",
       "| 3 | freebayes | 000000000-K4LKV_l01_SynCon_Mix01_rep1 | HA | 333 | T | C | 0.4501 | 4481 |\n",
       "| 4 | freebayes | 000000000-K4LKV_l01_SynCon_Mix01_rep1 | HA | 621 | T | C | 0.4110 | 5778 |\n",
       "| 5 | freebayes | 000000000-K4LKV_l01_SynCon_Mix01_rep1 | HA | 796 | G | T | 0.3953 | 5280 |\n",
       "| 6 | freebayes | 000000000-K4LKV_l01_SynCon_Mix01_rep1 | HA | 831 | T | C | 0.4100 | 4583 |\n",
       "\n"
      ],
      "text/plain": [
       "  tool      source_ID                             segment ntpos refnt varnt\n",
       "1 freebayes 000000000-K4LKV_l01_SynCon_Mix01_rep1 HA        4   A     G    \n",
       "2 freebayes 000000000-K4LKV_l01_SynCon_Mix01_rep1 HA      298   T     C    \n",
       "3 freebayes 000000000-K4LKV_l01_SynCon_Mix01_rep1 HA      333   T     C    \n",
       "4 freebayes 000000000-K4LKV_l01_SynCon_Mix01_rep1 HA      621   T     C    \n",
       "5 freebayes 000000000-K4LKV_l01_SynCon_Mix01_rep1 HA      796   G     T    \n",
       "6 freebayes 000000000-K4LKV_l01_SynCon_Mix01_rep1 HA      831   T     C    \n",
       "  varfreq totalcount\n",
       "1 0.0269  1376      \n",
       "2 0.4266  3835      \n",
       "3 0.4501  4481      \n",
       "4 0.4110  5778      \n",
       "5 0.3953  5280      \n",
       "6 0.4100  4583      "
      ]
     },
     "metadata": {},
     "output_type": "display_data"
    },
    {
     "data": {
      "text/html": [
       "<table class=\"dataframe\">\n",
       "<caption>A data.frame: 6 × 8</caption>\n",
       "<thead>\n",
       "\t<tr><th></th><th scope=col>tool</th><th scope=col>source_ID</th><th scope=col>segment</th><th scope=col>ntpos</th><th scope=col>refnt</th><th scope=col>varnt</th><th scope=col>varfreq</th><th scope=col>totalcount</th></tr>\n",
       "\t<tr><th></th><th scope=col>&lt;chr&gt;</th><th scope=col>&lt;chr&gt;</th><th scope=col>&lt;chr&gt;</th><th scope=col>&lt;int&gt;</th><th scope=col>&lt;chr&gt;</th><th scope=col>&lt;chr&gt;</th><th scope=col>&lt;dbl&gt;</th><th scope=col>&lt;dbl&gt;</th></tr>\n",
       "</thead>\n",
       "<tbody>\n",
       "\t<tr><th scope=row>1</th><td>timo</td><td>000000000-K4LKV_l01_SynCon_Mix01_rep1</td><td>HA</td><td>  4</td><td>A</td><td>G</td><td>0.0269</td><td>1376</td></tr>\n",
       "\t<tr><th scope=row>2</th><td>timo</td><td>000000000-K4LKV_l01_SynCon_Mix01_rep1</td><td>HA</td><td>298</td><td>T</td><td>C</td><td>0.4265</td><td>3838</td></tr>\n",
       "\t<tr><th scope=row>3</th><td>timo</td><td>000000000-K4LKV_l01_SynCon_Mix01_rep1</td><td>HA</td><td>333</td><td>T</td><td>C</td><td>0.4503</td><td>4484</td></tr>\n",
       "\t<tr><th scope=row>4</th><td>timo</td><td>000000000-K4LKV_l01_SynCon_Mix01_rep1</td><td>HA</td><td>515</td><td>G</td><td>A</td><td>0.3846</td><td>4561</td></tr>\n",
       "\t<tr><th scope=row>5</th><td>timo</td><td>000000000-K4LKV_l01_SynCon_Mix01_rep1</td><td>HA</td><td>516</td><td>A</td><td>G</td><td>0.3881</td><td>4677</td></tr>\n",
       "\t<tr><th scope=row>6</th><td>timo</td><td>000000000-K4LKV_l01_SynCon_Mix01_rep1</td><td>HA</td><td>596</td><td>C</td><td>A</td><td>0.0353</td><td>5929</td></tr>\n",
       "</tbody>\n",
       "</table>\n"
      ],
      "text/latex": [
       "A data.frame: 6 × 8\n",
       "\\begin{tabular}{r|llllllll}\n",
       "  & tool & source\\_ID & segment & ntpos & refnt & varnt & varfreq & totalcount\\\\\n",
       "  & <chr> & <chr> & <chr> & <int> & <chr> & <chr> & <dbl> & <dbl>\\\\\n",
       "\\hline\n",
       "\t1 & timo & 000000000-K4LKV\\_l01\\_SynCon\\_Mix01\\_rep1 & HA &   4 & A & G & 0.0269 & 1376\\\\\n",
       "\t2 & timo & 000000000-K4LKV\\_l01\\_SynCon\\_Mix01\\_rep1 & HA & 298 & T & C & 0.4265 & 3838\\\\\n",
       "\t3 & timo & 000000000-K4LKV\\_l01\\_SynCon\\_Mix01\\_rep1 & HA & 333 & T & C & 0.4503 & 4484\\\\\n",
       "\t4 & timo & 000000000-K4LKV\\_l01\\_SynCon\\_Mix01\\_rep1 & HA & 515 & G & A & 0.3846 & 4561\\\\\n",
       "\t5 & timo & 000000000-K4LKV\\_l01\\_SynCon\\_Mix01\\_rep1 & HA & 516 & A & G & 0.3881 & 4677\\\\\n",
       "\t6 & timo & 000000000-K4LKV\\_l01\\_SynCon\\_Mix01\\_rep1 & HA & 596 & C & A & 0.0353 & 5929\\\\\n",
       "\\end{tabular}\n"
      ],
      "text/markdown": [
       "\n",
       "A data.frame: 6 × 8\n",
       "\n",
       "| <!--/--> | tool &lt;chr&gt; | source_ID &lt;chr&gt; | segment &lt;chr&gt; | ntpos &lt;int&gt; | refnt &lt;chr&gt; | varnt &lt;chr&gt; | varfreq &lt;dbl&gt; | totalcount &lt;dbl&gt; |\n",
       "|---|---|---|---|---|---|---|---|---|\n",
       "| 1 | timo | 000000000-K4LKV_l01_SynCon_Mix01_rep1 | HA |   4 | A | G | 0.0269 | 1376 |\n",
       "| 2 | timo | 000000000-K4LKV_l01_SynCon_Mix01_rep1 | HA | 298 | T | C | 0.4265 | 3838 |\n",
       "| 3 | timo | 000000000-K4LKV_l01_SynCon_Mix01_rep1 | HA | 333 | T | C | 0.4503 | 4484 |\n",
       "| 4 | timo | 000000000-K4LKV_l01_SynCon_Mix01_rep1 | HA | 515 | G | A | 0.3846 | 4561 |\n",
       "| 5 | timo | 000000000-K4LKV_l01_SynCon_Mix01_rep1 | HA | 516 | A | G | 0.3881 | 4677 |\n",
       "| 6 | timo | 000000000-K4LKV_l01_SynCon_Mix01_rep1 | HA | 596 | C | A | 0.0353 | 5929 |\n",
       "\n"
      ],
      "text/plain": [
       "  tool source_ID                             segment ntpos refnt varnt varfreq\n",
       "1 timo 000000000-K4LKV_l01_SynCon_Mix01_rep1 HA        4   A     G     0.0269 \n",
       "2 timo 000000000-K4LKV_l01_SynCon_Mix01_rep1 HA      298   T     C     0.4265 \n",
       "3 timo 000000000-K4LKV_l01_SynCon_Mix01_rep1 HA      333   T     C     0.4503 \n",
       "4 timo 000000000-K4LKV_l01_SynCon_Mix01_rep1 HA      515   G     A     0.3846 \n",
       "5 timo 000000000-K4LKV_l01_SynCon_Mix01_rep1 HA      516   A     G     0.3881 \n",
       "6 timo 000000000-K4LKV_l01_SynCon_Mix01_rep1 HA      596   C     A     0.0353 \n",
       "  totalcount\n",
       "1 1376      \n",
       "2 3838      \n",
       "3 4484      \n",
       "4 4561      \n",
       "5 4677      \n",
       "6 5929      "
      ]
     },
     "metadata": {},
     "output_type": "display_data"
    },
    {
     "data": {
      "text/html": [
       "<table class=\"dataframe\">\n",
       "<caption>A data.frame: 6 × 8</caption>\n",
       "<thead>\n",
       "\t<tr><th></th><th scope=col>tool</th><th scope=col>source_ID</th><th scope=col>segment</th><th scope=col>ntpos</th><th scope=col>refnt</th><th scope=col>varnt</th><th scope=col>varfreq</th><th scope=col>totalcount</th></tr>\n",
       "\t<tr><th></th><th scope=col>&lt;chr&gt;</th><th scope=col>&lt;chr&gt;</th><th scope=col>&lt;chr&gt;</th><th scope=col>&lt;int&gt;</th><th scope=col>&lt;chr&gt;</th><th scope=col>&lt;chr&gt;</th><th scope=col>&lt;dbl&gt;</th><th scope=col>&lt;dbl&gt;</th></tr>\n",
       "</thead>\n",
       "<tbody>\n",
       "\t<tr><th scope=row>1</th><td>mutect2</td><td>000000000-K4LKV_l01_SynCon_Mix01_rep1</td><td>HA</td><td> 43</td><td>G</td><td>A</td><td>0.0052</td><td>1159</td></tr>\n",
       "\t<tr><th scope=row>2</th><td>mutect2</td><td>000000000-K4LKV_l01_SynCon_Mix01_rep1</td><td>HA</td><td>224</td><td>C</td><td>T</td><td>0.0027</td><td>1880</td></tr>\n",
       "\t<tr><th scope=row>3</th><td>mutect2</td><td>000000000-K4LKV_l01_SynCon_Mix01_rep1</td><td>HA</td><td>277</td><td>T</td><td>C</td><td>0.0028</td><td>2140</td></tr>\n",
       "\t<tr><th scope=row>4</th><td>mutect2</td><td>000000000-K4LKV_l01_SynCon_Mix01_rep1</td><td>HA</td><td>298</td><td>T</td><td>C</td><td>0.4253</td><td>2229</td></tr>\n",
       "\t<tr><th scope=row>5</th><td>mutect2</td><td>000000000-K4LKV_l01_SynCon_Mix01_rep1</td><td>HA</td><td>333</td><td>T</td><td>C</td><td>0.4295</td><td>2405</td></tr>\n",
       "\t<tr><th scope=row>6</th><td>mutect2</td><td>000000000-K4LKV_l01_SynCon_Mix01_rep1</td><td>HA</td><td>596</td><td>C</td><td>A</td><td>0.0305</td><td>3118</td></tr>\n",
       "</tbody>\n",
       "</table>\n"
      ],
      "text/latex": [
       "A data.frame: 6 × 8\n",
       "\\begin{tabular}{r|llllllll}\n",
       "  & tool & source\\_ID & segment & ntpos & refnt & varnt & varfreq & totalcount\\\\\n",
       "  & <chr> & <chr> & <chr> & <int> & <chr> & <chr> & <dbl> & <dbl>\\\\\n",
       "\\hline\n",
       "\t1 & mutect2 & 000000000-K4LKV\\_l01\\_SynCon\\_Mix01\\_rep1 & HA &  43 & G & A & 0.0052 & 1159\\\\\n",
       "\t2 & mutect2 & 000000000-K4LKV\\_l01\\_SynCon\\_Mix01\\_rep1 & HA & 224 & C & T & 0.0027 & 1880\\\\\n",
       "\t3 & mutect2 & 000000000-K4LKV\\_l01\\_SynCon\\_Mix01\\_rep1 & HA & 277 & T & C & 0.0028 & 2140\\\\\n",
       "\t4 & mutect2 & 000000000-K4LKV\\_l01\\_SynCon\\_Mix01\\_rep1 & HA & 298 & T & C & 0.4253 & 2229\\\\\n",
       "\t5 & mutect2 & 000000000-K4LKV\\_l01\\_SynCon\\_Mix01\\_rep1 & HA & 333 & T & C & 0.4295 & 2405\\\\\n",
       "\t6 & mutect2 & 000000000-K4LKV\\_l01\\_SynCon\\_Mix01\\_rep1 & HA & 596 & C & A & 0.0305 & 3118\\\\\n",
       "\\end{tabular}\n"
      ],
      "text/markdown": [
       "\n",
       "A data.frame: 6 × 8\n",
       "\n",
       "| <!--/--> | tool &lt;chr&gt; | source_ID &lt;chr&gt; | segment &lt;chr&gt; | ntpos &lt;int&gt; | refnt &lt;chr&gt; | varnt &lt;chr&gt; | varfreq &lt;dbl&gt; | totalcount &lt;dbl&gt; |\n",
       "|---|---|---|---|---|---|---|---|---|\n",
       "| 1 | mutect2 | 000000000-K4LKV_l01_SynCon_Mix01_rep1 | HA |  43 | G | A | 0.0052 | 1159 |\n",
       "| 2 | mutect2 | 000000000-K4LKV_l01_SynCon_Mix01_rep1 | HA | 224 | C | T | 0.0027 | 1880 |\n",
       "| 3 | mutect2 | 000000000-K4LKV_l01_SynCon_Mix01_rep1 | HA | 277 | T | C | 0.0028 | 2140 |\n",
       "| 4 | mutect2 | 000000000-K4LKV_l01_SynCon_Mix01_rep1 | HA | 298 | T | C | 0.4253 | 2229 |\n",
       "| 5 | mutect2 | 000000000-K4LKV_l01_SynCon_Mix01_rep1 | HA | 333 | T | C | 0.4295 | 2405 |\n",
       "| 6 | mutect2 | 000000000-K4LKV_l01_SynCon_Mix01_rep1 | HA | 596 | C | A | 0.0305 | 3118 |\n",
       "\n"
      ],
      "text/plain": [
       "  tool    source_ID                             segment ntpos refnt varnt\n",
       "1 mutect2 000000000-K4LKV_l01_SynCon_Mix01_rep1 HA       43   G     A    \n",
       "2 mutect2 000000000-K4LKV_l01_SynCon_Mix01_rep1 HA      224   C     T    \n",
       "3 mutect2 000000000-K4LKV_l01_SynCon_Mix01_rep1 HA      277   T     C    \n",
       "4 mutect2 000000000-K4LKV_l01_SynCon_Mix01_rep1 HA      298   T     C    \n",
       "5 mutect2 000000000-K4LKV_l01_SynCon_Mix01_rep1 HA      333   T     C    \n",
       "6 mutect2 000000000-K4LKV_l01_SynCon_Mix01_rep1 HA      596   C     A    \n",
       "  varfreq totalcount\n",
       "1 0.0052  1159      \n",
       "2 0.0027  1880      \n",
       "3 0.0028  2140      \n",
       "4 0.4253  2229      \n",
       "5 0.4295  2405      \n",
       "6 0.0305  3118      "
      ]
     },
     "metadata": {},
     "output_type": "display_data"
    },
    {
     "data": {
      "text/html": [
       "<table class=\"dataframe\">\n",
       "<caption>A data.frame: 6 × 8</caption>\n",
       "<thead>\n",
       "\t<tr><th></th><th scope=col>tool</th><th scope=col>source_ID</th><th scope=col>segment</th><th scope=col>ntpos</th><th scope=col>refnt</th><th scope=col>varnt</th><th scope=col>varfreq</th><th scope=col>totalcount</th></tr>\n",
       "\t<tr><th></th><th scope=col>&lt;chr&gt;</th><th scope=col>&lt;chr&gt;</th><th scope=col>&lt;chr&gt;</th><th scope=col>&lt;int&gt;</th><th scope=col>&lt;chr&gt;</th><th scope=col>&lt;chr&gt;</th><th scope=col>&lt;dbl&gt;</th><th scope=col>&lt;dbl&gt;</th></tr>\n",
       "</thead>\n",
       "<tbody>\n",
       "\t<tr><th scope=row>1</th><td>varscan</td><td>000000000-K4LKV_l01_SynCon_Mix01_rep1</td><td>HA</td><td>  4</td><td>A</td><td>G</td><td>0.0401</td><td> 548</td></tr>\n",
       "\t<tr><th scope=row>2</th><td>varscan</td><td>000000000-K4LKV_l01_SynCon_Mix01_rep1</td><td>HA</td><td>298</td><td>T</td><td>C</td><td>0.4208</td><td>3660</td></tr>\n",
       "\t<tr><th scope=row>3</th><td>varscan</td><td>000000000-K4LKV_l01_SynCon_Mix01_rep1</td><td>HA</td><td>333</td><td>T</td><td>C</td><td>0.4410</td><td>4252</td></tr>\n",
       "\t<tr><th scope=row>4</th><td>varscan</td><td>000000000-K4LKV_l01_SynCon_Mix01_rep1</td><td>HA</td><td>515</td><td>G</td><td>A</td><td>0.3414</td><td>4110</td></tr>\n",
       "\t<tr><th scope=row>5</th><td>varscan</td><td>000000000-K4LKV_l01_SynCon_Mix01_rep1</td><td>HA</td><td>516</td><td>A</td><td>G</td><td>0.3368</td><td>4166</td></tr>\n",
       "\t<tr><th scope=row>6</th><td>varscan</td><td>000000000-K4LKV_l01_SynCon_Mix01_rep1</td><td>HA</td><td>596</td><td>C</td><td>A</td><td>0.0348</td><td>5749</td></tr>\n",
       "</tbody>\n",
       "</table>\n"
      ],
      "text/latex": [
       "A data.frame: 6 × 8\n",
       "\\begin{tabular}{r|llllllll}\n",
       "  & tool & source\\_ID & segment & ntpos & refnt & varnt & varfreq & totalcount\\\\\n",
       "  & <chr> & <chr> & <chr> & <int> & <chr> & <chr> & <dbl> & <dbl>\\\\\n",
       "\\hline\n",
       "\t1 & varscan & 000000000-K4LKV\\_l01\\_SynCon\\_Mix01\\_rep1 & HA &   4 & A & G & 0.0401 &  548\\\\\n",
       "\t2 & varscan & 000000000-K4LKV\\_l01\\_SynCon\\_Mix01\\_rep1 & HA & 298 & T & C & 0.4208 & 3660\\\\\n",
       "\t3 & varscan & 000000000-K4LKV\\_l01\\_SynCon\\_Mix01\\_rep1 & HA & 333 & T & C & 0.4410 & 4252\\\\\n",
       "\t4 & varscan & 000000000-K4LKV\\_l01\\_SynCon\\_Mix01\\_rep1 & HA & 515 & G & A & 0.3414 & 4110\\\\\n",
       "\t5 & varscan & 000000000-K4LKV\\_l01\\_SynCon\\_Mix01\\_rep1 & HA & 516 & A & G & 0.3368 & 4166\\\\\n",
       "\t6 & varscan & 000000000-K4LKV\\_l01\\_SynCon\\_Mix01\\_rep1 & HA & 596 & C & A & 0.0348 & 5749\\\\\n",
       "\\end{tabular}\n"
      ],
      "text/markdown": [
       "\n",
       "A data.frame: 6 × 8\n",
       "\n",
       "| <!--/--> | tool &lt;chr&gt; | source_ID &lt;chr&gt; | segment &lt;chr&gt; | ntpos &lt;int&gt; | refnt &lt;chr&gt; | varnt &lt;chr&gt; | varfreq &lt;dbl&gt; | totalcount &lt;dbl&gt; |\n",
       "|---|---|---|---|---|---|---|---|---|\n",
       "| 1 | varscan | 000000000-K4LKV_l01_SynCon_Mix01_rep1 | HA |   4 | A | G | 0.0401 |  548 |\n",
       "| 2 | varscan | 000000000-K4LKV_l01_SynCon_Mix01_rep1 | HA | 298 | T | C | 0.4208 | 3660 |\n",
       "| 3 | varscan | 000000000-K4LKV_l01_SynCon_Mix01_rep1 | HA | 333 | T | C | 0.4410 | 4252 |\n",
       "| 4 | varscan | 000000000-K4LKV_l01_SynCon_Mix01_rep1 | HA | 515 | G | A | 0.3414 | 4110 |\n",
       "| 5 | varscan | 000000000-K4LKV_l01_SynCon_Mix01_rep1 | HA | 516 | A | G | 0.3368 | 4166 |\n",
       "| 6 | varscan | 000000000-K4LKV_l01_SynCon_Mix01_rep1 | HA | 596 | C | A | 0.0348 | 5749 |\n",
       "\n"
      ],
      "text/plain": [
       "  tool    source_ID                             segment ntpos refnt varnt\n",
       "1 varscan 000000000-K4LKV_l01_SynCon_Mix01_rep1 HA        4   A     G    \n",
       "2 varscan 000000000-K4LKV_l01_SynCon_Mix01_rep1 HA      298   T     C    \n",
       "3 varscan 000000000-K4LKV_l01_SynCon_Mix01_rep1 HA      333   T     C    \n",
       "4 varscan 000000000-K4LKV_l01_SynCon_Mix01_rep1 HA      515   G     A    \n",
       "5 varscan 000000000-K4LKV_l01_SynCon_Mix01_rep1 HA      516   A     G    \n",
       "6 varscan 000000000-K4LKV_l01_SynCon_Mix01_rep1 HA      596   C     A    \n",
       "  varfreq totalcount\n",
       "1 0.0401   548      \n",
       "2 0.4208  3660      \n",
       "3 0.4410  4252      \n",
       "4 0.3414  4110      \n",
       "5 0.3368  4166      \n",
       "6 0.0348  5749      "
      ]
     },
     "metadata": {},
     "output_type": "display_data"
    },
    {
     "data": {
      "text/html": [
       "<table class=\"dataframe\">\n",
       "<caption>A data.frame: 6 × 8</caption>\n",
       "<thead>\n",
       "\t<tr><th></th><th scope=col>tool</th><th scope=col>source_ID</th><th scope=col>segment</th><th scope=col>ntpos</th><th scope=col>refnt</th><th scope=col>varnt</th><th scope=col>varfreq</th><th scope=col>totalcount</th></tr>\n",
       "\t<tr><th></th><th scope=col>&lt;chr&gt;</th><th scope=col>&lt;chr&gt;</th><th scope=col>&lt;chr&gt;</th><th scope=col>&lt;int&gt;</th><th scope=col>&lt;chr&gt;</th><th scope=col>&lt;chr&gt;</th><th scope=col>&lt;dbl&gt;</th><th scope=col>&lt;dbl&gt;</th></tr>\n",
       "</thead>\n",
       "<tbody>\n",
       "\t<tr><th scope=row>1</th><td>lofreq</td><td>000000000-K4LKV_l01_SynCon_Mix01_rep1</td><td>HA</td><td>236</td><td>T</td><td>C</td><td>0.0028</td><td>2844</td></tr>\n",
       "\t<tr><th scope=row>2</th><td>lofreq</td><td>000000000-K4LKV_l01_SynCon_Mix01_rep1</td><td>HA</td><td>298</td><td>T</td><td>C</td><td>0.4263</td><td>3807</td></tr>\n",
       "\t<tr><th scope=row>3</th><td>lofreq</td><td>000000000-K4LKV_l01_SynCon_Mix01_rep1</td><td>HA</td><td>333</td><td>T</td><td>C</td><td>0.4505</td><td>4442</td></tr>\n",
       "\t<tr><th scope=row>4</th><td>lofreq</td><td>000000000-K4LKV_l01_SynCon_Mix01_rep1</td><td>HA</td><td>462</td><td>T</td><td>C</td><td>0.0029</td><td>3752</td></tr>\n",
       "\t<tr><th scope=row>5</th><td>lofreq</td><td>000000000-K4LKV_l01_SynCon_Mix01_rep1</td><td>HA</td><td>515</td><td>G</td><td>A</td><td>0.3840</td><td>4550</td></tr>\n",
       "\t<tr><th scope=row>6</th><td>lofreq</td><td>000000000-K4LKV_l01_SynCon_Mix01_rep1</td><td>HA</td><td>516</td><td>A</td><td>G</td><td>0.3871</td><td>4671</td></tr>\n",
       "</tbody>\n",
       "</table>\n"
      ],
      "text/latex": [
       "A data.frame: 6 × 8\n",
       "\\begin{tabular}{r|llllllll}\n",
       "  & tool & source\\_ID & segment & ntpos & refnt & varnt & varfreq & totalcount\\\\\n",
       "  & <chr> & <chr> & <chr> & <int> & <chr> & <chr> & <dbl> & <dbl>\\\\\n",
       "\\hline\n",
       "\t1 & lofreq & 000000000-K4LKV\\_l01\\_SynCon\\_Mix01\\_rep1 & HA & 236 & T & C & 0.0028 & 2844\\\\\n",
       "\t2 & lofreq & 000000000-K4LKV\\_l01\\_SynCon\\_Mix01\\_rep1 & HA & 298 & T & C & 0.4263 & 3807\\\\\n",
       "\t3 & lofreq & 000000000-K4LKV\\_l01\\_SynCon\\_Mix01\\_rep1 & HA & 333 & T & C & 0.4505 & 4442\\\\\n",
       "\t4 & lofreq & 000000000-K4LKV\\_l01\\_SynCon\\_Mix01\\_rep1 & HA & 462 & T & C & 0.0029 & 3752\\\\\n",
       "\t5 & lofreq & 000000000-K4LKV\\_l01\\_SynCon\\_Mix01\\_rep1 & HA & 515 & G & A & 0.3840 & 4550\\\\\n",
       "\t6 & lofreq & 000000000-K4LKV\\_l01\\_SynCon\\_Mix01\\_rep1 & HA & 516 & A & G & 0.3871 & 4671\\\\\n",
       "\\end{tabular}\n"
      ],
      "text/markdown": [
       "\n",
       "A data.frame: 6 × 8\n",
       "\n",
       "| <!--/--> | tool &lt;chr&gt; | source_ID &lt;chr&gt; | segment &lt;chr&gt; | ntpos &lt;int&gt; | refnt &lt;chr&gt; | varnt &lt;chr&gt; | varfreq &lt;dbl&gt; | totalcount &lt;dbl&gt; |\n",
       "|---|---|---|---|---|---|---|---|---|\n",
       "| 1 | lofreq | 000000000-K4LKV_l01_SynCon_Mix01_rep1 | HA | 236 | T | C | 0.0028 | 2844 |\n",
       "| 2 | lofreq | 000000000-K4LKV_l01_SynCon_Mix01_rep1 | HA | 298 | T | C | 0.4263 | 3807 |\n",
       "| 3 | lofreq | 000000000-K4LKV_l01_SynCon_Mix01_rep1 | HA | 333 | T | C | 0.4505 | 4442 |\n",
       "| 4 | lofreq | 000000000-K4LKV_l01_SynCon_Mix01_rep1 | HA | 462 | T | C | 0.0029 | 3752 |\n",
       "| 5 | lofreq | 000000000-K4LKV_l01_SynCon_Mix01_rep1 | HA | 515 | G | A | 0.3840 | 4550 |\n",
       "| 6 | lofreq | 000000000-K4LKV_l01_SynCon_Mix01_rep1 | HA | 516 | A | G | 0.3871 | 4671 |\n",
       "\n"
      ],
      "text/plain": [
       "  tool   source_ID                             segment ntpos refnt varnt\n",
       "1 lofreq 000000000-K4LKV_l01_SynCon_Mix01_rep1 HA      236   T     C    \n",
       "2 lofreq 000000000-K4LKV_l01_SynCon_Mix01_rep1 HA      298   T     C    \n",
       "3 lofreq 000000000-K4LKV_l01_SynCon_Mix01_rep1 HA      333   T     C    \n",
       "4 lofreq 000000000-K4LKV_l01_SynCon_Mix01_rep1 HA      462   T     C    \n",
       "5 lofreq 000000000-K4LKV_l01_SynCon_Mix01_rep1 HA      515   G     A    \n",
       "6 lofreq 000000000-K4LKV_l01_SynCon_Mix01_rep1 HA      516   A     G    \n",
       "  varfreq totalcount\n",
       "1 0.0028  2844      \n",
       "2 0.4263  3807      \n",
       "3 0.4505  4442      \n",
       "4 0.0029  3752      \n",
       "5 0.3840  4550      \n",
       "6 0.3871  4671      "
      ]
     },
     "metadata": {},
     "output_type": "display_data"
    }
   ],
   "source": [
    "head(vcf.all1)\n",
    "head(vcf.all.fb)\n",
    "head(vcf.all.t)\n",
    "head(vcf.mutect)\n",
    "head(vcf.varscan)\n",
    "head(vcf.lofreq)"
   ]
  },
  {
   "cell_type": "code",
   "execution_count": 116,
   "metadata": {},
   "outputs": [],
   "source": [
    "# combine all the VCF files from each tools\n",
    "vcf.all <- do.call(\"rbind\", list(vcf.all1, vcf.all.fb, vcf.all.t, vcf.mutect, vcf.varscan, vcf.lofreq))"
   ]
  },
  {
   "cell_type": "code",
   "execution_count": 117,
   "metadata": {},
   "outputs": [
    {
     "data": {
      "text/html": [
       "34586"
      ],
      "text/latex": [
       "34586"
      ],
      "text/markdown": [
       "34586"
      ],
      "text/plain": [
       "[1] 34586"
      ]
     },
     "metadata": {},
     "output_type": "display_data"
    }
   ],
   "source": [
    "nrow(vcf.all)"
   ]
  },
  {
   "cell_type": "code",
   "execution_count": 118,
   "metadata": {},
   "outputs": [
    {
     "data": {
      "text/html": [
       "34311"
      ],
      "text/latex": [
       "34311"
      ],
      "text/markdown": [
       "34311"
      ],
      "text/plain": [
       "[1] 34311"
      ]
     },
     "metadata": {},
     "output_type": "display_data"
    }
   ],
   "source": [
    "ntlist <- c('A','T','C','G')\n",
    "vcf.all <- vcf.all %>% filter(refnt %in% ntlist & varnt %in% ntlist)\n",
    "nrow(vcf.all)"
   ]
  },
  {
   "cell_type": "code",
   "execution_count": 119,
   "metadata": {},
   "outputs": [],
   "source": [
    "write_excel_csv(x = vcf.all, file = glue(\"{mva_folder}/flu.synthetic.vcfs.csv\"))"
   ]
  },
  {
   "cell_type": "code",
   "execution_count": null,
   "metadata": {},
   "outputs": [],
   "source": []
  }
 ],
 "metadata": {
  "kernelspec": {
   "display_name": "R",
   "language": "R",
   "name": "ir"
  },
  "language_info": {
   "codemirror_mode": "r",
   "file_extension": ".r",
   "mimetype": "text/x-r-source",
   "name": "R",
   "pygments_lexer": "r",
   "version": "4.0.0"
  }
 },
 "nbformat": 4,
 "nbformat_minor": 4
}
