{
 "cells": [
  {
   "cell_type": "code",
   "execution_count": 161,
   "metadata": {},
   "outputs": [],
   "source": [
    "#load packages\n",
    "library(ggplot2)\n",
    "library(plyr)\n",
    "library(tidyverse)\n",
    "library(grid)\n",
    "library(gridExtra)\n",
    "library(ggrepel)\n",
    "library(RColorBrewer)\n",
    "library(glue)\n",
    "library(cowplot)\n",
    "library(UpSetR)\n",
    "library(pheatmap)\n",
    "library(vcfR)\n",
    "library(igraph)\n",
    "library(ggpubr)"
   ]
  },
  {
   "cell_type": "code",
   "execution_count": 162,
   "metadata": {},
   "outputs": [],
   "source": [
    "project_folder <- '/Users/roderae/National Institutes of Health/Ghedin, Elodie (NIH NIAID) [E] - LAB_STUFF/allison/projects/COV2-SNV'\n",
    "mva_folder <- glue(\"{project_folder}/synthetic_data/flu\")"
   ]
  },
  {
   "cell_type": "code",
   "execution_count": 163,
   "metadata": {},
   "outputs": [],
   "source": [
    "code <- '/Users/roderae/National Institutes of Health/Ghedin, Elodie (NIH NIAID) [E] - LAB_STUFF/allison/code/SARS-CoV-2_analysis'"
   ]
  },
  {
   "cell_type": "code",
   "execution_count": 164,
   "metadata": {},
   "outputs": [],
   "source": [
    "source(glue(\"{code}/cov_aalist.R\"))\n",
    "source(glue(\"{code}/repsnv.R\"))\n",
    "source(glue(\"{code}/snv_filter.R\"))\n",
    "source(glue(\"{code}/vennsD.R\"))\n",
    "source(glue(\"{code}/common.R\"))"
   ]
  },
  {
   "cell_type": "code",
   "execution_count": 165,
   "metadata": {},
   "outputs": [],
   "source": [
    "setwd(mva_folder)"
   ]
  },
  {
   "cell_type": "code",
   "execution_count": 166,
   "metadata": {},
   "outputs": [],
   "source": [
    "setwd(mva_folder)\n",
    "golden_vcf <- read.csv(file=\"golden_vcf.csv\",header = T,sep=',')\n",
    "metadata <- read.csv(file=\"flu_metadata.csv\",header = T,sep=',')\n",
    "vcf.all <- read.csv(file=\"flu.synthetic.vcfs.csv\",header = T,sep=',')"
   ]
  },
  {
   "cell_type": "code",
   "execution_count": 167,
   "metadata": {},
   "outputs": [],
   "source": [
    "golden_vcf <- golden_vcf %>% select(1:6)\n",
    "metadata <- metadata %>% select(c(1,2,6,8))"
   ]
  },
  {
   "cell_type": "code",
   "execution_count": 168,
   "metadata": {},
   "outputs": [],
   "source": [
    "premrtpcr <- golden_vcf %>% filter(cat == 'pre') %>% select(1:5)\n",
    "golden_vcf <- golden_vcf %>% filter(cat == 'TP') %>% select(1:5)\n",
    "names(golden_vcf) <- c(\"segment\",\"ntpos\",\"golden_REF\",\"golden_ALT\",\"expected_freq\")"
   ]
  },
  {
   "cell_type": "code",
   "execution_count": 169,
   "metadata": {},
   "outputs": [],
   "source": [
    "vcf.all <- merge(vcf.all, metadata, by.x=(\"source_ID\"), by.y=(\"filename\"), all.x = T) %>% filter(!copy_number == 'control')"
   ]
  },
  {
   "cell_type": "code",
   "execution_count": 170,
   "metadata": {},
   "outputs": [],
   "source": [
    "test.vcf <- data.frame()\n",
    "\n",
    "for(usetool in unique(vcf.all$tool)) {\n",
    "    \n",
    "    temp1 <- vcf.all %>% filter(usetool == tool)\n",
    "    \n",
    "    for(sample in unique(temp1$source_ID)) {\n",
    "    \n",
    "        temp <- temp1 %>% filter(source_ID == sample)\n",
    "        copyn <- unique(temp$copy_number)\n",
    "        mixfreq <- unique(temp$expected_freq)\n",
    "        rep <- unique(temp$Rep)\n",
    "        tool <- unique(temp$tool)\n",
    "        \n",
    "        mergegold <- golden_vcf %>% filter(expected_freq == mixfreq)\n",
    "    \n",
    "        merged <- merge(temp, mergegold, by=c(\"segment\",\"ntpos\",\"expected_freq\"), all.x=T, all.y=T)\n",
    "    \n",
    "        merged$cat <- ifelse(is.na(merged$golden_ALT) & !is.na(merged$varnt), 'FP',\n",
    "                             ifelse(is.na(merged$golden_ALT) & !is.na(merged$varnt) & merged$golden_ALT != merged$varnt, 'FP',\n",
    "                                 ifelse(is.na(merged$varnt) & !is.na(merged$golden_ALT), 'FN',\n",
    "                                    ifelse(!is.na(merged$varnt) & !is.na(merged$golden_ALT) & merged$varfreq > 0, 'TP','unclassified'))))\n",
    "    \n",
    "        merged$source_ID <- sample\n",
    "        merged$copy_number <- copyn\n",
    "        merged$Rep <- rep\n",
    "        merged$tool <- tool\n",
    "    \n",
    "        test.vcf <- rbind(test.vcf, merged)\n",
    "    \n",
    "    }\n",
    "    \n",
    "}"
   ]
  },
  {
   "cell_type": "code",
   "execution_count": 172,
   "metadata": {},
   "outputs": [],
   "source": [
    "test.vcf$change <- paste0(test.vcf$refnt,test.vcf$ntpos,test.vcf$varnt)\n",
    "premrtpcr$change <- paste0(premrtpcr$golden_REF,premrtpcr$POS,premrtpcr$golden_ALT)\n",
    "test.vcf <- test.vcf %>% mutate(cat = ifelse(change %in% premrtpcr$change, 'pre', cat)) %>% select(-c(change))"
   ]
  },
  {
   "cell_type": "code",
   "execution_count": 173,
   "metadata": {},
   "outputs": [],
   "source": [
    "test.vcf$sample <- paste0(test.vcf$expected_freq,\"_\",test.vcf$copy_number,\"_\",test.vcf$Rep)"
   ]
  },
  {
   "cell_type": "code",
   "execution_count": 178,
   "metadata": {},
   "outputs": [],
   "source": [
    "write_excel_csv(x = test.vcf, file = glue(\"{mva_folder}/flu.synthetic.afdata.csv\"))"
   ]
  },
  {
   "cell_type": "code",
   "execution_count": null,
   "metadata": {},
   "outputs": [],
   "source": []
  }
 ],
 "metadata": {
  "kernelspec": {
   "display_name": "R",
   "language": "R",
   "name": "ir"
  },
  "language_info": {
   "codemirror_mode": "r",
   "file_extension": ".r",
   "mimetype": "text/x-r-source",
   "name": "R",
   "pygments_lexer": "r",
   "version": "4.0.0"
  }
 },
 "nbformat": 4,
 "nbformat_minor": 4
}
